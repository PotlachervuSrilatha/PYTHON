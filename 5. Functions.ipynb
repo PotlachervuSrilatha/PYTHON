{
 "cells": [
  {
   "cell_type": "markdown",
   "id": "4dc932c5",
   "metadata": {},
   "source": [
    "# Functions"
   ]
  },
  {
   "cell_type": "markdown",
   "id": "60249148",
   "metadata": {},
   "source": [
    " - Code reusability"
   ]
  },
  {
   "cell_type": "code",
   "execution_count": 1,
   "id": "d4ddb296",
   "metadata": {},
   "outputs": [],
   "source": [
    "def simplefunction():\n",
    "    print(\"Starting point of the function\")\n",
    "    print(\"finishing point of the function\")"
   ]
  },
  {
   "cell_type": "code",
   "execution_count": 2,
   "id": "1403093c",
   "metadata": {},
   "outputs": [
    {
     "name": "stdout",
     "output_type": "stream",
     "text": [
      "Starting point of the function\n",
      "finishing point of the function\n"
     ]
    }
   ],
   "source": [
    "simplefunction()"
   ]
  },
  {
   "cell_type": "code",
   "execution_count": 6,
   "id": "cc686bbb",
   "metadata": {},
   "outputs": [],
   "source": [
    "## Find maximum of numbers\n",
    "#shift +tab+tab\n",
    "def maximumnumber(x1,x2):\n",
    "    \"\"\"Function takes two numbers x1 and x2, returns maximum of those\"\"\"\n",
    "    if x1 > x2:\n",
    "        return x1\n",
    "    else:\n",
    "        return x2"
   ]
  },
  {
   "cell_type": "code",
   "execution_count": 4,
   "id": "2556d06c",
   "metadata": {},
   "outputs": [
    {
     "data": {
      "text/plain": [
       "8"
      ]
     },
     "execution_count": 4,
     "metadata": {},
     "output_type": "execute_result"
    }
   ],
   "source": [
    "maximumnumber()"
   ]
  },
  {
   "cell_type": "code",
   "execution_count": 5,
   "id": "7388e56e",
   "metadata": {},
   "outputs": [
    {
     "name": "stdout",
     "output_type": "stream",
     "text": [
      "\n"
     ]
    }
   ],
   "source": [
    "type()"
   ]
  },
  {
   "cell_type": "markdown",
   "id": "8dd1a23e",
   "metadata": {},
   "source": [
    "# Factorial\n",
    " - iterative approach\n",
    " # 5! = 5x4x3x2x1\n",
    " # 4! = 4x3x2x1\n",
    " # 1! = 1\n",
    " # 0! =1"
   ]
  },
  {
   "cell_type": "code",
   "execution_count": 7,
   "id": "d1d4018e",
   "metadata": {},
   "outputs": [],
   "source": [
    "def iterfactorial(num):\n",
    "    result = 1\n",
    "    for i in range(1, num + 1):\n",
    "        result = result*i\n",
    "    return result"
   ]
  },
  {
   "cell_type": "code",
   "execution_count": 8,
   "id": "d37e067a",
   "metadata": {},
   "outputs": [
    {
     "name": "stdout",
     "output_type": "stream",
     "text": [
      "120\n"
     ]
    }
   ],
   "source": [
    "print(iterfactorial(5))"
   ]
  },
  {
   "cell_type": "code",
   "execution_count": 9,
   "id": "c3a3f88a",
   "metadata": {},
   "outputs": [
    {
     "name": "stdout",
     "output_type": "stream",
     "text": [
      "3628800\n"
     ]
    }
   ],
   "source": [
    "print(iterfactorial(10))"
   ]
  },
  {
   "cell_type": "code",
   "execution_count": 11,
   "id": "5f7bdc0f",
   "metadata": {},
   "outputs": [
    {
     "name": "stdout",
     "output_type": "stream",
     "text": [
      "Enter any number5\n",
      "Results:  120\n"
     ]
    }
   ],
   "source": [
    "num = int(input(\"Enter any number\"))\n",
    "print(\"Results: \", iterfactorial(num))"
   ]
  },
  {
   "cell_type": "markdown",
   "id": "3ba3398b",
   "metadata": {},
   "source": [
    "# Recursive"
   ]
  },
  {
   "cell_type": "code",
   "execution_count": 12,
   "id": "f80cc293",
   "metadata": {},
   "outputs": [],
   "source": [
    "#5! = 5 * 4!\n",
    "#4! = 4 * 3!\n",
    "#3! = 3 * 2!"
   ]
  },
  {
   "cell_type": "code",
   "execution_count": 15,
   "id": "7f1cca74",
   "metadata": {},
   "outputs": [],
   "source": [
    "def recursive_factorial(num):\n",
    "    if num == 0 or num == 1:\n",
    "        return 1\n",
    "    else:\n",
    "        return num * recursive_factorial(num - 1)"
   ]
  },
  {
   "cell_type": "code",
   "execution_count": 17,
   "id": "4f887231",
   "metadata": {},
   "outputs": [
    {
     "data": {
      "text/plain": [
       "120"
      ]
     },
     "execution_count": 17,
     "metadata": {},
     "output_type": "execute_result"
    }
   ],
   "source": [
    "recursive_factorial(5)"
   ]
  },
  {
   "cell_type": "markdown",
   "id": "03280cb6",
   "metadata": {},
   "source": [
    "## Default arguments"
   ]
  },
  {
   "cell_type": "code",
   "execution_count": 18,
   "id": "6bd886e9",
   "metadata": {},
   "outputs": [],
   "source": [
    "def defaultargumentfunc(x):\n",
    "    print(\"The value of x is {}\".format(x))"
   ]
  },
  {
   "cell_type": "code",
   "execution_count": 20,
   "id": "f2a853b3",
   "metadata": {},
   "outputs": [
    {
     "name": "stdout",
     "output_type": "stream",
     "text": [
      "The value of x is 7\n"
     ]
    }
   ],
   "source": [
    "defaultargumentfunc(7)"
   ]
  },
  {
   "cell_type": "code",
   "execution_count": 21,
   "id": "b21f3ee2",
   "metadata": {},
   "outputs": [],
   "source": [
    "def defaultargumentfunc(x=7):\n",
    "    print(\"The value of x is {}\".format(x))"
   ]
  },
  {
   "cell_type": "code",
   "execution_count": 22,
   "id": "c933a1c9",
   "metadata": {},
   "outputs": [
    {
     "name": "stdout",
     "output_type": "stream",
     "text": [
      "The value of x is 7\n"
     ]
    }
   ],
   "source": [
    "defaultargumentfunc()"
   ]
  },
  {
   "cell_type": "code",
   "execution_count": 30,
   "id": "bc6aff92",
   "metadata": {},
   "outputs": [],
   "source": [
    "####\n",
    "def defaultargumentfunc(a, b, c):\n",
    "    print(\"results {}, {}, {}\".format(a,b,c))"
   ]
  },
  {
   "cell_type": "code",
   "execution_count": 32,
   "id": "8063846f",
   "metadata": {},
   "outputs": [
    {
     "name": "stdout",
     "output_type": "stream",
     "text": [
      "results 10, 20, 30\n"
     ]
    }
   ],
   "source": [
    "defaultargumentfunc(10,20,30)"
   ]
  },
  {
   "cell_type": "code",
   "execution_count": 39,
   "id": "911fb219",
   "metadata": {},
   "outputs": [
    {
     "name": "stdout",
     "output_type": "stream",
     "text": [
      "results 10, 30, 20\n"
     ]
    }
   ],
   "source": [
    "defaultargumentfunc(10, c = 20, b = 30)"
   ]
  },
  {
   "cell_type": "code",
   "execution_count": 34,
   "id": "0c5d69ca",
   "metadata": {},
   "outputs": [
    {
     "name": "stdout",
     "output_type": "stream",
     "text": [
      "results 20, 10, 30\n"
     ]
    }
   ],
   "source": [
    "defaultargumentfunc(b = 10, a = 20, c = 30)"
   ]
  },
  {
   "cell_type": "code",
   "execution_count": 48,
   "id": "4d78d977",
   "metadata": {
    "scrolled": true
   },
   "outputs": [
    {
     "name": "stdout",
     "output_type": "stream",
     "text": [
      "results 20, 10, 30\n"
     ]
    }
   ],
   "source": [
    "defaultargumentfunc(20, b = 10, c = 30)"
   ]
  },
  {
   "cell_type": "markdown",
   "id": "6977ae69",
   "metadata": {},
   "source": [
    "## Lambda Function\n",
    "- Anonymous functions\n",
    "- one liners"
   ]
  },
  {
   "cell_type": "code",
   "execution_count": 41,
   "id": "1e3abbc5",
   "metadata": {},
   "outputs": [],
   "source": [
    "def squares(x):\n",
    "    return x * x"
   ]
  },
  {
   "cell_type": "code",
   "execution_count": 42,
   "id": "96fa5a83",
   "metadata": {},
   "outputs": [
    {
     "data": {
      "text/plain": [
       "25"
      ]
     },
     "execution_count": 42,
     "metadata": {},
     "output_type": "execute_result"
    }
   ],
   "source": [
    "squares(5)"
   ]
  },
  {
   "cell_type": "code",
   "execution_count": 43,
   "id": "3d6183cf",
   "metadata": {},
   "outputs": [],
   "source": [
    "f = lambda x : x*x"
   ]
  },
  {
   "cell_type": "code",
   "execution_count": 44,
   "id": "2f52aeda",
   "metadata": {},
   "outputs": [
    {
     "data": {
      "text/plain": [
       "25"
      ]
     },
     "execution_count": 44,
     "metadata": {},
     "output_type": "execute_result"
    }
   ],
   "source": [
    "f(5)"
   ]
  },
  {
   "cell_type": "code",
   "execution_count": 49,
   "id": "68443156",
   "metadata": {},
   "outputs": [],
   "source": [
    "multipy = lambda x, y : x*y"
   ]
  },
  {
   "cell_type": "code",
   "execution_count": 50,
   "id": "330483e6",
   "metadata": {},
   "outputs": [
    {
     "data": {
      "text/plain": [
       "6"
      ]
     },
     "execution_count": 50,
     "metadata": {},
     "output_type": "execute_result"
    }
   ],
   "source": [
    "multipy(2,3)"
   ]
  },
  {
   "cell_type": "code",
   "execution_count": 51,
   "id": "36dff92f",
   "metadata": {},
   "outputs": [],
   "source": [
    "def mult(x,y):\n",
    "    return x*y"
   ]
  },
  {
   "cell_type": "code",
   "execution_count": 52,
   "id": "8425924a",
   "metadata": {},
   "outputs": [
    {
     "data": {
      "text/plain": [
       "6"
      ]
     },
     "execution_count": 52,
     "metadata": {},
     "output_type": "execute_result"
    }
   ],
   "source": [
    "mult(2,3)"
   ]
  },
  {
   "cell_type": "code",
   "execution_count": 53,
   "id": "6fd91fd8",
   "metadata": {},
   "outputs": [
    {
     "data": {
      "text/plain": [
       "6"
      ]
     },
     "execution_count": 53,
     "metadata": {},
     "output_type": "execute_result"
    }
   ],
   "source": [
    "(lambda x, y : x*y)(2,3)"
   ]
  },
  {
   "cell_type": "code",
   "execution_count": 54,
   "id": "16d6be1e",
   "metadata": {},
   "outputs": [
    {
     "data": {
      "text/plain": [
       "5"
      ]
     },
     "execution_count": 54,
     "metadata": {},
     "output_type": "execute_result"
    }
   ],
   "source": [
    "(lambda x, y : x+y)(2,3)"
   ]
  },
  {
   "cell_type": "code",
   "execution_count": null,
   "id": "8dcc484e",
   "metadata": {},
   "outputs": [],
   "source": []
  }
 ],
 "metadata": {
  "kernelspec": {
   "display_name": "Python 3 (ipykernel)",
   "language": "python",
   "name": "python3"
  },
  "language_info": {
   "codemirror_mode": {
    "name": "ipython",
    "version": 3
   },
   "file_extension": ".py",
   "mimetype": "text/x-python",
   "name": "python",
   "nbconvert_exporter": "python",
   "pygments_lexer": "ipython3",
   "version": "3.9.12"
  }
 },
 "nbformat": 4,
 "nbformat_minor": 5
}
