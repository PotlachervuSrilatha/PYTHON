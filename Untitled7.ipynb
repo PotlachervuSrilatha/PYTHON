{
  "nbformat": 4,
  "nbformat_minor": 0,
  "metadata": {
    "colab": {
      "provenance": [],
      "authorship_tag": "ABX9TyPNl/vxohcmCGyBTTK7/tFu",
      "include_colab_link": true
    },
    "kernelspec": {
      "name": "python3",
      "display_name": "Python 3"
    },
    "language_info": {
      "name": "python"
    }
  },
  "cells": [
    {
      "cell_type": "markdown",
      "metadata": {
        "id": "view-in-github",
        "colab_type": "text"
      },
      "source": [
        "<a href=\"https://colab.research.google.com/github/PotlachervuSrilatha/PYTHON/blob/main/Untitled7.ipynb\" target=\"_parent\"><img src=\"https://colab.research.google.com/assets/colab-badge.svg\" alt=\"Open In Colab\"/></a>"
      ]
    },
    {
      "cell_type": "code",
      "execution_count": null,
      "metadata": {
        "colab": {
          "base_uri": "https://localhost:8080/"
        },
        "id": "s7gBwOiJfK8V",
        "outputId": "98c4e339-1407-405c-ecbb-be26903c2b9b"
      },
      "outputs": [
        {
          "output_type": "stream",
          "name": "stdout",
          "text": [
            "enter your age:20\n",
            "right to vote\n"
          ]
        }
      ],
      "source": [
        "age=int(input(\"enter your age:\"))\n",
        "\n",
        "if age>18:\n",
        "  print(\"right to vote\")\n"
      ]
    },
    {
      "cell_type": "code",
      "source": [
        "age=int(input(\"enter your age:\"))\n",
        "\n",
        "if age>18:\n",
        "  print(\"right to vote\")\n",
        "else:\n",
        "  print(\"Not Eligible\")"
      ],
      "metadata": {
        "colab": {
          "base_uri": "https://localhost:8080/"
        },
        "id": "xkbhqnD6feON",
        "outputId": "a7143110-9845-4b20-c965-a7ea9bf5b9f1"
      },
      "execution_count": null,
      "outputs": [
        {
          "output_type": "stream",
          "name": "stdout",
          "text": [
            "enter your age:7\n",
            "wait for{'age-18'};\n"
          ]
        }
      ]
    },
    {
      "cell_type": "code",
      "source": [
        "a=int(input(\"Enter any number\"))"
      ],
      "metadata": {
        "colab": {
          "base_uri": "https://localhost:8080/"
        },
        "id": "hMD1ARgSf09S",
        "outputId": "8a9d423b-2e88-4bf7-b5ca-c22462c451d6"
      },
      "execution_count": null,
      "outputs": [
        {
          "name": "stdout",
          "output_type": "stream",
          "text": [
            "Enter any number1\n"
          ]
        }
      ]
    },
    {
      "cell_type": "code",
      "source": [],
      "metadata": {
        "id": "HD_IN00Zj3Mf"
      },
      "execution_count": null,
      "outputs": []
    },
    {
      "cell_type": "code",
      "source": [
        "a=int(input(\"Enter any number\"))\n",
        "b=float(input(\"Enter any number\"))\n",
        "c=str(input(\"Enter any Name\"))\n",
        "print(a)\n",
        "print(b)\n",
        "print(c)"
      ],
      "metadata": {
        "colab": {
          "base_uri": "https://localhost:8080/"
        },
        "id": "aqrnYhtojiEg",
        "outputId": "20afaae1-180c-4551-bf45-8b974bc3b962"
      },
      "execution_count": null,
      "outputs": [
        {
          "output_type": "stream",
          "name": "stdout",
          "text": [
            "Enter any number8\n",
            "Enter any number7\n",
            "Enter any numbersrilatha\n",
            "8\n",
            "7.0\n",
            "srilatha\n"
          ]
        }
      ]
    },
    {
      "cell_type": "code",
      "source": [
        "b=float(input(\"Enter any number\"))\n"
      ],
      "metadata": {
        "colab": {
          "base_uri": "https://localhost:8080/"
        },
        "id": "_2RxulTQi8Gg",
        "outputId": "f8748340-d982-4400-bbae-e83f44bfdf9e"
      },
      "execution_count": null,
      "outputs": [
        {
          "name": "stdout",
          "output_type": "stream",
          "text": [
            "Enter any number569\n"
          ]
        }
      ]
    },
    {
      "cell_type": "code",
      "source": [
        "c=str(input(\"Enter any number\"))"
      ],
      "metadata": {
        "colab": {
          "base_uri": "https://localhost:8080/"
        },
        "id": "UXvVa3LBjPYk",
        "outputId": "287bd1c2-eecc-402f-ee7c-e02a1b0a8f6f"
      },
      "execution_count": null,
      "outputs": [
        {
          "name": "stdout",
          "output_type": "stream",
          "text": [
            "Enter any number6\n"
          ]
        }
      ]
    },
    {
      "cell_type": "code",
      "source": [
        "age=int(input(\"Enter your age\"))\n",
        "if age>18:\n",
        "  print(\"Eligible to vote\")\n",
        "else:\n",
        "  print(\"Not Eligible\")\n",
        "  print(f\"Eligible to vote after{18-age} years\")#using String Formatting with F-Strings"
      ],
      "metadata": {
        "colab": {
          "base_uri": "https://localhost:8080/"
        },
        "id": "awogDA28gfQN",
        "outputId": "5210e4a4-3087-434b-ba61-f56fc58f4f9d"
      },
      "execution_count": null,
      "outputs": [
        {
          "output_type": "stream",
          "name": "stdout",
          "text": [
            "Enter your age6\n",
            "Not Eligible\n",
            "Eligible to vote after12 years\n"
          ]
        }
      ]
    },
    {
      "cell_type": "code",
      "source": [
        "age=int(input(\"Enter your age\"))\n",
        "if age>18:\n",
        "  print(\"Eligible to vote\")\n",
        "else:\n",
        "  print(\"Not Eligible\")\n",
        "  print(\"Eligible to vote after\",{18-age},\"years\") # using string concatenation"
      ],
      "metadata": {
        "colab": {
          "base_uri": "https://localhost:8080/"
        },
        "id": "vSo5PQCaha-U",
        "outputId": "d61d03dc-7a9d-47de-bdd7-b92102a1a03b"
      },
      "execution_count": null,
      "outputs": [
        {
          "output_type": "stream",
          "name": "stdout",
          "text": [
            "Enter your age8\n",
            "Not Eligible\n",
            "Eligible to vote after {10} years\n"
          ]
        }
      ]
    },
    {
      "cell_type": "code",
      "source": [
        "n=int(input(\"Enter any Number:\"))\n",
        "i=1\n",
        "if i<=10:\n",
        "  print(f\"{n}*{i}={n*i}\")\n",
        "  i=i+1"
      ],
      "metadata": {
        "colab": {
          "base_uri": "https://localhost:8080/"
        },
        "id": "CZRQ4cd9hfdP",
        "outputId": "760e88ef-7e7a-46df-d1dd-74d04e40c641"
      },
      "execution_count": null,
      "outputs": [
        {
          "output_type": "stream",
          "name": "stdout",
          "text": [
            "Enter any Number:7\n",
            "7*1=7\n"
          ]
        }
      ]
    },
    {
      "cell_type": "code",
      "source": [
        "n=int(input(\"Enter any Number:\"))\n",
        "i=1\n",
        "while i<=10:\n",
        "  print(f\"{n}*{i}={n*i}\")\n",
        "  i=i+1"
      ],
      "metadata": {
        "colab": {
          "base_uri": "https://localhost:8080/"
        },
        "id": "6yvH7C_1h0Gd",
        "outputId": "456ad10d-af18-42d2-b14d-dc9fb02ba49f"
      },
      "execution_count": null,
      "outputs": [
        {
          "output_type": "stream",
          "name": "stdout",
          "text": [
            "Enter any Number:7\n",
            "7*1=7\n",
            "7*2=14\n",
            "7*3=21\n",
            "7*4=28\n",
            "7*5=35\n",
            "7*6=42\n",
            "7*7=49\n",
            "7*8=56\n",
            "7*9=63\n",
            "7*10=70\n"
          ]
        }
      ]
    },
    {
      "cell_type": "code",
      "source": [
        "num = 3.14159\n",
        "\n",
        "print(f\"The valueof pi is: {num:{1}.{5}}\")"
      ],
      "metadata": {
        "colab": {
          "base_uri": "https://localhost:8080/"
        },
        "id": "SOg5i3JPh0DB",
        "outputId": "980bdf8b-25db-415e-c8f0-0a60317e2b78"
      },
      "execution_count": null,
      "outputs": [
        {
          "output_type": "stream",
          "name": "stdout",
          "text": [
            "The valueof pi is: 3.1416\n"
          ]
        }
      ]
    },
    {
      "cell_type": "code",
      "source": [
        "# Python program to demonstrate\n",
        "# string interpolation\n",
        "\n",
        "from string import Template\n",
        "\n",
        "n1 = 'Hello'\n",
        "n2 = 'Srilatha Potlachervu'\n",
        "\n",
        "# made a template which we used to\n",
        "# pass two variable so n3 and n4\n",
        "# formal and n1 and n2 actual\n",
        "n = Template('$n3 ! This is $n4.')\n",
        "\n",
        "# and pass the parameters into the\n",
        "# template string.\n",
        "print(n.substitute(n3=n1, n4=n2))\n"
      ],
      "metadata": {
        "colab": {
          "base_uri": "https://localhost:8080/"
        },
        "id": "Zu3JCd1Xhz_K",
        "outputId": "e13b94f6-7f79-46f1-9903-a2f4bfeed898"
      },
      "execution_count": null,
      "outputs": [
        {
          "output_type": "stream",
          "name": "stdout",
          "text": [
            "Hello ! This is Srilatha Potlachervu.\n"
          ]
        }
      ]
    },
    {
      "cell_type": "code",
      "source": [
        "string = \"GeeksForGeeks!\"\n",
        "width = 30\n",
        "\n",
        "centered_string = string.center(width)\n",
        "\n",
        "print(centered_string)\n"
      ],
      "metadata": {
        "colab": {
          "base_uri": "https://localhost:8080/"
        },
        "id": "sQImXi7vhz65",
        "outputId": "29babe71-19aa-4566-88b9-5086857db4d7"
      },
      "execution_count": null,
      "outputs": [
        {
          "output_type": "stream",
          "name": "stdout",
          "text": [
            "        GeeksForGeeks!        \n"
          ]
        }
      ]
    },
    {
      "cell_type": "code",
      "source": [],
      "metadata": {
        "id": "C7b-aWychz3R"
      },
      "execution_count": null,
      "outputs": []
    },
    {
      "cell_type": "code",
      "source": [],
      "metadata": {
        "id": "rD1IlQJKhzsX"
      },
      "execution_count": null,
      "outputs": []
    },
    {
      "cell_type": "code",
      "source": [],
      "metadata": {
        "id": "9l0GRG3vhzpC"
      },
      "execution_count": null,
      "outputs": []
    }
  ]
}