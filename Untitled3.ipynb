{
  "nbformat": 4,
  "nbformat_minor": 0,
  "metadata": {
    "colab": {
      "provenance": [],
      "authorship_tag": "ABX9TyMDVo3S4NIIoTkItRNkJEKA",
      "include_colab_link": true
    },
    "kernelspec": {
      "name": "python3",
      "display_name": "Python 3"
    },
    "language_info": {
      "name": "python"
    }
  },
  "cells": [
    {
      "cell_type": "markdown",
      "metadata": {
        "id": "view-in-github",
        "colab_type": "text"
      },
      "source": [
        "<a href=\"https://colab.research.google.com/github/PotlachervuSrilatha/PYTHON/blob/main/Untitled3.ipynb\" target=\"_parent\"><img src=\"https://colab.research.google.com/assets/colab-badge.svg\" alt=\"Open In Colab\"/></a>"
      ]
    },
    {
      "cell_type": "code",
      "execution_count": 1,
      "metadata": {
        "id": "2nS4oq4eEE5o"
      },
      "outputs": [],
      "source": [
        "#The print() function prints the specified message to the screen, or other standard output device.\n",
        "\n",
        "# The message can be a string, or any other object, the object will be converted into a string before written to the screen.\n",
        "\n"
      ]
    },
    {
      "cell_type": "code",
      "source": [
        "print()"
      ],
      "metadata": {
        "colab": {
          "base_uri": "https://localhost:8080/"
        },
        "id": "9ywR7Y9pFhbS",
        "outputId": "e6afde64-f65e-4d58-e559-afb4189f46e0"
      },
      "execution_count": 2,
      "outputs": [
        {
          "output_type": "stream",
          "name": "stdout",
          "text": [
            "\n"
          ]
        }
      ]
    },
    {
      "cell_type": "code",
      "source": [
        "print(\"This is srilatha Potlachervu\")"
      ],
      "metadata": {
        "colab": {
          "base_uri": "https://localhost:8080/"
        },
        "id": "HbEYd-r5FjFY",
        "outputId": "e824c016-889f-414b-b4f8-0b7acee25d5f"
      },
      "execution_count": 6,
      "outputs": [
        {
          "output_type": "stream",
          "name": "stdout",
          "text": [
            "This is srilatha Potlachervu\n"
          ]
        }
      ]
    },
    {
      "cell_type": "code",
      "source": [
        "print(100)"
      ],
      "metadata": {
        "colab": {
          "base_uri": "https://localhost:8080/"
        },
        "id": "dHv_xr7xFn-A",
        "outputId": "49233e34-012e-475b-96ed-d1949ded4a0f"
      },
      "execution_count": 7,
      "outputs": [
        {
          "output_type": "stream",
          "name": "stdout",
          "text": [
            "100\n"
          ]
        }
      ]
    },
    {
      "cell_type": "code",
      "source": [
        "print(199+66)"
      ],
      "metadata": {
        "colab": {
          "base_uri": "https://localhost:8080/"
        },
        "id": "jJmBZ_KWF1DG",
        "outputId": "0b1f18ef-507c-4e69-94f8-fc5e4cd9090a"
      },
      "execution_count": 8,
      "outputs": [
        {
          "output_type": "stream",
          "name": "stdout",
          "text": [
            "265\n"
          ]
        }
      ]
    },
    {
      "cell_type": "code",
      "source": [
        "print(\"s18|\")"
      ],
      "metadata": {
        "colab": {
          "base_uri": "https://localhost:8080/"
        },
        "id": "eaqK-KaVF3iz",
        "outputId": "fb24e0a6-9046-4e36-d100-839d01b92d10"
      },
      "execution_count": 9,
      "outputs": [
        {
          "output_type": "stream",
          "name": "stdout",
          "text": [
            "s18|\n"
          ]
        }
      ]
    },
    {
      "cell_type": "code",
      "source": [
        "print(\"*\")"
      ],
      "metadata": {
        "colab": {
          "base_uri": "https://localhost:8080/"
        },
        "id": "A7K1GFmAF6Zo",
        "outputId": "400429da-14d1-437d-b8a2-ee12b4a00352"
      },
      "execution_count": 11,
      "outputs": [
        {
          "output_type": "stream",
          "name": "stdout",
          "text": [
            "*\n"
          ]
        }
      ]
    },
    {
      "cell_type": "code",
      "source": [
        "print(\"12\")"
      ],
      "metadata": {
        "colab": {
          "base_uri": "https://localhost:8080/"
        },
        "id": "4QJfpT-JF8r7",
        "outputId": "8a718321-6a56-4ffa-dd50-d4db5981ba28"
      },
      "execution_count": 12,
      "outputs": [
        {
          "output_type": "stream",
          "name": "stdout",
          "text": [
            "12\n"
          ]
        }
      ]
    },
    {
      "cell_type": "code",
      "source": [
        "print(\"sri\",\"latha\")"
      ],
      "metadata": {
        "colab": {
          "base_uri": "https://localhost:8080/"
        },
        "id": "uISrQvh2bKna",
        "outputId": "367a8a0c-e82f-41c4-de60-28b2e4816336"
      },
      "execution_count": 42,
      "outputs": [
        {
          "output_type": "stream",
          "name": "stdout",
          "text": [
            "sri latha\n"
          ]
        }
      ]
    },
    {
      "cell_type": "code",
      "source": [
        "print(\"sri\",    \"latha\")"
      ],
      "metadata": {
        "colab": {
          "base_uri": "https://localhost:8080/"
        },
        "id": "5vLfApRYbKqo",
        "outputId": "39fee330-1174-4d35-9b97-769e39cbe8e6"
      },
      "execution_count": 43,
      "outputs": [
        {
          "output_type": "stream",
          "name": "stdout",
          "text": [
            "sri latha\n"
          ]
        }
      ]
    },
    {
      "cell_type": "code",
      "source": [
        "print(\"This is srilatha \\n I am from hydrebad\")"
      ],
      "metadata": {
        "colab": {
          "base_uri": "https://localhost:8080/"
        },
        "id": "VyD2uyzlbKuE",
        "outputId": "c449dc5f-31ef-4327-c4f2-abd8427f4143"
      },
      "execution_count": 44,
      "outputs": [
        {
          "output_type": "stream",
          "name": "stdout",
          "text": [
            "This is srilatha \n",
            " I am from hydrebad\n"
          ]
        }
      ]
    },
    {
      "cell_type": "code",
      "source": [
        "print(\"This is srilatha \\t I am from hydrebad\")"
      ],
      "metadata": {
        "colab": {
          "base_uri": "https://localhost:8080/"
        },
        "id": "gHeueAa-bKxM",
        "outputId": "999f2a37-6b5f-49e8-b855-023014fcc7c0"
      },
      "execution_count": 45,
      "outputs": [
        {
          "output_type": "stream",
          "name": "stdout",
          "text": [
            "This is srilatha \t I am from hydrebad\n"
          ]
        }
      ]
    },
    {
      "cell_type": "code",
      "source": [
        "print(\"This is srilatha.  I am from hydrebad\")"
      ],
      "metadata": {
        "colab": {
          "base_uri": "https://localhost:8080/"
        },
        "id": "pcJl-bvQbK0l",
        "outputId": "5f3ad323-7995-4334-fc80-511ca49d39e7"
      },
      "execution_count": 46,
      "outputs": [
        {
          "output_type": "stream",
          "name": "stdout",
          "text": [
            "This is srilatha.  I am from hydrebad\n"
          ]
        }
      ]
    },
    {
      "cell_type": "code",
      "source": [
        "a,b,c=10,20,30\n",
        "print(a,b,c)"
      ],
      "metadata": {
        "colab": {
          "base_uri": "https://localhost:8080/"
        },
        "id": "xEcxXq1vbcbT",
        "outputId": "7b4badf7-d005-4d55-d92c-015073a70979"
      },
      "execution_count": 47,
      "outputs": [
        {
          "output_type": "stream",
          "name": "stdout",
          "text": [
            "10 20 30\n"
          ]
        }
      ]
    },
    {
      "cell_type": "code",
      "source": [
        "a=b=c=10\n",
        "print(a,b,c)\n"
      ],
      "metadata": {
        "colab": {
          "base_uri": "https://localhost:8080/"
        },
        "id": "atNT6yVMbcfd",
        "outputId": "73bda2c0-5a94-428a-ae6f-b62b463692fe"
      },
      "execution_count": 48,
      "outputs": [
        {
          "output_type": "stream",
          "name": "stdout",
          "text": [
            "10 10 10\n"
          ]
        }
      ]
    },
    {
      "cell_type": "code",
      "source": [],
      "metadata": {
        "id": "R9zMUrnpbciY"
      },
      "execution_count": null,
      "outputs": []
    },
    {
      "cell_type": "markdown",
      "source": [
        "# VARIABLE"
      ],
      "metadata": {
        "id": "V6HxzIJQGcjz"
      }
    },
    {
      "cell_type": "code",
      "source": [
        "# VARIABLE\n",
        "# variable is a name given to a memory location in a program\n",
        "a=20\n",
        "b='sri'\n",
        "c=8.9\n",
        "\n",
        "# here a,b,c are the variables"
      ],
      "metadata": {
        "id": "qWJ-5nqLHU4M"
      },
      "execution_count": 17,
      "outputs": []
    },
    {
      "cell_type": "code",
      "source": [
        "a=10\n",
        "# a is variable\n",
        "# 10 is  Value\n",
        "# a variable is holding value 10"
      ],
      "metadata": {
        "id": "ZLv0RjOxGa5H"
      },
      "execution_count": 18,
      "outputs": []
    },
    {
      "cell_type": "code",
      "source": [
        "id(a)"
      ],
      "metadata": {
        "colab": {
          "base_uri": "https://localhost:8080/"
        },
        "id": "GW-Vik7nQdKG",
        "outputId": "701903ed-a42c-4adb-906d-6cbc2a4cc0d6"
      },
      "execution_count": 19,
      "outputs": [
        {
          "output_type": "execute_result",
          "data": {
            "text/plain": [
              "133995931533840"
            ]
          },
          "metadata": {},
          "execution_count": 19
        }
      ]
    },
    {
      "cell_type": "code",
      "source": [
        "a"
      ],
      "metadata": {
        "colab": {
          "base_uri": "https://localhost:8080/"
        },
        "id": "JgWdAbrVQiVi",
        "outputId": "9b7ee1ba-e79f-4fc4-fee2-43c8ae64ecdd"
      },
      "execution_count": 20,
      "outputs": [
        {
          "output_type": "execute_result",
          "data": {
            "text/plain": [
              "10"
            ]
          },
          "metadata": {},
          "execution_count": 20
        }
      ]
    },
    {
      "cell_type": "code",
      "source": [
        "#Data means collection of facts\n",
        "#example:- my name is srilatha\n",
        "# how to store the data means\n",
        "\"\"\"like \"srilatha\" : string\n",
        "     10=Integer\n",
        "     Boolean=True/False\"\"\"\n"
      ],
      "metadata": {
        "id": "K3ZmnNi9Q2WL"
      },
      "execution_count": null,
      "outputs": []
    },
    {
      "cell_type": "markdown",
      "source": [
        "# DATA TYPES IN PYTHON"
      ],
      "metadata": {
        "id": "djQXJo6UQ_dE"
      }
    },
    {
      "cell_type": "code",
      "source": [
        "# Every Variable associated with the data"
      ],
      "metadata": {
        "id": "buXqhMlDRYLI"
      },
      "execution_count": 21,
      "outputs": []
    },
    {
      "cell_type": "code",
      "source": [
        "# INTEGERS : Represents whole numbers.\n",
        "# FLOAT    : Represents decimal numbers.\n",
        "# STRINGS  : Represents a sequence of characters.\n",
        "# BOOLEANS : Represents either True or False.\n",
        "# COMPLEX NUMBERS :It returns a complex number by specifying a real number and an imaginary number.\n"
      ],
      "metadata": {
        "id": "m7RSCoGsRf2Y"
      },
      "execution_count": 23,
      "outputs": []
    },
    {
      "cell_type": "code",
      "source": [
        "integers= 10,20,39,89,809\n",
        "float= 12.8, 67.8, 25,0,6,0\n",
        "#boolean=True/False\n",
        "str(\"this is srilatha\")\n",
        "#complex =a+bj\n"
      ],
      "metadata": {
        "colab": {
          "base_uri": "https://localhost:8080/",
          "height": 36
        },
        "id": "Tia_1HstT6H2",
        "outputId": "eaa0523a-7f37-40c4-cbc4-ba35bda130a7"
      },
      "execution_count": 29,
      "outputs": [
        {
          "output_type": "execute_result",
          "data": {
            "text/plain": [
              "'this is srilatha'"
            ],
            "application/vnd.google.colaboratory.intrinsic+json": {
              "type": "string"
            }
          },
          "metadata": {},
          "execution_count": 29
        }
      ]
    },
    {
      "cell_type": "code",
      "source": [
        "a=10"
      ],
      "metadata": {
        "id": "qdwY0-g9Z6Zg"
      },
      "execution_count": 31,
      "outputs": []
    },
    {
      "cell_type": "code",
      "source": [
        "print(a)"
      ],
      "metadata": {
        "colab": {
          "base_uri": "https://localhost:8080/"
        },
        "id": "woHTonUeZ6dV",
        "outputId": "e95ee40f-f44e-4ea8-f5cf-1221554a1a33"
      },
      "execution_count": 32,
      "outputs": [
        {
          "output_type": "stream",
          "name": "stdout",
          "text": [
            "10\n"
          ]
        }
      ]
    },
    {
      "cell_type": "code",
      "source": [
        "# Python is a fantastic language that automatically identifies the type of the data for us"
      ],
      "metadata": {
        "id": "VX2dgOBMaJ70"
      },
      "execution_count": 34,
      "outputs": []
    },
    {
      "cell_type": "code",
      "source": [
        "print(type(a))"
      ],
      "metadata": {
        "colab": {
          "base_uri": "https://localhost:8080/"
        },
        "id": "bSz3dv9FZ6g5",
        "outputId": "06827b27-b576-4f15-f04e-76c0b5817758"
      },
      "execution_count": 33,
      "outputs": [
        {
          "output_type": "stream",
          "name": "stdout",
          "text": [
            "<class 'int'>\n"
          ]
        }
      ]
    },
    {
      "cell_type": "code",
      "source": [
        "b= 100.7\n",
        "print(b)\n",
        "print(type(b))"
      ],
      "metadata": {
        "colab": {
          "base_uri": "https://localhost:8080/"
        },
        "id": "jlSdZmTgaGJ6",
        "outputId": "d9a56f97-5bd4-46f8-dab1-ecec7b0e4644"
      },
      "execution_count": 35,
      "outputs": [
        {
          "output_type": "stream",
          "name": "stdout",
          "text": [
            "100.7\n",
            "<class 'float'>\n"
          ]
        }
      ]
    },
    {
      "cell_type": "code",
      "source": [
        "c=\"srilatha\"\n",
        "print(c)\n",
        "print(type(c))"
      ],
      "metadata": {
        "colab": {
          "base_uri": "https://localhost:8080/"
        },
        "id": "j1qpKu4naGWv",
        "outputId": "b760e3f3-b6b0-4388-d8a5-01683c63b352"
      },
      "execution_count": 36,
      "outputs": [
        {
          "output_type": "stream",
          "name": "stdout",
          "text": [
            "srilatha\n",
            "<class 'str'>\n"
          ]
        }
      ]
    },
    {
      "cell_type": "code",
      "source": [
        "d=True\n",
        "print(d)\n",
        "print(type(d))"
      ],
      "metadata": {
        "colab": {
          "base_uri": "https://localhost:8080/"
        },
        "id": "4XCcJ4OZZ6mq",
        "outputId": "f46773e6-653f-40c9-e825-e965244e0a5e"
      },
      "execution_count": 37,
      "outputs": [
        {
          "output_type": "stream",
          "name": "stdout",
          "text": [
            "True\n",
            "<class 'bool'>\n"
          ]
        }
      ]
    },
    {
      "cell_type": "code",
      "source": [
        "# example\n",
        "12==12"
      ],
      "metadata": {
        "colab": {
          "base_uri": "https://localhost:8080/"
        },
        "id": "VIxPAomfaqVc",
        "outputId": "cbb868dc-e1e9-4c3b-ab1b-c18102500f0d"
      },
      "execution_count": 38,
      "outputs": [
        {
          "output_type": "execute_result",
          "data": {
            "text/plain": [
              "True"
            ]
          },
          "metadata": {},
          "execution_count": 38
        }
      ]
    },
    {
      "cell_type": "code",
      "source": [
        "d=False\n",
        "print(d)\n",
        "print(type(d))"
      ],
      "metadata": {
        "colab": {
          "base_uri": "https://localhost:8080/"
        },
        "id": "_b7IfNRoa3Gf",
        "outputId": "65d413b2-9c3f-4ef0-a4d2-0a2fe83f8dbe"
      },
      "execution_count": 41,
      "outputs": [
        {
          "output_type": "stream",
          "name": "stdout",
          "text": [
            "False\n",
            "<class 'bool'>\n"
          ]
        }
      ]
    },
    {
      "cell_type": "code",
      "source": [
        "12==9"
      ],
      "metadata": {
        "colab": {
          "base_uri": "https://localhost:8080/"
        },
        "id": "S0c0bvUBa0DT",
        "outputId": "9deda105-f0c8-4552-f5ee-ba7ecf8c2a8b"
      },
      "execution_count": 39,
      "outputs": [
        {
          "output_type": "execute_result",
          "data": {
            "text/plain": [
              "False"
            ]
          },
          "metadata": {},
          "execution_count": 39
        }
      ]
    },
    {
      "cell_type": "code",
      "source": [
        "a=10+8j\n",
        "print(a)\n",
        "print(type(a))"
      ],
      "metadata": {
        "colab": {
          "base_uri": "https://localhost:8080/"
        },
        "id": "6dDwfyh2a1mL",
        "outputId": "f1276de5-9fcc-4ba6-a782-bcf48114adb0"
      },
      "execution_count": 49,
      "outputs": [
        {
          "output_type": "stream",
          "name": "stdout",
          "text": [
            "(10+8j)\n",
            "<class 'complex'>\n"
          ]
        }
      ]
    },
    {
      "cell_type": "markdown",
      "source": [
        "# OPERATORS IN PYTHON"
      ],
      "metadata": {
        "id": "zEIVyLRdeZuT"
      }
    },
    {
      "cell_type": "code",
      "source": [
        "# Arithmetic operators  :  Arithmetic operators are used with numeric values to perform common mathematical operations:\n",
        "\n",
        "# Assignment operators  :  Assignment operators are used to assign values to variables:\n",
        "\n",
        "# Comparison operators  :  Comparison operators are used to compare two values:\n",
        "\n",
        "# Logical operators     :  Logical operators are used to combine conditional statements:\n",
        "\n",
        "# Identity operators    :  Identity operators are used to compare the objects, not if they are equal, but if they are actually the same object, with the same memory location\n",
        "\n",
        "# Membership operators  :  Membership operators are used to test if a sequence is presented in an object\n",
        "\n",
        "# Bitwise operators     :  Bitwise operators are used to compare (binary) numbers\n"
      ],
      "metadata": {
        "id": "N2QRlsb-ktBM"
      },
      "execution_count": 81,
      "outputs": []
    },
    {
      "cell_type": "code",
      "source": [
        "#ARITHEMETIC OPERATORS\n",
        "\n",
        "# +\tAddition\n",
        "# -\tSubtraction\n",
        "# *\tMultiplication\n",
        "# /\tDivision\n",
        "# %\tModulus\n",
        "# **\tExponentiation\n",
        "# //  Floor division"
      ],
      "metadata": {
        "id": "Tns15rfaku0-"
      },
      "execution_count": 82,
      "outputs": []
    },
    {
      "cell_type": "code",
      "source": [
        "a = 23\n",
        "b = 50"
      ],
      "metadata": {
        "id": "WBlmklVIku4r"
      },
      "execution_count": 83,
      "outputs": []
    },
    {
      "cell_type": "code",
      "source": [
        "a+b"
      ],
      "metadata": {
        "colab": {
          "base_uri": "https://localhost:8080/"
        },
        "id": "_HnfdraEku70",
        "outputId": "e5b5ff87-a00f-4f12-ece3-2030b10546e3"
      },
      "execution_count": 59,
      "outputs": [
        {
          "output_type": "execute_result",
          "data": {
            "text/plain": [
              "73"
            ]
          },
          "metadata": {},
          "execution_count": 59
        }
      ]
    },
    {
      "cell_type": "code",
      "source": [
        "a-b"
      ],
      "metadata": {
        "colab": {
          "base_uri": "https://localhost:8080/"
        },
        "id": "c5kC_d7Gku_W",
        "outputId": "23049eff-50fb-4001-9551-4831784ce8f2"
      },
      "execution_count": 60,
      "outputs": [
        {
          "output_type": "execute_result",
          "data": {
            "text/plain": [
              "-27"
            ]
          },
          "metadata": {},
          "execution_count": 60
        }
      ]
    },
    {
      "cell_type": "code",
      "source": [
        "a*b"
      ],
      "metadata": {
        "colab": {
          "base_uri": "https://localhost:8080/"
        },
        "id": "XFvSI6SFkvCw",
        "outputId": "188aba9c-5735-4752-f489-cc32b37abe34"
      },
      "execution_count": 61,
      "outputs": [
        {
          "output_type": "execute_result",
          "data": {
            "text/plain": [
              "1150"
            ]
          },
          "metadata": {},
          "execution_count": 61
        }
      ]
    },
    {
      "cell_type": "code",
      "source": [
        "a/b"
      ],
      "metadata": {
        "colab": {
          "base_uri": "https://localhost:8080/"
        },
        "id": "XbRMUfeMkvWF",
        "outputId": "8e0a1994-3245-40ae-cb61-a6f9cc77ff3f"
      },
      "execution_count": 62,
      "outputs": [
        {
          "output_type": "execute_result",
          "data": {
            "text/plain": [
              "0.46"
            ]
          },
          "metadata": {},
          "execution_count": 62
        }
      ]
    },
    {
      "cell_type": "code",
      "source": [
        "a//b"
      ],
      "metadata": {
        "colab": {
          "base_uri": "https://localhost:8080/"
        },
        "id": "RkaKuNcJkvZg",
        "outputId": "10d21340-b192-45f8-a881-76579aac8ea9"
      },
      "execution_count": 63,
      "outputs": [
        {
          "output_type": "execute_result",
          "data": {
            "text/plain": [
              "0"
            ]
          },
          "metadata": {},
          "execution_count": 63
        }
      ]
    },
    {
      "cell_type": "code",
      "source": [
        "b=2\n",
        "c=6"
      ],
      "metadata": {
        "id": "QwQU945BqqqI"
      },
      "execution_count": 65,
      "outputs": []
    },
    {
      "cell_type": "code",
      "source": [
        "b**c"
      ],
      "metadata": {
        "colab": {
          "base_uri": "https://localhost:8080/"
        },
        "id": "wsYszAGSkvc9",
        "outputId": "cf2129f9-e0e2-42f3-c344-2b9fac4a1450"
      },
      "execution_count": 66,
      "outputs": [
        {
          "output_type": "execute_result",
          "data": {
            "text/plain": [
              "64"
            ]
          },
          "metadata": {},
          "execution_count": 66
        }
      ]
    },
    {
      "cell_type": "code",
      "source": [
        "b|c"
      ],
      "metadata": {
        "colab": {
          "base_uri": "https://localhost:8080/"
        },
        "id": "YKIrvMmokvhC",
        "outputId": "7a0e8454-ca5c-494b-a992-b832c73ef087"
      },
      "execution_count": 67,
      "outputs": [
        {
          "output_type": "execute_result",
          "data": {
            "text/plain": [
              "6"
            ]
          },
          "metadata": {},
          "execution_count": 67
        }
      ]
    },
    {
      "cell_type": "code",
      "source": [
        "b%c"
      ],
      "metadata": {
        "colab": {
          "base_uri": "https://localhost:8080/"
        },
        "id": "768XJx7EkvkS",
        "outputId": "918daae2-9e1d-421d-af51-49d70930a3b4"
      },
      "execution_count": 68,
      "outputs": [
        {
          "output_type": "execute_result",
          "data": {
            "text/plain": [
              "2"
            ]
          },
          "metadata": {},
          "execution_count": 68
        }
      ]
    },
    {
      "cell_type": "code",
      "source": [
        "# Assignment operators\n",
        "\n",
        "# =\n",
        "# +=\n",
        "# -=\n",
        "# *=\n",
        "# /=\n",
        "# %=\n",
        "# //=\n",
        "# **=\n",
        "# &=\n",
        "# |=\n",
        "# ^=\n",
        "# >>=\n",
        "# <<="
      ],
      "metadata": {
        "id": "ML0TYRPakvy2"
      },
      "execution_count": 75,
      "outputs": []
    },
    {
      "cell_type": "code",
      "source": [
        "# Comparison operators\n",
        "\n",
        "# ==\tEqual\n",
        "# !=\tNot equal\n",
        "# >\t  Greater than\n",
        "# <\t  Less than\n",
        "# >=\tGreater than or equal to\n",
        "# <=\tLess than or equal to"
      ],
      "metadata": {
        "id": "eMOd6NpdkwFO"
      },
      "execution_count": 70,
      "outputs": []
    },
    {
      "cell_type": "code",
      "source": [
        "# Logical operators\n",
        "\n",
        "# and \t Returns True if both statements are true\t                         x < 5 and  x < 10\n",
        "# or\t   Returns True if one of the statements is true\t                   x < 5 or x < 4\n",
        "# not\t   Reverse the result, returns False if the result is true\tnotm     (x < 5 and x < 10)"
      ],
      "metadata": {
        "id": "pi9LGVYKlHHP"
      },
      "execution_count": 76,
      "outputs": []
    },
    {
      "cell_type": "code",
      "source": [
        "# Identity operators\n",
        "\n",
        "# is \tReturns True if both variables are the same object\tx is y\n",
        "# is not\tReturns True if both variables are not the same object\tx is not y"
      ],
      "metadata": {
        "id": "RCeP2aD-lHX1"
      },
      "execution_count": 79,
      "outputs": []
    },
    {
      "cell_type": "code",
      "source": [
        "\n",
        "# Membership operators\n",
        "\n",
        "# in \tReturns True if a sequence with the specified value is present in the object\tx in y\n",
        "# not in\tReturns True if a sequence with the specified value is not present in the object\tx not in y"
      ],
      "metadata": {
        "id": "BXyM3p2SlHk_"
      },
      "execution_count": null,
      "outputs": []
    },
    {
      "cell_type": "code",
      "source": [
        "# Bitwise operators\n",
        "\n",
        "# & \tAND\tSets each bit to 1 if both bits are 1\n",
        "# |  \tOR\tSets each bit to 1 if one of two bits is 1\n",
        "# ^\t  XOR\tSets each bit to 1 if only one of two bits is 1\n",
        "# ~\t  NOT\tInverts all the bits\n",
        "# <<\tZero fill left shift\tShift left by pushing zeros in from the right and let the leftmost bits fall off\n",
        "# >>\tSigned right shift\tShift right by pushing copies of the leftmost bit in from the left, and let the rightmost bits fall off"
      ],
      "metadata": {
        "id": "wzy_s-NAlIMv"
      },
      "execution_count": 80,
      "outputs": []
    },
    {
      "cell_type": "code",
      "source": [],
      "metadata": {
        "id": "VkDW8s-rlItu"
      },
      "execution_count": null,
      "outputs": []
    }
  ]
}