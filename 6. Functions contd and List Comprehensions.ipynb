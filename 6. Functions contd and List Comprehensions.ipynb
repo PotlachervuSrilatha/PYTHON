{
 "cells": [
  {
   "cell_type": "markdown",
   "id": "04f4f1fd",
   "metadata": {},
   "source": [
    "## Args and kwargs\n",
    " - args"
   ]
  },
  {
   "cell_type": "code",
   "execution_count": 1,
   "id": "13b6a0ed",
   "metadata": {},
   "outputs": [],
   "source": [
    "def sumofnumbers(x,y):\n",
    "    return x + y"
   ]
  },
  {
   "cell_type": "code",
   "execution_count": 2,
   "id": "20b27b2c",
   "metadata": {},
   "outputs": [
    {
     "data": {
      "text/plain": [
       "5"
      ]
     },
     "execution_count": 2,
     "metadata": {},
     "output_type": "execute_result"
    }
   ],
   "source": [
    "sumofnumbers(2,3)"
   ]
  },
  {
   "cell_type": "code",
   "execution_count": 22,
   "id": "ff4a09b9",
   "metadata": {},
   "outputs": [],
   "source": [
    "def sumofnumsusingargs(*args):\n",
    "    print(\"Args:\", args)\n",
    "    print(\"Type of Args: \", type(args))"
   ]
  },
  {
   "cell_type": "code",
   "execution_count": 23,
   "id": "e37bbc87",
   "metadata": {},
   "outputs": [
    {
     "name": "stdout",
     "output_type": "stream",
     "text": [
      "Args: (2, 3, 'x', 'y')\n",
      "Type of Args:  <class 'tuple'>\n"
     ]
    }
   ],
   "source": [
    "sumofnumsusingargs(2,3,\"x\",\"y\")"
   ]
  },
  {
   "cell_type": "code",
   "execution_count": 6,
   "id": "deb456ae",
   "metadata": {},
   "outputs": [
    {
     "name": "stdout",
     "output_type": "stream",
     "text": [
      "Args: (2, 3, 3, 4, 5, 6, 7, 7)\n",
      "Type of Args:  <class 'tuple'>\n"
     ]
    }
   ],
   "source": [
    "sumofnumsusingargs(2,3,3,4,5,6,7,7)"
   ]
  },
  {
   "cell_type": "code",
   "execution_count": 7,
   "id": "bc056abb",
   "metadata": {},
   "outputs": [
    {
     "data": {
      "text/plain": [
       "6"
      ]
     },
     "execution_count": 7,
     "metadata": {},
     "output_type": "execute_result"
    }
   ],
   "source": [
    "sum((1,2,3))"
   ]
  },
  {
   "cell_type": "code",
   "execution_count": 8,
   "id": "156d2bcb",
   "metadata": {},
   "outputs": [],
   "source": [
    "def sumofnumsusingargs(*args):\n",
    "    print(\"Args:\", args)\n",
    "    print(\"Type of Args: \", type(args))\n",
    "    return(sum(args))"
   ]
  },
  {
   "cell_type": "code",
   "execution_count": 9,
   "id": "ee0ce255",
   "metadata": {},
   "outputs": [
    {
     "name": "stdout",
     "output_type": "stream",
     "text": [
      "Args: (1, 2, 3, 4, 5, 6, 7)\n",
      "Type of Args:  <class 'tuple'>\n"
     ]
    },
    {
     "data": {
      "text/plain": [
       "28"
      ]
     },
     "execution_count": 9,
     "metadata": {},
     "output_type": "execute_result"
    }
   ],
   "source": [
    "sumofnumsusingargs(1,2,3,4,5,6,7)"
   ]
  },
  {
   "cell_type": "code",
   "execution_count": 32,
   "id": "3399778c",
   "metadata": {},
   "outputs": [],
   "source": [
    "def sumofnumsusingargs(*args): ## Reciever side\n",
    "    print(\"Args:\", args)\n",
    "    print(\"Type of Args: \", type(args))\n",
    "    result = 0\n",
    "    for i in args:\n",
    "        result += i\n",
    "    print(\"result :\", result)"
   ]
  },
  {
   "cell_type": "code",
   "execution_count": 11,
   "id": "b3f681be",
   "metadata": {},
   "outputs": [
    {
     "name": "stdout",
     "output_type": "stream",
     "text": [
      "Args: (1, 2, 3, 4, 5)\n",
      "Type of Args:  <class 'tuple'>\n",
      "result : 15\n"
     ]
    }
   ],
   "source": [
    "sumofnumsusingargs(1,2,3,4,5)"
   ]
  },
  {
   "cell_type": "code",
   "execution_count": 12,
   "id": "f6356aea",
   "metadata": {},
   "outputs": [],
   "source": [
    "t = (10,20,30,40,50)"
   ]
  },
  {
   "cell_type": "code",
   "execution_count": 14,
   "id": "69e4d9e0",
   "metadata": {},
   "outputs": [
    {
     "name": "stdout",
     "output_type": "stream",
     "text": [
      "Args: (10, 20, 30)\n",
      "Type of Args:  <class 'tuple'>\n",
      "result : 60\n"
     ]
    }
   ],
   "source": [
    "sumofnumsusingargs(t[0],t[1],t[2])"
   ]
  },
  {
   "cell_type": "code",
   "execution_count": 15,
   "id": "694fb170",
   "metadata": {},
   "outputs": [
    {
     "name": "stdout",
     "output_type": "stream",
     "text": [
      "Args: (10, 20, 30, 40, 50)\n",
      "Type of Args:  <class 'tuple'>\n",
      "result : 150\n"
     ]
    }
   ],
   "source": [
    "sumofnumsusingargs(*t)"
   ]
  },
  {
   "cell_type": "code",
   "execution_count": 16,
   "id": "181511d7",
   "metadata": {},
   "outputs": [],
   "source": [
    "l = [10,20,30,40,50]"
   ]
  },
  {
   "cell_type": "code",
   "execution_count": 19,
   "id": "47d8959e",
   "metadata": {
    "scrolled": true
   },
   "outputs": [
    {
     "name": "stdout",
     "output_type": "stream",
     "text": [
      "Args: (10, 20, 30, 40, 50)\n",
      "Type of Args:  <class 'tuple'>\n",
      "result : 150\n"
     ]
    }
   ],
   "source": [
    "sumofnumsusingargs(*l)"
   ]
  },
  {
   "cell_type": "code",
   "execution_count": 34,
   "id": "4abb9c2b",
   "metadata": {},
   "outputs": [],
   "source": [
    "# Create a program where user enters a set of numbers and find the sum of all the numbers"
   ]
  },
  {
   "cell_type": "code",
   "execution_count": 24,
   "id": "c504980d",
   "metadata": {},
   "outputs": [],
   "source": [
    "## User Input"
   ]
  },
  {
   "cell_type": "code",
   "execution_count": 25,
   "id": "d5fb3807",
   "metadata": {},
   "outputs": [
    {
     "name": "stdout",
     "output_type": "stream",
     "text": [
      "Enter comma separated numbers: 1,2,3,4,5,6\n"
     ]
    }
   ],
   "source": [
    "userInput = input(\"Enter comma separated numbers: \")"
   ]
  },
  {
   "cell_type": "code",
   "execution_count": 26,
   "id": "56a9ca04",
   "metadata": {},
   "outputs": [
    {
     "name": "stdout",
     "output_type": "stream",
     "text": [
      "1,2,3,4,5,6 <class 'str'>\n"
     ]
    }
   ],
   "source": [
    "print(userInput, type(userInput))"
   ]
  },
  {
   "cell_type": "code",
   "execution_count": 27,
   "id": "4dc2999f",
   "metadata": {},
   "outputs": [],
   "source": [
    "lst_num = userInput.split(\",\")"
   ]
  },
  {
   "cell_type": "code",
   "execution_count": 28,
   "id": "d1b72df4",
   "metadata": {},
   "outputs": [
    {
     "data": {
      "text/plain": [
       "['1', '2', '3', '4', '5', '6']"
      ]
     },
     "execution_count": 28,
     "metadata": {},
     "output_type": "execute_result"
    }
   ],
   "source": [
    "lst_num"
   ]
  },
  {
   "cell_type": "code",
   "execution_count": 30,
   "id": "ba9695b8",
   "metadata": {},
   "outputs": [],
   "source": [
    "new_list = []\n",
    "for i in lst_num:\n",
    "    new_list.append(int(i))"
   ]
  },
  {
   "cell_type": "code",
   "execution_count": 36,
   "id": "b7c25636",
   "metadata": {},
   "outputs": [
    {
     "ename": "TypeError",
     "evalue": "int() argument must be a string, a bytes-like object or a number, not 'list'",
     "output_type": "error",
     "traceback": [
      "\u001b[1;31m---------------------------------------------------------------------------\u001b[0m",
      "\u001b[1;31mTypeError\u001b[0m                                 Traceback (most recent call last)",
      "Input \u001b[1;32mIn [36]\u001b[0m, in \u001b[0;36m<cell line: 1>\u001b[1;34m()\u001b[0m\n\u001b[1;32m----> 1\u001b[0m \u001b[38;5;28;43mint\u001b[39;49m\u001b[43m(\u001b[49m\u001b[43mlst_num\u001b[49m\u001b[43m)\u001b[49m\n",
      "\u001b[1;31mTypeError\u001b[0m: int() argument must be a string, a bytes-like object or a number, not 'list'"
     ]
    }
   ],
   "source": [
    "int(lst_num)"
   ]
  },
  {
   "cell_type": "code",
   "execution_count": 31,
   "id": "f7d1d837",
   "metadata": {},
   "outputs": [
    {
     "data": {
      "text/plain": [
       "[1, 2, 3, 4, 5, 6]"
      ]
     },
     "execution_count": 31,
     "metadata": {},
     "output_type": "execute_result"
    }
   ],
   "source": [
    "new_list"
   ]
  },
  {
   "cell_type": "code",
   "execution_count": 33,
   "id": "374657ae",
   "metadata": {},
   "outputs": [
    {
     "name": "stdout",
     "output_type": "stream",
     "text": [
      "Args: (1, 2, 3, 4, 5, 6)\n",
      "Type of Args:  <class 'tuple'>\n",
      "result : 21\n"
     ]
    }
   ],
   "source": [
    "sumofnumsusingargs(*new_list)"
   ]
  },
  {
   "cell_type": "markdown",
   "id": "31259581",
   "metadata": {},
   "source": [
    " - kwargs"
   ]
  },
  {
   "cell_type": "code",
   "execution_count": 37,
   "id": "cda46b0e",
   "metadata": {},
   "outputs": [],
   "source": [
    "def playerdetails(**kwargs):\n",
    "    for k, v in kwargs.items():\n",
    "        print(\"k -> {}, v->, {}\".format(k, v))\n",
    "    "
   ]
  },
  {
   "cell_type": "code",
   "execution_count": 39,
   "id": "7d5344a9",
   "metadata": {},
   "outputs": [
    {
     "name": "stdout",
     "output_type": "stream",
     "text": [
      "k -> name, v->, Virat\n",
      "k -> age, v->, 33\n",
      "k -> team, v->, RCB\n",
      "k -> salary, v->, 1000000\n"
     ]
    }
   ],
   "source": [
    "playerdetails(name = \"Virat\", age = \"33\", team = \"RCB\", salary = 1000000)"
   ]
  },
  {
   "cell_type": "code",
   "execution_count": 42,
   "id": "ca210250",
   "metadata": {},
   "outputs": [],
   "source": [
    "d = {\"name\" : \"Virat\", \"age\" : 33, \"team\" : \"RCB\", \"salary\" : 1000000}"
   ]
  },
  {
   "cell_type": "code",
   "execution_count": 43,
   "id": "f25c58c7",
   "metadata": {},
   "outputs": [
    {
     "name": "stdout",
     "output_type": "stream",
     "text": [
      "k -> name, v->, Virat\n",
      "k -> age, v->, 33\n",
      "k -> team, v->, RCB\n",
      "k -> salary, v->, 1000000\n"
     ]
    }
   ],
   "source": [
    "playerdetails(**d)"
   ]
  },
  {
   "cell_type": "markdown",
   "id": "46da9094",
   "metadata": {},
   "source": [
    "## Comprehensions"
   ]
  },
  {
   "cell_type": "markdown",
   "id": "b69d3bad",
   "metadata": {},
   "source": [
    " - List Comprehensions"
   ]
  },
  {
   "cell_type": "code",
   "execution_count": 48,
   "id": "203f52ed",
   "metadata": {},
   "outputs": [
    {
     "name": "stdout",
     "output_type": "stream",
     "text": [
      "[1, 2, 3, 4, 5, 6, 7, 8, 9, 10]\n",
      "[1, 4, 9, 16, 25, 36, 49, 64, 81, 100]\n"
     ]
    }
   ],
   "source": [
    "r = range(1,11)\n",
    "print(list(r))\n",
    "result = []\n",
    "for i in r:\n",
    "    result.append(i * i)\n",
    "print(result)"
   ]
  },
  {
   "cell_type": "code",
   "execution_count": 49,
   "id": "29794027",
   "metadata": {},
   "outputs": [
    {
     "name": "stdout",
     "output_type": "stream",
     "text": [
      "[1, 4, 9, 16, 25, 36, 49, 64, 81, 100]\n"
     ]
    }
   ],
   "source": [
    "result_list = [item*item for item in range(1,11)]\n",
    "print(result_list)"
   ]
  },
  {
   "cell_type": "code",
   "execution_count": 51,
   "id": "34934a56",
   "metadata": {},
   "outputs": [
    {
     "data": {
      "text/plain": [
       "[1, 4, 9, 16, 25, 36, 49, 64, 81, 100]"
      ]
     },
     "execution_count": 51,
     "metadata": {},
     "output_type": "execute_result"
    }
   ],
   "source": [
    "[i*i for i in range(1,11)]"
   ]
  },
  {
   "cell_type": "markdown",
   "id": "880e4e03",
   "metadata": {},
   "source": [
    "Example 1\n",
    " - print all numbers from 1 to 21 which are divisible by 2"
   ]
  },
  {
   "cell_type": "code",
   "execution_count": 55,
   "id": "d00b842c",
   "metadata": {},
   "outputs": [
    {
     "name": "stdout",
     "output_type": "stream",
     "text": [
      "[2, 4, 6, 8, 10, 12, 14, 16, 18, 20]\n"
     ]
    }
   ],
   "source": [
    "# Traditional\n",
    "evens = []\n",
    "for i in range(1,22):\n",
    "    if i % 2 == 0:\n",
    "        evens.append(i)\n",
    "print(evens)"
   ]
  },
  {
   "cell_type": "code",
   "execution_count": 56,
   "id": "39d1d059",
   "metadata": {},
   "outputs": [
    {
     "data": {
      "text/plain": [
       "[2, 4, 6, 8, 10, 12, 14, 16, 18, 20]"
      ]
     },
     "execution_count": 56,
     "metadata": {},
     "output_type": "execute_result"
    }
   ],
   "source": [
    "evens = [i for i in range(1,22) if i%2==0]\n",
    "evens"
   ]
  },
  {
   "cell_type": "code",
   "execution_count": 57,
   "id": "313c725f",
   "metadata": {},
   "outputs": [],
   "source": [
    "# Write a program to get a list of all characters from a subject which are consonants using LC"
   ]
  },
  {
   "cell_type": "code",
   "execution_count": 60,
   "id": "b00bb273",
   "metadata": {},
   "outputs": [],
   "source": [
    "input_ = \"MATEHEMATICS\"\n",
    "#output = [\"M\",T,\"H\",\"M\",\"T\",\"C\",\"S\"]"
   ]
  },
  {
   "cell_type": "code",
   "execution_count": 61,
   "id": "bb2df35c",
   "metadata": {},
   "outputs": [
    {
     "name": "stdout",
     "output_type": "stream",
     "text": [
      "['M', 'T', 'H', 'M', 'T', 'C', 'S']\n"
     ]
    }
   ],
   "source": [
    "result = [i for i in input_ if i not in \"AEIOU\"]\n",
    "print(result)"
   ]
  },
  {
   "cell_type": "code",
   "execution_count": 62,
   "id": "6978934f",
   "metadata": {},
   "outputs": [
    {
     "name": "stdout",
     "output_type": "stream",
     "text": [
      "M\n",
      "T\n",
      "H\n",
      "M\n",
      "T\n",
      "C\n",
      "S\n"
     ]
    }
   ],
   "source": [
    "for i in input_:\n",
    "    if i not in \"AEIOU\":\n",
    "        print(i)"
   ]
  },
  {
   "cell_type": "code",
   "execution_count": 63,
   "id": "bb30ab30",
   "metadata": {},
   "outputs": [],
   "source": [
    "## websites = [\"amazon\", \"flipkart\", \"snapdeal\"]\n",
    "#output = [\"www.amazon.com\", \"www.flipkart.com\", \"www.snapdeal.com\"]\n",
    "## Strictly through LC"
   ]
  },
  {
   "cell_type": "code",
   "execution_count": 1,
   "id": "739043d5",
   "metadata": {},
   "outputs": [],
   "source": [
    "websites = [\"amazon\", \"flipkart\", \"snapdeal\"]"
   ]
  },
  {
   "cell_type": "code",
   "execution_count": 2,
   "id": "4fde3e57",
   "metadata": {},
   "outputs": [],
   "source": [
    "result = [\"www.\"+item+\".com\" for item in websites]"
   ]
  },
  {
   "cell_type": "code",
   "execution_count": 3,
   "id": "196d4044",
   "metadata": {},
   "outputs": [
    {
     "data": {
      "text/plain": [
       "['www.amazon.com', 'www.flipkart.com', 'www.snapdeal.com']"
      ]
     },
     "execution_count": 3,
     "metadata": {},
     "output_type": "execute_result"
    }
   ],
   "source": [
    "result"
   ]
  },
  {
   "cell_type": "code",
   "execution_count": 4,
   "id": "b0750a13",
   "metadata": {},
   "outputs": [],
   "source": [
    "s = \"welcome to the world of python programming\"\n",
    "#out = [(\"welcome\", 7),(\"to\",2),(\"the\",3)...]"
   ]
  },
  {
   "cell_type": "code",
   "execution_count": 9,
   "id": "8d135ce0",
   "metadata": {},
   "outputs": [],
   "source": [
    "# Normal approach\n",
    "result = []\n",
    "for i in s.split():\n",
    "    result.append((i,len(i)))"
   ]
  },
  {
   "cell_type": "code",
   "execution_count": 10,
   "id": "fa0b72fc",
   "metadata": {},
   "outputs": [
    {
     "data": {
      "text/plain": [
       "[('welcome', 7),\n",
       " ('to', 2),\n",
       " ('the', 3),\n",
       " ('world', 5),\n",
       " ('of', 2),\n",
       " ('python', 6),\n",
       " ('programming', 11)]"
      ]
     },
     "execution_count": 10,
     "metadata": {},
     "output_type": "execute_result"
    }
   ],
   "source": [
    "result"
   ]
  },
  {
   "cell_type": "code",
   "execution_count": 11,
   "id": "0ab835c1",
   "metadata": {},
   "outputs": [],
   "source": [
    "result = [(i, len(i)) for i in s.split()]"
   ]
  },
  {
   "cell_type": "code",
   "execution_count": 12,
   "id": "15c64708",
   "metadata": {},
   "outputs": [
    {
     "data": {
      "text/plain": [
       "[('welcome', 7),\n",
       " ('to', 2),\n",
       " ('the', 3),\n",
       " ('world', 5),\n",
       " ('of', 2),\n",
       " ('python', 6),\n",
       " ('programming', 11)]"
      ]
     },
     "execution_count": 12,
     "metadata": {},
     "output_type": "execute_result"
    }
   ],
   "source": [
    "result"
   ]
  },
  {
   "cell_type": "code",
   "execution_count": 13,
   "id": "e6da2b01",
   "metadata": {},
   "outputs": [],
   "source": [
    "## Write a program which will find all such numbers which are divisible by 7\n",
    "#but are not multiples of 5, between 200 t0 320 (both included)\n",
    "# The numbers obtained should be printed in comma seperated sequence on a sinfle line\n",
    "# Hint: use range method"
   ]
  },
  {
   "cell_type": "code",
   "execution_count": null,
   "id": "5cd56372",
   "metadata": {},
   "outputs": [],
   "source": [
    "# input : sequence of numbers between 200, 320\n",
    "#out: 203, 217, 224 . . . "
   ]
  },
  {
   "cell_type": "code",
   "execution_count": 16,
   "id": "ccb31a94",
   "metadata": {},
   "outputs": [
    {
     "name": "stdout",
     "output_type": "stream",
     "text": [
      "203\n",
      "210\n",
      "217\n",
      "224\n",
      "231\n",
      "238\n",
      "245\n",
      "252\n",
      "259\n",
      "266\n",
      "273\n",
      "280\n",
      "287\n",
      "294\n",
      "301\n",
      "308\n",
      "315\n"
     ]
    }
   ],
   "source": [
    "odd_nums = [print(x) for x in range(200 ,321) if x % 7 == 0]"
   ]
  },
  {
   "cell_type": "code",
   "execution_count": 17,
   "id": "0f4feb1a",
   "metadata": {},
   "outputs": [
    {
     "name": "stdout",
     "output_type": "stream",
     "text": [
      "<class 'NoneType'>\n",
      "<class 'NoneType'>\n",
      "<class 'NoneType'>\n",
      "<class 'NoneType'>\n",
      "<class 'NoneType'>\n",
      "<class 'NoneType'>\n",
      "<class 'NoneType'>\n",
      "<class 'NoneType'>\n",
      "<class 'NoneType'>\n",
      "<class 'NoneType'>\n",
      "<class 'NoneType'>\n",
      "<class 'NoneType'>\n",
      "<class 'NoneType'>\n",
      "<class 'NoneType'>\n",
      "<class 'NoneType'>\n",
      "<class 'NoneType'>\n",
      "<class 'NoneType'>\n"
     ]
    }
   ],
   "source": [
    "for i in odd_nums:\n",
    "    print(type(i))"
   ]
  },
  {
   "cell_type": "code",
   "execution_count": 22,
   "id": "34d920a6",
   "metadata": {},
   "outputs": [
    {
     "name": "stdout",
     "output_type": "stream",
     "text": [
      "203, 217, 224, 231, 238, 252, 259, 266, 273, 287, 294, 301, 308\n"
     ]
    }
   ],
   "source": [
    "odd_nums = [str(x) for x in range(200 ,321) if x % 7 == 0 and x % 5 != 0]\n",
    "print(\", \".join(odd_nums))"
   ]
  },
  {
   "cell_type": "markdown",
   "id": "dd9e7232",
   "metadata": {},
   "source": [
    "# Dictionary comprehensions"
   ]
  },
  {
   "cell_type": "code",
   "execution_count": 23,
   "id": "b3279a9c",
   "metadata": {},
   "outputs": [],
   "source": [
    "# from range of numbers output the squares in dict as given below\n",
    "# {1:1, 2:4, 3:9, 4:16, 5:25}"
   ]
  },
  {
   "cell_type": "code",
   "execution_count": 24,
   "id": "88521219",
   "metadata": {},
   "outputs": [
    {
     "name": "stdout",
     "output_type": "stream",
     "text": [
      "{1: 1, 2: 4, 3: 9, 4: 16, 5: 25}\n"
     ]
    }
   ],
   "source": [
    "result = {}\n",
    "for item in range(1,6):\n",
    "    result[item] = item * item\n",
    "print(result)"
   ]
  },
  {
   "cell_type": "code",
   "execution_count": 26,
   "id": "6d5f0cb1",
   "metadata": {},
   "outputs": [
    {
     "name": "stdout",
     "output_type": "stream",
     "text": [
      "{1: 1, 2: 4, 3: 9, 4: 16, 5: 25}\n"
     ]
    }
   ],
   "source": [
    "result = {item: item * item for item in range(1,6)}\n",
    "print(result)"
   ]
  },
  {
   "cell_type": "code",
   "execution_count": 27,
   "id": "7c4a4eeb",
   "metadata": {},
   "outputs": [],
   "source": [
    "s = \"the quick brown fox jumps over the lazy dog\""
   ]
  },
  {
   "cell_type": "code",
   "execution_count": 28,
   "id": "089c33d2",
   "metadata": {},
   "outputs": [
    {
     "data": {
      "text/plain": [
       "2"
      ]
     },
     "execution_count": 28,
     "metadata": {},
     "output_type": "execute_result"
    }
   ],
   "source": [
    "s.count(\"t\")"
   ]
  },
  {
   "cell_type": "code",
   "execution_count": 29,
   "id": "79b43e51",
   "metadata": {},
   "outputs": [
    {
     "data": {
      "text/plain": [
       "1"
      ]
     },
     "execution_count": 29,
     "metadata": {},
     "output_type": "execute_result"
    }
   ],
   "source": [
    "s.count(\"q\")"
   ]
  },
  {
   "cell_type": "code",
   "execution_count": 30,
   "id": "0f3d0e23",
   "metadata": {},
   "outputs": [],
   "source": [
    "# output : {'t':2, 'q': 1 . . . }"
   ]
  },
  {
   "cell_type": "code",
   "execution_count": 31,
   "id": "37166cb7",
   "metadata": {},
   "outputs": [],
   "source": [
    "result = {i: s.count(i) for i in s}"
   ]
  },
  {
   "cell_type": "code",
   "execution_count": 32,
   "id": "bda6b7ad",
   "metadata": {},
   "outputs": [
    {
     "data": {
      "text/plain": [
       "{'t': 2,\n",
       " 'h': 2,\n",
       " 'e': 3,\n",
       " ' ': 8,\n",
       " 'q': 1,\n",
       " 'u': 2,\n",
       " 'i': 1,\n",
       " 'c': 1,\n",
       " 'k': 1,\n",
       " 'b': 1,\n",
       " 'r': 2,\n",
       " 'o': 4,\n",
       " 'w': 1,\n",
       " 'n': 1,\n",
       " 'f': 1,\n",
       " 'x': 1,\n",
       " 'j': 1,\n",
       " 'm': 1,\n",
       " 'p': 1,\n",
       " 's': 1,\n",
       " 'v': 1,\n",
       " 'l': 1,\n",
       " 'a': 1,\n",
       " 'z': 1,\n",
       " 'y': 1,\n",
       " 'd': 1,\n",
       " 'g': 1}"
      ]
     },
     "execution_count": 32,
     "metadata": {},
     "output_type": "execute_result"
    }
   ],
   "source": [
    "result"
   ]
  },
  {
   "cell_type": "code",
   "execution_count": null,
   "id": "1c3c0692",
   "metadata": {},
   "outputs": [],
   "source": []
  }
 ],
 "metadata": {
  "kernelspec": {
   "display_name": "Python 3 (ipykernel)",
   "language": "python",
   "name": "python3"
  },
  "language_info": {
   "codemirror_mode": {
    "name": "ipython",
    "version": 3
   },
   "file_extension": ".py",
   "mimetype": "text/x-python",
   "name": "python",
   "nbconvert_exporter": "python",
   "pygments_lexer": "ipython3",
   "version": "3.9.12"
  }
 },
 "nbformat": 4,
 "nbformat_minor": 5
}
