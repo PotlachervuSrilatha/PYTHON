{
  "cells": [
    {
      "cell_type": "code",
      "execution_count": null,
      "id": "89416b28",
      "metadata": {
        "id": "89416b28"
      },
      "outputs": [],
      "source": [
        "4+5"
      ]
    },
    {
      "cell_type": "code",
      "execution_count": null,
      "id": "91ff1fd8",
      "metadata": {
        "id": "91ff1fd8"
      },
      "outputs": [],
      "source": [
        "dic={\"Student_name\":\"Xyz\",\"grade\":\"5\"}\n",
        "dic"
      ]
    },
    {
      "cell_type": "code",
      "execution_count": null,
      "id": "3fc038ce",
      "metadata": {
        "id": "3fc038ce"
      },
      "outputs": [],
      "source": [
        "lis =[\"a\",\"b\",1,2,3]\n",
        "lis"
      ]
    },
    {
      "cell_type": "code",
      "execution_count": null,
      "id": "bc572649",
      "metadata": {
        "id": "bc572649"
      },
      "outputs": [],
      "source": [
        "tup =(1,2,3,4)\n",
        "tup"
      ]
    },
    {
      "cell_type": "code",
      "execution_count": null,
      "id": "8e9a6d58",
      "metadata": {
        "id": "8e9a6d58"
      },
      "outputs": [],
      "source": [
        "se ={1,\"ere\",1.4,4}\n",
        "se"
      ]
    },
    {
      "cell_type": "code",
      "execution_count": null,
      "id": "d2ac4a03",
      "metadata": {
        "id": "d2ac4a03"
      },
      "outputs": [],
      "source": [
        "def hello():\n",
        "    print(\"Hello Everyone!\")"
      ]
    },
    {
      "cell_type": "code",
      "execution_count": null,
      "id": "67eea4e1",
      "metadata": {
        "id": "67eea4e1"
      },
      "outputs": [],
      "source": [
        "hello()"
      ]
    },
    {
      "cell_type": "code",
      "execution_count": null,
      "id": "733e43c3",
      "metadata": {
        "id": "733e43c3"
      },
      "outputs": [],
      "source": [
        "def hello():\n",
        "    print(\"Hello Everyone!\")\n",
        "hello()"
      ]
    },
    {
      "cell_type": "markdown",
      "id": "2fd1be15",
      "metadata": {
        "id": "2fd1be15"
      },
      "source": [
        "def add(a,b):\n",
        "    c=a+b\n",
        "    print(c)\n",
        "    \n",
        "    \n",
        "x=int(input(\"Enter 1st number\"))\n",
        "y=int(input(\"Enter 2st number\"))\n",
        "add(x,y)"
      ]
    },
    {
      "cell_type": "code",
      "execution_count": null,
      "id": "72f7d670",
      "metadata": {
        "id": "72f7d670"
      },
      "outputs": [],
      "source": [
        "p*r*t/100"
      ]
    },
    {
      "cell_type": "code",
      "execution_count": null,
      "id": "4f94c602",
      "metadata": {
        "id": "4f94c602"
      },
      "outputs": [],
      "source": [
        "\n",
        "def add(a,b):\n",
        "    c=a+b\n",
        "    print(c)\n",
        "\n",
        "x=int(input(\"Enter 1st number\"))\n",
        "y=int(input(\"Enter 2st number\"))\n",
        "add(x,y)\n",
        "\n"
      ]
    },
    {
      "cell_type": "code",
      "execution_count": null,
      "id": "0276f6a2",
      "metadata": {
        "id": "0276f6a2"
      },
      "outputs": [],
      "source": [
        "def add(a):\n",
        "    print(a)\n",
        "\n",
        "\n",
        "y=input(\"Enter about yourself:\")\n",
        "add(y)"
      ]
    },
    {
      "cell_type": "code",
      "execution_count": null,
      "id": "ec3ccbed",
      "metadata": {
        "id": "ec3ccbed"
      },
      "outputs": [],
      "source": [
        "def add(a,b):\n",
        "    c=a+b\n",
        "    return(c)\n",
        "\n",
        "x=int(input(\"Enter 1st number\"))\n",
        "y=int(input(\"Enter 2st number\"))\n",
        "g=add(x,y)\n",
        "print(g)"
      ]
    },
    {
      "cell_type": "code",
      "execution_count": null,
      "id": "7064981b",
      "metadata": {
        "id": "7064981b"
      },
      "outputs": [],
      "source": [
        "def add(a,b):\n",
        "    c=a+b\n",
        "    return(c)\n",
        "\n",
        "x=(input(\"Enter 1st number\"))\n",
        "y=(input(\"Enter 2st number\"))\n",
        "g=add(x,y)\n",
        "print(g)"
      ]
    },
    {
      "cell_type": "code",
      "execution_count": null,
      "id": "009bc809",
      "metadata": {
        "id": "009bc809"
      },
      "outputs": [],
      "source": [
        "def xyz(x):\n",
        "    print(\"Before\", id(x))\n",
        "    x=10\n",
        "    print(x)\n",
        "    print(\"After\", id(x))\n",
        "\n",
        "x=8\n",
        "xyz(x)\n",
        "print(x)"
      ]
    },
    {
      "cell_type": "code",
      "execution_count": null,
      "id": "16f78a1e",
      "metadata": {
        "id": "16f78a1e"
      },
      "outputs": [],
      "source": [
        "def xyz(x):\n",
        "    print(\"Before\", id(x))\n",
        "\n",
        "    print(x)\n",
        "    print(\"After\", id(x))\n",
        "\n",
        "x=8\n",
        "xyz(x)\n",
        "print(x)"
      ]
    },
    {
      "cell_type": "code",
      "execution_count": null,
      "id": "9d295984",
      "metadata": {
        "id": "9d295984"
      },
      "outputs": [],
      "source": [
        "def printinfo( name, age ):\n",
        "   \"This prints a passed info into this function\"\n",
        "   print (\"Name: \", name)\n",
        "   print (\"Age \", age)\n",
        "   return\n",
        "\n",
        "# Now you can call printinfo function\n",
        "printinfo( age = 50, name = \"miki\" )\n"
      ]
    },
    {
      "cell_type": "code",
      "execution_count": null,
      "id": "5a811e90",
      "metadata": {
        "id": "5a811e90"
      },
      "outputs": [],
      "source": [
        "def print_student_marks( name, *student_marks):\n",
        "\tprint(name)\n",
        "\tfor marks in student_marks:\n",
        "\t\tprint(marks)\n",
        "# function invocation\n",
        "print_student_marks('xyz', 90,80,70,99)\n",
        "print_student_marks('abc', 90, 88)\n"
      ]
    },
    {
      "cell_type": "code",
      "execution_count": null,
      "id": "26ac9685",
      "metadata": {
        "id": "26ac9685"
      },
      "outputs": [],
      "source": [
        "def add(a,b):\n",
        "    c=a+b\n",
        "    return(c)\n",
        "\n",
        "x=int(input(\"Enter 1st number\"))\n",
        "y=int(input(\"Enter 2st number\"))\n",
        "g=add(x,y)\n",
        "print(g)"
      ]
    },
    {
      "cell_type": "code",
      "execution_count": null,
      "id": "6264eed2",
      "metadata": {
        "id": "6264eed2"
      },
      "outputs": [],
      "source": [
        "x = lambda a : a + 10\n",
        "print(x(5))"
      ]
    },
    {
      "cell_type": "code",
      "execution_count": null,
      "id": "ce633993",
      "metadata": {
        "id": "ce633993"
      },
      "outputs": [],
      "source": [
        "add= lambda a,b:a+b\n",
        "print(add(19,19))"
      ]
    },
    {
      "cell_type": "code",
      "execution_count": null,
      "id": "2410a44f",
      "metadata": {
        "id": "2410a44f"
      },
      "outputs": [],
      "source": [
        "def myfunc(n):\n",
        "  return lambda a : a * n\n",
        "mydoubler = myfunc(2)\n",
        "print(mydoubler(11))\n"
      ]
    },
    {
      "cell_type": "code",
      "execution_count": null,
      "id": "21f586c7",
      "metadata": {
        "id": "21f586c7"
      },
      "outputs": [],
      "source": [
        "def myfunc(n):\n",
        "  return lambda a : a * n\n",
        "mydoubler = myfunc(2)\n",
        "mytripler = myfunc(3)\n",
        "print(mydoubler(11))\n",
        "print(mytripler(11))\n"
      ]
    },
    {
      "cell_type": "code",
      "execution_count": null,
      "id": "5325fd9a",
      "metadata": {
        "id": "5325fd9a"
      },
      "outputs": [],
      "source": [
        "a = 99 # Global variable\n",
        "def func():\n",
        "\ta= 88#Local variable\n",
        "\tprint(a)\n",
        "func()\n",
        "print(a)\n",
        "\n"
      ]
    },
    {
      "cell_type": "code",
      "execution_count": null,
      "id": "c058400d",
      "metadata": {
        "id": "c058400d"
      },
      "outputs": [],
      "source": [
        "def calculateSquare(n):\n",
        " return n*n\n",
        "numbers = (1, 2, 3, 4)\n",
        "result = map(calculateSquare, numbers)\n",
        "print(result)\n",
        "# converting map object to list\n",
        "numbersSquare = list(result)\n",
        "print(numbersSquare)\n"
      ]
    },
    {
      "cell_type": "code",
      "execution_count": null,
      "id": "eb4638ea",
      "metadata": {
        "id": "eb4638ea"
      },
      "outputs": [],
      "source": [
        "ages=[1,44,5,3,6,2,4]\n",
        "def myfun(x):\n",
        "    if x<18:\n",
        "        return False\n",
        "    else:\n",
        "        return True\n",
        "\n",
        "adults =filter(myfun,ages)\n",
        "for i in adults:\n",
        "    print(i)"
      ]
    },
    {
      "cell_type": "code",
      "execution_count": null,
      "id": "51383eb7",
      "metadata": {
        "id": "51383eb7"
      },
      "outputs": [],
      "source": [
        "import re"
      ]
    },
    {
      "cell_type": "code",
      "execution_count": null,
      "id": "1e487d8b",
      "metadata": {
        "id": "1e487d8b"
      },
      "outputs": [],
      "source": [
        "txt = \"The rain in Spain ai\"\n",
        "x = re.search(\"The.*Spain\", txt)\n",
        "x"
      ]
    },
    {
      "cell_type": "code",
      "execution_count": null,
      "id": "7a52f83d",
      "metadata": {
        "id": "7a52f83d"
      },
      "outputs": [],
      "source": [
        "x=re.findall(\"ai\",txt)\n",
        "x"
      ]
    },
    {
      "cell_type": "code",
      "execution_count": null,
      "id": "96680cd4",
      "metadata": {
        "id": "96680cd4"
      },
      "outputs": [],
      "source": [
        "x=re.findall(\"lllll\",txt)\n",
        "x"
      ]
    },
    {
      "cell_type": "code",
      "execution_count": null,
      "id": "38f22043",
      "metadata": {
        "id": "38f22043"
      },
      "outputs": [],
      "source": [
        "\n",
        "\n",
        "txt = \"Thejj rain in Spain\"\n",
        "x = re.search(\"\\s\", txt)\n",
        "\n",
        "print(\"The first white-space character is located in position:\", x.start())"
      ]
    },
    {
      "cell_type": "code",
      "execution_count": null,
      "id": "df003441",
      "metadata": {
        "id": "df003441"
      },
      "outputs": [],
      "source": [
        "x=re.split(\"\\s\",txt,1)\n",
        "x"
      ]
    },
    {
      "cell_type": "code",
      "execution_count": null,
      "id": "e3e56d7a",
      "metadata": {
        "id": "e3e56d7a"
      },
      "outputs": [],
      "source": [
        "x=re.sub(\"\\s\",\"9\",txt)\n",
        "x"
      ]
    },
    {
      "cell_type": "code",
      "execution_count": null,
      "id": "3046727a",
      "metadata": {
        "id": "3046727a"
      },
      "outputs": [],
      "source": [
        "x=re.sub(\"\\s\",\"9\",txt,2)\n",
        "x"
      ]
    },
    {
      "cell_type": "code",
      "execution_count": null,
      "id": "68c06f13",
      "metadata": {
        "id": "68c06f13"
      },
      "outputs": [],
      "source": [
        "from tkinter import *"
      ]
    },
    {
      "cell_type": "code",
      "execution_count": null,
      "id": "d48969c2",
      "metadata": {
        "id": "d48969c2"
      },
      "outputs": [],
      "source": [
        "window = Tk()\n"
      ]
    },
    {
      "cell_type": "code",
      "execution_count": null,
      "id": "024a8fd6",
      "metadata": {
        "id": "024a8fd6"
      },
      "outputs": [],
      "source": [
        "window.title(\"Hello world\")\n"
      ]
    },
    {
      "cell_type": "code",
      "execution_count": null,
      "id": "97251786",
      "metadata": {
        "id": "97251786"
      },
      "outputs": [],
      "source": [
        "window.mainloop()"
      ]
    },
    {
      "cell_type": "code",
      "execution_count": null,
      "id": "bd4b8af9",
      "metadata": {
        "id": "bd4b8af9"
      },
      "outputs": [],
      "source": []
    },
    {
      "cell_type": "code",
      "execution_count": null,
      "id": "84f054f7",
      "metadata": {
        "id": "84f054f7"
      },
      "outputs": [],
      "source": [
        "pip install tkinter\n"
      ]
    },
    {
      "cell_type": "code",
      "execution_count": null,
      "id": "786070c3",
      "metadata": {
        "id": "786070c3"
      },
      "outputs": [],
      "source": [
        "pip install django\n"
      ]
    },
    {
      "cell_type": "code",
      "execution_count": null,
      "id": "68831a1f",
      "metadata": {
        "id": "68831a1f"
      },
      "outputs": [],
      "source": [
        "# hhssja jsnjqkqjw jjqwsqwjijq\n"
      ]
    },
    {
      "cell_type": "code",
      "execution_count": null,
      "id": "be22dc54",
      "metadata": {
        "id": "be22dc54"
      },
      "outputs": [],
      "source": [
        "class myclass:\n",
        "    x=5\n",
        "print(myclass.x)"
      ]
    },
    {
      "cell_type": "code",
      "execution_count": null,
      "id": "c9a21cbc",
      "metadata": {
        "id": "c9a21cbc"
      },
      "outputs": [],
      "source": [
        "class person:\n",
        "    def __init__(self,name,age):\n",
        "        self.name=name\n",
        "        self.age=age\n",
        "    def myfun(self):\n",
        "        print(\"My name is\",self.name)\n",
        "\n",
        "\n",
        "\n",
        "\n",
        "\n",
        "p1=person(\"Nik\",18)\n",
        "p1.myfun()"
      ]
    },
    {
      "cell_type": "code",
      "execution_count": null,
      "id": "c2f9e649",
      "metadata": {
        "id": "c2f9e649"
      },
      "outputs": [],
      "source": [
        "class person:\n",
        "    def __init__(self,name,age):\n",
        "        self.name=name\n",
        "        self.age=age\n",
        "    def myfun(self):\n",
        "        print(\"My name is\",self.name,\",My age is\",self.age)\n",
        "class child(person):\n",
        "    pass\n",
        "\n",
        "\n",
        "\n",
        "\n",
        "\n",
        "p1=person(\"Nik\",18)\n",
        "p1.myfun()"
      ]
    },
    {
      "cell_type": "code",
      "execution_count": null,
      "id": "77332c2e",
      "metadata": {
        "id": "77332c2e"
      },
      "outputs": [],
      "source": [
        "try:\n",
        " print(x)\n",
        "except NameError:\n",
        "    print(\"X is not defined \")\n",
        "except:\n",
        "    print('exception occured')"
      ]
    },
    {
      "cell_type": "code",
      "execution_count": null,
      "id": "5b9a2570",
      "metadata": {
        "id": "5b9a2570"
      },
      "outputs": [],
      "source": [
        "try:\n",
        " print(\"Nikanksha\")\n",
        "except:\n",
        "    print('exception occured')\n",
        "else:\n",
        "    print(\"Nothing went wrong\")"
      ]
    },
    {
      "cell_type": "code",
      "execution_count": null,
      "id": "a9c3d80f",
      "metadata": {
        "id": "a9c3d80f"
      },
      "outputs": [],
      "source": [
        "try:\n",
        " print(x)\n",
        "\n",
        "except:\n",
        "    print('exception occured')\n",
        "finally:\n",
        "    print(\"try except is finished\")"
      ]
    },
    {
      "cell_type": "code",
      "execution_count": null,
      "id": "7921e5e7",
      "metadata": {
        "id": "7921e5e7"
      },
      "outputs": [],
      "source": [
        "x = -1\n",
        "\n",
        "if x < 0:\n",
        "  raise Exception(\"Sorry, no numbers below zero\")"
      ]
    },
    {
      "cell_type": "code",
      "execution_count": null,
      "id": "d884e67d",
      "metadata": {
        "id": "d884e67d"
      },
      "outputs": [],
      "source": [
        "import datetime\n",
        "x=datetime.datetime.now()\n",
        "print(x)"
      ]
    },
    {
      "cell_type": "code",
      "execution_count": null,
      "id": "27ff5bad",
      "metadata": {
        "id": "27ff5bad"
      },
      "outputs": [],
      "source": [
        "print(x.year)"
      ]
    },
    {
      "cell_type": "code",
      "execution_count": null,
      "id": "e84df246",
      "metadata": {
        "id": "e84df246"
      },
      "outputs": [],
      "source": [
        "print(x.month)"
      ]
    },
    {
      "cell_type": "code",
      "execution_count": null,
      "id": "772e5f32",
      "metadata": {
        "id": "772e5f32"
      },
      "outputs": [],
      "source": [
        "print(x.hour,x.minute)"
      ]
    },
    {
      "cell_type": "code",
      "execution_count": null,
      "id": "1a899547",
      "metadata": {
        "id": "1a899547"
      },
      "outputs": [],
      "source": [
        "year, month, day, hour, minute, second, and microsecond."
      ]
    },
    {
      "cell_type": "code",
      "execution_count": null,
      "id": "c3e0baf8",
      "metadata": {
        "id": "c3e0baf8"
      },
      "outputs": [],
      "source": [
        "import math"
      ]
    },
    {
      "cell_type": "code",
      "execution_count": null,
      "id": "45c93fc1",
      "metadata": {
        "id": "45c93fc1"
      },
      "outputs": [],
      "source": [
        "a=math.pi/6\n",
        "print(math.sin(a))"
      ]
    },
    {
      "cell_type": "code",
      "execution_count": null,
      "id": "24814543",
      "metadata": {
        "id": "24814543"
      },
      "outputs": [],
      "source": [
        "a=math.pi/6\n",
        "print(math.cos(a))"
      ]
    },
    {
      "cell_type": "code",
      "execution_count": null,
      "id": "4939c49b",
      "metadata": {
        "id": "4939c49b"
      },
      "outputs": [],
      "source": [
        "a=math.pi/6\n",
        "print(math.tan(a))"
      ]
    },
    {
      "cell_type": "code",
      "execution_count": null,
      "id": "2115da38",
      "metadata": {
        "id": "2115da38"
      },
      "outputs": [],
      "source": [
        "print (math.radians(a))"
      ]
    },
    {
      "cell_type": "code",
      "execution_count": null,
      "id": "e352e824",
      "metadata": {
        "id": "e352e824"
      },
      "outputs": [],
      "source": [
        "import random\n",
        "a=[\"h\",\"t\"]\n",
        "coin=random.choice(a)\n",
        "print(coin)"
      ]
    },
    {
      "cell_type": "code",
      "execution_count": null,
      "id": "95dd80c1",
      "metadata": {
        "id": "95dd80c1"
      },
      "outputs": [],
      "source": [
        "class hidden:\n",
        "   # declaring private member of class\n",
        "   __hiddenVar = 0\n",
        "   def sum(self, counter):\n",
        "      self.__hiddenVar += counter\n",
        "      print (self.__hiddenVar)\n",
        "hiddenobj = hidden()\n",
        "hiddenobj.sum(5)\n",
        "hiddenobj.sum(10)\n",
        "\n",
        "# print statement throws error as __hiddenVar is private\n",
        "print(hiddenobj.__hiddenVar)\n"
      ]
    },
    {
      "cell_type": "code",
      "execution_count": null,
      "id": "2277c53c",
      "metadata": {
        "id": "2277c53c"
      },
      "outputs": [],
      "source": [
        "import pandas\n",
        "a={\n",
        "    \"cars\":[\"bmw\",\"volvo\",\"ford\"],\n",
        "     \"passing\":[1,3,5]\n",
        "}\n",
        "b=pandas.DataFrame(a)\n",
        "print(b)\n"
      ]
    },
    {
      "cell_type": "code",
      "execution_count": null,
      "id": "efcfd458",
      "metadata": {
        "id": "efcfd458"
      },
      "outputs": [],
      "source": [
        "import pandas as pd\n",
        "a = [1, 7, 2]\n",
        "myvar = pd.Series(a)\n",
        "\n",
        "\n",
        "print(myvar)"
      ]
    },
    {
      "cell_type": "code",
      "execution_count": null,
      "id": "6deea777",
      "metadata": {
        "id": "6deea777"
      },
      "outputs": [],
      "source": [
        "a=pd.read_csv(\"User_Data.csv\")"
      ]
    },
    {
      "cell_type": "code",
      "execution_count": null,
      "id": "553ad415",
      "metadata": {
        "id": "553ad415"
      },
      "outputs": [],
      "source": [
        "a"
      ]
    },
    {
      "cell_type": "code",
      "execution_count": null,
      "id": "ce7e4d03",
      "metadata": {
        "id": "ce7e4d03"
      },
      "outputs": [],
      "source": [
        "a.head()"
      ]
    },
    {
      "cell_type": "code",
      "execution_count": null,
      "id": "0b022ed9",
      "metadata": {
        "id": "0b022ed9"
      },
      "outputs": [],
      "source": [
        "a.tail()"
      ]
    },
    {
      "cell_type": "code",
      "execution_count": null,
      "id": "2f5e8050",
      "metadata": {
        "id": "2f5e8050"
      },
      "outputs": [],
      "source": [
        "a.info()"
      ]
    },
    {
      "cell_type": "code",
      "execution_count": null,
      "id": "ed2e091e",
      "metadata": {
        "id": "ed2e091e"
      },
      "outputs": [],
      "source": [
        "a.describe()"
      ]
    },
    {
      "cell_type": "code",
      "execution_count": null,
      "id": "46481d64",
      "metadata": {
        "id": "46481d64"
      },
      "outputs": [],
      "source": [
        "a.columns"
      ]
    },
    {
      "cell_type": "code",
      "execution_count": null,
      "id": "f2a8312e",
      "metadata": {
        "id": "f2a8312e"
      },
      "outputs": [],
      "source": [
        "import numpy as np"
      ]
    },
    {
      "cell_type": "code",
      "execution_count": null,
      "id": "97e9d22d",
      "metadata": {
        "id": "97e9d22d",
        "outputId": "49170d0e-68a9-42ad-e043-fcdcf69d34b2"
      },
      "outputs": [
        {
          "name": "stdout",
          "output_type": "stream",
          "text": [
            "34\n"
          ]
        }
      ],
      "source": [
        "a=np.array(34)\n",
        "print(a)"
      ]
    },
    {
      "cell_type": "code",
      "execution_count": null,
      "id": "1819482e",
      "metadata": {
        "id": "1819482e",
        "outputId": "366ef5a1-4fb9-44be-a724-51d7eddae515"
      },
      "outputs": [
        {
          "name": "stdout",
          "output_type": "stream",
          "text": [
            "2\n"
          ]
        }
      ],
      "source": [
        "a=np.array([34,2,4,6,7])\n",
        "print(a[1])"
      ]
    },
    {
      "cell_type": "code",
      "execution_count": null,
      "id": "c219e3a8",
      "metadata": {
        "id": "c219e3a8",
        "outputId": "7d58f27b-5d9c-45d6-dfd2-094f668a5fa2"
      },
      "outputs": [
        {
          "name": "stdout",
          "output_type": "stream",
          "text": [
            "[[34  2  4  6  7]\n",
            " [34  2  4  6  7]]\n"
          ]
        }
      ],
      "source": [
        "a=np.array([[34,2,4,6,7],[34,2,4,6,7]])\n",
        "print(a)"
      ]
    },
    {
      "cell_type": "code",
      "execution_count": null,
      "id": "5179dcae",
      "metadata": {
        "id": "5179dcae",
        "outputId": "015ba133-6585-41ae-e29c-aa8354a5a8df"
      },
      "outputs": [
        {
          "name": "stdout",
          "output_type": "stream",
          "text": [
            "[34  2  4  6  7]\n"
          ]
        }
      ],
      "source": [
        "print(a[1])"
      ]
    },
    {
      "cell_type": "code",
      "execution_count": null,
      "id": "c00c8e88",
      "metadata": {
        "id": "c00c8e88",
        "outputId": "1c592cc6-c18e-4a92-d0b4-e12ef6236464"
      },
      "outputs": [
        {
          "data": {
            "text/plain": [
              "10.6"
            ]
          },
          "execution_count": 11,
          "metadata": {},
          "output_type": "execute_result"
        }
      ],
      "source": [
        "np.mean(a)"
      ]
    },
    {
      "cell_type": "code",
      "execution_count": null,
      "id": "be96399a",
      "metadata": {
        "id": "be96399a"
      },
      "outputs": [],
      "source": [
        "import statistics as stats"
      ]
    },
    {
      "cell_type": "code",
      "execution_count": null,
      "id": "3c9f29c0",
      "metadata": {
        "id": "3c9f29c0",
        "outputId": "7660daac-00ba-4701-d8f8-a28ec4341688"
      },
      "outputs": [
        {
          "data": {
            "text/plain": [
              "1"
            ]
          },
          "execution_count": 17,
          "metadata": {},
          "output_type": "execute_result"
        }
      ],
      "source": [
        "a=[1,2,3,4,1,1,4]\n",
        "stats.mode(a)"
      ]
    },
    {
      "cell_type": "code",
      "execution_count": null,
      "id": "a05be530",
      "metadata": {
        "id": "a05be530",
        "outputId": "410d792f-9392-4b14-c7ab-21e717e04378"
      },
      "outputs": [
        {
          "data": {
            "image/png": "[encoded data removed]",
            "text/plain": [
              "<Figure size 432x288 with 1 Axes>"
            ]
          },
          "metadata": {
            "needs_background": "light"
          },
          "output_type": "display_data"
        }
      ],
      "source": [
        "import matplotlib.pyplot as plt\n",
        "import numpy as np\n",
        "xpoints = np.array([0, 6])\n",
        "ypoints = np.array([0, 250])\n",
        "plt.plot(xpoints, ypoints)\n",
        "plt.show()\n"
      ]
    },
    {
      "cell_type": "code",
      "execution_count": null,
      "id": "f76fc563",
      "metadata": {
        "id": "f76fc563",
        "outputId": "d921a942-a518-4847-8add-989eccb839c4"
      },
      "outputs": [
        {
          "ename": "ModuleNotFoundError",
          "evalue": "No module named 'mysql'",
          "output_type": "error",
          "traceback": [
            "\u001b[1;31m---------------------------------------------------------------------------\u001b[0m",
            "\u001b[1;31mModuleNotFoundError\u001b[0m                       Traceback (most recent call last)",
            "Input \u001b[1;32mIn [19]\u001b[0m, in \u001b[0;36m<cell line: 1>\u001b[1;34m()\u001b[0m\n\u001b[1;32m----> 1\u001b[0m \u001b[38;5;28;01mimport\u001b[39;00m \u001b[38;5;21;01mmysql\u001b[39;00m\u001b[38;5;21;01m.\u001b[39;00m\u001b[38;5;21;01mconnector\u001b[39;00m\n\u001b[0;32m      3\u001b[0m mydb \u001b[38;5;241m=\u001b[39m mysql\u001b[38;5;241m.\u001b[39mconnector\u001b[38;5;241m.\u001b[39mconnect(\n\u001b[0;32m      4\u001b[0m   host\u001b[38;5;241m=\u001b[39m\u001b[38;5;124m\"\u001b[39m\u001b[38;5;124mlocalhost\u001b[39m\u001b[38;5;124m\"\u001b[39m,\n\u001b[0;32m      5\u001b[0m   user\u001b[38;5;241m=\u001b[39m\u001b[38;5;124m\"\u001b[39m\u001b[38;5;124mmyusername\u001b[39m\u001b[38;5;124m\"\u001b[39m,\n\u001b[0;32m      6\u001b[0m   password\u001b[38;5;241m=\u001b[39m\u001b[38;5;124m\"\u001b[39m\u001b[38;5;124mmypassword\u001b[39m\u001b[38;5;124m\"\u001b[39m,\n\u001b[0;32m      7\u001b[0m   database\u001b[38;5;241m=\u001b[39m\u001b[38;5;124m\"\u001b[39m\u001b[38;5;124mmydatabase\u001b[39m\u001b[38;5;124m\"\u001b[39m\n\u001b[0;32m      8\u001b[0m )\n\u001b[0;32m     10\u001b[0m mycursor \u001b[38;5;241m=\u001b[39m mydb\u001b[38;5;241m.\u001b[39mcursor()\n",
            "\u001b[1;31mModuleNotFoundError\u001b[0m: No module named 'mysql'"
          ]
        }
      ],
      "source": [
        "import mysql.connector\n",
        "\n",
        "mydb = mysql.connector.connect(\n",
        "  host=\"localhost\",\n",
        "  user=\"myusername\",\n",
        "  password=\"mypassword\",\n",
        "  database=\"mydatabase\"\n",
        ")\n",
        "\n",
        "mycursor = mydb.cursor()\n",
        "\n",
        "mycursor.execute(\"CREATE TABLE customers (name VARCHAR(255), address VARCHAR(255))\")\n",
        "\n"
      ]
    },
    {
      "cell_type": "code",
      "execution_count": null,
      "id": "2750783d",
      "metadata": {
        "id": "2750783d",
        "outputId": "fea69faf-a251-4d31-da49-1b1a962957f3"
      },
      "outputs": [
        {
          "ename": "ModuleNotFoundError",
          "evalue": "No module named 'mysql'",
          "output_type": "error",
          "traceback": [
            "\u001b[1;31m---------------------------------------------------------------------------\u001b[0m",
            "\u001b[1;31mModuleNotFoundError\u001b[0m                       Traceback (most recent call last)",
            "Input \u001b[1;32mIn [20]\u001b[0m, in \u001b[0;36m<cell line: 1>\u001b[1;34m()\u001b[0m\n\u001b[1;32m----> 1\u001b[0m \u001b[38;5;28;01mimport\u001b[39;00m \u001b[38;5;21;01mmysql\u001b[39;00m\u001b[38;5;21;01m.\u001b[39;00m\u001b[38;5;21;01mconnector\u001b[39;00m\n\u001b[0;32m      3\u001b[0m cnx \u001b[38;5;241m=\u001b[39m mysql\u001b[38;5;241m.\u001b[39mconnector\u001b[38;5;241m.\u001b[39mconnect(user\u001b[38;5;241m=\u001b[39m\u001b[38;5;124m'\u001b[39m\u001b[38;5;124mscott\u001b[39m\u001b[38;5;124m'\u001b[39m, password\u001b[38;5;241m=\u001b[39m\u001b[38;5;124m'\u001b[39m\u001b[38;5;124mpassword\u001b[39m\u001b[38;5;124m'\u001b[39m,\n\u001b[0;32m      4\u001b[0m                               host\u001b[38;5;241m=\u001b[39m\u001b[38;5;124m'\u001b[39m\u001b[38;5;124m127.0.0.1\u001b[39m\u001b[38;5;124m'\u001b[39m,\n\u001b[0;32m      5\u001b[0m                               database\u001b[38;5;241m=\u001b[39m\u001b[38;5;124m'\u001b[39m\u001b[38;5;124memployees\u001b[39m\u001b[38;5;124m'\u001b[39m,\n\u001b[0;32m      6\u001b[0m                               use_pure\u001b[38;5;241m=\u001b[39m\u001b[38;5;28;01mFalse\u001b[39;00m)\n\u001b[0;32m      7\u001b[0m cnx\u001b[38;5;241m.\u001b[39mclose()\n",
            "\u001b[1;31mModuleNotFoundError\u001b[0m: No module named 'mysql'"
          ]
        }
      ],
      "source": [
        "import mysql.connector\n",
        "\n",
        "cnx = mysql.connector.connect(user='scott', password='password',\n",
        "                              host='127.0.0.1',\n",
        "                              database='employees',\n",
        "                              use_pure=False)\n",
        "cnx.close()\n"
      ]
    },
    {
      "cell_type": "code",
      "execution_count": null,
      "id": "b4209cbd",
      "metadata": {
        "id": "b4209cbd"
      },
      "outputs": [],
      "source": []
    }
  ],
  "metadata": {
    "kernelspec": {
      "display_name": "Python 3 (ipykernel)",
      "language": "python",
      "name": "python3"
    },
    "language_info": {
      "codemirror_mode": {
        "name": "ipython",
        "version": 3
      },
      "file_extension": ".py",
      "mimetype": "text/x-python",
      "name": "python",
      "nbconvert_exporter": "python",
      "pygments_lexer": "ipython3",
      "version": "3.9.12"
    },
    "colab": {
      "provenance": []
    }
  },
  "nbformat": 4,
  "nbformat_minor": 5
}