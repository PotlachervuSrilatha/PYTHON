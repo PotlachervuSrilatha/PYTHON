{
  "cells": [
    {
      "cell_type": "markdown",
      "metadata": {
        "id": "2Um2QN3LqDab"
      },
      "source": [
        "# Numpy Library - For Numeric Calculations"
      ]
    },
    {
      "cell_type": "code",
      "execution_count": null,
      "metadata": {
        "id": "XbNfZrcUqDad"
      },
      "outputs": [],
      "source": [
        "#If numpy is not installed on your system, then use the code below to install it\n",
        "#pip install numpy"
      ]
    },
    {
      "cell_type": "code",
      "execution_count": null,
      "metadata": {
        "id": "42clZUk6qDae"
      },
      "outputs": [],
      "source": [
        "import warnings\n",
        "warnings.filterwarnings('ignore')"
      ]
    },
    {
      "cell_type": "code",
      "execution_count": null,
      "metadata": {
        "id": "DD6IW6-8qDaf"
      },
      "outputs": [],
      "source": [
        "import numpy as np\n",
        "#np.array\n",
        "#from numpy import array"
      ]
    },
    {
      "cell_type": "code",
      "execution_count": null,
      "metadata": {
        "id": "sRcZgVE7qDaf",
        "colab": {
          "base_uri": "https://localhost:8080/"
        },
        "outputId": "34fa665b-15c5-49a6-8905-14a4c1441086"
      },
      "outputs": [
        {
          "output_type": "execute_result",
          "data": {
            "text/plain": [
              "array([4, 7, 8, 5, 4, 5, 5, 9])"
            ]
          },
          "metadata": {},
          "execution_count": 7
        }
      ],
      "source": [
        "#1 Dimensional Array\n",
        "a=np.array([4,7,8,5,4,5,5,9])\n",
        "a"
      ]
    },
    {
      "cell_type": "code",
      "execution_count": null,
      "metadata": {
        "colab": {
          "base_uri": "https://localhost:8080/"
        },
        "id": "To5ngXhhqDaf",
        "outputId": "993964bd-cc7e-467f-8c6a-8de57b2a3b91"
      },
      "outputs": [
        {
          "output_type": "execute_result",
          "data": {
            "text/plain": [
              "numpy.ndarray"
            ]
          },
          "metadata": {},
          "execution_count": 8
        }
      ],
      "source": [
        "#It is an ndarray, i.e. n-dimensional array\n",
        "type(a)"
      ]
    },
    {
      "cell_type": "code",
      "execution_count": null,
      "metadata": {
        "colab": {
          "base_uri": "https://localhost:8080/"
        },
        "id": "AuRFJrm8qDag",
        "outputId": "b1b93bff-652b-4791-d5c8-51eeaa27b791"
      },
      "outputs": [
        {
          "output_type": "execute_result",
          "data": {
            "text/plain": [
              "(8,)"
            ]
          },
          "metadata": {},
          "execution_count": 9
        }
      ],
      "source": [
        "a.shape"
      ]
    },
    {
      "cell_type": "code",
      "execution_count": null,
      "metadata": {
        "colab": {
          "base_uri": "https://localhost:8080/"
        },
        "id": "CnLim98cqDag",
        "outputId": "4a5ea958-f665-4a9d-8b9e-03e3f90d4888"
      },
      "outputs": [
        {
          "output_type": "execute_result",
          "data": {
            "text/plain": [
              "array([[5, 2],\n",
              "       [3, 7],\n",
              "       [9, 6]])"
            ]
          },
          "metadata": {},
          "execution_count": 10
        }
      ],
      "source": [
        "#2 Dimensional Array\n",
        "a=np.array([[5,2],[3,7],[9,6]])\n",
        "a"
      ]
    },
    {
      "cell_type": "code",
      "source": [
        "#Last value in this tuple is always number of columns\n",
        "#Last but second value in this tuple is always number of rows\n",
        "a.shape\n",
        "#In this case there are 3 rows and 2 columns"
      ],
      "metadata": {
        "colab": {
          "base_uri": "https://localhost:8080/"
        },
        "id": "03Q6P5YKcgHc",
        "outputId": "76b8fe5a-81bd-4a46-9ad5-92f8f8f85c31"
      },
      "execution_count": null,
      "outputs": [
        {
          "output_type": "execute_result",
          "data": {
            "text/plain": [
              "(3, 2)"
            ]
          },
          "metadata": {},
          "execution_count": 11
        }
      ]
    },
    {
      "cell_type": "code",
      "execution_count": null,
      "metadata": {
        "colab": {
          "base_uri": "https://localhost:8080/"
        },
        "id": "M5lhmAqZqDag",
        "outputId": "34d0ae42-b2dc-4da9-86dc-80b3acbc39b1"
      },
      "outputs": [
        {
          "output_type": "execute_result",
          "data": {
            "text/plain": [
              "array([[[1, 2],\n",
              "        [3, 2],\n",
              "        [5, 6]],\n",
              "\n",
              "       [[5, 2],\n",
              "        [3, 4],\n",
              "        [5, 3]],\n",
              "\n",
              "       [[8, 2],\n",
              "        [7, 4],\n",
              "        [5, 4]],\n",
              "\n",
              "       [[1, 4],\n",
              "        [5, 4],\n",
              "        [7, 6]]])"
            ]
          },
          "metadata": {},
          "execution_count": 12
        }
      ],
      "source": [
        "#3 Dimensional Array\n",
        "a=np.array([[[1,2],[3,2],[5,6]],\n",
        "           [[5,2],[3,4],[5,3]],\n",
        "           [[8,2],[7,4],[5,4]],\n",
        "           [[1,4],[5,4],[7,6]]])\n",
        "a"
      ]
    },
    {
      "cell_type": "code",
      "execution_count": null,
      "metadata": {
        "colab": {
          "base_uri": "https://localhost:8080/"
        },
        "id": "OV-BFctuqDah",
        "outputId": "45de5a6a-b1f4-4c09-d194-3daa6e5ef7fb"
      },
      "outputs": [
        {
          "output_type": "execute_result",
          "data": {
            "text/plain": [
              "(4, 3, 2)"
            ]
          },
          "metadata": {},
          "execution_count": 13
        }
      ],
      "source": [
        "a.shape"
      ]
    },
    {
      "cell_type": "code",
      "execution_count": null,
      "metadata": {
        "id": "AazsVeGCqDah"
      },
      "outputs": [],
      "source": [
        "#3 Dimensional Array\n",
        "a=np.array([[[1,2,3,4],[4,5,6,7],[7,8,19,10]],\n",
        "            [[1,2,8,4],[4,5,6,7],[7,7,9,10]],\n",
        "            [[1,2,3,4],[4,6,9,7],[7,8,9,10]],\n",
        "            [[1,3,3,4],[4,5,6,7],[7,8,11,10]],\n",
        "            [[5,2,3,4],[4,11,6,8],[7,13,4,12]]])\n",
        "a"
      ]
    },
    {
      "cell_type": "code",
      "source": [
        "a.shape"
      ],
      "metadata": {
        "id": "NT5wf89gtcy7"
      },
      "execution_count": null,
      "outputs": []
    },
    {
      "cell_type": "code",
      "execution_count": null,
      "metadata": {
        "id": "WrKjNElhqDah"
      },
      "outputs": [],
      "source": [
        "a[4,1,1]"
      ]
    },
    {
      "cell_type": "code",
      "execution_count": null,
      "metadata": {
        "id": "3Y2gTZRLqDai"
      },
      "outputs": [],
      "source": [
        "#2 Dimensional Array with unequal sub-arrays\n",
        "a=np.array([[1,2],[3,4,6],[5,6]])\n",
        "a"
      ]
    },
    {
      "cell_type": "code",
      "execution_count": null,
      "metadata": {
        "id": "RqzOf0KpqDai"
      },
      "outputs": [],
      "source": [
        "a.shape"
      ]
    },
    {
      "cell_type": "code",
      "execution_count": null,
      "metadata": {
        "id": "pR2s8D4MqDaj"
      },
      "outputs": [],
      "source": [
        "c=np.array([[[1,2,3,4],[5,6,7,8],[9,10,11,12]],\n",
        "            [[13,12,13,14],[15,16,17,18],[19,10,11,12]],\n",
        "            [[11,12,13,14],[15,16,17,18],[19,10,11,12]]])\n",
        "c"
      ]
    },
    {
      "cell_type": "code",
      "source": [
        "#4 Dimensional Array\n",
        "a=np.array([[[[1,2,3,4],[4,5,6,7],[7,8,9,10]],\n",
        "             [[1,2,3,4],[4,5,6,7],[7,8,9,10]]],\n",
        "            [[[1,2,8,4],[4,5,6,7],[7,8,6,10]],\n",
        "             [[1,2,8,4],[4,5,6,7],[7,8,9,10]]],\n",
        "            [[[1,2,3,4],[4,6,9,7],[7,8,9,10]],\n",
        "             [[1,2,12,4],[4,6,9,7],[7,8,19,10]]],\n",
        "            [[[1,3,3,4],[4,5,6,7],[7,8,11,10]],\n",
        "             [[1,3,3,4],[4,5,6,7],[7,8,9,10]]],\n",
        "            [[[5,2,3,4],[4,11,6,7],[7,8,4,10]],\n",
        "             [[5,2,3,4],[4,11,6,7],[7,18,4,10]]]])\n",
        "a"
      ],
      "metadata": {
        "id": "pxNGWBrzeL4t",
        "colab": {
          "base_uri": "https://localhost:8080/"
        },
        "outputId": "b5009ac7-c118-4db9-80e3-67426c046150"
      },
      "execution_count": null,
      "outputs": [
        {
          "output_type": "execute_result",
          "data": {
            "text/plain": [
              "array([[[[ 1,  2,  3,  4],\n",
              "         [ 4,  5,  6,  7],\n",
              "         [ 7,  8,  9, 10]],\n",
              "\n",
              "        [[ 1,  2,  3,  4],\n",
              "         [ 4,  5,  6,  7],\n",
              "         [ 7,  8,  9, 10]]],\n",
              "\n",
              "\n",
              "       [[[ 1,  2,  8,  4],\n",
              "         [ 4,  5,  6,  7],\n",
              "         [ 7,  8,  6, 10]],\n",
              "\n",
              "        [[ 1,  2,  8,  4],\n",
              "         [ 4,  5,  6,  7],\n",
              "         [ 7,  8,  9, 10]]],\n",
              "\n",
              "\n",
              "       [[[ 1,  2,  3,  4],\n",
              "         [ 4,  6,  9,  7],\n",
              "         [ 7,  8,  9, 10]],\n",
              "\n",
              "        [[ 1,  2, 12,  4],\n",
              "         [ 4,  6,  9,  7],\n",
              "         [ 7,  8, 19, 10]]],\n",
              "\n",
              "\n",
              "       [[[ 1,  3,  3,  4],\n",
              "         [ 4,  5,  6,  7],\n",
              "         [ 7,  8, 11, 10]],\n",
              "\n",
              "        [[ 1,  3,  3,  4],\n",
              "         [ 4,  5,  6,  7],\n",
              "         [ 7,  8,  9, 10]]],\n",
              "\n",
              "\n",
              "       [[[ 5,  2,  3,  4],\n",
              "         [ 4, 11,  6,  7],\n",
              "         [ 7,  8,  4, 10]],\n",
              "\n",
              "        [[ 5,  2,  3,  4],\n",
              "         [ 4, 11,  6,  7],\n",
              "         [ 7, 18,  4, 10]]]])"
            ]
          },
          "metadata": {},
          "execution_count": 14
        }
      ]
    },
    {
      "cell_type": "code",
      "source": [
        "a.shape"
      ],
      "metadata": {
        "id": "K5LoLZrKe088",
        "colab": {
          "base_uri": "https://localhost:8080/"
        },
        "outputId": "a9b0eaac-20fb-4cb0-b732-b1ab4ce5786c"
      },
      "execution_count": null,
      "outputs": [
        {
          "output_type": "execute_result",
          "data": {
            "text/plain": [
              "(5, 2, 3, 4)"
            ]
          },
          "metadata": {},
          "execution_count": 15
        }
      ]
    },
    {
      "cell_type": "code",
      "source": [
        "#5-dimensional\n",
        "a=np.array([[[[[1,2],[3,4],[1,2],[3,4]],[[1,2],[3,4],[1,2],[3,4]]],\n",
        "             [[[1,2],[3,4],[1,2],[3,4]],[[1,2],[3,4],[1,2],[3,4]]],\n",
        "             [[[1,2],[3,4],[1,2],[3,4]],[[1,2],[3,4],[1,2],[3,4]]]],\n",
        "            [[[[1,2],[3,4],[1,2],[3,4]],[[1,2],[3,4],[1,2],[3,4]]],\n",
        "             [[[1,2],[3,4],[1,2],[3,4]],[[1,2],[3,4],[1,2],[3,4]]],\n",
        "             [[[1,2],[3,4],[1,2],[8,4]],[[1,2],[3,1],[1,2],[3,4]]]],\n",
        "            [[[[1,2],[3,4],[1,2],[3,4]],[[1,2],[3,4],[4,2],[3,4]]],\n",
        "             [[[1,2],[3,4],[1,5],[3,4]],[[1,2],[3,4],[1,2],[7,4]]],\n",
        "             [[[1,2],[3,4],[1,2],[3,4]],[[1,2],[3,4],[1,4],[3,4]]]]])\n",
        "a"
      ],
      "metadata": {
        "id": "b9_iavkOODSl"
      },
      "execution_count": null,
      "outputs": []
    },
    {
      "cell_type": "code",
      "source": [
        "a.shape"
      ],
      "metadata": {
        "id": "SX6cjawdPFAl"
      },
      "execution_count": null,
      "outputs": []
    },
    {
      "cell_type": "code",
      "execution_count": null,
      "metadata": {
        "scrolled": true,
        "id": "XyL1iwb9qDaj",
        "colab": {
          "base_uri": "https://localhost:8080/"
        },
        "outputId": "4670613d-cddc-4e16-be2c-b6a252299e4c"
      },
      "outputs": [
        {
          "output_type": "execute_result",
          "data": {
            "text/plain": [
              "array([[ 1,  2,  8,  6],\n",
              "       [ 9, 10,  3,  4],\n",
              "       [ 5,  6,  6,  2]])"
            ]
          },
          "metadata": {},
          "execution_count": 16
        }
      ],
      "source": [
        "a=np.array([[1,2,8,6],[9,10,3,4],[5,6,6,2]])\n",
        "a"
      ]
    },
    {
      "cell_type": "code",
      "execution_count": null,
      "metadata": {
        "id": "qm66t-fAqDaj",
        "colab": {
          "base_uri": "https://localhost:8080/"
        },
        "outputId": "e229e0a5-8899-4845-d694-9daf2da8a7d7"
      },
      "outputs": [
        {
          "output_type": "execute_result",
          "data": {
            "text/plain": [
              "(3, 4)"
            ]
          },
          "metadata": {},
          "execution_count": 17
        }
      ],
      "source": [
        "#The array 'a' has 3 rows & 4 columns\n",
        "a.shape"
      ]
    },
    {
      "cell_type": "code",
      "execution_count": null,
      "metadata": {
        "id": "vYO5pRRCqDaj",
        "colab": {
          "base_uri": "https://localhost:8080/"
        },
        "outputId": "3f126b85-abb2-4526-f02f-3d9c68b9c3ee"
      },
      "outputs": [
        {
          "output_type": "execute_result",
          "data": {
            "text/plain": [
              "3"
            ]
          },
          "metadata": {},
          "execution_count": 18
        }
      ],
      "source": [
        "#Please remember Python indexation starts from 0\n",
        "#We are accessing the element at row index 1 and column index 2\n",
        "a[1,2]"
      ]
    },
    {
      "cell_type": "code",
      "execution_count": null,
      "metadata": {
        "id": "2E1TdAmYqDak",
        "colab": {
          "base_uri": "https://localhost:8080/"
        },
        "outputId": "ed81e1b7-61fe-486a-f862-4a3ac5ea18f0"
      },
      "outputs": [
        {
          "output_type": "execute_result",
          "data": {
            "text/plain": [
              "2"
            ]
          },
          "metadata": {},
          "execution_count": 19
        }
      ],
      "source": [
        "#To access element at row 2 & column 3\n",
        "a[2,3]"
      ]
    },
    {
      "cell_type": "code",
      "execution_count": null,
      "metadata": {
        "id": "XL1W3rkoqDak"
      },
      "outputs": [],
      "source": [
        "a=np.array([[1,2,3,4,5],[6,7,8,9,10],[11,12,13,14,15],[16,17,18,19,20],\n",
        "            [21,22,23,24,25]])\n",
        "a"
      ]
    },
    {
      "cell_type": "code",
      "source": [
        "a=np.arange(30)\n",
        "a"
      ],
      "metadata": {
        "id": "SEnhggOevxEk",
        "colab": {
          "base_uri": "https://localhost:8080/"
        },
        "outputId": "bdaf2725-9339-49e1-a963-64a79cf68f97"
      },
      "execution_count": null,
      "outputs": [
        {
          "output_type": "execute_result",
          "data": {
            "text/plain": [
              "array([ 0,  1,  2,  3,  4,  5,  6,  7,  8,  9, 10, 11, 12, 13, 14, 15, 16,\n",
              "       17, 18, 19, 20, 21, 22, 23, 24, 25, 26, 27, 28, 29])"
            ]
          },
          "metadata": {},
          "execution_count": 20
        }
      ]
    },
    {
      "cell_type": "code",
      "execution_count": null,
      "metadata": {
        "id": "mRtyk-OsqDak",
        "colab": {
          "base_uri": "https://localhost:8080/"
        },
        "outputId": "c546f276-3b94-4d11-e20c-3093553cf87d"
      },
      "outputs": [
        {
          "output_type": "execute_result",
          "data": {
            "text/plain": [
              "array([ 1,  2,  3,  4,  5,  6,  7,  8,  9, 10, 11, 12, 13, 14, 15, 16, 17,\n",
              "       18, 19, 20, 21, 22, 23, 24, 25])"
            ]
          },
          "metadata": {},
          "execution_count": 21
        }
      ],
      "source": [
        "a=np.arange(1,26)\n",
        "a"
      ]
    },
    {
      "cell_type": "code",
      "source": [
        "a=np.arange(1,60,3)\n",
        "a"
      ],
      "metadata": {
        "id": "_HARDyopv-bo",
        "colab": {
          "base_uri": "https://localhost:8080/"
        },
        "outputId": "ac723b3b-57d3-4d70-dec4-b2580c482153"
      },
      "execution_count": null,
      "outputs": [
        {
          "output_type": "execute_result",
          "data": {
            "text/plain": [
              "array([ 1,  4,  7, 10, 13, 16, 19, 22, 25, 28, 31, 34, 37, 40, 43, 46, 49,\n",
              "       52, 55, 58])"
            ]
          },
          "metadata": {},
          "execution_count": 22
        }
      ]
    },
    {
      "cell_type": "code",
      "source": [
        "a=np.array([np.arange(1,6),np.arange(6,11),np.arange(11,16),np.arange(16,21),\n",
        "            np.arange(21,26)])\n",
        "a"
      ],
      "metadata": {
        "colab": {
          "base_uri": "https://localhost:8080/"
        },
        "id": "XrUAgKOGq_0D",
        "outputId": "df4a8508-02c9-472b-95d4-83a086555a68"
      },
      "execution_count": null,
      "outputs": [
        {
          "output_type": "execute_result",
          "data": {
            "text/plain": [
              "array([[ 1,  2,  3,  4,  5],\n",
              "       [ 6,  7,  8,  9, 10],\n",
              "       [11, 12, 13, 14, 15],\n",
              "       [16, 17, 18, 19, 20],\n",
              "       [21, 22, 23, 24, 25]])"
            ]
          },
          "metadata": {},
          "execution_count": 23
        }
      ]
    },
    {
      "cell_type": "code",
      "execution_count": null,
      "metadata": {
        "id": "x6-ikfbDqDak",
        "colab": {
          "base_uri": "https://localhost:8080/",
          "height": 187
        },
        "outputId": "391256f4-e284-4b44-e6df-ce8d798d5abd"
      },
      "outputs": [
        {
          "output_type": "error",
          "ename": "ValueError",
          "evalue": "ignored",
          "traceback": [
            "\u001b[0;31m---------------------------------------------------------------------------\u001b[0m",
            "\u001b[0;31mValueError\u001b[0m                                Traceback (most recent call last)",
            "\u001b[0;32m<ipython-input-24-2a89c59e8d55>\u001b[0m in \u001b[0;36m<cell line: 1>\u001b[0;34m()\u001b[0m\n\u001b[0;32m----> 1\u001b[0;31m \u001b[0ma\u001b[0m\u001b[0;34m=\u001b[0m\u001b[0mnp\u001b[0m\u001b[0;34m.\u001b[0m\u001b[0marange\u001b[0m\u001b[0;34m(\u001b[0m\u001b[0;36m1\u001b[0m\u001b[0;34m,\u001b[0m\u001b[0;36m27\u001b[0m\u001b[0;34m)\u001b[0m\u001b[0;34m.\u001b[0m\u001b[0mreshape\u001b[0m\u001b[0;34m(\u001b[0m\u001b[0;36m5\u001b[0m\u001b[0;34m,\u001b[0m\u001b[0;36m5\u001b[0m\u001b[0;34m)\u001b[0m\u001b[0;34m\u001b[0m\u001b[0;34m\u001b[0m\u001b[0m\n\u001b[0m\u001b[1;32m      2\u001b[0m \u001b[0ma\u001b[0m\u001b[0;34m\u001b[0m\u001b[0;34m\u001b[0m\u001b[0m\n",
            "\u001b[0;31mValueError\u001b[0m: cannot reshape array of size 26 into shape (5,5)"
          ]
        }
      ],
      "source": [
        "a=np.arange(1,27).reshape(5,5)\n",
        "a"
      ]
    },
    {
      "cell_type": "code",
      "execution_count": null,
      "metadata": {
        "id": "tX9pmRquqDak",
        "colab": {
          "base_uri": "https://localhost:8080/"
        },
        "outputId": "7f756d16-fc95-4e38-e0fd-294ae8d5e986"
      },
      "outputs": [
        {
          "output_type": "execute_result",
          "data": {
            "text/plain": [
              "array([[ 1,  2,  3,  4,  5],\n",
              "       [ 6,  7,  8,  9, 10],\n",
              "       [11, 12, 13, 14, 15],\n",
              "       [16, 17, 18, 19, 20],\n",
              "       [21, 22, 23, 24, 25]])"
            ]
          },
          "metadata": {},
          "execution_count": 25
        }
      ],
      "source": [
        "a=np.arange(1,26).reshape(5,5)\n",
        "a"
      ]
    },
    {
      "cell_type": "code",
      "execution_count": null,
      "metadata": {
        "id": "V9EDbUnAqDal"
      },
      "outputs": [],
      "source": [
        "#3-D Array\n",
        "a=np.array([[[1,2],[3,4]],[[5,6],[7,8]],[[9,10],[11,12]]])\n",
        "a"
      ]
    },
    {
      "cell_type": "code",
      "execution_count": null,
      "metadata": {
        "scrolled": true,
        "id": "i7mepD66qDal"
      },
      "outputs": [],
      "source": [
        "a=np.arange(5)\n",
        "a"
      ]
    },
    {
      "cell_type": "code",
      "execution_count": null,
      "metadata": {
        "id": "mytFm1HnqDal"
      },
      "outputs": [],
      "source": [
        "a=np.arange(8)\n",
        "a"
      ]
    },
    {
      "cell_type": "code",
      "execution_count": null,
      "metadata": {
        "id": "cHpPfq33qDal"
      },
      "outputs": [],
      "source": [
        "#5,6,7,8,9,10,11\n",
        "a=np.arange(5,12)\n",
        "a"
      ]
    },
    {
      "cell_type": "code",
      "execution_count": null,
      "metadata": {
        "id": "nurPyK0QqDal"
      },
      "outputs": [],
      "source": [
        "a=np.arange(3,50,5)\n",
        "a"
      ]
    },
    {
      "cell_type": "code",
      "execution_count": null,
      "metadata": {
        "id": "PMc3BrR0qDal"
      },
      "outputs": [],
      "source": [
        "#-1,0,1\n",
        "a=np.arange(-1,1,9)\n",
        "a"
      ]
    },
    {
      "cell_type": "code",
      "execution_count": null,
      "metadata": {
        "id": "FIheVLwUqDam"
      },
      "outputs": [],
      "source": [
        "#19,18,17,16,15,14,13,12,11,10,9,8,7,6,5,4,3,2,1\n",
        "a=np.arange(16,2,2)\n",
        "a"
      ]
    },
    {
      "cell_type": "code",
      "execution_count": null,
      "metadata": {
        "id": "ryM4sUbSqDam"
      },
      "outputs": [],
      "source": [
        "#16,15,14....6,5,4,3,2,1\n",
        "a=np.arange(16,2,-2)\n",
        "a"
      ]
    },
    {
      "cell_type": "code",
      "execution_count": null,
      "metadata": {
        "id": "nBaOhZaLqDam"
      },
      "outputs": [],
      "source": [
        "# 1,2,3,4,5,6,7,8,9,10,11,12,13,14,15,16,17\n",
        "a=np.arange(2,16,2)\n",
        "a"
      ]
    },
    {
      "cell_type": "code",
      "execution_count": null,
      "metadata": {
        "id": "pUuxezWoqDam"
      },
      "outputs": [],
      "source": [
        "#16,15,14....6,5,4,3,2,1,0,-1,-2,-3\n",
        "np.arange(16,1,-2)"
      ]
    },
    {
      "cell_type": "code",
      "execution_count": null,
      "metadata": {
        "id": "natrDLpoqDam"
      },
      "outputs": [],
      "source": [
        "np.arange(16,0,-1)"
      ]
    },
    {
      "cell_type": "code",
      "execution_count": null,
      "metadata": {
        "id": "s488B-IpqDam"
      },
      "outputs": [],
      "source": [
        "np.arange(16,-1,-1)"
      ]
    },
    {
      "cell_type": "code",
      "source": [
        "np.arange(16,-5,-1)"
      ],
      "metadata": {
        "id": "SlcN9Zt51Vud"
      },
      "execution_count": null,
      "outputs": []
    },
    {
      "cell_type": "code",
      "execution_count": null,
      "metadata": {
        "id": "cSCVABPCqDam"
      },
      "outputs": [],
      "source": [
        "#16,15,14,13,12...6,5,4,3,2,1\n",
        "a=np.arange(16,12,-2)\n",
        "a"
      ]
    },
    {
      "cell_type": "code",
      "execution_count": null,
      "metadata": {
        "id": "b3VP8RzxqDan"
      },
      "outputs": [],
      "source": [
        "a=np.arange(1,21)\n",
        "print(a)\n",
        "a**3"
      ]
    },
    {
      "cell_type": "code",
      "source": [
        "a=np.arange(0,341,17)\n",
        "a"
      ],
      "metadata": {
        "id": "AOmArVEPuG9s"
      },
      "execution_count": null,
      "outputs": []
    },
    {
      "cell_type": "markdown",
      "metadata": {
        "id": "OlhoYiU2qDan"
      },
      "source": [
        "Create a dataframe using numpy array structure, with 3 columns,\n",
        "\n",
        "1st col- squares of 1st 10 natural numbers\n",
        "\n",
        "2nd col- cubes of 1st 10 natural numbers\n",
        "\n",
        "3rd col- mean of the 1st 2 columns"
      ]
    },
    {
      "cell_type": "code",
      "execution_count": null,
      "metadata": {
        "id": "ghQO0KbhqDan"
      },
      "outputs": [],
      "source": [
        "import pandas as pd\n",
        "natural_no=pd.DataFrame(columns=['col1','col2','col3'])\n",
        "natural_no\n",
        "col1= np.arange(1,11)\n",
        "a=col1**2\n",
        "print(a)\n",
        "col2=np.arange(1,11)\n",
        "b=col2**3\n",
        "print(b)\n",
        "col3=(a+b)/2\n",
        "col3\n",
        "natural_no['col1']=pd.Series(a)\n",
        "natural_no['col2']=pd.Series(b)\n",
        "natural_no['col3']=pd.Series(col3)\n",
        "natural_no"
      ]
    },
    {
      "cell_type": "code",
      "execution_count": null,
      "metadata": {
        "id": "zlFckPotqDan"
      },
      "outputs": [],
      "source": [
        "import pandas as pd\n",
        "natural_no=pd.DataFrame(columns=['col1','col2','col3'])\n",
        "natural_no['col1']=pd.Series((np.arange(1,11))**2)\n",
        "natural_no['col2']=pd.Series(np.arange(1,11)**3)\n",
        "natural_no['col3']=natural_no.iloc[:,[0,1]].mean(axis=1)\n",
        "natural_no"
      ]
    },
    {
      "cell_type": "code",
      "execution_count": null,
      "metadata": {
        "id": "xGXmjI5AqDan"
      },
      "outputs": [],
      "source": [
        "import pandas as pd\n",
        "a1=pd.DataFrame(columns=['a','b','c'])\n",
        "a1['a']=pd.Series((np.arange(1,11)**2))\n",
        "a1['b']=pd.Series((np.arange(1,11)**3))\n",
        "a1['c']=a1.iloc[:,[0,1]].mean(axis=1)\n",
        "a1"
      ]
    },
    {
      "cell_type": "code",
      "execution_count": null,
      "metadata": {
        "id": "sBmQiJH_qDan"
      },
      "outputs": [],
      "source": [
        "d1= [1,2,3,4,5,6,7,8,9,10]\n",
        "a=[number**2 for number in d1]\n",
        "b=[number**3 for number in d1]\n",
        "c=np.mean(a and b)\n",
        "d=np.array([[a],[b],[c]])\n",
        "d"
      ]
    },
    {
      "cell_type": "code",
      "execution_count": null,
      "metadata": {
        "id": "qcvUyhreqDan"
      },
      "outputs": [],
      "source": [
        "a=np.square(np.arange(1,11))\n",
        "a"
      ]
    },
    {
      "cell_type": "code",
      "execution_count": null,
      "metadata": {
        "id": "ItManu6BqDan"
      },
      "outputs": [],
      "source": [
        "a1=np.arange(1,11)\n",
        "a1=a1*a1\n",
        "a2=np.arange(1,11)\n",
        "a2=a2**3\n",
        "a3=(a1+a2)/2\n",
        "a3\n",
        "import pandas as pd\n",
        "df=pd.DataFrame(columns=['a1','a2','a3'])\n",
        "df['a1']=pd.Series(a1)\n",
        "df['a2']=pd.Series(a2)\n",
        "df['a3']=pd.Series(a3)\n",
        "df"
      ]
    },
    {
      "cell_type": "code",
      "execution_count": null,
      "metadata": {
        "id": "lbk7sFs3qDan"
      },
      "outputs": [],
      "source": [
        "import pandas as pd\n",
        "df=pd.DataFrame(columns=['Squares', 'Cubes', 'Mean'])\n",
        "df['Squares']=pd.Series(np.arange(1,11)**2)\n",
        "df['Cubes']=pd.Series(np.arange(1,11)**3)\n",
        "df['Mean']=pd.Series(((np.arange(1,11)**2)+(np.arange(1,11)**3))/2)\n",
        "df\n"
      ]
    },
    {
      "cell_type": "code",
      "execution_count": null,
      "metadata": {
        "id": "kQvUGaD3qDan"
      },
      "outputs": [],
      "source": [
        "import pandas as pd\n",
        "a=np.arange(1,11)\n",
        "print(a)\n",
        "b=[]\n",
        "for i in a:\n",
        "    b.append(i*i)\n",
        "print(b)\n",
        "x=pd.Series(b)\n",
        "x"
      ]
    },
    {
      "cell_type": "code",
      "execution_count": null,
      "metadata": {
        "id": "hVsmtLjJqDao"
      },
      "outputs": [],
      "source": [
        "a=np.arange(1,11)\n",
        "b=[]\n",
        "for i in a:\n",
        "    b.append(i*i*i)\n",
        "y=pd.Series(b)\n",
        "y"
      ]
    },
    {
      "cell_type": "code",
      "execution_count": null,
      "metadata": {
        "id": "iuv9NdA4qDao"
      },
      "outputs": [],
      "source": [
        "z=(x+y)/2\n",
        "z"
      ]
    },
    {
      "cell_type": "code",
      "execution_count": null,
      "metadata": {
        "id": "Cj6QY-ksqDao"
      },
      "outputs": [],
      "source": [
        "frame={'x':x, 'y':y, \"z\":z }\n",
        "result=pd.DataFrame(frame)\n",
        "result"
      ]
    },
    {
      "cell_type": "code",
      "execution_count": null,
      "metadata": {
        "id": "QrULPxUbqDao"
      },
      "outputs": [],
      "source": [
        "a=([[0,11]])\n",
        "for a in range(1,11):\n",
        "    print(a*a*a, end= \",\")"
      ]
    },
    {
      "cell_type": "code",
      "execution_count": null,
      "metadata": {
        "id": "8adRHCslqDao"
      },
      "outputs": [],
      "source": [
        "a = np.arange(0,11)\n",
        "a*a*a"
      ]
    },
    {
      "cell_type": "code",
      "execution_count": null,
      "metadata": {
        "id": "1MeRq1y-qDao",
        "colab": {
          "base_uri": "https://localhost:8080/"
        },
        "outputId": "cb79b416-6b11-4626-d4ba-869e19e069f6"
      },
      "outputs": [
        {
          "output_type": "execute_result",
          "data": {
            "text/plain": [
              "array([ 2. ,  4.8,  7.6, 10.4, 13.2, 16. ])"
            ]
          },
          "metadata": {},
          "execution_count": 3
        }
      ],
      "source": [
        "#linspace - creates equal intervals between a defined range\n",
        "a=np.linspace(2,16,6)\n",
        "a\n",
        "#2 , , , , , 16"
      ]
    },
    {
      "cell_type": "code",
      "source": [
        "for i in range(len(a)-1):   #i=0,1,2,3,4\n",
        "  d=a[i+1] - a[i]\n",
        "  print(d)"
      ],
      "metadata": {
        "id": "6yuDUvem0z-B",
        "colab": {
          "base_uri": "https://localhost:8080/"
        },
        "outputId": "bc9c9824-2f0e-46af-d228-ac3c5179bb4e"
      },
      "execution_count": null,
      "outputs": [
        {
          "output_type": "stream",
          "name": "stdout",
          "text": [
            "2.8\n",
            "2.8\n",
            "2.799999999999999\n",
            "2.8000000000000007\n",
            "2.8000000000000007\n"
          ]
        }
      ]
    },
    {
      "cell_type": "code",
      "source": [
        "a=np.linspace(5,60,15)\n",
        "a"
      ],
      "metadata": {
        "id": "WeZD-v0NuFBO",
        "colab": {
          "base_uri": "https://localhost:8080/"
        },
        "outputId": "8d42dea2-72ff-4b2b-9d9a-b14ae2b075b4"
      },
      "execution_count": null,
      "outputs": [
        {
          "output_type": "execute_result",
          "data": {
            "text/plain": [
              "array([ 5.        ,  8.92857143, 12.85714286, 16.78571429, 20.71428571,\n",
              "       24.64285714, 28.57142857, 32.5       , 36.42857143, 40.35714286,\n",
              "       44.28571429, 48.21428571, 52.14285714, 56.07142857, 60.        ])"
            ]
          },
          "metadata": {},
          "execution_count": 5
        }
      ]
    },
    {
      "cell_type": "code",
      "source": [
        "len(a)"
      ],
      "metadata": {
        "colab": {
          "base_uri": "https://localhost:8080/"
        },
        "id": "bWq8larwWY90",
        "outputId": "07ed8e80-70db-4c15-d551-200b874d5cee"
      },
      "execution_count": null,
      "outputs": [
        {
          "output_type": "execute_result",
          "data": {
            "text/plain": [
              "15"
            ]
          },
          "metadata": {},
          "execution_count": 6
        }
      ]
    },
    {
      "cell_type": "code",
      "source": [
        "for i in range(len(a)-1):  #i=0,1,2,3....13\n",
        "  d=a[i+1] - a[i]\n",
        "  print(d)"
      ],
      "metadata": {
        "id": "u7Ych-8Tj_g2",
        "colab": {
          "base_uri": "https://localhost:8080/"
        },
        "outputId": "d8b4815e-673e-47cd-d25a-228bcd588f15"
      },
      "execution_count": null,
      "outputs": [
        {
          "output_type": "stream",
          "name": "stdout",
          "text": [
            "3.928571428571429\n",
            "3.928571428571429\n",
            "3.928571428571427\n",
            "3.9285714285714306\n",
            "3.928571428571427\n",
            "3.928571428571427\n",
            "3.9285714285714306\n",
            "3.9285714285714306\n",
            "3.9285714285714235\n",
            "3.9285714285714306\n",
            "3.9285714285714306\n",
            "3.9285714285714235\n",
            "3.9285714285714306\n",
            "3.9285714285714306\n"
          ]
        }
      ]
    },
    {
      "cell_type": "markdown",
      "source": [],
      "metadata": {
        "id": "8YwdTMv3ysjN"
      }
    },
    {
      "cell_type": "code",
      "source": [
        "# To find the difference between every consecutive element in an array.\n",
        "print('\"i\" will take all the possible values as shown in the list:',list(range(0,len(a)-1)))\n",
        "for i in range(len(a)-1):\n",
        "  d=a[i+1] - a[i]\n",
        "  print(d)"
      ],
      "metadata": {
        "id": "m5LJQ-M7uyc0"
      },
      "execution_count": null,
      "outputs": []
    },
    {
      "cell_type": "code",
      "execution_count": null,
      "metadata": {
        "scrolled": true,
        "id": "s8FkibnwqDao"
      },
      "outputs": [],
      "source": [
        "27**(1/3)"
      ]
    },
    {
      "cell_type": "code",
      "execution_count": null,
      "metadata": {
        "scrolled": true,
        "id": "Aq3JF_EIqDao"
      },
      "outputs": [],
      "source": [
        "print(\"4.8 - 2 is\", 4.8 - 2)\n",
        "print(\"7.6 - 4.8 is\", 7.6 - 4.8)\n",
        "print(\"10.4 - 7.6 is\", 10.4 - 7.6)\n",
        "print(\"13.2 - 10.4 is\", 13.2 - 10.4)\n",
        "print(\"16 - 13.2 is\", 16 - 13.2)"
      ]
    },
    {
      "cell_type": "code",
      "execution_count": null,
      "metadata": {
        "id": "hE-30FCnqDao"
      },
      "outputs": [],
      "source": [
        "a=np.linspace(2,20,9)\n",
        "print(a)\n",
        "j=0\n",
        "for i in a:\n",
        "    print((i-j)==(i+1)-(j+1))\n",
        "\n",
        "# (2 - 0) == (2 + 1) - (0 + 1)     2 == 3-1\n",
        "# (4.25 - 0) == (4.25 + 1) - (0 + 1) == 4.25"
      ]
    },
    {
      "cell_type": "code",
      "source": [
        "for i in range(10):\n",
        "    for j in range(10):\n",
        "      print(i,j)"
      ],
      "metadata": {
        "id": "SjG7gehjgezd"
      },
      "execution_count": null,
      "outputs": []
    },
    {
      "cell_type": "code",
      "execution_count": null,
      "metadata": {
        "id": "D1VhuT6BqDap"
      },
      "outputs": [],
      "source": [
        "arr=np.linspace(2,20,9)\n",
        "print(arr)\n",
        "for i in range(1,10):    #0,1,2,3,4,5,6,7,8,9\n",
        "    for j in range(8): #0,1,2,3,4,5,6,7,8,9\n",
        "        if i == j+1:\n",
        "          print(arr[j]-arr[i])"
      ]
    },
    {
      "cell_type": "code",
      "execution_count": null,
      "metadata": {
        "id": "lQ7vBGTUqDap"
      },
      "outputs": [],
      "source": [
        "a=np.linspace(2,20,9)\n",
        "print(a)\n",
        "for i in range(len(a)-1):   #0,1,2,3,4,5,6,7\n",
        "    print(a[i+1],'-',a[i],'=',a[i+1]-a[i])"
      ]
    },
    {
      "cell_type": "code",
      "execution_count": null,
      "metadata": {
        "id": "VrKb0WHwqDap"
      },
      "outputs": [],
      "source": [
        "a=np.linspace(2,20,9)\n",
        "a"
      ]
    },
    {
      "cell_type": "code",
      "execution_count": null,
      "metadata": {
        "id": "NkwoncRxqDap"
      },
      "outputs": [],
      "source": [
        "len(a)"
      ]
    },
    {
      "cell_type": "code",
      "execution_count": null,
      "metadata": {
        "id": "u3Vt0a6LqDap"
      },
      "outputs": [],
      "source": [
        "list(range(len(a)-1))"
      ]
    },
    {
      "cell_type": "code",
      "execution_count": null,
      "metadata": {
        "id": "x2tm8-q0qDap"
      },
      "outputs": [],
      "source": [
        "for i in (range(len(a) - 1)):\n",
        "    print(i)\n",
        "    print(a[i+1], \"-\" , a[i] , \"is\" , a[i+1] - a[i])"
      ]
    },
    {
      "cell_type": "code",
      "execution_count": null,
      "metadata": {
        "id": "NtOlp1_9qDap"
      },
      "outputs": [],
      "source": [
        "j = 0\n",
        "for item in a:\n",
        "    j = j+1\n",
        "    i = a[j]-item\n",
        "    print(i)"
      ]
    },
    {
      "cell_type": "code",
      "execution_count": null,
      "metadata": {
        "id": "uFvtfelxqDap"
      },
      "outputs": [],
      "source": [
        "np.linspace(2,16,3)"
      ]
    },
    {
      "cell_type": "code",
      "execution_count": null,
      "metadata": {
        "id": "8r_e82HIqDap"
      },
      "outputs": [],
      "source": [
        "a=np.linspace(2,20,9)\n",
        "a\n",
        "#2..........20"
      ]
    },
    {
      "cell_type": "code",
      "execution_count": null,
      "metadata": {
        "id": "ggn-qb04qDaq"
      },
      "outputs": [],
      "source": [
        "len(a)-1"
      ]
    },
    {
      "cell_type": "code",
      "execution_count": null,
      "metadata": {
        "id": "QXPn_1TqqDaq"
      },
      "outputs": [],
      "source": [
        "for i in range(len(a)-1):   #0,1,2,3,4,5,6,7\n",
        "    print(a[i+1]-a[i])      #i=2   i+1=3"
      ]
    },
    {
      "cell_type": "code",
      "execution_count": null,
      "metadata": {
        "id": "NwtNNv4wqDaq",
        "colab": {
          "base_uri": "https://localhost:8080/"
        },
        "outputId": "51e23453-e759-4121-9cc5-a9f4c4b18e9d"
      },
      "outputs": [
        {
          "output_type": "execute_result",
          "data": {
            "text/plain": [
              "array([0., 0., 0., 0., 0., 0., 0., 0.])"
            ]
          },
          "metadata": {},
          "execution_count": 8
        }
      ],
      "source": [
        "b=np.zeros(8)\n",
        "b"
      ]
    },
    {
      "cell_type": "code",
      "execution_count": null,
      "metadata": {
        "id": "LG_0PBg3qDaq",
        "colab": {
          "base_uri": "https://localhost:8080/"
        },
        "outputId": "7888d8bf-c27c-418e-8ba1-2b782fb43ae9"
      },
      "outputs": [
        {
          "output_type": "stream",
          "name": "stdout",
          "text": [
            "This is a 2 dimensional zero array\n",
            "[[0. 0. 0.]\n",
            " [0. 0. 0.]\n",
            " [0. 0. 0.]]\n",
            "------------------------------------\n",
            "This is a 3 dimensional zero array\n",
            "[[[0. 0. 0. 0. 0.]\n",
            "  [0. 0. 0. 0. 0.]\n",
            "  [0. 0. 0. 0. 0.]]\n",
            "\n",
            " [[0. 0. 0. 0. 0.]\n",
            "  [0. 0. 0. 0. 0.]\n",
            "  [0. 0. 0. 0. 0.]]\n",
            "\n",
            " [[0. 0. 0. 0. 0.]\n",
            "  [0. 0. 0. 0. 0.]\n",
            "  [0. 0. 0. 0. 0.]]]\n",
            "------------------------------------\n",
            "This is a 4 dimensional zero array\n",
            "[[[[0. 0. 0. 0. 0.]\n",
            "   [0. 0. 0. 0. 0.]\n",
            "   [0. 0. 0. 0. 0.]]\n",
            "\n",
            "  [[0. 0. 0. 0. 0.]\n",
            "   [0. 0. 0. 0. 0.]\n",
            "   [0. 0. 0. 0. 0.]]\n",
            "\n",
            "  [[0. 0. 0. 0. 0.]\n",
            "   [0. 0. 0. 0. 0.]\n",
            "   [0. 0. 0. 0. 0.]]]\n",
            "\n",
            "\n",
            " [[[0. 0. 0. 0. 0.]\n",
            "   [0. 0. 0. 0. 0.]\n",
            "   [0. 0. 0. 0. 0.]]\n",
            "\n",
            "  [[0. 0. 0. 0. 0.]\n",
            "   [0. 0. 0. 0. 0.]\n",
            "   [0. 0. 0. 0. 0.]]\n",
            "\n",
            "  [[0. 0. 0. 0. 0.]\n",
            "   [0. 0. 0. 0. 0.]\n",
            "   [0. 0. 0. 0. 0.]]]]\n",
            "------------------------------------\n"
          ]
        }
      ],
      "source": [
        "print(\"This is a 2 dimensional zero array\")\n",
        "print(np.zeros((3,3)))\n",
        "print(\"------------------------------------\")\n",
        "print(\"This is a 3 dimensional zero array\")\n",
        "print(np.zeros((3,3,5)))\n",
        "print(\"------------------------------------\")\n",
        "print(\"This is a 4 dimensional zero array\")\n",
        "print(np.zeros((2,3,3,5)))\n",
        "print(\"------------------------------------\")"
      ]
    },
    {
      "cell_type": "code",
      "execution_count": null,
      "metadata": {
        "id": "_Csa_Pr7qDaq",
        "colab": {
          "base_uri": "https://localhost:8080/"
        },
        "outputId": "229d0dc8-b728-4da7-d545-34a29c1556fa"
      },
      "outputs": [
        {
          "output_type": "execute_result",
          "data": {
            "text/plain": [
              "array([[[[[0., 0., 0., 0.],\n",
              "          [0., 0., 0., 0.],\n",
              "          [0., 0., 0., 0.]],\n",
              "\n",
              "         [[0., 0., 0., 0.],\n",
              "          [0., 0., 0., 0.],\n",
              "          [0., 0., 0., 0.]],\n",
              "\n",
              "         [[0., 0., 0., 0.],\n",
              "          [0., 0., 0., 0.],\n",
              "          [0., 0., 0., 0.]],\n",
              "\n",
              "         [[0., 0., 0., 0.],\n",
              "          [0., 0., 0., 0.],\n",
              "          [0., 0., 0., 0.]],\n",
              "\n",
              "         [[0., 0., 0., 0.],\n",
              "          [0., 0., 0., 0.],\n",
              "          [0., 0., 0., 0.]]],\n",
              "\n",
              "\n",
              "        [[[0., 0., 0., 0.],\n",
              "          [0., 0., 0., 0.],\n",
              "          [0., 0., 0., 0.]],\n",
              "\n",
              "         [[0., 0., 0., 0.],\n",
              "          [0., 0., 0., 0.],\n",
              "          [0., 0., 0., 0.]],\n",
              "\n",
              "         [[0., 0., 0., 0.],\n",
              "          [0., 0., 0., 0.],\n",
              "          [0., 0., 0., 0.]],\n",
              "\n",
              "         [[0., 0., 0., 0.],\n",
              "          [0., 0., 0., 0.],\n",
              "          [0., 0., 0., 0.]],\n",
              "\n",
              "         [[0., 0., 0., 0.],\n",
              "          [0., 0., 0., 0.],\n",
              "          [0., 0., 0., 0.]]],\n",
              "\n",
              "\n",
              "        [[[0., 0., 0., 0.],\n",
              "          [0., 0., 0., 0.],\n",
              "          [0., 0., 0., 0.]],\n",
              "\n",
              "         [[0., 0., 0., 0.],\n",
              "          [0., 0., 0., 0.],\n",
              "          [0., 0., 0., 0.]],\n",
              "\n",
              "         [[0., 0., 0., 0.],\n",
              "          [0., 0., 0., 0.],\n",
              "          [0., 0., 0., 0.]],\n",
              "\n",
              "         [[0., 0., 0., 0.],\n",
              "          [0., 0., 0., 0.],\n",
              "          [0., 0., 0., 0.]],\n",
              "\n",
              "         [[0., 0., 0., 0.],\n",
              "          [0., 0., 0., 0.],\n",
              "          [0., 0., 0., 0.]]],\n",
              "\n",
              "\n",
              "        [[[0., 0., 0., 0.],\n",
              "          [0., 0., 0., 0.],\n",
              "          [0., 0., 0., 0.]],\n",
              "\n",
              "         [[0., 0., 0., 0.],\n",
              "          [0., 0., 0., 0.],\n",
              "          [0., 0., 0., 0.]],\n",
              "\n",
              "         [[0., 0., 0., 0.],\n",
              "          [0., 0., 0., 0.],\n",
              "          [0., 0., 0., 0.]],\n",
              "\n",
              "         [[0., 0., 0., 0.],\n",
              "          [0., 0., 0., 0.],\n",
              "          [0., 0., 0., 0.]],\n",
              "\n",
              "         [[0., 0., 0., 0.],\n",
              "          [0., 0., 0., 0.],\n",
              "          [0., 0., 0., 0.]]],\n",
              "\n",
              "\n",
              "        [[[0., 0., 0., 0.],\n",
              "          [0., 0., 0., 0.],\n",
              "          [0., 0., 0., 0.]],\n",
              "\n",
              "         [[0., 0., 0., 0.],\n",
              "          [0., 0., 0., 0.],\n",
              "          [0., 0., 0., 0.]],\n",
              "\n",
              "         [[0., 0., 0., 0.],\n",
              "          [0., 0., 0., 0.],\n",
              "          [0., 0., 0., 0.]],\n",
              "\n",
              "         [[0., 0., 0., 0.],\n",
              "          [0., 0., 0., 0.],\n",
              "          [0., 0., 0., 0.]],\n",
              "\n",
              "         [[0., 0., 0., 0.],\n",
              "          [0., 0., 0., 0.],\n",
              "          [0., 0., 0., 0.]]]],\n",
              "\n",
              "\n",
              "\n",
              "       [[[[0., 0., 0., 0.],\n",
              "          [0., 0., 0., 0.],\n",
              "          [0., 0., 0., 0.]],\n",
              "\n",
              "         [[0., 0., 0., 0.],\n",
              "          [0., 0., 0., 0.],\n",
              "          [0., 0., 0., 0.]],\n",
              "\n",
              "         [[0., 0., 0., 0.],\n",
              "          [0., 0., 0., 0.],\n",
              "          [0., 0., 0., 0.]],\n",
              "\n",
              "         [[0., 0., 0., 0.],\n",
              "          [0., 0., 0., 0.],\n",
              "          [0., 0., 0., 0.]],\n",
              "\n",
              "         [[0., 0., 0., 0.],\n",
              "          [0., 0., 0., 0.],\n",
              "          [0., 0., 0., 0.]]],\n",
              "\n",
              "\n",
              "        [[[0., 0., 0., 0.],\n",
              "          [0., 0., 0., 0.],\n",
              "          [0., 0., 0., 0.]],\n",
              "\n",
              "         [[0., 0., 0., 0.],\n",
              "          [0., 0., 0., 0.],\n",
              "          [0., 0., 0., 0.]],\n",
              "\n",
              "         [[0., 0., 0., 0.],\n",
              "          [0., 0., 0., 0.],\n",
              "          [0., 0., 0., 0.]],\n",
              "\n",
              "         [[0., 0., 0., 0.],\n",
              "          [0., 0., 0., 0.],\n",
              "          [0., 0., 0., 0.]],\n",
              "\n",
              "         [[0., 0., 0., 0.],\n",
              "          [0., 0., 0., 0.],\n",
              "          [0., 0., 0., 0.]]],\n",
              "\n",
              "\n",
              "        [[[0., 0., 0., 0.],\n",
              "          [0., 0., 0., 0.],\n",
              "          [0., 0., 0., 0.]],\n",
              "\n",
              "         [[0., 0., 0., 0.],\n",
              "          [0., 0., 0., 0.],\n",
              "          [0., 0., 0., 0.]],\n",
              "\n",
              "         [[0., 0., 0., 0.],\n",
              "          [0., 0., 0., 0.],\n",
              "          [0., 0., 0., 0.]],\n",
              "\n",
              "         [[0., 0., 0., 0.],\n",
              "          [0., 0., 0., 0.],\n",
              "          [0., 0., 0., 0.]],\n",
              "\n",
              "         [[0., 0., 0., 0.],\n",
              "          [0., 0., 0., 0.],\n",
              "          [0., 0., 0., 0.]]],\n",
              "\n",
              "\n",
              "        [[[0., 0., 0., 0.],\n",
              "          [0., 0., 0., 0.],\n",
              "          [0., 0., 0., 0.]],\n",
              "\n",
              "         [[0., 0., 0., 0.],\n",
              "          [0., 0., 0., 0.],\n",
              "          [0., 0., 0., 0.]],\n",
              "\n",
              "         [[0., 0., 0., 0.],\n",
              "          [0., 0., 0., 0.],\n",
              "          [0., 0., 0., 0.]],\n",
              "\n",
              "         [[0., 0., 0., 0.],\n",
              "          [0., 0., 0., 0.],\n",
              "          [0., 0., 0., 0.]],\n",
              "\n",
              "         [[0., 0., 0., 0.],\n",
              "          [0., 0., 0., 0.],\n",
              "          [0., 0., 0., 0.]]],\n",
              "\n",
              "\n",
              "        [[[0., 0., 0., 0.],\n",
              "          [0., 0., 0., 0.],\n",
              "          [0., 0., 0., 0.]],\n",
              "\n",
              "         [[0., 0., 0., 0.],\n",
              "          [0., 0., 0., 0.],\n",
              "          [0., 0., 0., 0.]],\n",
              "\n",
              "         [[0., 0., 0., 0.],\n",
              "          [0., 0., 0., 0.],\n",
              "          [0., 0., 0., 0.]],\n",
              "\n",
              "         [[0., 0., 0., 0.],\n",
              "          [0., 0., 0., 0.],\n",
              "          [0., 0., 0., 0.]],\n",
              "\n",
              "         [[0., 0., 0., 0.],\n",
              "          [0., 0., 0., 0.],\n",
              "          [0., 0., 0., 0.]]]]])"
            ]
          },
          "metadata": {},
          "execution_count": 10
        }
      ],
      "source": [
        "#5 is the number of times array is repeated\n",
        "#3 is the number of rows per array\n",
        "#4 is the number of columns per array\n",
        "c=np.zeros((2,5,5,3,4))\n",
        "c"
      ]
    },
    {
      "cell_type": "code",
      "source": [
        "2*3*4*2*3*4"
      ],
      "metadata": {
        "id": "J2o7DIqKo2Tf",
        "colab": {
          "base_uri": "https://localhost:8080/"
        },
        "outputId": "5a7ed2b7-dacf-4b9e-a745-f0124dd63df9"
      },
      "execution_count": null,
      "outputs": [
        {
          "output_type": "execute_result",
          "data": {
            "text/plain": [
              "576"
            ]
          },
          "metadata": {},
          "execution_count": 11
        }
      ]
    },
    {
      "cell_type": "code",
      "source": [
        "#Create an array of dimensions 2,3,4,2,3,4\n",
        "#2*3*4*2*3*4 = 576\n",
        "#So we need 576 elements to create such an array through reshape function\n",
        "np.arange(576).reshape(2,3,4,2,3,4)"
      ],
      "metadata": {
        "id": "ICEHbViljvmn",
        "colab": {
          "base_uri": "https://localhost:8080/"
        },
        "outputId": "e1604ab7-756f-4f7e-d1c6-2f9883ccbea7"
      },
      "execution_count": null,
      "outputs": [
        {
          "output_type": "execute_result",
          "data": {
            "text/plain": [
              "array([[[[[[  0,   1,   2,   3],\n",
              "           [  4,   5,   6,   7],\n",
              "           [  8,   9,  10,  11]],\n",
              "\n",
              "          [[ 12,  13,  14,  15],\n",
              "           [ 16,  17,  18,  19],\n",
              "           [ 20,  21,  22,  23]]],\n",
              "\n",
              "\n",
              "         [[[ 24,  25,  26,  27],\n",
              "           [ 28,  29,  30,  31],\n",
              "           [ 32,  33,  34,  35]],\n",
              "\n",
              "          [[ 36,  37,  38,  39],\n",
              "           [ 40,  41,  42,  43],\n",
              "           [ 44,  45,  46,  47]]],\n",
              "\n",
              "\n",
              "         [[[ 48,  49,  50,  51],\n",
              "           [ 52,  53,  54,  55],\n",
              "           [ 56,  57,  58,  59]],\n",
              "\n",
              "          [[ 60,  61,  62,  63],\n",
              "           [ 64,  65,  66,  67],\n",
              "           [ 68,  69,  70,  71]]],\n",
              "\n",
              "\n",
              "         [[[ 72,  73,  74,  75],\n",
              "           [ 76,  77,  78,  79],\n",
              "           [ 80,  81,  82,  83]],\n",
              "\n",
              "          [[ 84,  85,  86,  87],\n",
              "           [ 88,  89,  90,  91],\n",
              "           [ 92,  93,  94,  95]]]],\n",
              "\n",
              "\n",
              "\n",
              "        [[[[ 96,  97,  98,  99],\n",
              "           [100, 101, 102, 103],\n",
              "           [104, 105, 106, 107]],\n",
              "\n",
              "          [[108, 109, 110, 111],\n",
              "           [112, 113, 114, 115],\n",
              "           [116, 117, 118, 119]]],\n",
              "\n",
              "\n",
              "         [[[120, 121, 122, 123],\n",
              "           [124, 125, 126, 127],\n",
              "           [128, 129, 130, 131]],\n",
              "\n",
              "          [[132, 133, 134, 135],\n",
              "           [136, 137, 138, 139],\n",
              "           [140, 141, 142, 143]]],\n",
              "\n",
              "\n",
              "         [[[144, 145, 146, 147],\n",
              "           [148, 149, 150, 151],\n",
              "           [152, 153, 154, 155]],\n",
              "\n",
              "          [[156, 157, 158, 159],\n",
              "           [160, 161, 162, 163],\n",
              "           [164, 165, 166, 167]]],\n",
              "\n",
              "\n",
              "         [[[168, 169, 170, 171],\n",
              "           [172, 173, 174, 175],\n",
              "           [176, 177, 178, 179]],\n",
              "\n",
              "          [[180, 181, 182, 183],\n",
              "           [184, 185, 186, 187],\n",
              "           [188, 189, 190, 191]]]],\n",
              "\n",
              "\n",
              "\n",
              "        [[[[192, 193, 194, 195],\n",
              "           [196, 197, 198, 199],\n",
              "           [200, 201, 202, 203]],\n",
              "\n",
              "          [[204, 205, 206, 207],\n",
              "           [208, 209, 210, 211],\n",
              "           [212, 213, 214, 215]]],\n",
              "\n",
              "\n",
              "         [[[216, 217, 218, 219],\n",
              "           [220, 221, 222, 223],\n",
              "           [224, 225, 226, 227]],\n",
              "\n",
              "          [[228, 229, 230, 231],\n",
              "           [232, 233, 234, 235],\n",
              "           [236, 237, 238, 239]]],\n",
              "\n",
              "\n",
              "         [[[240, 241, 242, 243],\n",
              "           [244, 245, 246, 247],\n",
              "           [248, 249, 250, 251]],\n",
              "\n",
              "          [[252, 253, 254, 255],\n",
              "           [256, 257, 258, 259],\n",
              "           [260, 261, 262, 263]]],\n",
              "\n",
              "\n",
              "         [[[264, 265, 266, 267],\n",
              "           [268, 269, 270, 271],\n",
              "           [272, 273, 274, 275]],\n",
              "\n",
              "          [[276, 277, 278, 279],\n",
              "           [280, 281, 282, 283],\n",
              "           [284, 285, 286, 287]]]]],\n",
              "\n",
              "\n",
              "\n",
              "\n",
              "       [[[[[288, 289, 290, 291],\n",
              "           [292, 293, 294, 295],\n",
              "           [296, 297, 298, 299]],\n",
              "\n",
              "          [[300, 301, 302, 303],\n",
              "           [304, 305, 306, 307],\n",
              "           [308, 309, 310, 311]]],\n",
              "\n",
              "\n",
              "         [[[312, 313, 314, 315],\n",
              "           [316, 317, 318, 319],\n",
              "           [320, 321, 322, 323]],\n",
              "\n",
              "          [[324, 325, 326, 327],\n",
              "           [328, 329, 330, 331],\n",
              "           [332, 333, 334, 335]]],\n",
              "\n",
              "\n",
              "         [[[336, 337, 338, 339],\n",
              "           [340, 341, 342, 343],\n",
              "           [344, 345, 346, 347]],\n",
              "\n",
              "          [[348, 349, 350, 351],\n",
              "           [352, 353, 354, 355],\n",
              "           [356, 357, 358, 359]]],\n",
              "\n",
              "\n",
              "         [[[360, 361, 362, 363],\n",
              "           [364, 365, 366, 367],\n",
              "           [368, 369, 370, 371]],\n",
              "\n",
              "          [[372, 373, 374, 375],\n",
              "           [376, 377, 378, 379],\n",
              "           [380, 381, 382, 383]]]],\n",
              "\n",
              "\n",
              "\n",
              "        [[[[384, 385, 386, 387],\n",
              "           [388, 389, 390, 391],\n",
              "           [392, 393, 394, 395]],\n",
              "\n",
              "          [[396, 397, 398, 399],\n",
              "           [400, 401, 402, 403],\n",
              "           [404, 405, 406, 407]]],\n",
              "\n",
              "\n",
              "         [[[408, 409, 410, 411],\n",
              "           [412, 413, 414, 415],\n",
              "           [416, 417, 418, 419]],\n",
              "\n",
              "          [[420, 421, 422, 423],\n",
              "           [424, 425, 426, 427],\n",
              "           [428, 429, 430, 431]]],\n",
              "\n",
              "\n",
              "         [[[432, 433, 434, 435],\n",
              "           [436, 437, 438, 439],\n",
              "           [440, 441, 442, 443]],\n",
              "\n",
              "          [[444, 445, 446, 447],\n",
              "           [448, 449, 450, 451],\n",
              "           [452, 453, 454, 455]]],\n",
              "\n",
              "\n",
              "         [[[456, 457, 458, 459],\n",
              "           [460, 461, 462, 463],\n",
              "           [464, 465, 466, 467]],\n",
              "\n",
              "          [[468, 469, 470, 471],\n",
              "           [472, 473, 474, 475],\n",
              "           [476, 477, 478, 479]]]],\n",
              "\n",
              "\n",
              "\n",
              "        [[[[480, 481, 482, 483],\n",
              "           [484, 485, 486, 487],\n",
              "           [488, 489, 490, 491]],\n",
              "\n",
              "          [[492, 493, 494, 495],\n",
              "           [496, 497, 498, 499],\n",
              "           [500, 501, 502, 503]]],\n",
              "\n",
              "\n",
              "         [[[504, 505, 506, 507],\n",
              "           [508, 509, 510, 511],\n",
              "           [512, 513, 514, 515]],\n",
              "\n",
              "          [[516, 517, 518, 519],\n",
              "           [520, 521, 522, 523],\n",
              "           [524, 525, 526, 527]]],\n",
              "\n",
              "\n",
              "         [[[528, 529, 530, 531],\n",
              "           [532, 533, 534, 535],\n",
              "           [536, 537, 538, 539]],\n",
              "\n",
              "          [[540, 541, 542, 543],\n",
              "           [544, 545, 546, 547],\n",
              "           [548, 549, 550, 551]]],\n",
              "\n",
              "\n",
              "         [[[552, 553, 554, 555],\n",
              "           [556, 557, 558, 559],\n",
              "           [560, 561, 562, 563]],\n",
              "\n",
              "          [[564, 565, 566, 567],\n",
              "           [568, 569, 570, 571],\n",
              "           [572, 573, 574, 575]]]]]])"
            ]
          },
          "metadata": {},
          "execution_count": 12
        }
      ]
    },
    {
      "cell_type": "code",
      "execution_count": null,
      "metadata": {
        "id": "GmGk0q1nqDaq",
        "colab": {
          "base_uri": "https://localhost:8080/"
        },
        "outputId": "dd5f560d-61ec-4e29-80f4-08d1f4b473a7"
      },
      "outputs": [
        {
          "output_type": "execute_result",
          "data": {
            "text/plain": [
              "array([[ 8,  7,  5],\n",
              "       [10,  3,  9],\n",
              "       [ 2,  8,  4]])"
            ]
          },
          "metadata": {},
          "execution_count": 13
        }
      ],
      "source": [
        "a=np.array([[8,7,5],[10,3,9],[2,8,4]])\n",
        "a"
      ]
    },
    {
      "cell_type": "code",
      "execution_count": null,
      "metadata": {
        "id": "BdjEbGVcqDaq",
        "colab": {
          "base_uri": "https://localhost:8080/"
        },
        "outputId": "bc30c9f5-2284-4ffa-d718-537b5e6238b3"
      },
      "outputs": [
        {
          "output_type": "execute_result",
          "data": {
            "text/plain": [
              "array([7, 3, 8])"
            ]
          },
          "metadata": {},
          "execution_count": 14
        }
      ],
      "source": [
        "#To access a particular column in array\n",
        "a[:,1]"
      ]
    },
    {
      "cell_type": "code",
      "execution_count": null,
      "metadata": {
        "id": "4TssRQ8TqDaq",
        "colab": {
          "base_uri": "https://localhost:8080/"
        },
        "outputId": "67e25804-7d22-46bf-dd8f-0559ecaf9abe"
      },
      "outputs": [
        {
          "output_type": "execute_result",
          "data": {
            "text/plain": [
              "array([2, 8, 4])"
            ]
          },
          "metadata": {},
          "execution_count": 15
        }
      ],
      "source": [
        "#To access a particular row in array\n",
        "a[2,:]"
      ]
    },
    {
      "cell_type": "code",
      "execution_count": null,
      "metadata": {
        "id": "Y3Q6ho38qDar",
        "colab": {
          "base_uri": "https://localhost:8080/"
        },
        "outputId": "3109bb2e-1c88-4412-f836-426e56d40932"
      },
      "outputs": [
        {
          "output_type": "execute_result",
          "data": {
            "text/plain": [
              "array([[ 1,  2,  3,  4,  5],\n",
              "       [ 6,  7,  8,  9, 10],\n",
              "       [11, 12, 13, 14, 15],\n",
              "       [16, 17, 18, 19, 20],\n",
              "       [21, 22, 23, 24, 25]])"
            ]
          },
          "metadata": {},
          "execution_count": 16
        }
      ],
      "source": [
        "a=np.arange(1,26).reshape(5,5)\n",
        "a"
      ]
    },
    {
      "cell_type": "code",
      "execution_count": null,
      "metadata": {
        "id": "msYJYcP9qDar",
        "colab": {
          "base_uri": "https://localhost:8080/"
        },
        "outputId": "0cbffc67-58aa-4736-d712-08d00bdee207"
      },
      "outputs": [
        {
          "output_type": "stream",
          "name": "stdout",
          "text": [
            "[[ 1  2  3  4  5]\n",
            " [ 6  7  8  9 10]\n",
            " [11 12 13 14 15]\n",
            " [16 17 18 19 20]\n",
            " [21 22 23 24 25]]\n"
          ]
        },
        {
          "output_type": "execute_result",
          "data": {
            "text/plain": [
              "array([[ 1,  2,  3,  4,  5],\n",
              "       [11, 12, 13, 14, 15],\n",
              "       [21, 22, 23, 24, 25]])"
            ]
          },
          "metadata": {},
          "execution_count": 17
        }
      ],
      "source": [
        "#To access multiple rows from an array,\n",
        "# i.e. row at index 0,2,4 in the command below\n",
        "print(a)\n",
        "a[[0,2,4],:]"
      ]
    },
    {
      "cell_type": "code",
      "execution_count": null,
      "metadata": {
        "id": "A1lKOqTZqDar",
        "colab": {
          "base_uri": "https://localhost:8080/"
        },
        "outputId": "ba97ff9d-1991-4a68-83aa-97f3cce28697"
      },
      "outputs": [
        {
          "output_type": "stream",
          "name": "stdout",
          "text": [
            "[[ 1  2  3  4  5]\n",
            " [ 6  7  8  9 10]\n",
            " [11 12 13 14 15]\n",
            " [16 17 18 19 20]\n",
            " [21 22 23 24 25]]\n"
          ]
        },
        {
          "output_type": "execute_result",
          "data": {
            "text/plain": [
              "array([[ 1,  3,  5],\n",
              "       [ 6,  8, 10],\n",
              "       [11, 13, 15],\n",
              "       [16, 18, 20],\n",
              "       [21, 23, 25]])"
            ]
          },
          "metadata": {},
          "execution_count": 18
        }
      ],
      "source": [
        "#To access columns at index 0,2,4 across all rows\n",
        "print(a)\n",
        "a[:,[0,2,4]]"
      ]
    },
    {
      "cell_type": "code",
      "execution_count": null,
      "metadata": {
        "id": "vVGvuXt1qDas"
      },
      "outputs": [],
      "source": [
        "#To access columns at index 0 & 4\n",
        "a[:,[0,4]]"
      ]
    },
    {
      "cell_type": "code",
      "execution_count": null,
      "metadata": {
        "id": "MIJfK1dKqDas"
      },
      "outputs": [],
      "source": [
        "a"
      ]
    },
    {
      "cell_type": "code",
      "execution_count": null,
      "metadata": {
        "id": "LXva9nIMqDas"
      },
      "outputs": [],
      "source": [
        "#The element at (row 1 & column 2) AND (row 3 & column 4) will be selected\n",
        "a[[1,3],[2,4]]"
      ]
    },
    {
      "cell_type": "code",
      "execution_count": null,
      "metadata": {
        "id": "xQFwzGKUqDas"
      },
      "outputs": [],
      "source": [
        "#The element at row index 2 & column index 3\n",
        "a[2,3]"
      ]
    },
    {
      "cell_type": "code",
      "execution_count": null,
      "metadata": {
        "id": "VsjosEtdqDat"
      },
      "outputs": [],
      "source": [
        "#To access columns from index 0 to index 3\n",
        "a[:,0:4]"
      ]
    },
    {
      "cell_type": "code",
      "execution_count": null,
      "metadata": {
        "id": "IvSauX1hqDat"
      },
      "outputs": [],
      "source": [
        "a[1:4,:]"
      ]
    },
    {
      "cell_type": "code",
      "execution_count": null,
      "metadata": {
        "id": "5k1Nb7SCqDat"
      },
      "outputs": [],
      "source": [
        "#Axis 0 = Column-wise\n",
        "#Axis 1 = Row-wise"
      ]
    },
    {
      "cell_type": "code",
      "execution_count": null,
      "metadata": {
        "id": "glvz61yaqDat",
        "colab": {
          "base_uri": "https://localhost:8080/"
        },
        "outputId": "22eeaa68-fa28-4504-b86a-9f14cf219dba"
      },
      "outputs": [
        {
          "output_type": "execute_result",
          "data": {
            "text/plain": [
              "array([[5, 3, 3, 2, 6],\n",
              "       [7, 5, 8, 8, 4],\n",
              "       [2, 1, 3, 2, 5],\n",
              "       [8, 6, 1, 9, 9],\n",
              "       [6, 2, 1, 8, 0]])"
            ]
          },
          "metadata": {},
          "execution_count": 19
        }
      ],
      "source": [
        "a=np.random.randint(0,10,25).reshape(5,5)\n",
        "a"
      ]
    },
    {
      "cell_type": "code",
      "execution_count": null,
      "metadata": {
        "id": "72JuMhh4qDat",
        "colab": {
          "base_uri": "https://localhost:8080/"
        },
        "outputId": "3f03859f-abef-4c56-e1a0-db4b107e593a"
      },
      "outputs": [
        {
          "output_type": "stream",
          "name": "stdout",
          "text": [
            "Column-wise minimum values are [2 1 1 2 0]\n",
            "Row-wise minimum values are [2 4 1 1 0]\n"
          ]
        }
      ],
      "source": [
        "#Column-wise and Row-wise minimum value\n",
        "print('Column-wise minimum values are',a.min(axis=0))\n",
        "print('Row-wise minimum values are',a.min(axis=1))"
      ]
    },
    {
      "cell_type": "code",
      "execution_count": null,
      "metadata": {
        "id": "RRJ9JY9oqDat",
        "colab": {
          "base_uri": "https://localhost:8080/"
        },
        "outputId": "7a65b140-5e97-4602-d41e-15d9c1a30a81"
      },
      "outputs": [
        {
          "output_type": "stream",
          "name": "stdout",
          "text": [
            "Column-wise maximum values are [8 6 8 9 9]\n",
            "Row-wise maximum values are [6 8 5 9 8]\n"
          ]
        }
      ],
      "source": [
        "#Column-wise and Row-wise maximum value\n",
        "print('Column-wise maximum values are',a.max(axis=0))\n",
        "print('Row-wise maximum values are',a.max(axis=1))"
      ]
    },
    {
      "cell_type": "code",
      "execution_count": null,
      "metadata": {
        "id": "P_n0qUyUqDat",
        "colab": {
          "base_uri": "https://localhost:8080/"
        },
        "outputId": "807a7adb-72dd-4c14-c24c-54b2e63cd5ba"
      },
      "outputs": [
        {
          "output_type": "stream",
          "name": "stdout",
          "text": [
            "[[5 3 3 2 6]\n",
            " [7 5 8 8 4]\n",
            " [2 1 3 2 5]\n",
            " [8 6 1 9 9]\n",
            " [6 2 1 8 0]]\n"
          ]
        },
        {
          "output_type": "execute_result",
          "data": {
            "text/plain": [
              "array([28, 17, 16, 29, 24])"
            ]
          },
          "metadata": {},
          "execution_count": 25
        }
      ],
      "source": [
        "#Column-wise summation\n",
        "print(a)\n",
        "a.sum(axis=0)"
      ]
    },
    {
      "cell_type": "code",
      "source": [
        "np.median(a,axis=0)"
      ],
      "metadata": {
        "id": "OtKYJcjbpwYH"
      },
      "execution_count": null,
      "outputs": []
    },
    {
      "cell_type": "code",
      "execution_count": null,
      "metadata": {
        "scrolled": true,
        "id": "y_MdtulHqDat"
      },
      "outputs": [],
      "source": [
        "import numpy as np\n",
        "a = np.array([[[2,3,3,4],[3,4,4,4],[5,6,10,3],[7,8,4,4]],\n",
        "              [[2,3,3,4],[3,4,5,4],[5,6,2,3],[7,6,4,4]],\n",
        "              [[22,3,23,4],[3,4,14,4],[5,6,9,3],[7,8,4,12]],\n",
        "              [[2,43,3,4],[3,8,4,4],[5,6,2,11],[7,2,4,13]]])\n",
        "print(a)"
      ]
    },
    {
      "cell_type": "code",
      "execution_count": null,
      "metadata": {
        "id": "kgsZqqUSqDat"
      },
      "outputs": [],
      "source": [
        "for i in a:\n",
        "    print(i.max(axis=0))"
      ]
    },
    {
      "cell_type": "code",
      "execution_count": null,
      "metadata": {
        "id": "Tm5BsXzIqDau"
      },
      "outputs": [],
      "source": [
        "for i in a:\n",
        "    print(i.sum(axis=0))"
      ]
    },
    {
      "cell_type": "code",
      "execution_count": null,
      "metadata": {
        "id": "SRs6rR31qDau"
      },
      "outputs": [],
      "source": [
        "a=np.array([[0,1,2,3],[4,5,6,7],[8,9,10,11],[12,13,14,15]])\n",
        "a"
      ]
    },
    {
      "cell_type": "code",
      "execution_count": null,
      "metadata": {
        "id": "lhb8niQ_qDau"
      },
      "outputs": [],
      "source": [
        "#Column-wise sum values\n",
        "a.sum(axis=0)"
      ]
    },
    {
      "cell_type": "code",
      "execution_count": null,
      "metadata": {
        "id": "oZAndHT2qDau"
      },
      "outputs": [],
      "source": [
        "# Row-wise sum values\n",
        "a.sum(axis=1)"
      ]
    },
    {
      "cell_type": "code",
      "execution_count": null,
      "metadata": {
        "id": "K7StuQ9-qDau",
        "colab": {
          "base_uri": "https://localhost:8080/"
        },
        "outputId": "27dc75a7-9c5b-40d9-851f-794e9efee26d"
      },
      "outputs": [
        {
          "output_type": "stream",
          "name": "stdout",
          "text": [
            "[[ 0  1  2  3]\n",
            " [ 4  5  6  7]\n",
            " [ 8  9 10 11]\n",
            " [12 13 14 15]]\n"
          ]
        },
        {
          "output_type": "execute_result",
          "data": {
            "text/plain": [
              "array([[0.        , 1.        , 1.41421356, 1.73205081],\n",
              "       [2.        , 2.23606798, 2.44948974, 2.64575131],\n",
              "       [2.82842712, 3.        , 3.16227766, 3.31662479],\n",
              "       [3.46410162, 3.60555128, 3.74165739, 3.87298335]])"
            ]
          },
          "metadata": {},
          "execution_count": 26
        }
      ],
      "source": [
        "#Square Root the entire array\n",
        "a=np.array([[0,1,2,3],[4,5,6,7],[8,9,10,11],[12,13,14,15]])\n",
        "print(a)\n",
        "np.sqrt(a)"
      ]
    },
    {
      "cell_type": "code",
      "execution_count": null,
      "metadata": {
        "id": "sDmJVgE2qDau"
      },
      "outputs": [],
      "source": [
        "#To find square root of a specific element, e.g. 4\n",
        "print(a)\n",
        "print(a[1,0])\n",
        "np.sqrt(a[1,0])"
      ]
    },
    {
      "cell_type": "code",
      "execution_count": null,
      "metadata": {
        "id": "Qw54AkmlqDau"
      },
      "outputs": [],
      "source": [
        "#Square root of 10 from array 'a'\n",
        "np.sqrt(a[2,2])"
      ]
    },
    {
      "cell_type": "code",
      "execution_count": null,
      "metadata": {
        "id": "1EMvjVYdqDau"
      },
      "outputs": [],
      "source": [
        "#To find square root of entire row at index 2\n",
        "print(a)\n",
        "np.sqrt(a[2,:])"
      ]
    },
    {
      "cell_type": "code",
      "execution_count": null,
      "metadata": {
        "id": "mVPOxnxxqDau"
      },
      "outputs": [],
      "source": [
        "#To find square root of entire column at index 1\n",
        "print(a)\n",
        "np.sqrt(a[:,1])"
      ]
    },
    {
      "cell_type": "code",
      "source": [
        "a"
      ],
      "metadata": {
        "id": "v5qCGQcfp1K0",
        "colab": {
          "base_uri": "https://localhost:8080/"
        },
        "outputId": "a47a2755-dc91-4ecf-e7ed-7c7b1840c454"
      },
      "execution_count": null,
      "outputs": [
        {
          "output_type": "execute_result",
          "data": {
            "text/plain": [
              "array([[ 0,  1,  2,  3],\n",
              "       [ 4,  5,  6,  7],\n",
              "       [ 8,  9, 10, 11],\n",
              "       [12, 13, 14, 15]])"
            ]
          },
          "metadata": {},
          "execution_count": 27
        }
      ]
    },
    {
      "cell_type": "code",
      "execution_count": null,
      "metadata": {
        "id": "bjqg6iuxqDau",
        "colab": {
          "base_uri": "https://localhost:8080/"
        },
        "outputId": "396ae25d-9f25-4ec3-c28c-a5a18f310213"
      },
      "outputs": [
        {
          "output_type": "execute_result",
          "data": {
            "text/plain": [
              "array([[      -inf, 0.        , 0.69314718, 1.09861229],\n",
              "       [1.38629436, 1.60943791, 1.79175947, 1.94591015],\n",
              "       [2.07944154, 2.19722458, 2.30258509, 2.39789527],\n",
              "       [2.48490665, 2.56494936, 2.63905733, 2.7080502 ]])"
            ]
          },
          "metadata": {},
          "execution_count": 28
        }
      ],
      "source": [
        "np.log(a)"
      ]
    },
    {
      "cell_type": "markdown",
      "metadata": {
        "id": "o4vflhXVqDav"
      },
      "source": [
        "Log of a number to a base defined will give us the number to which the base must be raised to get the value for which we are finding the log\n",
        "\n",
        "Log of 'a' to the base 'b' will give us the power of 'b', for which the result will be 'a'\n",
        "log of 4 to the base 2\n",
        "\n",
        "### Natural log\n",
        "\n",
        "log of 5 will give us the power of e (constant) which gives the output as 5.\n",
        "\n",
        "e=2.718"
      ]
    },
    {
      "cell_type": "code",
      "execution_count": null,
      "metadata": {
        "id": "hkLyTZCvqDav",
        "colab": {
          "base_uri": "https://localhost:8080/"
        },
        "outputId": "bdb75a42-d2e8-4652-e474-93fd44d5178a"
      },
      "outputs": [
        {
          "output_type": "stream",
          "name": "stdout",
          "text": [
            "[[2 3 3 4]\n",
            " [3 4 4 4]\n",
            " [5 6 2 3]\n",
            " [7 8 4 4]]\n"
          ]
        },
        {
          "output_type": "execute_result",
          "data": {
            "text/plain": [
              "array([[ 4,  9,  9, 16],\n",
              "       [ 9, 16, 16, 16],\n",
              "       [25, 36,  4,  9],\n",
              "       [49, 64, 16, 16]])"
            ]
          },
          "metadata": {},
          "execution_count": 29
        }
      ],
      "source": [
        "a = np.array([[2,3,3,4],[3,4,4,4],[5,6,2,3],[7,8,4,4]])\n",
        "print(a)\n",
        "np.square(a)"
      ]
    },
    {
      "cell_type": "code",
      "source": [
        "#Cummulative sum\n",
        "print(a)\n",
        "np.cumsum(a)"
      ],
      "metadata": {
        "colab": {
          "base_uri": "https://localhost:8080/"
        },
        "id": "qB-x0n5vf1_6",
        "outputId": "33d53fdd-7fff-47e3-f13c-60dcc61ee776"
      },
      "execution_count": null,
      "outputs": [
        {
          "output_type": "stream",
          "name": "stdout",
          "text": [
            "[[2 3 3 4]\n",
            " [3 4 4 4]\n",
            " [5 6 2 3]\n",
            " [7 8 4 4]]\n"
          ]
        },
        {
          "output_type": "execute_result",
          "data": {
            "text/plain": [
              "array([ 2,  5,  8, 12, 15, 19, 23, 27, 32, 38, 40, 43, 50, 58, 62, 66])"
            ]
          },
          "metadata": {},
          "execution_count": 31
        }
      ]
    },
    {
      "cell_type": "code",
      "execution_count": null,
      "metadata": {
        "id": "Y4ayhumYqDav",
        "colab": {
          "base_uri": "https://localhost:8080/"
        },
        "outputId": "f6d698fe-d6e4-4fbd-cb96-e11e1bffcca6"
      },
      "outputs": [
        {
          "output_type": "stream",
          "name": "stdout",
          "text": [
            "[[2 3 3 4]\n",
            " [3 4 4 4]\n",
            " [5 6 2 3]\n",
            " [7 8 4 4]]\n"
          ]
        },
        {
          "output_type": "execute_result",
          "data": {
            "text/plain": [
              "array([[ 2,  3,  3,  4],\n",
              "       [ 5,  7,  7,  8],\n",
              "       [10, 13,  9, 11],\n",
              "       [17, 21, 13, 15]])"
            ]
          },
          "metadata": {},
          "execution_count": 30
        }
      ],
      "source": [
        "#Columnwise cummulative sum\n",
        "print(a)\n",
        "np.cumsum(a,axis=0)"
      ]
    },
    {
      "cell_type": "code",
      "execution_count": null,
      "metadata": {
        "id": "zlqid1zkqDav"
      },
      "outputs": [],
      "source": [
        "np.cumsum(a).reshape(4,4)"
      ]
    },
    {
      "cell_type": "code",
      "execution_count": null,
      "metadata": {
        "id": "inyON64aqDav",
        "colab": {
          "base_uri": "https://localhost:8080/"
        },
        "outputId": "63df3fc4-5fbb-4ffa-b2fa-6d8e7b8bdf8b"
      },
      "outputs": [
        {
          "output_type": "stream",
          "name": "stdout",
          "text": [
            "[[ 0  1  2  3  4]\n",
            " [ 5  6  7  8  9]\n",
            " [10 11 12 13 14]]\n",
            "[[ 0  1  2]\n",
            " [ 3  4  5]\n",
            " [ 6  7  8]\n",
            " [ 9 10 11]\n",
            " [12 13 14]]\n"
          ]
        },
        {
          "output_type": "execute_result",
          "data": {
            "text/plain": [
              "array([[ 90, 100, 110],\n",
              "       [240, 275, 310],\n",
              "       [390, 450, 510]])"
            ]
          },
          "metadata": {},
          "execution_count": 33
        }
      ],
      "source": [
        "#Matrix Multiplication\n",
        "\n",
        "\"\"\"Either nrows of matrix 1 should be equal to ncols of matrix 2 OR\n",
        "nrows of matrix 2 should be equal to ncols of matrix 1\"\"\"\n",
        "\n",
        "a = np.arange(0,15).reshape(3,5)\n",
        "b = np.arange(0,15).reshape(5,3)\n",
        "print(a)\n",
        "print(b)\n",
        "a.dot(b)"
      ]
    },
    {
      "cell_type": "code",
      "execution_count": null,
      "metadata": {
        "id": "J6e6k-Q1qDav",
        "colab": {
          "base_uri": "https://localhost:8080/"
        },
        "outputId": "5ac44831-35a4-4035-d212-c5946fd37be8"
      },
      "outputs": [
        {
          "output_type": "stream",
          "name": "stdout",
          "text": [
            "[[6 3 6 8 3]\n",
            " [0 0 0 3 3]\n",
            " [9 6 9 4 3]]\n",
            "[[1 1 3 6 8]\n",
            " [2 4 2 4 1]\n",
            " [7 6 9 3 1]]\n"
          ]
        },
        {
          "output_type": "execute_result",
          "data": {
            "text/plain": [
              "array([[ 6,  3, 18, 48, 24],\n",
              "       [ 0,  0,  0, 12,  3],\n",
              "       [63, 36, 81, 12,  3]])"
            ]
          },
          "metadata": {},
          "execution_count": 36
        }
      ],
      "source": [
        "a=np.random.randint(0,10,15).reshape(3,5)\n",
        "b=np.random.randint(0,10,15).reshape(3,5)\n",
        "print(a)\n",
        "print(b)\n",
        "a*b"
      ]
    },
    {
      "cell_type": "code",
      "execution_count": null,
      "metadata": {
        "id": "QEqBtl9PqDaw",
        "colab": {
          "base_uri": "https://localhost:8080/"
        },
        "outputId": "5e28d205-05bd-4ff9-e722-09863f0847ce"
      },
      "outputs": [
        {
          "output_type": "stream",
          "name": "stdout",
          "text": [
            "[[ 0  1  2  3  4]\n",
            " [ 5  6  7  8  9]\n",
            " [10 11 12 13 14]]\n",
            "[[ 0  5 10]\n",
            " [ 1  6 11]\n",
            " [ 2  7 12]\n",
            " [ 3  8 13]\n",
            " [ 4  9 14]]\n"
          ]
        }
      ],
      "source": [
        "a = np.arange(0,15).reshape(3,5)\n",
        "print(a)\n",
        "print(a.transpose())"
      ]
    },
    {
      "cell_type": "code",
      "execution_count": null,
      "metadata": {
        "id": "6xUc1rGOqDaw"
      },
      "outputs": [],
      "source": [
        "np.set_printoptions(suppress=True)     #To avoid output in scientific format\n",
        "a = np.arange(0,50.5,.5)\n",
        "print(a)\n",
        "np.cumsum(a)"
      ]
    },
    {
      "cell_type": "code",
      "execution_count": null,
      "metadata": {
        "id": "P7Rlr6PIqDaw"
      },
      "outputs": [],
      "source": [
        "a=np.array([[1,5,3],[6,2,4]])\n",
        "b=np.array([[8,5,7],[4,3,1]])\n",
        "print(a)\n",
        "print(b)\n",
        "a+b"
      ]
    },
    {
      "cell_type": "code",
      "execution_count": null,
      "metadata": {
        "id": "CnFi9hDYqDax"
      },
      "outputs": [],
      "source": [
        "#What if we try to add arrays with different dimensions i.e. unequal number of rows/columns?\n",
        "a=np.array([[1,5,3],[6,2,4],[7,8,9]])\n",
        "b=np.array([[8,5,7],[4,3,1]])\n",
        "print(a)\n",
        "print(b)\n",
        "a+b"
      ]
    },
    {
      "cell_type": "code",
      "execution_count": null,
      "metadata": {
        "id": "UMKMIK5LqDax"
      },
      "outputs": [],
      "source": [
        "a=np.array([[1,5,3],[6,2,4]])\n",
        "b=np.array([[8,5,7],[4,3,1]])\n",
        "\n",
        "print(a)\n",
        "print(b)\n",
        "a-b"
      ]
    },
    {
      "cell_type": "code",
      "execution_count": null,
      "metadata": {
        "id": "LnWIvmqTqDax"
      },
      "outputs": [],
      "source": [
        "print(a)\n",
        "print(b)\n",
        "a**b"
      ]
    },
    {
      "cell_type": "code",
      "execution_count": null,
      "metadata": {
        "id": "vhFEh22iqDax"
      },
      "outputs": [],
      "source": [
        "print(a)\n",
        "print(b)\n",
        "a*b"
      ]
    },
    {
      "cell_type": "code",
      "execution_count": null,
      "metadata": {
        "id": "ERDhG-1hqDax"
      },
      "outputs": [],
      "source": [
        "a=np.array([[1,5,3],[6,2,4]])\n",
        "b=np.array([[8,5,7],[4,3,1]])\n",
        "print(a)\n",
        "print(b)\n",
        "print(a*b)\n",
        "print(np.dot(a,b))"
      ]
    },
    {
      "cell_type": "code",
      "execution_count": null,
      "metadata": {
        "id": "e3FLz-P4qDax"
      },
      "outputs": [],
      "source": [
        "#Matrix Multiplication\n",
        "a=np.array([[1,5],[6,2]])\n",
        "b=np.array([[2,3],[2,3]])\n",
        "c=np.array([2,3]).reshape(-1,1)\n",
        "d=np.array([2,3])\n",
        "print(a)\n",
        "print(b)\n",
        "print(c)\n",
        "print(d)\n",
        "\n",
        "np.dot(a,d)"
      ]
    },
    {
      "cell_type": "code",
      "execution_count": null,
      "metadata": {
        "id": "paLSGhkfqDax"
      },
      "outputs": [],
      "source": [
        "a=np.array([[1,5,4],[6,2,9]])\n",
        "b=np.array([[2,3,1],[2,3,7]]).transpose()\n",
        "print(a)\n",
        "print(b)\n",
        "np.dot(a,b)"
      ]
    },
    {
      "cell_type": "code",
      "execution_count": null,
      "metadata": {
        "id": "k-WnUcJyqDay"
      },
      "outputs": [],
      "source": [
        "a = np.array([[2,3,3,4],[3,4,4,4],[5,6,2,3],[7,8,4,4]])\n",
        "print(a)\n",
        "print(a.reshape(8,-1))\n",
        "#print(a.reshape(-1,1))"
      ]
    },
    {
      "cell_type": "code",
      "execution_count": null,
      "metadata": {
        "id": "knEQb6hRqDay"
      },
      "outputs": [],
      "source": [
        "a = np.array([[2,3,3,4],[3,4,4,4],[5,6,2,3],[7,8,4,4]])\n",
        "b = np.array([2,3,3,4])\n",
        "a+b"
      ]
    },
    {
      "cell_type": "code",
      "execution_count": null,
      "metadata": {
        "id": "BfoiGrC1qDay"
      },
      "outputs": [],
      "source": [
        "print(b)\n",
        "print(a)\n",
        "np.dot(b,a)"
      ]
    },
    {
      "cell_type": "code",
      "execution_count": null,
      "metadata": {
        "id": "lAJ9OjdEqDay"
      },
      "outputs": [],
      "source": [
        "print(a)\n",
        "print(b)\n",
        "a/b"
      ]
    },
    {
      "cell_type": "code",
      "execution_count": null,
      "metadata": {
        "id": "qGSb3vBDqDay"
      },
      "outputs": [],
      "source": [
        "print(a)\n",
        "print(b)"
      ]
    },
    {
      "cell_type": "code",
      "execution_count": null,
      "metadata": {
        "id": "zywBUj2OqDay"
      },
      "outputs": [],
      "source": [
        "a = np.array([[2,3,3,4],[3,4,4,4],[5,6,2,3],[7,8,4,4]])\n",
        "print(a)\n",
        "a.reshape(-1,1)"
      ]
    },
    {
      "cell_type": "code",
      "execution_count": null,
      "metadata": {
        "id": "PXnMh9REqDay"
      },
      "outputs": [],
      "source": [
        "a = np.array([[2,3,3,4],[3,4,4,4],[5,6,2,3],[7,8,4,4]])\n",
        "print(a)\n",
        "a.reshape(1,-1)"
      ]
    },
    {
      "cell_type": "code",
      "execution_count": null,
      "metadata": {
        "id": "wzlDpIAUqDaz",
        "colab": {
          "base_uri": "https://localhost:8080/"
        },
        "outputId": "68dadb92-8b57-4580-e6d3-fb2491603f60"
      },
      "outputs": [
        {
          "output_type": "stream",
          "name": "stdout",
          "text": [
            "[[2 6 9]\n",
            " [8 6 4]]\n",
            "[[9 5 6 4]\n",
            " [7 3 8 7]]\n"
          ]
        },
        {
          "output_type": "execute_result",
          "data": {
            "text/plain": [
              "array([[2, 6, 9, 9, 5, 6, 4],\n",
              "       [8, 6, 4, 7, 3, 8, 7]])"
            ]
          },
          "metadata": {},
          "execution_count": 40
        }
      ],
      "source": [
        "#Horizontal Stack - Requires the arrays to have equal number of rows\n",
        "import numpy as np\n",
        "a=np.array([[2,6,9],[8,6,4]])\n",
        "b=np.array([[9,5,6,4],[7,3,8,7]])\n",
        "print(a)\n",
        "print(b)\n",
        "np.hstack((a,b))"
      ]
    },
    {
      "cell_type": "code",
      "execution_count": null,
      "metadata": {
        "id": "ZC_AHXrzqDaz",
        "colab": {
          "base_uri": "https://localhost:8080/",
          "height": 283
        },
        "outputId": "ef721736-961d-4bcc-c16f-9caa27e9064e"
      },
      "outputs": [
        {
          "output_type": "error",
          "ename": "ValueError",
          "evalue": "ignored",
          "traceback": [
            "\u001b[0;31m---------------------------------------------------------------------------\u001b[0m",
            "\u001b[0;31mValueError\u001b[0m                                Traceback (most recent call last)",
            "\u001b[0;32m<ipython-input-41-6e5c03a9826d>\u001b[0m in \u001b[0;36m<cell line: 3>\u001b[0;34m()\u001b[0m\n\u001b[1;32m      1\u001b[0m \u001b[0;31m#Vertical Stack\u001b[0m\u001b[0;34m\u001b[0m\u001b[0;34m\u001b[0m\u001b[0m\n\u001b[1;32m      2\u001b[0m \u001b[0;31m#Not possible for arrays having unequal number of columns\u001b[0m\u001b[0;34m\u001b[0m\u001b[0;34m\u001b[0m\u001b[0m\n\u001b[0;32m----> 3\u001b[0;31m \u001b[0mnp\u001b[0m\u001b[0;34m.\u001b[0m\u001b[0mvstack\u001b[0m\u001b[0;34m(\u001b[0m\u001b[0;34m(\u001b[0m\u001b[0ma\u001b[0m\u001b[0;34m,\u001b[0m\u001b[0mb\u001b[0m\u001b[0;34m)\u001b[0m\u001b[0;34m)\u001b[0m\u001b[0;34m\u001b[0m\u001b[0;34m\u001b[0m\u001b[0m\n\u001b[0m",
            "\u001b[0;32m/usr/local/lib/python3.10/dist-packages/numpy/core/overrides.py\u001b[0m in \u001b[0;36mvstack\u001b[0;34m(*args, **kwargs)\u001b[0m\n",
            "\u001b[0;32m/usr/local/lib/python3.10/dist-packages/numpy/core/shape_base.py\u001b[0m in \u001b[0;36mvstack\u001b[0;34m(tup)\u001b[0m\n\u001b[1;32m    280\u001b[0m     \u001b[0;32mif\u001b[0m \u001b[0;32mnot\u001b[0m \u001b[0misinstance\u001b[0m\u001b[0;34m(\u001b[0m\u001b[0marrs\u001b[0m\u001b[0;34m,\u001b[0m \u001b[0mlist\u001b[0m\u001b[0;34m)\u001b[0m\u001b[0;34m:\u001b[0m\u001b[0;34m\u001b[0m\u001b[0;34m\u001b[0m\u001b[0m\n\u001b[1;32m    281\u001b[0m         \u001b[0marrs\u001b[0m \u001b[0;34m=\u001b[0m \u001b[0;34m[\u001b[0m\u001b[0marrs\u001b[0m\u001b[0;34m]\u001b[0m\u001b[0;34m\u001b[0m\u001b[0;34m\u001b[0m\u001b[0m\n\u001b[0;32m--> 282\u001b[0;31m     \u001b[0;32mreturn\u001b[0m \u001b[0m_nx\u001b[0m\u001b[0;34m.\u001b[0m\u001b[0mconcatenate\u001b[0m\u001b[0;34m(\u001b[0m\u001b[0marrs\u001b[0m\u001b[0;34m,\u001b[0m \u001b[0;36m0\u001b[0m\u001b[0;34m)\u001b[0m\u001b[0;34m\u001b[0m\u001b[0;34m\u001b[0m\u001b[0m\n\u001b[0m\u001b[1;32m    283\u001b[0m \u001b[0;34m\u001b[0m\u001b[0m\n\u001b[1;32m    284\u001b[0m \u001b[0;34m\u001b[0m\u001b[0m\n",
            "\u001b[0;32m/usr/local/lib/python3.10/dist-packages/numpy/core/overrides.py\u001b[0m in \u001b[0;36mconcatenate\u001b[0;34m(*args, **kwargs)\u001b[0m\n",
            "\u001b[0;31mValueError\u001b[0m: all the input array dimensions for the concatenation axis must match exactly, but along dimension 1, the array at index 0 has size 3 and the array at index 1 has size 4"
          ]
        }
      ],
      "source": [
        "#Vertical Stack\n",
        "#Not possible for arrays having unequal number of columns\n",
        "np.vstack((a,b))"
      ]
    },
    {
      "cell_type": "code",
      "execution_count": null,
      "metadata": {
        "id": "wiKX2CuLqDaz",
        "colab": {
          "base_uri": "https://localhost:8080/"
        },
        "outputId": "b7e5ee96-bb70-48f7-e201-5d0a683cf1d1"
      },
      "outputs": [
        {
          "output_type": "stream",
          "name": "stdout",
          "text": [
            "[[1 5 3]\n",
            " [6 2 4]\n",
            " [1 2 4]\n",
            " [8 3 6]]\n",
            "[[8 5 7]\n",
            " [4 3 1]]\n"
          ]
        },
        {
          "output_type": "execute_result",
          "data": {
            "text/plain": [
              "array([[1, 5, 3],\n",
              "       [6, 2, 4],\n",
              "       [1, 2, 4],\n",
              "       [8, 3, 6],\n",
              "       [8, 5, 7],\n",
              "       [4, 3, 1]])"
            ]
          },
          "metadata": {},
          "execution_count": 42
        }
      ],
      "source": [
        "a=np.array([[1,5,3],[6,2,4],[1,2,4],[8,3,6]])\n",
        "b=np.array([[8,5,7],[4,3,1]])\n",
        "print(a)\n",
        "print(b)\n",
        "np.vstack((a,b))"
      ]
    },
    {
      "cell_type": "markdown",
      "metadata": {
        "id": "dLYQu20uqDaz"
      },
      "source": [
        "For a vertical stack, i.e. placing the array elements of a & b one below the other, we must have equal number of columns in both the arrays to be stacked"
      ]
    },
    {
      "cell_type": "markdown",
      "metadata": {
        "id": "c0-pKT3XqDaz"
      },
      "source": [
        "For a horizontal stack, i.e. placing the array elements of a & b next to each other, we must have equal number of rows in both the arrays to be stacked"
      ]
    },
    {
      "cell_type": "code",
      "execution_count": null,
      "metadata": {
        "id": "svWg93unqDaz"
      },
      "outputs": [],
      "source": [
        "np.hstack((a,b))"
      ]
    },
    {
      "cell_type": "code",
      "execution_count": null,
      "metadata": {
        "id": "J9snE_EmqDaz"
      },
      "outputs": [],
      "source": [
        "a=np.array([[1,5,3],[6,2,4]])\n",
        "b=np.array([[8,5,8,6],[4,3,7,9]])\n",
        "print(a)\n",
        "print(b)"
      ]
    },
    {
      "cell_type": "code",
      "execution_count": null,
      "metadata": {
        "id": "k6gX9IRIqDa0"
      },
      "outputs": [],
      "source": [
        "np.vstack((a,b))"
      ]
    },
    {
      "cell_type": "code",
      "execution_count": null,
      "metadata": {
        "scrolled": true,
        "id": "6PWsaULVqDa0"
      },
      "outputs": [],
      "source": [
        "np.hstack((a,b))"
      ]
    },
    {
      "cell_type": "code",
      "execution_count": null,
      "metadata": {
        "id": "bc84ALD7qDa0"
      },
      "outputs": [],
      "source": [
        "a=np.array([[1,5,3,5],[6,2,4,6],[7,1,2,3]])\n",
        "b=np.array([[8,5,8,6],[4,3,7,9]])\n",
        "print(a)\n",
        "print(b)"
      ]
    },
    {
      "cell_type": "code",
      "execution_count": null,
      "metadata": {
        "id": "mPWBSUmfqDa0"
      },
      "outputs": [],
      "source": [
        "np.hstack((a,b))"
      ]
    },
    {
      "cell_type": "code",
      "execution_count": null,
      "metadata": {
        "id": "L6EaZudXqDa0"
      },
      "outputs": [],
      "source": [
        "np.vstack((a,b))"
      ]
    },
    {
      "cell_type": "code",
      "execution_count": null,
      "metadata": {
        "id": "pIuymUGBqDa0"
      },
      "outputs": [],
      "source": [
        "np.arange(1,26)"
      ]
    },
    {
      "cell_type": "code",
      "execution_count": null,
      "metadata": {
        "id": "SaR_2k8vqDa0"
      },
      "outputs": [],
      "source": [
        "#Numbers starting from 1 to 25 arranged/reshaped in 5 rows & 5 columns\n",
        "print(np.arange(0,26))\n",
        "np.arange(1,26).reshape(5,5)"
      ]
    },
    {
      "cell_type": "code",
      "execution_count": null,
      "metadata": {
        "id": "B9yqQaTWqDa0"
      },
      "outputs": [],
      "source": [
        "array1=np.arange(15).reshape(3,5)\n",
        "array1"
      ]
    },
    {
      "cell_type": "code",
      "execution_count": null,
      "metadata": {
        "id": "gPVtlcSFqDa0"
      },
      "outputs": [],
      "source": [
        "a=np.arange(15).reshape(5,3)\n",
        "a"
      ]
    },
    {
      "cell_type": "code",
      "execution_count": null,
      "metadata": {
        "id": "tSv2TL7JqDa0"
      },
      "outputs": [],
      "source": [
        "print(a.reshape(-1,1))\n",
        "print(a.reshape(1,-1))"
      ]
    },
    {
      "cell_type": "code",
      "execution_count": null,
      "metadata": {
        "id": "mBFC7uKoqDa0"
      },
      "outputs": [],
      "source": [
        "array1=np.arange(30).reshape(5,6)\n",
        "array1"
      ]
    },
    {
      "cell_type": "code",
      "execution_count": null,
      "metadata": {
        "id": "qdXAzOrwqDa0"
      },
      "outputs": [],
      "source": [
        "array1[3][2]=14\n",
        "array1"
      ]
    },
    {
      "cell_type": "code",
      "execution_count": null,
      "metadata": {
        "id": "jQqvf9YtqDa1"
      },
      "outputs": [],
      "source": [
        "a=np.array([[4,8,7,5,6,1,4,8,7,4]])\n",
        "b=np.unique(a)\n",
        "b"
      ]
    },
    {
      "cell_type": "code",
      "execution_count": null,
      "metadata": {
        "id": "AnP8O8WBqDa1"
      },
      "outputs": [],
      "source": [
        "a=np.array([[4,8,7,5,6],[1,4,8,7,4]])\n",
        "a"
      ]
    },
    {
      "cell_type": "code",
      "execution_count": null,
      "metadata": {
        "id": "0Avt2BaEqDa1"
      },
      "outputs": [],
      "source": [
        "b=a.transpose()\n",
        "b"
      ]
    },
    {
      "cell_type": "code",
      "execution_count": null,
      "metadata": {
        "id": "0JyG2Ld_qDa1"
      },
      "outputs": [],
      "source": [
        "#Between 1 to 1000, find the multiples of 3 AND 7.\n",
        "import numpy as np\n",
        "list5=[]\n",
        "for i in range(1,1001):\n",
        "    if i%21==0:\n",
        "        list5.append(i)\n",
        "print(list5)\n",
        "a=np.array(list5)\n",
        "a\n",
        "#--------------------------------#\n",
        "\n",
        "list5=[]\n",
        "for i in range(1,1001):\n",
        "    if (i%3==0) & (i%7==0):\n",
        "        list5.append(i)\n",
        "print(list5)\n",
        "a=np.array(list5)\n",
        "a"
      ]
    },
    {
      "cell_type": "code",
      "execution_count": null,
      "metadata": {
        "id": "ktPMNUinqDa1"
      },
      "outputs": [],
      "source": [
        "import numpy as np\n",
        "a=np.array([2,5,4,6,7,8])\n",
        "b=np.array([4,7,8,5,4,4])\n",
        "print(a)\n",
        "print(b)"
      ]
    },
    {
      "cell_type": "code",
      "execution_count": null,
      "metadata": {
        "id": "JpzJCy2mqDa1"
      },
      "outputs": [],
      "source": [
        "c=np.concatenate((a,b))\n",
        "c"
      ]
    },
    {
      "cell_type": "code",
      "execution_count": null,
      "metadata": {
        "id": "_oabLAXzqDa1"
      },
      "outputs": [],
      "source": [
        "c=np.concatenate((b,a))\n",
        "c"
      ]
    },
    {
      "cell_type": "code",
      "execution_count": null,
      "metadata": {
        "id": "pE0fphCXqDa1"
      },
      "outputs": [],
      "source": [
        "a=np.array([[2,5,4],[6,7,8]])\n",
        "b=np.array([[4,7,8],[5,4,4]])"
      ]
    },
    {
      "cell_type": "code",
      "execution_count": null,
      "metadata": {
        "id": "uWagbDfxqDa1"
      },
      "outputs": [],
      "source": [
        "print(a)\n",
        "print(b)"
      ]
    },
    {
      "cell_type": "code",
      "execution_count": null,
      "metadata": {
        "id": "gyzICzqVqDa1"
      },
      "outputs": [],
      "source": [
        "c=np.concatenate((a,b))\n",
        "c"
      ]
    },
    {
      "cell_type": "code",
      "execution_count": null,
      "metadata": {
        "id": "JuQY15R2qDa2"
      },
      "outputs": [],
      "source": [
        "help(np.allclose)"
      ]
    },
    {
      "cell_type": "code",
      "execution_count": null,
      "metadata": {
        "id": "vTmhR35PqDa2"
      },
      "outputs": [],
      "source": [
        "import numpy as np\n",
        "Array1=np.linspace(3,5,5)\n",
        "print(Array1)\n",
        "Array2=np.linspace(4,5,5)\n",
        "print(Array2)\n",
        "np.greater_equal(Array1,Array2)"
      ]
    },
    {
      "cell_type": "code",
      "execution_count": null,
      "metadata": {
        "id": "XAxBKxJxqDa2"
      },
      "outputs": [],
      "source": [
        "np.less_equal(Array1,Array2)"
      ]
    },
    {
      "cell_type": "code",
      "execution_count": null,
      "metadata": {
        "id": "BDqlt6mcqDa2"
      },
      "outputs": [],
      "source": [
        "np.equal(Array1,Array2)"
      ]
    },
    {
      "cell_type": "code",
      "execution_count": null,
      "metadata": {
        "id": "Aa0gYSU7qDa2"
      },
      "outputs": [],
      "source": [
        "Array1=np.linspace(3,6,5)\n",
        "print(Array1)\n",
        "Array2=np.linspace(4,9,5)\n",
        "print(Array2)\n",
        "np.greater_equal(Array1,Array2)"
      ]
    },
    {
      "cell_type": "code",
      "execution_count": null,
      "metadata": {
        "id": "GSUYl_JvqDa2"
      },
      "outputs": [],
      "source": [
        "Array1=np.empty((3,2),dtype=int)\n",
        "Array1"
      ]
    },
    {
      "cell_type": "code",
      "execution_count": null,
      "metadata": {
        "id": "m8P1cxxiqDa2"
      },
      "outputs": [],
      "source": [
        "Array1=np.ones((3,6),dtype=int)\n",
        "Array1"
      ]
    },
    {
      "cell_type": "code",
      "execution_count": null,
      "metadata": {
        "id": "50yEweTtqDa2"
      },
      "outputs": [],
      "source": [
        "l=[1,5,7,5,5,7,4]\n",
        "arr=np.asarray(l)\n",
        "arr"
      ]
    },
    {
      "cell_type": "code",
      "execution_count": null,
      "metadata": {
        "id": "pZqtig4wqDa2"
      },
      "outputs": [],
      "source": [
        "l=[1,5,[7,5],5,7,4]\n",
        "arr=np.asarray(l)\n",
        "arr"
      ]
    },
    {
      "cell_type": "code",
      "execution_count": null,
      "metadata": {
        "id": "QBsquYIoqDa3"
      },
      "outputs": [],
      "source": [
        "type(arr)"
      ]
    },
    {
      "cell_type": "code",
      "execution_count": null,
      "metadata": {
        "id": "mQGejyHbqDa3"
      },
      "outputs": [],
      "source": [
        "l=(4,7,8,5,1,4,6)\n",
        "arr=np.asarray(l)\n",
        "arr"
      ]
    },
    {
      "cell_type": "code",
      "execution_count": null,
      "metadata": {
        "id": "UkmyLDxaqDa3"
      },
      "outputs": [],
      "source": [
        "type(arr)"
      ]
    },
    {
      "cell_type": "code",
      "execution_count": null,
      "metadata": {
        "id": "i_CS7Nr4qDa3"
      },
      "outputs": [],
      "source": [
        "Dict_1 = {d: \"ABC\", e : \"DEF\" , f: \"GHI\"}\n",
        "Dict_1"
      ]
    },
    {
      "cell_type": "code",
      "execution_count": null,
      "metadata": {
        "id": "_9XqF4bPqDa3"
      },
      "outputs": [],
      "source": [
        "a=np.array([4,5,2,1,7,8,6,3,4,5])\n",
        "b=np.array([8,5,4,1,3,9,8,5,2,1])\n",
        "c=a*b\n",
        "c"
      ]
    },
    {
      "cell_type": "code",
      "execution_count": null,
      "metadata": {
        "id": "VJgigSWLqDa3"
      },
      "outputs": [],
      "source": [
        "d=a+b\n",
        "d"
      ]
    },
    {
      "cell_type": "code",
      "execution_count": null,
      "metadata": {
        "id": "cZnYtPVmqDa3"
      },
      "outputs": [],
      "source": [
        "a=np.array([4,5,2,1,7,8,6,3,4])\n",
        "b=np.array([8,5,4,1,3,9,8,5,2,1])\n",
        "c=a+b\n",
        "c"
      ]
    },
    {
      "cell_type": "code",
      "execution_count": null,
      "metadata": {
        "id": "YCmMraxcqDa3"
      },
      "outputs": [],
      "source": [
        "a=np.array([[1,2,3,4],[5,6,7,8],[4,7,2,1]])\n",
        "b=np.array([4,7,8,5])\n",
        "c=a+b\n",
        "c"
      ]
    },
    {
      "cell_type": "code",
      "execution_count": null,
      "metadata": {
        "id": "LY-R2HwYqDa4"
      },
      "outputs": [],
      "source": [
        "a=np.array([[1,2,3,5],[5,8,9,7],[8,2,4,6]])\n",
        "a"
      ]
    },
    {
      "cell_type": "code",
      "execution_count": null,
      "metadata": {
        "id": "VbGkbOovqDa4"
      },
      "outputs": [],
      "source": [
        "for x in np.nditer(a):\n",
        "    print(x,end=' ')"
      ]
    },
    {
      "cell_type": "code",
      "execution_count": null,
      "metadata": {
        "id": "-YfUz-zZqDa4"
      },
      "outputs": [],
      "source": [
        "for x in np.nditer(a):\n",
        "    print(x)"
      ]
    },
    {
      "cell_type": "code",
      "execution_count": null,
      "metadata": {
        "id": "KUo980xoqDa4"
      },
      "outputs": [],
      "source": [
        "print(a)"
      ]
    },
    {
      "cell_type": "code",
      "execution_count": null,
      "metadata": {
        "id": "FEsd318TqDa4"
      },
      "outputs": [],
      "source": [
        "# 'T' stands for transpose... It will change rows to columns & columns to rows.\n",
        "trans_a=a.T\n",
        "trans_a"
      ]
    },
    {
      "cell_type": "code",
      "execution_count": null,
      "metadata": {
        "id": "H1N7RlZjqDa4"
      },
      "outputs": [],
      "source": [
        "np.char.add(['Welcome','to'],['Python','Session'])"
      ]
    },
    {
      "cell_type": "code",
      "execution_count": null,
      "metadata": {
        "id": "hMw1KxdgqDa4"
      },
      "outputs": [],
      "source": [
        "np.add([2,3],[5,8])"
      ]
    },
    {
      "cell_type": "code",
      "execution_count": null,
      "metadata": {
        "id": "xbw9VrdoqDa4"
      },
      "outputs": [],
      "source": [
        "np.char.multiply(\"Hello\",5)"
      ]
    },
    {
      "cell_type": "code",
      "execution_count": null,
      "metadata": {
        "id": "vuxShtNnqDa4"
      },
      "outputs": [],
      "source": [
        "print(np.char.center('Python Session',30,'+'))\n",
        "np.char.center('Python Session',30,'+')"
      ]
    },
    {
      "cell_type": "code",
      "execution_count": null,
      "metadata": {
        "id": "rHdexGarqDa5"
      },
      "outputs": [],
      "source": [
        "np.char.capitalize('welcome to python session')"
      ]
    },
    {
      "cell_type": "code",
      "execution_count": null,
      "metadata": {
        "id": "tBvNuEsIqDa5"
      },
      "outputs": [],
      "source": [
        "np.char.title('welcome to python session')"
      ]
    },
    {
      "cell_type": "code",
      "execution_count": null,
      "metadata": {
        "id": "Nsf3iy2fqDa5"
      },
      "outputs": [],
      "source": [
        "np.char.upper('welcome to python session')"
      ]
    },
    {
      "cell_type": "code",
      "execution_count": null,
      "metadata": {
        "id": "VpcXtFCoqDa5"
      },
      "outputs": [],
      "source": [
        "np.char.lower('WELCOME TO PYTHON SESSION')"
      ]
    },
    {
      "cell_type": "code",
      "execution_count": null,
      "metadata": {
        "id": "3y86JvbIqDa5"
      },
      "outputs": [],
      "source": [
        "np.char.split(\"Welcome to Python Session\")"
      ]
    },
    {
      "cell_type": "code",
      "execution_count": null,
      "metadata": {
        "id": "H4Tww4BVqDa5"
      },
      "outputs": [],
      "source": [
        "print(np.char.splitlines(\"Welcome\\nto\\nPython\\nSession\"))"
      ]
    },
    {
      "cell_type": "code",
      "execution_count": null,
      "metadata": {
        "id": "z9BflzkZqDa5"
      },
      "outputs": [],
      "source": [
        "print(np.char.strip(\"        Welcome\\nto\\nPython\\nSession     \"))"
      ]
    },
    {
      "cell_type": "code",
      "execution_count": null,
      "metadata": {
        "id": "DVIfPicYqDa5"
      },
      "outputs": [],
      "source": [
        "print(np.char.join('-','HMNSGD'))"
      ]
    },
    {
      "cell_type": "code",
      "execution_count": null,
      "metadata": {
        "id": "LOW3WSPjqDa6"
      },
      "outputs": [],
      "source": [
        "s='Welcome to Python Session'\n",
        "s"
      ]
    },
    {
      "cell_type": "code",
      "execution_count": null,
      "metadata": {
        "id": "MGDyBOyiqDa6"
      },
      "outputs": [],
      "source": [
        "import numpy as np"
      ]
    },
    {
      "cell_type": "code",
      "execution_count": null,
      "metadata": {
        "id": "wW2olzkUqDa6"
      },
      "outputs": [],
      "source": [
        "print(s)\n",
        "print(np.char.replace(s,\"Welcome to \",\"www.\"))"
      ]
    },
    {
      "cell_type": "code",
      "execution_count": null,
      "metadata": {
        "scrolled": true,
        "id": "5dZ0yi6EqDa6"
      },
      "outputs": [],
      "source": [
        "t='Hello Neha, welcome to the class'\n",
        "print(t)\n",
        "print(np.char.replace(t,\"class\",\"party\"))"
      ]
    },
    {
      "cell_type": "code",
      "execution_count": null,
      "metadata": {
        "id": "K8rSr1LPqDa6"
      },
      "outputs": [],
      "source": [
        "arr = np.array([12.2021, 90.23120, 123.0203, 23.202])\n",
        "np.around(arr, 2)"
      ]
    },
    {
      "cell_type": "code",
      "execution_count": null,
      "metadata": {
        "id": "Q1RRT3bbqDa6"
      },
      "outputs": [],
      "source": [
        "arr=np.array([12.45158,45.786546,7.8415868,5.486,4.8])\n",
        "np.around(arr,3)"
      ]
    },
    {
      "cell_type": "code",
      "execution_count": null,
      "metadata": {
        "id": "in6y7p7kqDa6"
      },
      "outputs": [],
      "source": [
        "np.floor(arr)"
      ]
    },
    {
      "cell_type": "code",
      "execution_count": null,
      "metadata": {
        "id": "QRiyDgFtqDa6"
      },
      "outputs": [],
      "source": [
        "np.ceil(arr)"
      ]
    },
    {
      "cell_type": "code",
      "execution_count": null,
      "metadata": {
        "id": "xMnzyJRQqDa6"
      },
      "outputs": [],
      "source": [
        "a = np.array([[2,10,20],[80,43,31],[22,43,10]])\n",
        "np.amin(a)\n",
        "np.amin(a)\n",
        "np.amin(a,0)\n",
        "np.amax(a,0)\n",
        "np.amin(a,1)\n",
        "np.amax(a,1)"
      ]
    },
    {
      "cell_type": "code",
      "execution_count": null,
      "metadata": {
        "id": "bY8xb-wsqDa7"
      },
      "outputs": [],
      "source": [
        "a=np.array([[2,10,20],[80,43,31],[22,43,10]])\n",
        "a"
      ]
    },
    {
      "cell_type": "code",
      "execution_count": null,
      "metadata": {
        "id": "lznDAvAwqDa7"
      },
      "outputs": [],
      "source": [
        "np.amax(a,1)"
      ]
    },
    {
      "cell_type": "code",
      "execution_count": null,
      "metadata": {
        "id": "rd54CVlKqDa7"
      },
      "outputs": [],
      "source": [
        "np.ptp(a,1)\n",
        "np.ptp(a,0)\n"
      ]
    },
    {
      "cell_type": "code",
      "execution_count": null,
      "metadata": {
        "id": "70dH4txrqDa7"
      },
      "outputs": [],
      "source": [
        "#Peak to peak"
      ]
    },
    {
      "cell_type": "code",
      "execution_count": null,
      "metadata": {
        "id": "FSQY6nZTqDa7"
      },
      "outputs": [],
      "source": [
        "a"
      ]
    },
    {
      "cell_type": "code",
      "execution_count": null,
      "metadata": {
        "id": "3dFFkjidqDa7"
      },
      "outputs": [],
      "source": [
        "np.ptp(a,1)"
      ]
    },
    {
      "cell_type": "code",
      "execution_count": null,
      "metadata": {
        "id": "L2qdWNNGqDa7"
      },
      "outputs": [],
      "source": [
        "a=np.array([[1,4],[5,3]])\n",
        "a"
      ]
    },
    {
      "cell_type": "code",
      "execution_count": null,
      "metadata": {
        "id": "_NNdI6w2qDa7"
      },
      "outputs": [],
      "source": [
        "np.sum(a,axis=1)"
      ]
    },
    {
      "cell_type": "code",
      "execution_count": null,
      "metadata": {
        "id": "nqhsEMclqDa7"
      },
      "outputs": [],
      "source": [
        "a=np.random.rand(5,2)\n",
        "a"
      ]
    },
    {
      "cell_type": "code",
      "execution_count": null,
      "metadata": {
        "id": "6Raq8H0HqDa7"
      },
      "outputs": [],
      "source": [
        "a=np.random.randint(5, size=(5,6))\n",
        "a"
      ]
    },
    {
      "cell_type": "code",
      "execution_count": null,
      "metadata": {
        "id": "iX7jo6W9qDa7"
      },
      "outputs": [],
      "source": []
    },
    {
      "cell_type": "code",
      "execution_count": null,
      "metadata": {
        "id": "U3ASLrBSqDa7"
      },
      "outputs": [],
      "source": [
        "np.array([1.+0.j, 2.+0.j, 3.+0.j],dtype=float)"
      ]
    },
    {
      "cell_type": "code",
      "execution_count": null,
      "metadata": {
        "id": "MJqI37OkqDa8"
      },
      "outputs": [],
      "source": [
        "np.mat(np.array([1,2,3,4]))"
      ]
    },
    {
      "cell_type": "code",
      "execution_count": null,
      "metadata": {
        "id": "hw8P02soqDa8"
      },
      "outputs": [],
      "source": [
        "np.mat(np.array([[1,4,5],[7,8,9]]))"
      ]
    },
    {
      "cell_type": "code",
      "execution_count": null,
      "metadata": {
        "id": "HgGglg_tqDa8"
      },
      "outputs": [],
      "source": [
        "np.mat('1 2;3 4;8 9')"
      ]
    },
    {
      "cell_type": "code",
      "execution_count": null,
      "metadata": {
        "id": "96CTNoECqDa8"
      },
      "outputs": [],
      "source": [
        "a=[7,4,5,6,9]\n",
        "type(a)"
      ]
    },
    {
      "cell_type": "code",
      "execution_count": null,
      "metadata": {
        "id": "1fGKeun0qDa8"
      },
      "outputs": [],
      "source": [
        "type(np.asarray(a))"
      ]
    },
    {
      "cell_type": "code",
      "execution_count": null,
      "metadata": {
        "id": "Tl0n4m8zqDa8"
      },
      "outputs": [],
      "source": [
        "type(a)"
      ]
    },
    {
      "cell_type": "code",
      "execution_count": null,
      "metadata": {
        "id": "gLM1_wAVqDa8"
      },
      "outputs": [],
      "source": [
        "issubclass(np.matrix,np.ndarray)"
      ]
    },
    {
      "cell_type": "code",
      "execution_count": null,
      "metadata": {
        "id": "5opX2s0pqDa8"
      },
      "outputs": [],
      "source": [
        "issubclass(np.ndarray,np.matrix)"
      ]
    },
    {
      "cell_type": "code",
      "execution_count": null,
      "metadata": {
        "id": "7I63Y25GqDa8"
      },
      "outputs": [],
      "source": [
        "a=[1,2,3]\n",
        "type(a)"
      ]
    },
    {
      "cell_type": "code",
      "execution_count": null,
      "metadata": {
        "id": "Ds_vt_rQqDa8"
      },
      "outputs": [],
      "source": [
        "np.asanyarray(a)"
      ]
    },
    {
      "cell_type": "code",
      "execution_count": null,
      "metadata": {
        "id": "8WrvSa6pqDa8"
      },
      "outputs": [],
      "source": [
        "a=np.matrix([1,2,3,4])\n",
        "a"
      ]
    },
    {
      "cell_type": "code",
      "execution_count": null,
      "metadata": {
        "id": "7M3Gm-nYqDa8"
      },
      "outputs": [],
      "source": [
        "np.asanyarray(a)"
      ]
    },
    {
      "cell_type": "code",
      "execution_count": null,
      "metadata": {
        "id": "hCfiGM0VqDa8"
      },
      "outputs": [],
      "source": [
        "x=np.array([1,2,3])\n",
        "x"
      ]
    },
    {
      "cell_type": "code",
      "execution_count": null,
      "metadata": {
        "id": "6D4UlYpPqDa9"
      },
      "outputs": [],
      "source": [
        "y=x"
      ]
    },
    {
      "cell_type": "code",
      "execution_count": null,
      "metadata": {
        "id": "s6GZUrasqDa9"
      },
      "outputs": [],
      "source": [
        "y"
      ]
    },
    {
      "cell_type": "code",
      "execution_count": null,
      "metadata": {
        "id": "8DUYF7zkqDa9"
      },
      "outputs": [],
      "source": [
        "y[1]=45"
      ]
    },
    {
      "cell_type": "code",
      "execution_count": null,
      "metadata": {
        "id": "KIbCdPKnqDa9"
      },
      "outputs": [],
      "source": [
        "y"
      ]
    },
    {
      "cell_type": "code",
      "execution_count": null,
      "metadata": {
        "id": "JPedjZCzqDa9"
      },
      "outputs": [],
      "source": [
        "x"
      ]
    },
    {
      "cell_type": "code",
      "execution_count": null,
      "metadata": {
        "id": "jfDqwZDCqDa9"
      },
      "outputs": [],
      "source": [
        "x[0]=89\n",
        "x"
      ]
    },
    {
      "cell_type": "code",
      "execution_count": null,
      "metadata": {
        "id": "maMf-t5BqDa9"
      },
      "outputs": [],
      "source": [
        "y"
      ]
    },
    {
      "cell_type": "code",
      "execution_count": null,
      "metadata": {
        "id": "Ssa32neyqDa9"
      },
      "outputs": [],
      "source": [
        "x=[1,2,3]\n",
        "x"
      ]
    },
    {
      "cell_type": "code",
      "execution_count": null,
      "metadata": {
        "id": "3aBw_C31qDa9"
      },
      "outputs": [],
      "source": [
        "z=np.copy(x)\n",
        "z"
      ]
    },
    {
      "cell_type": "code",
      "execution_count": null,
      "metadata": {
        "id": "8km8YPqTqDa9"
      },
      "outputs": [],
      "source": [
        "x[2]=8435486\n",
        "x"
      ]
    },
    {
      "cell_type": "code",
      "execution_count": null,
      "metadata": {
        "id": "MGu9RLINqDa9"
      },
      "outputs": [],
      "source": [
        "z"
      ]
    },
    {
      "cell_type": "code",
      "execution_count": null,
      "metadata": {
        "id": "f4WQtZQoqDa9"
      },
      "outputs": [],
      "source": [
        "z[2]=89\n",
        "z"
      ]
    },
    {
      "cell_type": "code",
      "execution_count": null,
      "metadata": {
        "id": "qNmVystTqDa-"
      },
      "outputs": [],
      "source": [
        "x"
      ]
    },
    {
      "cell_type": "code",
      "execution_count": null,
      "metadata": {
        "id": "ONW3x56NqDa-"
      },
      "outputs": [],
      "source": [
        "np.fromfunction(lambda i,j: i==j,(3,3),dtype=int)"
      ]
    },
    {
      "cell_type": "code",
      "execution_count": null,
      "metadata": {
        "id": "hlAT6k5tqDa-"
      },
      "outputs": [],
      "source": [
        "i=np.mat(np.array([[0,0,0],[1,1,1],[2,2,2]]))\n",
        "i"
      ]
    },
    {
      "cell_type": "code",
      "execution_count": null,
      "metadata": {
        "id": "5aigzdi-qDa-"
      },
      "outputs": [],
      "source": [
        "j=np.mat(np.array([[0,1,2],[0,1,2],[0,1,2]]))\n",
        "j"
      ]
    },
    {
      "cell_type": "code",
      "execution_count": null,
      "metadata": {
        "id": "_k1iYkeWqDa-"
      },
      "outputs": [],
      "source": [
        "print(i)\n",
        "print(j)\n",
        "k=np.array([['00','01','02'],['10','11','12'],['20','21','22']])\n",
        "print(k)"
      ]
    },
    {
      "cell_type": "code",
      "execution_count": null,
      "metadata": {
        "id": "fKh8CVmzqDa-"
      },
      "outputs": [],
      "source": [
        "np.fromfunction(lambda i,j: i*j,(3,3),dtype=int)"
      ]
    },
    {
      "cell_type": "code",
      "execution_count": null,
      "metadata": {
        "id": "PCUvNj8dqDa-"
      },
      "outputs": [],
      "source": [
        "np.fromfunction(lambda i,j,k: i*j*k,(3,3,3),dtype=int)"
      ]
    },
    {
      "cell_type": "code",
      "execution_count": null,
      "metadata": {
        "id": "oHcqvQKAqDa-"
      },
      "outputs": [],
      "source": [
        "list(range(5))\n",
        "iterable=(x*x for x in range(5))"
      ]
    },
    {
      "cell_type": "code",
      "execution_count": null,
      "metadata": {
        "id": "K6yv022mqDa-"
      },
      "outputs": [],
      "source": [
        "iterable"
      ]
    },
    {
      "cell_type": "code",
      "execution_count": null,
      "metadata": {
        "id": "eFwoJaTCqDa-"
      },
      "outputs": [],
      "source": [
        "np.fromiter(iterable,float)"
      ]
    },
    {
      "cell_type": "code",
      "execution_count": null,
      "metadata": {
        "id": "Wi752kZ6qDa-"
      },
      "outputs": [],
      "source": [
        "list(range(5))"
      ]
    },
    {
      "cell_type": "code",
      "execution_count": null,
      "metadata": {
        "id": "VSlZ1erRqDa-"
      },
      "outputs": [],
      "source": []
    },
    {
      "cell_type": "code",
      "execution_count": null,
      "metadata": {
        "id": "NYUTQu-QqDa-"
      },
      "outputs": [],
      "source": []
    },
    {
      "cell_type": "markdown",
      "metadata": {
        "id": "11Z3MsI7qDa-"
      },
      "source": [
        "Create a list of a few temperature values in celcius (between 30 to 45 degrees)\n",
        "Using 'for' loop, create another list where the celcius temperatures are converted into fahrenheit.\n",
        "\n",
        "C*(9/5)+32=F\n",
        "\n",
        "After converting to fahrenheit, create a dataframe with one column showing the above temperatures in celcius,and the nect column showing fahrenheit values for the given temperatures."
      ]
    },
    {
      "cell_type": "code",
      "execution_count": null,
      "metadata": {
        "id": "4SWNZJo9qDa_"
      },
      "outputs": [],
      "source": [
        "import numpy as np\n",
        "import pandas as pd\n",
        "C=np.arange(30,45,2)\n",
        "print(C)\n",
        "F=[]\n",
        "for i in (C,F):\n",
        "    F=C*(9/5)+32\n",
        "\n",
        "print(F)\n",
        "\n",
        "TEMPERATURE={\"C\":C, \"F\":F}\n",
        "result=pd.DataFrame(TEMPERATURE)\n",
        "result"
      ]
    },
    {
      "cell_type": "code",
      "execution_count": null,
      "metadata": {
        "id": "IMGlHJ8-qDa_"
      },
      "outputs": [],
      "source": [
        "import pandas as pd\n",
        "import numpy as np\n",
        "import random\n",
        "df = pd.DataFrame(columns=['C','F'])\n",
        "x=list(np.random.randint(30,45, size=(5)))\n",
        "y=[]\n",
        "for i in x:\n",
        "    f=i*(9/5)+32\n",
        "    y.append(f)\n",
        "df['C']=pd.Series(x)\n",
        "df['F']=pd.Series(y)\n",
        "df"
      ]
    },
    {
      "cell_type": "code",
      "execution_count": null,
      "metadata": {
        "id": "y5sbsKPcqDa_"
      },
      "outputs": [],
      "source": [
        "a=np.random.randint(2,40,size=(5))\n",
        "print(a)\n",
        "b=np.linspace(6,9,2)\n",
        "print(b)\n",
        "np.less_equal(a,b)"
      ]
    },
    {
      "cell_type": "code",
      "execution_count": null,
      "metadata": {
        "id": "chQDIqiHqDa_"
      },
      "outputs": [],
      "source": [
        "import numpy as np\n",
        "a=np.arange(1,11)\n",
        "print(a)\n",
        "b=a.reshape(10,1)\n",
        "print(b)\n",
        "for i in a:\n",
        "    c=np.power(a,b)\n",
        "print(c)"
      ]
    },
    {
      "cell_type": "code",
      "execution_count": null,
      "metadata": {
        "id": "8XW1VFPVqDa_"
      },
      "outputs": [],
      "source": []
    }
  ],
  "metadata": {
    "kernelspec": {
      "display_name": "Python 3 (ipykernel)",
      "language": "python",
      "name": "python3"
    },
    "language_info": {
      "codemirror_mode": {
        "name": "ipython",
        "version": 3
      },
      "file_extension": ".py",
      "mimetype": "text/x-python",
      "name": "python",
      "nbconvert_exporter": "python",
      "pygments_lexer": "ipython3",
      "version": "3.9.12"
    },
    "colab": {
      "provenance": []
    }
  },
  "nbformat": 4,
  "nbformat_minor": 0
}