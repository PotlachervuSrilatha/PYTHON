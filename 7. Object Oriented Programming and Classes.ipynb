{
 "cells": [
  {
   "cell_type": "code",
   "execution_count": 1,
   "id": "2cf81f52",
   "metadata": {},
   "outputs": [],
   "source": [
    "x = [1, 2, 3, 4]"
   ]
  },
  {
   "cell_type": "code",
   "execution_count": 2,
   "id": "d18b0b61",
   "metadata": {},
   "outputs": [
    {
     "name": "stdout",
     "output_type": "stream",
     "text": [
      "<class 'list'>\n"
     ]
    }
   ],
   "source": [
    "print(type(x))"
   ]
  },
  {
   "cell_type": "code",
   "execution_count": 5,
   "id": "f55ab966",
   "metadata": {},
   "outputs": [
    {
     "name": "stdout",
     "output_type": "stream",
     "text": [
      "Help on class list in module builtins:\n",
      "\n",
      "class list(object)\n",
      " |  list(iterable=(), /)\n",
      " |  \n",
      " |  Built-in mutable sequence.\n",
      " |  \n",
      " |  If no argument is given, the constructor creates a new empty list.\n",
      " |  The argument must be an iterable if specified.\n",
      " |  \n",
      " |  Methods defined here:\n",
      " |  \n",
      " |  __add__(self, value, /)\n",
      " |      Return self+value.\n",
      " |  \n",
      " |  __contains__(self, key, /)\n",
      " |      Return key in self.\n",
      " |  \n",
      " |  __delitem__(self, key, /)\n",
      " |      Delete self[key].\n",
      " |  \n",
      " |  __eq__(self, value, /)\n",
      " |      Return self==value.\n",
      " |  \n",
      " |  __ge__(self, value, /)\n",
      " |      Return self>=value.\n",
      " |  \n",
      " |  __getattribute__(self, name, /)\n",
      " |      Return getattr(self, name).\n",
      " |  \n",
      " |  __getitem__(...)\n",
      " |      x.__getitem__(y) <==> x[y]\n",
      " |  \n",
      " |  __gt__(self, value, /)\n",
      " |      Return self>value.\n",
      " |  \n",
      " |  __iadd__(self, value, /)\n",
      " |      Implement self+=value.\n",
      " |  \n",
      " |  __imul__(self, value, /)\n",
      " |      Implement self*=value.\n",
      " |  \n",
      " |  __init__(self, /, *args, **kwargs)\n",
      " |      Initialize self.  See help(type(self)) for accurate signature.\n",
      " |  \n",
      " |  __iter__(self, /)\n",
      " |      Implement iter(self).\n",
      " |  \n",
      " |  __le__(self, value, /)\n",
      " |      Return self<=value.\n",
      " |  \n",
      " |  __len__(self, /)\n",
      " |      Return len(self).\n",
      " |  \n",
      " |  __lt__(self, value, /)\n",
      " |      Return self<value.\n",
      " |  \n",
      " |  __mul__(self, value, /)\n",
      " |      Return self*value.\n",
      " |  \n",
      " |  __ne__(self, value, /)\n",
      " |      Return self!=value.\n",
      " |  \n",
      " |  __repr__(self, /)\n",
      " |      Return repr(self).\n",
      " |  \n",
      " |  __reversed__(self, /)\n",
      " |      Return a reverse iterator over the list.\n",
      " |  \n",
      " |  __rmul__(self, value, /)\n",
      " |      Return value*self.\n",
      " |  \n",
      " |  __setitem__(self, key, value, /)\n",
      " |      Set self[key] to value.\n",
      " |  \n",
      " |  __sizeof__(self, /)\n",
      " |      Return the size of the list in memory, in bytes.\n",
      " |  \n",
      " |  append(self, object, /)\n",
      " |      Append object to the end of the list.\n",
      " |  \n",
      " |  clear(self, /)\n",
      " |      Remove all items from list.\n",
      " |  \n",
      " |  copy(self, /)\n",
      " |      Return a shallow copy of the list.\n",
      " |  \n",
      " |  count(self, value, /)\n",
      " |      Return number of occurrences of value.\n",
      " |  \n",
      " |  extend(self, iterable, /)\n",
      " |      Extend list by appending elements from the iterable.\n",
      " |  \n",
      " |  index(self, value, start=0, stop=9223372036854775807, /)\n",
      " |      Return first index of value.\n",
      " |      \n",
      " |      Raises ValueError if the value is not present.\n",
      " |  \n",
      " |  insert(self, index, object, /)\n",
      " |      Insert object before index.\n",
      " |  \n",
      " |  pop(self, index=-1, /)\n",
      " |      Remove and return item at index (default last).\n",
      " |      \n",
      " |      Raises IndexError if list is empty or index is out of range.\n",
      " |  \n",
      " |  remove(self, value, /)\n",
      " |      Remove first occurrence of value.\n",
      " |      \n",
      " |      Raises ValueError if the value is not present.\n",
      " |  \n",
      " |  reverse(self, /)\n",
      " |      Reverse *IN PLACE*.\n",
      " |  \n",
      " |  sort(self, /, *, key=None, reverse=False)\n",
      " |      Sort the list in ascending order and return None.\n",
      " |      \n",
      " |      The sort is in-place (i.e. the list itself is modified) and stable (i.e. the\n",
      " |      order of two equal elements is maintained).\n",
      " |      \n",
      " |      If a key function is given, apply it once to each list item and sort them,\n",
      " |      ascending or descending, according to their function values.\n",
      " |      \n",
      " |      The reverse flag can be set to sort in descending order.\n",
      " |  \n",
      " |  ----------------------------------------------------------------------\n",
      " |  Class methods defined here:\n",
      " |  \n",
      " |  __class_getitem__(...) from builtins.type\n",
      " |      See PEP 585\n",
      " |  \n",
      " |  ----------------------------------------------------------------------\n",
      " |  Static methods defined here:\n",
      " |  \n",
      " |  __new__(*args, **kwargs) from builtins.type\n",
      " |      Create and return a new object.  See help(type) for accurate signature.\n",
      " |  \n",
      " |  ----------------------------------------------------------------------\n",
      " |  Data and other attributes defined here:\n",
      " |  \n",
      " |  __hash__ = None\n",
      "\n"
     ]
    }
   ],
   "source": [
    "help(list)"
   ]
  },
  {
   "cell_type": "code",
   "execution_count": 6,
   "id": "6b680b04",
   "metadata": {},
   "outputs": [],
   "source": [
    "# Class is a combination of variables and functions, access via objects\n",
    "# Template - used for creating objects\n",
    "# Instance - class object\n",
    "#Reuse, ease in maintence, code break down etc.."
   ]
  },
  {
   "cell_type": "code",
   "execution_count": 7,
   "id": "528402e3",
   "metadata": {},
   "outputs": [],
   "source": [
    "# class\n",
    "class Employee:\n",
    "    pass"
   ]
  },
  {
   "cell_type": "code",
   "execution_count": 10,
   "id": "c477bfe2",
   "metadata": {},
   "outputs": [],
   "source": [
    "#object\n",
    "e1 = Employee()\n",
    "e2 = Employee()"
   ]
  },
  {
   "cell_type": "code",
   "execution_count": 12,
   "id": "5ea6958a",
   "metadata": {},
   "outputs": [
    {
     "name": "stdout",
     "output_type": "stream",
     "text": [
      "Type of e1:  <class '__main__.Employee'>\n",
      "Type of e2:  <class '__main__.Employee'>\n"
     ]
    }
   ],
   "source": [
    "print(\"Type of e1: \", type(e1))\n",
    "print(\"Type of e2: \", type(e2))"
   ]
  },
  {
   "cell_type": "code",
   "execution_count": 13,
   "id": "0442f6a4",
   "metadata": {},
   "outputs": [
    {
     "name": "stdout",
     "output_type": "stream",
     "text": [
      "Location of e1 :  2839298724768\n",
      "Location of e2 :  2839298724048\n"
     ]
    }
   ],
   "source": [
    "print(\"Location of e1 : \", id(e1))\n",
    "print(\"Location of e2 : \", id(e2))"
   ]
  },
  {
   "cell_type": "code",
   "execution_count": 14,
   "id": "0c96d47f",
   "metadata": {},
   "outputs": [],
   "source": [
    "class Employee:\n",
    "    '''Help: An Employee class documentation\n",
    "    The instance of class can be used to create and manage employee data\n",
    "    It stores information like name, id, education etc'''\n",
    "    pass"
   ]
  },
  {
   "cell_type": "code",
   "execution_count": 15,
   "id": "8f2c27ca",
   "metadata": {},
   "outputs": [
    {
     "name": "stdout",
     "output_type": "stream",
     "text": [
      "Help on class Employee in module __main__:\n",
      "\n",
      "class Employee(builtins.object)\n",
      " |  Help: An Employee class documentation\n",
      " |  The instance of class can be used to create and manage employee data\n",
      " |  It stores information like name, id, education etc\n",
      " |  \n",
      " |  Data descriptors defined here:\n",
      " |  \n",
      " |  __dict__\n",
      " |      dictionary for instance variables (if defined)\n",
      " |  \n",
      " |  __weakref__\n",
      " |      list of weak references to the object (if defined)\n",
      "\n"
     ]
    }
   ],
   "source": [
    "help(Employee)"
   ]
  },
  {
   "cell_type": "code",
   "execution_count": 16,
   "id": "3364a900",
   "metadata": {},
   "outputs": [],
   "source": [
    "class Employee:\n",
    "    def __init__(self, firstname, lastname):\n",
    "        self.firstname = firstname\n",
    "        self.lastname = lastname"
   ]
  },
  {
   "cell_type": "code",
   "execution_count": 18,
   "id": "bda51b00",
   "metadata": {},
   "outputs": [],
   "source": [
    "e1 = Employee(\"Virat\", \"Kohli\")"
   ]
  },
  {
   "cell_type": "code",
   "execution_count": 19,
   "id": "852f23a4",
   "metadata": {},
   "outputs": [
    {
     "name": "stdout",
     "output_type": "stream",
     "text": [
      "e1 dict:  {'firstname': 'Virat', 'lastname': 'Kohli'}\n"
     ]
    }
   ],
   "source": [
    "print(\"e1 dict: \", e1.__dict__)"
   ]
  },
  {
   "cell_type": "code",
   "execution_count": 21,
   "id": "244e0059",
   "metadata": {},
   "outputs": [],
   "source": [
    "e2 = Employee(\"MS\", \"Dhoni\")"
   ]
  },
  {
   "cell_type": "code",
   "execution_count": 22,
   "id": "9c439f3a",
   "metadata": {},
   "outputs": [
    {
     "name": "stdout",
     "output_type": "stream",
     "text": [
      "e2 dict:  {'firstname': 'MS', 'lastname': 'Dhoni'}\n"
     ]
    }
   ],
   "source": [
    "print(\"e2 dict: \", e2.__dict__)"
   ]
  },
  {
   "cell_type": "code",
   "execution_count": 25,
   "id": "604cb142",
   "metadata": {},
   "outputs": [
    {
     "data": {
      "text/plain": [
       "'MS'"
      ]
     },
     "execution_count": 25,
     "metadata": {},
     "output_type": "execute_result"
    }
   ],
   "source": [
    "e2.firstname"
   ]
  },
  {
   "cell_type": "code",
   "execution_count": 26,
   "id": "01e22dc0",
   "metadata": {},
   "outputs": [
    {
     "data": {
      "text/plain": [
       "'Dhoni'"
      ]
     },
     "execution_count": 26,
     "metadata": {},
     "output_type": "execute_result"
    }
   ],
   "source": [
    "e2.lastname"
   ]
  },
  {
   "cell_type": "code",
   "execution_count": 27,
   "id": "58bec101",
   "metadata": {},
   "outputs": [],
   "source": [
    "class student:\n",
    "    def __init__(self, name):\n",
    "        self.name = name\n",
    "        self.marks = []"
   ]
  },
  {
   "cell_type": "code",
   "execution_count": 28,
   "id": "e41df05a",
   "metadata": {},
   "outputs": [],
   "source": [
    "s1 = student(\"Praveen\")"
   ]
  },
  {
   "cell_type": "code",
   "execution_count": 29,
   "id": "3dcf2a40",
   "metadata": {},
   "outputs": [
    {
     "data": {
      "text/plain": [
       "{'name': 'Praveen', 'marks': []}"
      ]
     },
     "execution_count": 29,
     "metadata": {},
     "output_type": "execute_result"
    }
   ],
   "source": [
    "s1.__dict__"
   ]
  },
  {
   "cell_type": "code",
   "execution_count": 41,
   "id": "97ff14fa",
   "metadata": {},
   "outputs": [],
   "source": [
    "class student:\n",
    "    def __init__(self, name):\n",
    "        self.name = name\n",
    "        self.grade = []\n",
    "    def addmarks(self, marks):\n",
    "        self.grade.append(marks)\n",
    "    def getavg(self):\n",
    "        return sum(self.grade)/len(self.grade)"
   ]
  },
  {
   "cell_type": "code",
   "execution_count": 2,
   "id": "ec342d9b",
   "metadata": {},
   "outputs": [],
   "source": [
    "s1 = student(\"Praveen\")"
   ]
  },
  {
   "cell_type": "code",
   "execution_count": 3,
   "id": "b5660cf5",
   "metadata": {},
   "outputs": [],
   "source": [
    "s1.addmarks(80)"
   ]
  },
  {
   "cell_type": "code",
   "execution_count": 4,
   "id": "a74043f5",
   "metadata": {},
   "outputs": [
    {
     "data": {
      "text/plain": [
       "{'name': 'Praveen', 'grade': [80]}"
      ]
     },
     "execution_count": 4,
     "metadata": {},
     "output_type": "execute_result"
    }
   ],
   "source": [
    "s1.__dict__"
   ]
  },
  {
   "cell_type": "code",
   "execution_count": 5,
   "id": "50a4e9a7",
   "metadata": {},
   "outputs": [],
   "source": [
    "s1.addmarks(75)"
   ]
  },
  {
   "cell_type": "code",
   "execution_count": 6,
   "id": "46e870a7",
   "metadata": {},
   "outputs": [
    {
     "data": {
      "text/plain": [
       "{'name': 'Praveen', 'grade': [80, 75]}"
      ]
     },
     "execution_count": 6,
     "metadata": {},
     "output_type": "execute_result"
    }
   ],
   "source": [
    "s1.__dict__"
   ]
  },
  {
   "cell_type": "code",
   "execution_count": 7,
   "id": "3e746574",
   "metadata": {},
   "outputs": [
    {
     "data": {
      "text/plain": [
       "77.5"
      ]
     },
     "execution_count": 7,
     "metadata": {},
     "output_type": "execute_result"
    }
   ],
   "source": [
    "s1.getavg()"
   ]
  },
  {
   "cell_type": "code",
   "execution_count": 8,
   "id": "6923f553",
   "metadata": {},
   "outputs": [],
   "source": [
    "s1.addmarks(35)"
   ]
  },
  {
   "cell_type": "code",
   "execution_count": 9,
   "id": "ac541793",
   "metadata": {},
   "outputs": [
    {
     "data": {
      "text/plain": [
       "{'name': 'Praveen', 'grade': [80, 75, 35]}"
      ]
     },
     "execution_count": 9,
     "metadata": {},
     "output_type": "execute_result"
    }
   ],
   "source": [
    "s1.__dict__"
   ]
  },
  {
   "cell_type": "code",
   "execution_count": 10,
   "id": "d12227e7",
   "metadata": {},
   "outputs": [
    {
     "data": {
      "text/plain": [
       "63.333333333333336"
      ]
     },
     "execution_count": 10,
     "metadata": {},
     "output_type": "execute_result"
    }
   ],
   "source": [
    "s1.getavg()"
   ]
  },
  {
   "cell_type": "code",
   "execution_count": 12,
   "id": "82e1c09a",
   "metadata": {},
   "outputs": [
    {
     "data": {
      "text/plain": [
       "35"
      ]
     },
     "execution_count": 12,
     "metadata": {},
     "output_type": "execute_result"
    }
   ],
   "source": [
    "s1.minmarks()"
   ]
  },
  {
   "cell_type": "code",
   "execution_count": 55,
   "id": "912b43b8",
   "metadata": {},
   "outputs": [
    {
     "data": {
      "text/plain": [
       "{'name': 'Praveen', 'grade': [80, 75, 35]}"
      ]
     },
     "execution_count": 55,
     "metadata": {},
     "output_type": "execute_result"
    }
   ],
   "source": [
    "s1.__dict__"
   ]
  },
  {
   "cell_type": "code",
   "execution_count": 1,
   "id": "e4b90c36",
   "metadata": {},
   "outputs": [],
   "source": [
    "class student:\n",
    "    def __init__(self, name):\n",
    "        self.name = name\n",
    "        self.grade = []\n",
    "    def addmarks(self, marks):\n",
    "        self.grade.append(marks)\n",
    "    def maxmarks(self):\n",
    "        return max(self.grade)\n",
    "    def minmarks(self):\n",
    "        return min(self.grade)\n",
    "    def getavg(self):\n",
    "        return sum(self.grade)/len(self.grade)"
   ]
  },
  {
   "cell_type": "code",
   "execution_count": 13,
   "id": "ee270de6",
   "metadata": {},
   "outputs": [
    {
     "data": {
      "text/plain": [
       "80"
      ]
     },
     "execution_count": 13,
     "metadata": {},
     "output_type": "execute_result"
    }
   ],
   "source": [
    "s1.maxmarks()"
   ]
  },
  {
   "cell_type": "code",
   "execution_count": 14,
   "id": "7b1cc446",
   "metadata": {},
   "outputs": [
    {
     "data": {
      "text/plain": [
       "35"
      ]
     },
     "execution_count": 14,
     "metadata": {},
     "output_type": "execute_result"
    }
   ],
   "source": [
    "s1.minmarks()"
   ]
  },
  {
   "cell_type": "code",
   "execution_count": 15,
   "id": "08428788",
   "metadata": {},
   "outputs": [],
   "source": [
    "class Employee:\n",
    "    def __init__(self, firstname, lastname, age, salary):\n",
    "        self.firstname = firstname\n",
    "        self.lastname = lastname\n",
    "        self.age = age\n",
    "        self.salary = salary\n",
    "        self.emailid = \"{}.{}@companydomain.com\".format(self.firstname, self.lastname)\n",
    "    def printDetails(self):\n",
    "        print(\"Employee Details: Name: {}, Last Name: {}, Age: {}, Salary: {}, Email: {}\".format(self.firstname, self.lastname,\n",
    "                                                                                                self.age, self.salary, self.emailid))"
   ]
  },
  {
   "cell_type": "code",
   "execution_count": 3,
   "id": "c569ef1d",
   "metadata": {},
   "outputs": [],
   "source": [
    "e1 = Employee(\"MS\", \"Dhoni\", 35, 1000000)"
   ]
  },
  {
   "cell_type": "code",
   "execution_count": 18,
   "id": "6ad46867",
   "metadata": {},
   "outputs": [
    {
     "data": {
      "text/plain": [
       "{'firstname': 'MS',\n",
       " 'lastname': 'Dhoni',\n",
       " 'age': 35,\n",
       " 'salary': 1000000,\n",
       " 'emailid': 'MS.Dhoni@companydomain.com'}"
      ]
     },
     "execution_count": 18,
     "metadata": {},
     "output_type": "execute_result"
    }
   ],
   "source": [
    "e1.__dict__"
   ]
  },
  {
   "cell_type": "code",
   "execution_count": 19,
   "id": "2d933024",
   "metadata": {},
   "outputs": [
    {
     "name": "stdout",
     "output_type": "stream",
     "text": [
      "Employee Details: Name: MS, Last Name: Dhoni, Age: 35, Salary: 1000000, Email: MS.Dhoni@companydomain.com\n"
     ]
    }
   ],
   "source": [
    "e1.printDetails()"
   ]
  },
  {
   "cell_type": "code",
   "execution_count": 4,
   "id": "15a6f2b7",
   "metadata": {},
   "outputs": [],
   "source": [
    "e2 = Employee(\"Shikar\", \"Dhawan\", 32, 100000)"
   ]
  },
  {
   "cell_type": "code",
   "execution_count": 21,
   "id": "60b1c36f",
   "metadata": {},
   "outputs": [
    {
     "name": "stdout",
     "output_type": "stream",
     "text": [
      "Employee Details: Name: Shikar, Last Name: Dhawan, Age: 32, Salary: 100000, Email: Shikar.Dhawan@companydomain.com\n"
     ]
    }
   ],
   "source": [
    "e2.printDetails()"
   ]
  },
  {
   "cell_type": "code",
   "execution_count": 40,
   "id": "525418f8",
   "metadata": {},
   "outputs": [],
   "source": [
    "class Employee:\n",
    "    __employee_count = 0\n",
    "    def __init__(self, firstname, lastname, age, salary):\n",
    "        self.firstname = firstname\n",
    "        self.lastname = lastname\n",
    "        self.age = age\n",
    "        self.salary = salary\n",
    "        self.emailid = \"{}.{}@companydomain.com\".format(self.firstname, self.lastname)\n",
    "        self.eid = Employee.__employee_count\n",
    "        Employee.__employee_count += 1\n",
    "    def printDetails(self):\n",
    "        print(\"Employee Details: Name: {}, Last Name: {}, Age: {}, Salary: {}, Email: {}\".format(self.firstname, self.lastname,\n",
    "                                                                                                self.age, self.salary, self.emailid))\n",
    "    def getEmployeeCount(cls):\n",
    "        return cls.__employee_count"
   ]
  },
  {
   "cell_type": "code",
   "execution_count": 41,
   "id": "5622702b",
   "metadata": {},
   "outputs": [],
   "source": [
    "e1 = Employee(\"MS\", \"Dhoni\", 35, 1000000)\n",
    "e2 = Employee(\"Shikar\", \"Dhawan\", 32, 100000)\n",
    "e3 = Employee(\"Virat\", \"Kohli\", 30, 10000000)"
   ]
  },
  {
   "cell_type": "code",
   "execution_count": 42,
   "id": "7eebc1fd",
   "metadata": {},
   "outputs": [],
   "source": [
    "e4 = Employee(\"Virat\", \"Kohli\", 30, 10000000)"
   ]
  },
  {
   "cell_type": "code",
   "execution_count": 43,
   "id": "8b1a271d",
   "metadata": {},
   "outputs": [],
   "source": [
    "e5 = Employee(\"Virat\", \"Kohli\", 30, 10000000)"
   ]
  },
  {
   "cell_type": "code",
   "execution_count": 50,
   "id": "f2049450",
   "metadata": {},
   "outputs": [
    {
     "data": {
      "text/plain": [
       "3"
      ]
     },
     "execution_count": 50,
     "metadata": {},
     "output_type": "execute_result"
    }
   ],
   "source": [
    "e4.eid"
   ]
  },
  {
   "cell_type": "code",
   "execution_count": 45,
   "id": "456daee4",
   "metadata": {},
   "outputs": [
    {
     "data": {
      "text/plain": [
       "mappingproxy({'__module__': '__main__',\n",
       "              '_Employee__employee_count': 5,\n",
       "              '__init__': <function __main__.Employee.__init__(self, firstname, lastname, age, salary)>,\n",
       "              'printDetails': <function __main__.Employee.printDetails(self)>,\n",
       "              'getEmployeeCount': <function __main__.Employee.getEmployeeCount(cls)>,\n",
       "              '__dict__': <attribute '__dict__' of 'Employee' objects>,\n",
       "              '__weakref__': <attribute '__weakref__' of 'Employee' objects>,\n",
       "              '__doc__': None})"
      ]
     },
     "execution_count": 45,
     "metadata": {},
     "output_type": "execute_result"
    }
   ],
   "source": [
    "Employee.__dict__"
   ]
  },
  {
   "cell_type": "code",
   "execution_count": null,
   "id": "2d3e358a",
   "metadata": {},
   "outputs": [],
   "source": []
  }
 ],
 "metadata": {
  "kernelspec": {
   "display_name": "Python 3 (ipykernel)",
   "language": "python",
   "name": "python3"
  },
  "language_info": {
   "codemirror_mode": {
    "name": "ipython",
    "version": 3
   },
   "file_extension": ".py",
   "mimetype": "text/x-python",
   "name": "python",
   "nbconvert_exporter": "python",
   "pygments_lexer": "ipython3",
   "version": "3.9.12"
  }
 },
 "nbformat": 4,
 "nbformat_minor": 5
}
