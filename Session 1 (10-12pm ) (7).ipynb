{
 "cells": [
  {
   "cell_type": "code",
   "execution_count": null,
   "id": "9635d865",
   "metadata": {},
   "outputs": [],
   "source": [
    "print(\"My name is Nikanksha Jain\")"
   ]
  },
  {
   "cell_type": "code",
   "execution_count": null,
   "id": "dfb89a1c",
   "metadata": {},
   "outputs": [],
   "source": [
    "print()"
   ]
  },
  {
   "cell_type": "code",
   "execution_count": null,
   "id": "c16cc87c",
   "metadata": {},
   "outputs": [],
   "source": [
    "print(\"My name is Nikanksha Jain\")"
   ]
  },
  {
   "cell_type": "code",
   "execution_count": null,
   "id": "2e8ffbe9",
   "metadata": {},
   "outputs": [],
   "source": [
    "print(11)"
   ]
  },
  {
   "cell_type": "code",
   "execution_count": null,
   "id": "6dbdf8c5",
   "metadata": {},
   "outputs": [],
   "source": [
    "print(11+12)"
   ]
  },
  {
   "cell_type": "code",
   "execution_count": null,
   "id": "8ccf6801",
   "metadata": {},
   "outputs": [],
   "source": [
    "a=10\n",
    "print(a)"
   ]
  },
  {
   "cell_type": "code",
   "execution_count": null,
   "id": "811002a8",
   "metadata": {},
   "outputs": [],
   "source": [
    "print(type(a))"
   ]
  },
  {
   "cell_type": "code",
   "execution_count": null,
   "id": "7237b36e",
   "metadata": {},
   "outputs": [],
   "source": [
    "a=\"10nnnRR990@#$\"\n",
    "print(a)\n",
    "print(type(a))"
   ]
  },
  {
   "cell_type": "code",
   "execution_count": null,
   "id": "03540811",
   "metadata": {},
   "outputs": [],
   "source": [
    "a='10nnnRR990@#$'\n",
    "print(a)\n",
    "print(type(a))"
   ]
  },
  {
   "cell_type": "code",
   "execution_count": null,
   "id": "9379d492",
   "metadata": {},
   "outputs": [],
   "source": [
    "print(\"9/10/2023\")"
   ]
  },
  {
   "cell_type": "code",
   "execution_count": null,
   "id": "2c762a51",
   "metadata": {},
   "outputs": [],
   "source": [
    "print(\"Nik\",\"Jain\")"
   ]
  },
  {
   "cell_type": "code",
   "execution_count": null,
   "id": "53b12ce4",
   "metadata": {},
   "outputs": [],
   "source": [
    "print(\"This is Nik \\n I am from Mumbai \")"
   ]
  },
  {
   "cell_type": "code",
   "execution_count": null,
   "id": "ed47b902",
   "metadata": {},
   "outputs": [],
   "source": [
    "print(\"This is Nik. \\t I am from Mumbai \")"
   ]
  },
  {
   "cell_type": "code",
   "execution_count": null,
   "id": "e97610d1",
   "metadata": {},
   "outputs": [],
   "source": [
    "a,b,c=10,20,12\n",
    "print(a,b,c)"
   ]
  },
  {
   "cell_type": "code",
   "execution_count": null,
   "id": "06779dcc",
   "metadata": {},
   "outputs": [],
   "source": [
    "print(10)"
   ]
  },
  {
   "cell_type": "code",
   "execution_count": null,
   "id": "0a8714f0",
   "metadata": {},
   "outputs": [],
   "source": [
    "print(b)"
   ]
  },
  {
   "cell_type": "code",
   "execution_count": null,
   "id": "0250d63b",
   "metadata": {},
   "outputs": [],
   "source": [
    "f=14\n",
    "print(type(f))"
   ]
  },
  {
   "cell_type": "code",
   "execution_count": null,
   "id": "270f4cd6",
   "metadata": {},
   "outputs": [],
   "source": [
    "print(f)"
   ]
  },
  {
   "cell_type": "code",
   "execution_count": null,
   "id": "6a596e76",
   "metadata": {},
   "outputs": [],
   "source": [
    "a,b,c=10,12,23\n",
    "print(a,b,c)"
   ]
  },
  {
   "cell_type": "code",
   "execution_count": null,
   "id": "8662e653",
   "metadata": {},
   "outputs": [],
   "source": [
    "a=b=c=10\n",
    "print(a,b,c)"
   ]
  },
  {
   "cell_type": "code",
   "execution_count": null,
   "id": "c538b897",
   "metadata": {},
   "outputs": [],
   "source": [
    "#User define input\n",
    "a=int(input(\"Enter Number: \")) #a=10\n",
    "print(\"My number is :\",a)"
   ]
  },
  {
   "cell_type": "code",
   "execution_count": null,
   "id": "68ee23c6",
   "metadata": {},
   "outputs": [],
   "source": [
    "a=str(input(\"Enter your name: \"))\n",
    "print(\"My number is :\",a)"
   ]
  },
  {
   "cell_type": "code",
   "execution_count": null,
   "id": "7c369bf0",
   "metadata": {},
   "outputs": [],
   "source": [
    "print(\"My name is :\"\"Nik\")"
   ]
  },
  {
   "cell_type": "code",
   "execution_count": null,
   "id": "89f7a368",
   "metadata": {},
   "outputs": [],
   "source": [
    "a=float(input(\"Enter your name: \"))\n",
    "print(\"My name is :\",a)"
   ]
  },
  {
   "cell_type": "code",
   "execution_count": null,
   "id": "22a99cd1",
   "metadata": {},
   "outputs": [],
   "source": [
    "12==19\n"
   ]
  },
  {
   "cell_type": "code",
   "execution_count": null,
   "id": "4fcb7e95",
   "metadata": {},
   "outputs": [],
   "source": [
    "print(\"My name is :Nik\")"
   ]
  },
  {
   "cell_type": "code",
   "execution_count": null,
   "id": "da534812",
   "metadata": {},
   "outputs": [],
   "source": [
    "a=12\n",
    "print(\"My name is :\",a)"
   ]
  },
  {
   "cell_type": "code",
   "execution_count": null,
   "id": "8953daf1",
   "metadata": {},
   "outputs": [],
   "source": [
    "Name=\"nik\"\n",
    "print(Name)"
   ]
  },
  {
   "cell_type": "code",
   "execution_count": null,
   "id": "0120637e",
   "metadata": {},
   "outputs": [],
   "source": [
    "#A variable name must start with a letter or the underscore character\n",
    "First_Name=\"abc\"\n",
    "print(First_Name)"
   ]
  },
  {
   "cell_type": "code",
   "execution_count": null,
   "id": "f78b96d9",
   "metadata": {},
   "outputs": [],
   "source": [
    "_FirstName=\"nik1\"\n",
    "print(_FirstName)"
   ]
  },
  {
   "cell_type": "code",
   "execution_count": null,
   "id": "17190557",
   "metadata": {},
   "outputs": [],
   "source": [
    "firstname=\"nik\"\n",
    "print(firstname)"
   ]
  },
  {
   "cell_type": "code",
   "execution_count": null,
   "id": "0c9cc012",
   "metadata": {},
   "outputs": [],
   "source": [
    "#A variable name cannot start with a number\n",
    "1firstname=\"nik\"\n",
    "print(1firstname)"
   ]
  },
  {
   "cell_type": "code",
   "execution_count": null,
   "id": "f9076e44",
   "metadata": {},
   "outputs": [],
   "source": [
    "#Variable names are case-sensitive (age, Age and AGE are three differentvariables)\n",
    "Age=22\n",
    "print(Age)"
   ]
  },
  {
   "cell_type": "code",
   "execution_count": null,
   "id": "1e9129ee",
   "metadata": {},
   "outputs": [],
   "source": [
    "#A variable name can only contain alpha-numeric characters and underscores(A-z, 0-9, and _ )\n",
    "r=\"Nik\"\n",
    "print(r)"
   ]
  },
  {
   "cell_type": "code",
   "execution_count": null,
   "id": "94ba1ab9",
   "metadata": {},
   "outputs": [],
   "source": [
    "u=12\n",
    "print(u)"
   ]
  },
  {
   "cell_type": "code",
   "execution_count": null,
   "id": "99e56f3a",
   "metadata": {},
   "outputs": [],
   "source": [
    "a=12\n",
    "b=13\n",
    "c=a+b\n",
    "print(c)"
   ]
  },
  {
   "cell_type": "code",
   "execution_count": null,
   "id": "a1c32413",
   "metadata": {},
   "outputs": [],
   "source": [
    "a=12\n",
    "b=13.90\n",
    "c=a+b\n",
    "print(c)\n",
    "print(type(c))"
   ]
  },
  {
   "cell_type": "code",
   "execution_count": null,
   "id": "a73517ba",
   "metadata": {},
   "outputs": [],
   "source": [
    "a=\"12\"\n",
    "print(type(a))\n",
    "a1=int(a)\n",
    "b=13.90\n",
    "c=a1+b\n",
    "print(c)"
   ]
  },
  {
   "cell_type": "code",
   "execution_count": null,
   "id": "d976778a",
   "metadata": {},
   "outputs": [],
   "source": [
    "a=\"12\"\n",
    "a1=int(a)\n",
    "b=13.90\n",
    "c=a1+b\n",
    "print(c)"
   ]
  },
  {
   "cell_type": "code",
   "execution_count": null,
   "id": "e0dcbe7f",
   "metadata": {},
   "outputs": [],
   "source": [
    "a=\"12\"\n",
    "b=\"13.90\"\n",
    "c=a+b\n",
    "print(c)"
   ]
  },
  {
   "cell_type": "code",
   "execution_count": null,
   "id": "9454944a",
   "metadata": {},
   "outputs": [],
   "source": [
    "a=\"Nik\"\n",
    "print(a*3)\n",
    "\n",
    "\n",
    "a=3\n",
    "print(a*3)"
   ]
  },
  {
   "cell_type": "code",
   "execution_count": null,
   "id": "8dd76f54",
   "metadata": {},
   "outputs": [],
   "source": [
    "#a=3\n",
    "#print(a*3)"
   ]
  },
  {
   "cell_type": "code",
   "execution_count": null,
   "id": "10d01eb4",
   "metadata": {},
   "outputs": [],
   "source": [
    "'''\n",
    "hhhhhhh \n",
    "jjjjjjj\n",
    "kkkkkk\n",
    "llllll\n",
    "lllll\n",
    "'''"
   ]
  },
  {
   "cell_type": "code",
   "execution_count": null,
   "id": "77764c53",
   "metadata": {},
   "outputs": [],
   "source": [
    "\"\"\"\n",
    "hhhhhhh \n",
    "jjjjjjj\n",
    "kkkkkk\n",
    "llllll\n",
    "lllll\n",
    "\"\"\"\n"
   ]
  },
  {
   "cell_type": "code",
   "execution_count": null,
   "id": "d408ea58",
   "metadata": {},
   "outputs": [],
   "source": [
    "abc =1000000\n",
    "print(abc)"
   ]
  },
  {
   "cell_type": "code",
   "execution_count": null,
   "id": "2d0d037c",
   "metadata": {},
   "outputs": [],
   "source": [
    "a b c =1000 2000 3000\n",
    "print(a b c)"
   ]
  },
  {
   "cell_type": "code",
   "execution_count": null,
   "id": "cc68f4fc",
   "metadata": {},
   "outputs": [],
   "source": [
    "a,b,c =1000,2000,3000\n",
    "print(a,b,c)"
   ]
  },
  {
   "cell_type": "code",
   "execution_count": null,
   "id": "e0b3166f",
   "metadata": {},
   "outputs": [],
   "source": [
    "a_b_c=1000000\n",
    "print(a_b_c)\n",
    "print(type(a_b_c))"
   ]
  },
  {
   "cell_type": "code",
   "execution_count": null,
   "id": "e3aab0a2",
   "metadata": {},
   "outputs": [],
   "source": [
    "s=\"Hello world!\"\n",
    "print(s)"
   ]
  },
  {
   "cell_type": "code",
   "execution_count": null,
   "id": "1bfcc09c",
   "metadata": {},
   "outputs": [],
   "source": [
    "print(s[6:])"
   ]
  },
  {
   "cell_type": "code",
   "execution_count": null,
   "id": "0dfe79e1",
   "metadata": {},
   "outputs": [],
   "source": [
    "print(s[2])"
   ]
  },
  {
   "cell_type": "code",
   "execution_count": null,
   "id": "fb7350d1",
   "metadata": {},
   "outputs": [],
   "source": [
    "print(s[2:])"
   ]
  },
  {
   "cell_type": "code",
   "execution_count": null,
   "id": "2abbde8c",
   "metadata": {},
   "outputs": [],
   "source": [
    "print(s[0:5])"
   ]
  },
  {
   "cell_type": "code",
   "execution_count": null,
   "id": "49203020",
   "metadata": {},
   "outputs": [],
   "source": [
    "print(len(s))"
   ]
  },
  {
   "cell_type": "code",
   "execution_count": null,
   "id": "d600c9d7",
   "metadata": {},
   "outputs": [],
   "source": [
    "p=\"I am from Mumbai\"\n",
    "print(p[5:9])"
   ]
  },
  {
   "cell_type": "code",
   "execution_count": null,
   "id": "b8e6182a",
   "metadata": {},
   "outputs": [],
   "source": [
    "p=\"I am from Mumbai\"\n",
    "print(p[-6:])"
   ]
  },
  {
   "cell_type": "code",
   "execution_count": null,
   "id": "d936f335",
   "metadata": {},
   "outputs": [],
   "source": [
    "print(p[::-1])\n"
   ]
  },
  {
   "cell_type": "code",
   "execution_count": null,
   "id": "8ced01ca",
   "metadata": {},
   "outputs": [],
   "source": [
    "print(p[:])"
   ]
  },
  {
   "cell_type": "code",
   "execution_count": null,
   "id": "348a0907",
   "metadata": {},
   "outputs": [],
   "source": [
    "print(p[-1:])"
   ]
  },
  {
   "cell_type": "code",
   "execution_count": null,
   "id": "b390e07c",
   "metadata": {},
   "outputs": [],
   "source": [
    "print(p[:-1])"
   ]
  },
  {
   "cell_type": "code",
   "execution_count": null,
   "id": "852be846",
   "metadata": {},
   "outputs": [],
   "source": [
    "p=\"I am from Mumbai\"\n",
    "print(p[6:-3])"
   ]
  },
  {
   "cell_type": "code",
   "execution_count": null,
   "id": "6d970940",
   "metadata": {},
   "outputs": [],
   "source": [
    "#Arithmetic Operators +,-.*,/,//\n",
    "12+34"
   ]
  },
  {
   "cell_type": "code",
   "execution_count": null,
   "id": "00cea80b",
   "metadata": {},
   "outputs": [],
   "source": [
    "a=12/44\n",
    "print(a)"
   ]
  },
  {
   "cell_type": "code",
   "execution_count": null,
   "id": "e2a27f70",
   "metadata": {},
   "outputs": [],
   "source": [
    "a=12\n",
    "b=13\n",
    "c=a+b\n",
    "print(c)"
   ]
  },
  {
   "cell_type": "code",
   "execution_count": null,
   "id": "aa818d54",
   "metadata": {},
   "outputs": [],
   "source": [
    "a=12\n",
    "b=13\n",
    "a+=b #a= a+b\n",
    "print(a)"
   ]
  },
  {
   "cell_type": "code",
   "execution_count": null,
   "id": "6a771c82",
   "metadata": {},
   "outputs": [],
   "source": [
    "a=12\n",
    "b=44\n",
    "c=a//b\n",
    "print(c)"
   ]
  },
  {
   "cell_type": "code",
   "execution_count": null,
   "id": "63d47a88",
   "metadata": {},
   "outputs": [],
   "source": [
    "a=2\n",
    "b=3\n",
    "c=a**b\n",
    "print(c)"
   ]
  },
  {
   "cell_type": "code",
   "execution_count": null,
   "id": "ca628309",
   "metadata": {},
   "outputs": [],
   "source": [
    "a=12\n",
    "b=44\n",
    "c=a%b\n",
    "print(c)"
   ]
  },
  {
   "cell_type": "code",
   "execution_count": null,
   "id": "d9385594",
   "metadata": {},
   "outputs": [],
   "source": [
    "a=12\n",
    "print(a)"
   ]
  },
  {
   "cell_type": "code",
   "execution_count": null,
   "id": "e2182919",
   "metadata": {},
   "outputs": [],
   "source": [
    "a=12\n",
    "a=a+12 #a +=12\n",
    "print(a)"
   ]
  },
  {
   "cell_type": "code",
   "execution_count": null,
   "id": "faf096e0",
   "metadata": {},
   "outputs": [],
   "source": [
    "a=12\n",
    "a=a-12 #a -=12\n",
    "print(a)"
   ]
  },
  {
   "cell_type": "code",
   "execution_count": null,
   "id": "da62c7bb",
   "metadata": {},
   "outputs": [],
   "source": [
    "a=13\n",
    "b=13\n",
    "a &=b\n",
    "print(a)"
   ]
  },
  {
   "cell_type": "code",
   "execution_count": null,
   "id": "30f78d9a",
   "metadata": {},
   "outputs": [],
   "source": [
    "a=10\n",
    "b=2\n",
    "a |=b\n",
    "print(a)"
   ]
  },
  {
   "cell_type": "code",
   "execution_count": null,
   "id": "8fa48373",
   "metadata": {},
   "outputs": [],
   "source": [
    "a=3\n",
    "b=5\n",
    "a ^=b\n",
    "print(a)"
   ]
  },
  {
   "cell_type": "code",
   "execution_count": null,
   "id": "15eadc4c",
   "metadata": {},
   "outputs": [],
   "source": [
    "8 4 2 1\n",
    "1 1 1 0   ...........14\n",
    "0 1 1 1  >>1 .........7\n",
    "0 0 1 1  >>2.........3"
   ]
  },
  {
   "cell_type": "code",
   "execution_count": null,
   "id": "ddf642ad",
   "metadata": {},
   "outputs": [],
   "source": [
    "a=14\n",
    "b=1\n",
    "a >>=b\n",
    "print(a)"
   ]
  },
  {
   "cell_type": "code",
   "execution_count": null,
   "id": "4c73f0c1",
   "metadata": {},
   "outputs": [],
   "source": [
    "a=3\n",
    "b=5\n",
    "a =a>>b\n",
    "print(a)"
   ]
  },
  {
   "cell_type": "code",
   "execution_count": null,
   "id": "36190759",
   "metadata": {},
   "outputs": [],
   "source": [
    "a=14\n",
    "b=2\n",
    "a =a<<b\n",
    "print(a)"
   ]
  },
  {
   "cell_type": "code",
   "execution_count": null,
   "id": "c3c46917",
   "metadata": {},
   "outputs": [],
   "source": [
    "11 == 11"
   ]
  },
  {
   "cell_type": "code",
   "execution_count": null,
   "id": "0866363e",
   "metadata": {},
   "outputs": [],
   "source": [
    "11 != 11"
   ]
  },
  {
   "cell_type": "code",
   "execution_count": null,
   "id": "5b31289b",
   "metadata": {},
   "outputs": [],
   "source": [
    "print(11 >10)"
   ]
  },
  {
   "cell_type": "code",
   "execution_count": null,
   "id": "f0833e31",
   "metadata": {},
   "outputs": [],
   "source": [
    "print(11 <10)"
   ]
  },
  {
   "cell_type": "code",
   "execution_count": null,
   "id": "586a495f",
   "metadata": {},
   "outputs": [],
   "source": [
    "print(11 >= 11) "
   ]
  },
  {
   "cell_type": "code",
   "execution_count": null,
   "id": "3b4cf4bb",
   "metadata": {},
   "outputs": [],
   "source": [
    "print(10 <= 11)# < or =="
   ]
  },
  {
   "cell_type": "code",
   "execution_count": null,
   "id": "cf826953",
   "metadata": {},
   "outputs": [],
   "source": [
    "print(10 <= 11 or 12 ==10 or 15 >10)"
   ]
  },
  {
   "cell_type": "code",
   "execution_count": null,
   "id": "09ce995b",
   "metadata": {},
   "outputs": [],
   "source": [
    "print(not(10 <= 11 or 12 ==10))"
   ]
  },
  {
   "cell_type": "code",
   "execution_count": null,
   "id": "0fe43788",
   "metadata": {},
   "outputs": [],
   "source": [
    "a=10\n",
    "if not a:\n",
    "    print(\"This will return true\")\n",
    "else:\n",
    "    print(\"false\")"
   ]
  },
  {
   "cell_type": "code",
   "execution_count": null,
   "id": "18b10646",
   "metadata": {},
   "outputs": [],
   "source": [
    "x=[\"Apple\",\"Banana\"]\n",
    "y=[\"Apple\",\"Banana\"]\n",
    "z=x"
   ]
  },
  {
   "cell_type": "code",
   "execution_count": null,
   "id": "65de27bc",
   "metadata": {},
   "outputs": [],
   "source": [
    "print(x is not z)"
   ]
  },
  {
   "cell_type": "code",
   "execution_count": null,
   "id": "d1063ea3",
   "metadata": {},
   "outputs": [],
   "source": [
    "print(x is not y)"
   ]
  },
  {
   "cell_type": "code",
   "execution_count": null,
   "id": "bfaac23a",
   "metadata": {},
   "outputs": [],
   "source": [
    "print(x==y)"
   ]
  },
  {
   "cell_type": "code",
   "execution_count": null,
   "id": "8579b6f7",
   "metadata": {},
   "outputs": [],
   "source": [
    "print(x is y)"
   ]
  },
  {
   "cell_type": "code",
   "execution_count": null,
   "id": "cd8d505a",
   "metadata": {},
   "outputs": [],
   "source": [
    "print(x is z)"
   ]
  },
  {
   "cell_type": "code",
   "execution_count": null,
   "id": "4501165f",
   "metadata": {},
   "outputs": [],
   "source": [
    "x=[\"Apple\",\"Banana\",]\n",
    "y=[\"Apple\",\"Banana\"]\n",
    "z=x\n",
    "print(x is z)"
   ]
  },
  {
   "cell_type": "code",
   "execution_count": null,
   "id": "c9363caf",
   "metadata": {},
   "outputs": [],
   "source": [
    "x=[\"Apple\",\"Banana\",]\n",
    "y=[\"Apple\",\"Banana\"]\n",
    "x=y\n",
    "print(x is y)"
   ]
  },
  {
   "cell_type": "code",
   "execution_count": null,
   "id": "328b3def",
   "metadata": {},
   "outputs": [],
   "source": [
    "x=[\"Apple\",\"Banana\",]\n",
    "y=[\"Apple\",\"Banana\"]\n",
    "\n",
    "x=y=z\n",
    "print(z is y)"
   ]
  },
  {
   "cell_type": "code",
   "execution_count": null,
   "id": "4c6b599d",
   "metadata": {},
   "outputs": [],
   "source": [
    "print(x==y)"
   ]
  },
  {
   "cell_type": "code",
   "execution_count": null,
   "id": "5b96a4e1",
   "metadata": {},
   "outputs": [],
   "source": [
    "print(x is y)"
   ]
  },
  {
   "cell_type": "code",
   "execution_count": null,
   "id": "7a3972fa",
   "metadata": {},
   "outputs": [],
   "source": [
    "a=[\"Apple\",\"Banana\"]\n",
    "b=[\"Apple\",\"Banana\"]\n",
    "c=a\n",
    "\n",
    "print(z)\n",
    "x=y\n",
    "print(x)\n",
    "print(x is z)"
   ]
  },
  {
   "cell_type": "code",
   "execution_count": null,
   "id": "ae7cdff8",
   "metadata": {},
   "outputs": [],
   "source": [
    "x=[\"Apple\",\"Banana\"]\n",
    "print(\"carrot\" in x )"
   ]
  },
  {
   "cell_type": "code",
   "execution_count": null,
   "id": "0ecd6998",
   "metadata": {},
   "outputs": [],
   "source": [
    "x=[\"Apple\",\"Banana\"]\n",
    "print(\"Ban\" not in x )"
   ]
  },
  {
   "cell_type": "code",
   "execution_count": null,
   "id": "1426522b",
   "metadata": {},
   "outputs": [],
   "source": [
    "(not(\"Banana\" in x) or (\"Ban\" in x))\n"
   ]
  },
  {
   "cell_type": "code",
   "execution_count": null,
   "id": "33d691d1",
   "metadata": {},
   "outputs": [],
   "source": [
    "day =float(input(\"Enter current time\"))\n",
    "if (day>18):\n",
    "    print(\"It is night\")\n"
   ]
  },
  {
   "cell_type": "code",
   "execution_count": null,
   "id": "e16080dd",
   "metadata": {},
   "outputs": [],
   "source": [
    "import datetime\n",
    "x=datetime.datetime.now()\n",
    "print(x)"
   ]
  },
  {
   "cell_type": "code",
   "execution_count": null,
   "id": "c35de7aa",
   "metadata": {},
   "outputs": [],
   "source": [
    "day =float(input(\"Enter current time\"))\n",
    "if (day>18):\n",
    "    print(\"It is night\")\n",
    "else:\n",
    "    print(\"It is a Day\")"
   ]
  },
  {
   "cell_type": "code",
   "execution_count": null,
   "id": "48c83e9a",
   "metadata": {},
   "outputs": [],
   "source": [
    "day =float(input(\"Enter current time\"))\n",
    "if (day>=18 and day<=24):\n",
    "    print(\"It is night\")\n",
    "elif(day<18 and day>=0):\n",
    "    print(\"It is a Day\")\n",
    "else:\n",
    "    print(\"wrong selection\")\n"
   ]
  },
  {
   "cell_type": "code",
   "execution_count": null,
   "id": "01c47222",
   "metadata": {},
   "outputs": [],
   "source": [
    "no =float(input(\"Enter number\"))\n",
    "if no>0:\n",
    "    print(\"+ve\")\n",
    "elif no<0:\n",
    "    print(\"-ve\")\n",
    "elif no==0:\n",
    "    print(\"-ve\")\n",
    "else:\n",
    "    print(\"wrong selection\")"
   ]
  },
  {
   "cell_type": "code",
   "execution_count": null,
   "id": "7b906e77",
   "metadata": {},
   "outputs": [],
   "source": [
    "name =str(input(\"Enter name\"))\n",
    "p=len(name)\n",
    "if p == 4:\n",
    "    print(\"True\")\n",
    "else:\n",
    "    print(\"False\")"
   ]
  },
  {
   "cell_type": "code",
   "execution_count": null,
   "id": "fe9cb444",
   "metadata": {},
   "outputs": [],
   "source": [
    "name =str(input(\"Enter name\"))\n",
    "\n",
    "if \"a\" in name:\n",
    "    print(\"True\")"
   ]
  },
  {
   "cell_type": "code",
   "execution_count": null,
   "id": "518399f9",
   "metadata": {},
   "outputs": [],
   "source": [
    "day =float(input(\"Enter current time\"))\n",
    "if (day>18):\n",
    "    print(\"It is night\")\n",
    "    if (day>=24):\n",
    "        print(\"mid night\")"
   ]
  },
  {
   "cell_type": "code",
   "execution_count": null,
   "id": "ffba4d07",
   "metadata": {},
   "outputs": [],
   "source": [
    "5. Find the output of the given Python program?\n",
    "a, b, c = 1, 3, 5\n",
    "if a > 0:\n",
    "  if b < 2:\n",
    "    print(\"Hi\")\n",
    "  elif c > 3:\n",
    "    print(\"Hello\")\n",
    "else:\n",
    "  print(\"Know Program\")\n",
    "A) Hi\n",
    "B) Hello\n",
    "C) Know Program\n",
    "D) Compiled Successfully, No Output.\n",
    "\n"
   ]
  },
  {
   "cell_type": "code",
   "execution_count": null,
   "id": "36cef11c",
   "metadata": {},
   "outputs": [],
   "source": [
    "a=-22\n",
    "if a%2 == 0:\n",
    "    print(\"even\")\n",
    "    if a > 0:\n",
    "        print(\"+ve\")\n",
    "    \n",
    "else:\n",
    "    print(\"wrong selection\")"
   ]
  },
  {
   "cell_type": "markdown",
   "id": "c46bba7d",
   "metadata": {},
   "source": [
    "The slice() constructor creates a slice object representing the set of indices specified by range(start, stop, step).\n",
    "Syntax:\n",
    "slice(stop)\n",
    "slice(start, stop, step)\n",
    "Parameters: \n",
    "start: Starting index where the slicing of object starts. \n",
    "stop: Ending index where the slicing of object stops. \n",
    "step: It is an optional argument that determines the increment between each index for slicing. \n",
    "Return Type: Returns a sliced object containing elements in the given range only. "
   ]
  },
  {
   "cell_type": "code",
   "execution_count": null,
   "id": "0485e3b2",
   "metadata": {},
   "outputs": [],
   "source": [
    "String = 'ASTRING'\n",
    "a1=\"I love India\"\n",
    "s1 = slice(6)\n",
    "s2 = slice(0, 6, 2)\n",
    "s3 = slice(-1, -12, -2)\n",
    "print(String[s2])\n",
    "print(a1[s1])\n"
   ]
  },
  {
   "cell_type": "code",
   "execution_count": null,
   "id": "cffb4255",
   "metadata": {},
   "outputs": [],
   "source": [
    "Str =\"ASTRING\"\n",
    "print(Str[3])"
   ]
  },
  {
   "cell_type": "code",
   "execution_count": null,
   "id": "e1a2de6d",
   "metadata": {},
   "outputs": [],
   "source": [
    "s2 = slice(1, 5, 2)\n",
    "print(String[s2])"
   ]
  },
  {
   "cell_type": "code",
   "execution_count": null,
   "id": "bbafe11f",
   "metadata": {},
   "outputs": [],
   "source": [
    "\n",
    "print(String[slice(-1, -12, -3)])"
   ]
  },
  {
   "cell_type": "code",
   "execution_count": null,
   "id": "d23a27c9",
   "metadata": {},
   "outputs": [],
   "source": [
    "s1 = \"Python\"\n",
    "s2=\"Program\"\n",
    "s3=\"\".join([s1,s2])\n",
    "s4=\"#\".join([s1,s2])\n",
    "print(s3)\n",
    "print(s4)\n"
   ]
  },
  {
   "cell_type": "code",
   "execution_count": null,
   "id": "2f05f4df",
   "metadata": {},
   "outputs": [],
   "source": [
    "txt1 = \"My name is {}, I'm {age}\".format(\"John\", age = 36)\n",
    "print(txt1)"
   ]
  },
  {
   "cell_type": "code",
   "execution_count": null,
   "id": "6f52c8b1",
   "metadata": {},
   "outputs": [],
   "source": [
    "Name =\"My name is {fname}\".format(fname=\"Nik\")\n",
    "print(Name)"
   ]
  },
  {
   "cell_type": "code",
   "execution_count": null,
   "id": "303eb454",
   "metadata": {},
   "outputs": [],
   "source": [
    "a=\"My age is {age}\".format(age=12)\n",
    "print(a)"
   ]
  },
  {
   "cell_type": "code",
   "execution_count": null,
   "id": "561bb9ac",
   "metadata": {},
   "outputs": [],
   "source": [
    "txt2 = \"My name is {0}, I'm {1}\".format(\"Mathew\",20)\n",
    "print(txt2)"
   ]
  },
  {
   "cell_type": "code",
   "execution_count": null,
   "id": "4f60e407",
   "metadata": {},
   "outputs": [],
   "source": [
    "txt =\"Once upon a King there was a King\"\n",
    "txt.replace(\"King\",\"Queen\")\n"
   ]
  },
  {
   "cell_type": "code",
   "execution_count": null,
   "id": "84ed19b0",
   "metadata": {},
   "outputs": [],
   "source": [
    "\n",
    "txt.replace(\"there\",\"their\")"
   ]
  },
  {
   "cell_type": "code",
   "execution_count": null,
   "id": "b6b38ab3",
   "metadata": {},
   "outputs": [],
   "source": [
    "txt =\"Once upon a time there was a King\"\n",
    "txt.find(\"t\")"
   ]
  },
  {
   "cell_type": "code",
   "execution_count": null,
   "id": "50f698ef",
   "metadata": {},
   "outputs": [],
   "source": [
    "txt4 =\"Company12\"\n",
    "a=txt4.isalnum()\n",
    "print(a)"
   ]
  },
  {
   "cell_type": "code",
   "execution_count": null,
   "id": "5682fcc5",
   "metadata": {},
   "outputs": [],
   "source": [
    "txt5 =\"Company\"\n",
    "a1=txt5.isalnum()\n",
    "print(a1)"
   ]
  },
  {
   "cell_type": "code",
   "execution_count": null,
   "id": "8ba43d28",
   "metadata": {},
   "outputs": [],
   "source": [
    "txt5 =\"12\"\n",
    "a1=txt5.isalnum()\n",
    "print(a1)"
   ]
  },
  {
   "cell_type": "code",
   "execution_count": null,
   "id": "17f469e2",
   "metadata": {},
   "outputs": [],
   "source": [
    "txt4 =\"Company 12\"\n",
    "a=txt4.isalnum()\n",
    "print(a)"
   ]
  },
  {
   "cell_type": "code",
   "execution_count": null,
   "id": "92633d32",
   "metadata": {},
   "outputs": [],
   "source": [
    "txt =\"Hello, My name is Nik, My age is 12\"\n",
    "s=txt.split(\",\")\n",
    "print(s)"
   ]
  },
  {
   "cell_type": "code",
   "execution_count": null,
   "id": "b3b600b6",
   "metadata": {},
   "outputs": [],
   "source": [
    "txt =\"Hello, My name is Nik, My age is 12\"\n",
    "s=txt.split(\",\",maxsplit=1)\n",
    "print(s)"
   ]
  },
  {
   "cell_type": "code",
   "execution_count": null,
   "id": "d6208935",
   "metadata": {},
   "outputs": [],
   "source": [
    "txt.startswith(\"H\")"
   ]
  },
  {
   "cell_type": "code",
   "execution_count": null,
   "id": "01d8a820",
   "metadata": {},
   "outputs": [],
   "source": [
    "txt =\"Banana\"\n",
    "x=txt.center(80)\n",
    "print(x)"
   ]
  },
  {
   "cell_type": "code",
   "execution_count": null,
   "id": "ae7c314d",
   "metadata": {},
   "outputs": [],
   "source": [
    "txt =\"Banana\"\n",
    "x=txt.center(20,\"0\")\n",
    "print(x)"
   ]
  },
  {
   "cell_type": "code",
   "execution_count": null,
   "id": "89bbe5dd",
   "metadata": {},
   "outputs": [],
   "source": [
    "t=\"I love India. India is beautiful\"\n",
    "t.count(\"India\")"
   ]
  },
  {
   "cell_type": "code",
   "execution_count": null,
   "id": "9a38b80b",
   "metadata": {},
   "outputs": [],
   "source": [
    "print(\"This is India. \\n We are studing at Excelr\")"
   ]
  },
  {
   "cell_type": "code",
   "execution_count": null,
   "id": "e3ef7ace",
   "metadata": {},
   "outputs": [],
   "source": [
    "print(\"This is India. \\t \\t \\t We are studing at Excelr\")"
   ]
  },
  {
   "cell_type": "code",
   "execution_count": null,
   "id": "f9a41514",
   "metadata": {},
   "outputs": [],
   "source": [
    "# For # While "
   ]
  },
  {
   "cell_type": "code",
   "execution_count": null,
   "id": "59f15ac4",
   "metadata": {},
   "outputs": [],
   "source": [
    "for i in range(10):#0<10 0....9\n",
    "    print(\"Python\")"
   ]
  },
  {
   "cell_type": "code",
   "execution_count": null,
   "id": "b3cd2ebf",
   "metadata": {},
   "outputs": [],
   "source": [
    "for i in range(10):\n",
    "    print(i)"
   ]
  },
  {
   "cell_type": "code",
   "execution_count": null,
   "id": "7d66cf36",
   "metadata": {},
   "outputs": [],
   "source": [
    "for i in range(1,20):\n",
    "    print(i)"
   ]
  },
  {
   "cell_type": "code",
   "execution_count": null,
   "id": "2af20a87",
   "metadata": {},
   "outputs": [],
   "source": [
    "for i in range(1,21,1):\n",
    "    print(i)"
   ]
  },
  {
   "cell_type": "code",
   "execution_count": null,
   "id": "ed979a67",
   "metadata": {},
   "outputs": [],
   "source": [
    "\"\"\"\n",
    "for loop is used to iterate over a sequence (list, tuple, string) or other iterable objects. \n",
    "Iterating over a sequence is called traversal.\n",
    "for loop is an entry check loop.\n",
    "The condition is checked in the beginning and the body of the loop is executed if it is only True otherwise the loop is not executed.\n",
    "Loop continues until we reach the last item in the sequence. \n",
    "The body of for loop is separated from the rest of the code using indentation.\n",
    "\"\"\""
   ]
  },
  {
   "cell_type": "code",
   "execution_count": null,
   "id": "9083a948",
   "metadata": {},
   "outputs": [],
   "source": [
    "for p in \"python\":\n",
    "    print(p)"
   ]
  },
  {
   "cell_type": "code",
   "execution_count": null,
   "id": "41c2d9c0",
   "metadata": {},
   "outputs": [],
   "source": [
    "a=10\n",
    "while(a>=1):\n",
    "    print(a)\n",
    "    a=a-1\n"
   ]
  },
  {
   "cell_type": "code",
   "execution_count": null,
   "id": "7874e8a8",
   "metadata": {
    "scrolled": false
   },
   "outputs": [],
   "source": [
    "essay =input(\"Enter your essay\")\n",
    "count =0\n",
    "for i in essay:\n",
    "    if i==\" \":\n",
    "        count +=1 # count =count+1\n",
    "print(count)\n",
    "if count >=250:\n",
    "    print(\"Length is >=250\")\n",
    "else:\n",
    "    print(\"Length is <=250\")"
   ]
  },
  {
   "cell_type": "code",
   "execution_count": null,
   "id": "a053f8a2",
   "metadata": {},
   "outputs": [],
   "source": [
    "essay =input(\"Enter your essay\")\n",
    "p=len(essay)\n",
    "print(p)"
   ]
  },
  {
   "cell_type": "code",
   "execution_count": null,
   "id": "8c97e98d",
   "metadata": {},
   "outputs": [],
   "source": [
    "for i in \"python\":\n",
    "    if i==\"h\":\n",
    "       pass\n",
    "    print(\"current letter is \", i)\n",
    "    "
   ]
  },
  {
   "cell_type": "code",
   "execution_count": null,
   "id": "645d0736",
   "metadata": {},
   "outputs": [],
   "source": [
    "for i in \"python\":\n",
    "    if i==\"h\":\n",
    "        break\n",
    "        #print(\"This is pass block\")\n",
    "    print(\"current letter is \", i)"
   ]
  },
  {
   "cell_type": "code",
   "execution_count": null,
   "id": "26b4a28b",
   "metadata": {},
   "outputs": [],
   "source": [
    "for i in \"python\":\n",
    "    if i==\"h\":\n",
    "        continue\n",
    "        #print(\"This is pass block\")\n",
    "    print(\"current letter is \", i)"
   ]
  },
  {
   "cell_type": "code",
   "execution_count": null,
   "id": "aaa541d2",
   "metadata": {},
   "outputs": [],
   "source": [
    "for i in range(1,11):\n",
    "    for j in range(1,11):\n",
    "        print(i*j,end =\"    \")\n",
    "    print(  )"
   ]
  },
  {
   "cell_type": "code",
   "execution_count": null,
   "id": "0c2f50fc",
   "metadata": {},
   "outputs": [],
   "source": [
    "*\n",
    "* *\n",
    "* * *\n",
    "* * * *\n",
    "* * * * *\n"
   ]
  },
  {
   "cell_type": "code",
   "execution_count": null,
   "id": "9b12ccc5",
   "metadata": {},
   "outputs": [],
   "source": [
    "for i in range(5):\n",
    "    for j in range(i+1):\n",
    "       print(\"*\",end =\"\")\n",
    "    print(  )"
   ]
  },
  {
   "cell_type": "code",
   "execution_count": null,
   "id": "42600469",
   "metadata": {},
   "outputs": [],
   "source": [
    "\n"
   ]
  },
  {
   "cell_type": "code",
   "execution_count": null,
   "id": "9902b398",
   "metadata": {},
   "outputs": [],
   "source": []
  },
  {
   "cell_type": "code",
   "execution_count": null,
   "id": "9d620b13",
   "metadata": {},
   "outputs": [],
   "source": [
    "Which jump statement is used to skip the current \n",
    "     iteration and move to the next iteration?\n",
    "a) break\n",
    "b) continue\n",
    "c) switch\n",
    "d) None of the above\n",
    "\n",
    ". What is the output of the following snippet?\n",
    "      round(4.7684)\n",
    "a) 4.76\n",
    "b) 4.77\n",
    "c) 5\n",
    "d) 4\n",
    "\n",
    " What is the output of the following snippet?\n",
    "     t = (2,4,8,2)\n",
    "     print(t[1 : -1])\n",
    "a) (2, 4)\n",
    "b) (4, 8)\n",
    "c) (4, 8, 2)\n",
    "d) (8, 2)\n",
    "\n",
    " Which of the following arithmetic operators cannot be \n",
    "    used with strings ?\n",
    "a) +\n",
    "b) -\n",
    "c) *\n",
    "d) None of the above\n",
    "What is the output of the following snippet?\n",
    "     list = [2, 46, 56, 100, 28]\n",
    "     print(list[-1])\n",
    "a) 100\n",
    "b) 46\n",
    "c) 28\n",
    "d) Error\n",
    " How many times will the loop run?\n",
    "i=2\n",
    "while(i>0):\n",
    "    i=i-1\n",
    "a) 2                                                          b) 1\n",
    "c) 3 \n",
    "\n",
    "What will be the output of the following Python code?\n",
    "for i in range(0,2,-1):\n",
    "    print(\"Hello\")\n",
    "a) Hello Hello                                         b) Hello\n",
    "c) No Output                                          d) Error\n",
    " Which of the following is a valid for loop in Python?\n",
    "a) for(i=0; i < n; i++)\n",
    "b) for i in range(0,5):\n",
    "c) for i in range(0,5)\n",
    "d) for i in range(5)\n",
    " What will be the output of the following Python code?\n",
    "x = \"abcdef\"\n",
    "i = \"a\"\n",
    "while i in x:\n",
    "    x = x[:-1]\n",
    "    print(i, end = \" \")\n",
    "a) iiiiii\n",
    "b) aaaaaa\n",
    "c) aaaaa\n",
    "d) None of the above\n",
    "\n",
    "\n",
    "\n"
   ]
  },
  {
   "cell_type": "code",
   "execution_count": null,
   "id": "05458e35",
   "metadata": {},
   "outputs": [],
   "source": [
    "h=int(input(\"Enter the height: \"))\n",
    "for i in range(1,h+1):\n",
    "    for j in range(1,h-i+1):\n",
    "        print(\" \",end=\" \")\n",
    "    for j in range(1,i+1):\n",
    "        print('*',end=\" \")\n",
    "    for j in range(1,i):\n",
    "        print('*',end=\" \")\n",
    "    print(\"\\n\")\n"
   ]
  },
  {
   "cell_type": "markdown",
   "id": "bf15de0e",
   "metadata": {},
   "source": [
    "\"\"\"1. \\n and \\t  are known as __________.\n",
    "a) Escape Sequence\n",
    "b) Special Character\n",
    "c) Keyword\n",
    "d) None of the above\n",
    "\n",
    "2.What is the error returned by the following code: \n",
    "str = \"Learning\"\n",
    "print(str[10])\n",
    "a) Error  in Index\n",
    "b) Index out of range in string\n",
    "c) Index Error\n",
    "d) None of the above\n",
    " Name the function which is used to find length of string ?\n",
    "a) length( )\n",
    "b) len( )\n",
    "c) strlen( )\n",
    "d) slen( )\n",
    "4. Which operator is used with integers as well as with strings?\n",
    "a) /\n",
    "b) //\n",
    "c) **\n",
    "d) *\n",
    ". What will be the output of the following?\n",
    "    str = \"Welcome\"\n",
    "      l=len(str)\n",
    "      print(l)\n",
    "a) Error                                        b) 7\n",
    "c) 6                                               d) 8\n",
    "\n",
    " What will be the output of below Python code?\n",
    "      str1=\"Information\"\n",
    "      print(str1[2:8])\n",
    "a) format                                      b) formatio \n",
    "c) orma                                         d) ormat\"\"\""
   ]
  },
  {
   "cell_type": "code",
   "execution_count": null,
   "id": "25c12b39",
   "metadata": {},
   "outputs": [],
   "source": [
    "\n",
    "print(1+3)\n",
    "print(\"Nik\"+\"Jain\")"
   ]
  },
  {
   "cell_type": "code",
   "execution_count": null,
   "id": "fd4fdf5f",
   "metadata": {},
   "outputs": [],
   "source": [
    "print(2*3)\n",
    "print(\"Nik \"*3)"
   ]
  },
  {
   "cell_type": "markdown",
   "id": "3de232df",
   "metadata": {},
   "source": [
    "A list is a sequence of similar or different data types. \n",
    "It is an ordered collection of values (elements) enclosed within square brackets [ ]. \n",
    "List can be modified.\n",
    "The position of an element in the list is indexed, first element starting with zero, second indexed as one and so on.\n",
    "The elements of list should be specified within square brackets. \n",
    "Example:\n",
    "Marks = [10, 23, 41, 75]\n",
    "Fruits = [“Apple”, “Orange”, “Mango”, “Banana”]\n",
    "MyList = [ ]\n"
   ]
  },
  {
   "cell_type": "code",
   "execution_count": null,
   "id": "4791e6b9",
   "metadata": {},
   "outputs": [],
   "source": [
    "Marks = [10, 23, 41, 75]\n",
    "print(Marks)"
   ]
  },
  {
   "cell_type": "code",
   "execution_count": null,
   "id": "0b19e961",
   "metadata": {},
   "outputs": [],
   "source": [
    "Marks = [10, 23, 41, 75,12.5,\"Nik\",True]\n",
    "print(Marks)"
   ]
  },
  {
   "cell_type": "code",
   "execution_count": null,
   "id": "d0a24508",
   "metadata": {},
   "outputs": [],
   "source": [
    "Fruits = [\"Apple\", \"Orange\", \"Mango\", \"Banana\"]\n",
    "print(Fruits)"
   ]
  },
  {
   "cell_type": "code",
   "execution_count": null,
   "id": "87b87fba",
   "metadata": {},
   "outputs": [],
   "source": [
    "print(Fruits[0])"
   ]
  },
  {
   "cell_type": "code",
   "execution_count": null,
   "id": "2a5d689b",
   "metadata": {},
   "outputs": [],
   "source": [
    "print(Fruits[-2])"
   ]
  },
  {
   "cell_type": "code",
   "execution_count": null,
   "id": "c6f84270",
   "metadata": {},
   "outputs": [],
   "source": [
    "i=1\n",
    "while(i<=4):\n",
    "    print(Marks[i],end=\" \")\n",
    "    i=i+1"
   ]
  },
  {
   "cell_type": "code",
   "execution_count": null,
   "id": "ba76ec10",
   "metadata": {},
   "outputs": [],
   "source": [
    "Marks = [10, 23, 41, 75,12.5,\"Nik\",True]"
   ]
  },
  {
   "cell_type": "code",
   "execution_count": null,
   "id": "09a400bb",
   "metadata": {},
   "outputs": [],
   "source": [
    "i=-1\n",
    "while(i>=-4):\n",
    "    print(Marks[i],end=\" \")\n",
    "    i=i-1"
   ]
  },
  {
   "cell_type": "code",
   "execution_count": null,
   "id": "f8ab730a",
   "metadata": {},
   "outputs": [],
   "source": [
    "Marks.append(90)\n",
    "print(Marks)"
   ]
  },
  {
   "cell_type": "code",
   "execution_count": null,
   "id": "e0664808",
   "metadata": {},
   "outputs": [],
   "source": [
    "print (\"Marks[0]: \", Marks[0])"
   ]
  },
  {
   "cell_type": "code",
   "execution_count": null,
   "id": "a1c2b217",
   "metadata": {},
   "outputs": [],
   "source": [
    "Fruits = [\"Apple\", \"Orange\", \"Mango\", \"Banana\", \"Orange\"]\n",
    "print(Fruits)"
   ]
  },
  {
   "cell_type": "code",
   "execution_count": null,
   "id": "9aeca677",
   "metadata": {},
   "outputs": [],
   "source": [
    "print (\"Marks[1:5]: \", Fruits[1:5]) #Fruits = [\"Apple\", \"Orange\", \"Mango\", \"Banana\"]"
   ]
  },
  {
   "cell_type": "code",
   "execution_count": null,
   "id": "1e830737",
   "metadata": {},
   "outputs": [],
   "source": [
    "Marks"
   ]
  },
  {
   "cell_type": "code",
   "execution_count": null,
   "id": "aca364f9",
   "metadata": {},
   "outputs": [],
   "source": [
    ">>>list[0] # Prints first element of the list \n",
    ">>>list[1:3] # Prints elements starting from 2nd till 3rd \n",
    ">>>list[2:] # Prints elements starting from 3rd element \n",
    ">>>list[:3] # Prints elements starting from beginning till 3rd \n",
    ">>>list[1:-1] # Prints all elements except the first and last \n",
    ">>>tinylist * 2 # Prints list two times \n",
    ">>>list + tinylist # Prints concatenated lists \n",
    ">>>len(list) # Prints length of the list \n"
   ]
  },
  {
   "cell_type": "code",
   "execution_count": null,
   "id": "87d93dfe",
   "metadata": {},
   "outputs": [],
   "source": [
    "Fruits[1]=\"cherry\"\n",
    "Fruits"
   ]
  },
  {
   "cell_type": "code",
   "execution_count": null,
   "id": "e663ece4",
   "metadata": {},
   "outputs": [],
   "source": [
    "Fruits[:]=[]\n",
    "Fruits"
   ]
  },
  {
   "cell_type": "code",
   "execution_count": null,
   "id": "c7bb08b2",
   "metadata": {},
   "outputs": [],
   "source": [
    "Fruits = [\"Apple\", \"Orange\", \"Mango\", \"Banana\"]\n",
    "Marks.append([90,12,23])\n",
    "print(Marks)"
   ]
  },
  {
   "cell_type": "code",
   "execution_count": null,
   "id": "c7ec3274",
   "metadata": {},
   "outputs": [],
   "source": [
    "Marks.extend([70,72,73])\n",
    "print(Marks)"
   ]
  },
  {
   "cell_type": "code",
   "execution_count": null,
   "id": "e2200300",
   "metadata": {},
   "outputs": [],
   "source": [
    "Marks[9]"
   ]
  },
  {
   "cell_type": "code",
   "execution_count": null,
   "id": "97d86252",
   "metadata": {},
   "outputs": [],
   "source": [
    "Marks.insert(2,\"hhhh\")\n",
    "print(Marks)"
   ]
  },
  {
   "cell_type": "code",
   "execution_count": null,
   "id": "71df055b",
   "metadata": {},
   "outputs": [],
   "source": [
    "Marks.remove(\"hhhh\")"
   ]
  },
  {
   "cell_type": "code",
   "execution_count": null,
   "id": "8be9bdf2",
   "metadata": {},
   "outputs": [],
   "source": [
    "Marks"
   ]
  },
  {
   "cell_type": "code",
   "execution_count": null,
   "id": "96c89b76",
   "metadata": {},
   "outputs": [],
   "source": [
    "del Marks[1]\n",
    "print(Marks)"
   ]
  },
  {
   "cell_type": "code",
   "execution_count": null,
   "id": "f725209a",
   "metadata": {},
   "outputs": [],
   "source": [
    "Marks = [100,10,200, 23, 41,90, 75]\n",
    "Marks.sort()"
   ]
  },
  {
   "cell_type": "code",
   "execution_count": null,
   "id": "51ea5cb2",
   "metadata": {},
   "outputs": [],
   "source": [
    "Marks"
   ]
  },
  {
   "cell_type": "code",
   "execution_count": null,
   "id": "1b15dd23",
   "metadata": {},
   "outputs": [],
   "source": [
    "Fruits = [\"Apple\", \"Orange\", \"Mango\", \"Banana\"]\n",
    "\n",
    "Fruits.sort()"
   ]
  },
  {
   "cell_type": "code",
   "execution_count": null,
   "id": "170c1b22",
   "metadata": {},
   "outputs": [],
   "source": [
    "Fruits"
   ]
  },
  {
   "cell_type": "code",
   "execution_count": null,
   "id": "4570a02b",
   "metadata": {},
   "outputs": [],
   "source": [
    "l=[\"N\",\"I\",\"k\"]\n",
    "print(\"\".join(l))"
   ]
  },
  {
   "cell_type": "code",
   "execution_count": null,
   "id": "64d75f9d",
   "metadata": {},
   "outputs": [],
   "source": [
    "l=[\"N\",\"I\",\"k\"]\n",
    "l\n",
    "l1=l.copy()\n",
    "l1"
   ]
  },
  {
   "cell_type": "code",
   "execution_count": null,
   "id": "4ce0763c",
   "metadata": {},
   "outputs": [],
   "source": [
    "l=[1,2,3,1,3,1]\n",
    "l.count(1)"
   ]
  },
  {
   "cell_type": "code",
   "execution_count": null,
   "id": "aeb1a4b0",
   "metadata": {},
   "outputs": [],
   "source": [
    "l=[\"N\",\"I\",\"k\"]\n",
    "l.count(\"N\")"
   ]
  },
  {
   "cell_type": "code",
   "execution_count": null,
   "id": "7425121b",
   "metadata": {},
   "outputs": [],
   "source": [
    "l.reverse()"
   ]
  },
  {
   "cell_type": "code",
   "execution_count": null,
   "id": "c6a33488",
   "metadata": {},
   "outputs": [],
   "source": [
    "l"
   ]
  },
  {
   "cell_type": "code",
   "execution_count": null,
   "id": "7aaf27be",
   "metadata": {},
   "outputs": [],
   "source": [
    "max(l)"
   ]
  },
  {
   "cell_type": "code",
   "execution_count": null,
   "id": "5be4b592",
   "metadata": {},
   "outputs": [],
   "source": [
    "min(l)"
   ]
  },
  {
   "cell_type": "code",
   "execution_count": null,
   "id": "3d16bacd",
   "metadata": {},
   "outputs": [],
   "source": [
    "names1 = ['Amir', 'Bear', 'Charlton', 'Daman']\n",
    "\n",
    "names2=names1\n",
    "names3 = names1[:]\n",
    "names2[0] = 'Alice'\n",
    "names3[1] = 'Bob'\n",
    "\n",
    "sum = 0\n",
    "for ls in (names1, names2, names3):\n",
    "    print(ls)\n",
    "    if ls[0] == 'Alice':\n",
    "        sum += 1\n",
    "    if ls[1] == 'Bob':\n",
    "        sum += 10\n",
    "print( sum)\n"
   ]
  },
  {
   "cell_type": "code",
   "execution_count": null,
   "id": "10548d47",
   "metadata": {},
   "outputs": [],
   "source": [
    "t1=(\"Apple\",\"Banana\",\"Cherry\")\n",
    "t1"
   ]
  },
  {
   "cell_type": "code",
   "execution_count": null,
   "id": "ab24a83f",
   "metadata": {},
   "outputs": [],
   "source": [
    "print(t1)"
   ]
  },
  {
   "cell_type": "code",
   "execution_count": null,
   "id": "c44ed954",
   "metadata": {},
   "outputs": [],
   "source": [
    "t1=(\"Apple\",\"Banana\",\"Cherry\",\"Apple\")\n",
    "t1"
   ]
  },
  {
   "cell_type": "code",
   "execution_count": null,
   "id": "3efe15d6",
   "metadata": {},
   "outputs": [],
   "source": [
    "print(t1[0])"
   ]
  },
  {
   "cell_type": "code",
   "execution_count": null,
   "id": "a546f914",
   "metadata": {},
   "outputs": [],
   "source": [
    "print(len(t1))"
   ]
  },
  {
   "cell_type": "code",
   "execution_count": null,
   "id": "3190c282",
   "metadata": {},
   "outputs": [],
   "source": [
    "print(type(t1))"
   ]
  },
  {
   "cell_type": "code",
   "execution_count": null,
   "id": "0ec61583",
   "metadata": {},
   "outputs": [],
   "source": [
    "t1=(\"Apple\",\"Banana\",\"Cherry\",\"Apple\")\n",
    "t2=(1,2,3,4,5)\n",
    "t3=(True,False,True)\n",
    "t4=(\"Apple\",1,True,0)\n",
    "t1\n"
   ]
  },
  {
   "cell_type": "code",
   "execution_count": null,
   "id": "df8848ed",
   "metadata": {},
   "outputs": [],
   "source": [
    "t2\n"
   ]
  },
  {
   "cell_type": "code",
   "execution_count": null,
   "id": "bbdc892b",
   "metadata": {},
   "outputs": [],
   "source": [
    "t3\n"
   ]
  },
  {
   "cell_type": "code",
   "execution_count": null,
   "id": "2aae57c2",
   "metadata": {},
   "outputs": [],
   "source": [
    "t4"
   ]
  },
  {
   "cell_type": "code",
   "execution_count": null,
   "id": "4afdc9f7",
   "metadata": {},
   "outputs": [],
   "source": [
    "t5=\"Apple\",\"Banana\",\"Cherry\",\"Apple\"\n",
    "print(type(t5))"
   ]
  },
  {
   "cell_type": "code",
   "execution_count": null,
   "id": "e2246078",
   "metadata": {},
   "outputs": [],
   "source": [
    "print(t5[-1])"
   ]
  },
  {
   "cell_type": "code",
   "execution_count": null,
   "id": "72557408",
   "metadata": {},
   "outputs": [],
   "source": [
    "print(t5[2:4])"
   ]
  },
  {
   "cell_type": "code",
   "execution_count": null,
   "id": "49af24e3",
   "metadata": {},
   "outputs": [],
   "source": [
    "if \"Apple\" in t5:\n",
    "    print(\"Yes\")\n",
    "else:\n",
    "    print(\"No\")"
   ]
  },
  {
   "cell_type": "code",
   "execution_count": null,
   "id": "9c52ba10",
   "metadata": {},
   "outputs": [],
   "source": [
    "t5=\"Apple\",\"Banana\",\"Cherry\",\"Apple\"\n",
    "y=list(t5)\n",
    "y[1]=\"Kiwi\"\n",
    "t5=tuple(y)\n",
    "t5"
   ]
  },
  {
   "cell_type": "code",
   "execution_count": null,
   "id": "0d647a81",
   "metadata": {},
   "outputs": [],
   "source": [
    "t5=(\"Apple\",\"Banana\",\"Cherry\",\"Apple\")\n",
    "print(type(t5))\n",
    "t6=(\"kiwi\",)\n",
    "print(type(t6))\n",
    "t5 +=t6\n",
    "t5"
   ]
  },
  {
   "cell_type": "code",
   "execution_count": null,
   "id": "14b3599c",
   "metadata": {},
   "outputs": [],
   "source": [
    "t5=(\"Apple\",\"Banana\",\"Cherry\",\"Apple\") #packing\n",
    "t1,t2,t3,t4=t5 #unpacking\n",
    "t1"
   ]
  },
  {
   "cell_type": "code",
   "execution_count": null,
   "id": "dd38a878",
   "metadata": {},
   "outputs": [],
   "source": [
    "t4"
   ]
  },
  {
   "cell_type": "code",
   "execution_count": null,
   "id": "3370a8ae",
   "metadata": {},
   "outputs": [],
   "source": [
    "t3"
   ]
  },
  {
   "cell_type": "code",
   "execution_count": null,
   "id": "e8025a98",
   "metadata": {},
   "outputs": [],
   "source": [
    "t5=[\"Apple\",\"Banana\",\"Cherry\",\"Apple\"] #packing\n",
    "t1,t2,t3,t4=t5 #unpacking\n",
    "t1"
   ]
  },
  {
   "cell_type": "code",
   "execution_count": null,
   "id": "15ced9c2",
   "metadata": {},
   "outputs": [],
   "source": [
    "t5=(\"Apple\",\"Banana\",\"Cherry\",\"Apple\")\n",
    "for i in t5:\n",
    "    print(i)"
   ]
  },
  {
   "cell_type": "code",
   "execution_count": null,
   "id": "2f3a9f87",
   "metadata": {},
   "outputs": [],
   "source": [
    "t5=(\"Apple\",\"Banana\",\"Cherry\",\"Apple\")\n",
    "for i in range(len(t5)):\n",
    "    print(t5[i])"
   ]
  },
  {
   "cell_type": "code",
   "execution_count": null,
   "id": "0429914f",
   "metadata": {},
   "outputs": [],
   "source": [
    "tup=(1,1,1,2,3,4,2,1)\n",
    "p=tup.count(1)\n",
    "p"
   ]
  },
  {
   "cell_type": "code",
   "execution_count": null,
   "id": "e3049371",
   "metadata": {},
   "outputs": [],
   "source": [
    "p=tup.index(3)\n",
    "p"
   ]
  },
  {
   "cell_type": "code",
   "execution_count": null,
   "id": "c3380ccd",
   "metadata": {},
   "outputs": [],
   "source": [
    "p=min(tup)\n",
    "p"
   ]
  },
  {
   "cell_type": "code",
   "execution_count": null,
   "id": "6a39ffd6",
   "metadata": {},
   "outputs": [],
   "source": [
    "p=max(tup)\n",
    "p"
   ]
  },
  {
   "cell_type": "code",
   "execution_count": null,
   "id": "7c76c4e1",
   "metadata": {},
   "outputs": [],
   "source": [
    "#set\n",
    "s1={\"Apple\",\"Banana\",\"Cherry\",\"Apple\",True,1,3.8}\n",
    "s1"
   ]
  },
  {
   "cell_type": "code",
   "execution_count": null,
   "id": "ccb53467",
   "metadata": {},
   "outputs": [],
   "source": [
    "s1.add(\"kiwi\")\n",
    "s1"
   ]
  },
  {
   "cell_type": "code",
   "execution_count": null,
   "id": "9abd1746",
   "metadata": {},
   "outputs": [],
   "source": [
    "s1={\"Apple\",\"Banana\",\"Cherry\"}\n",
    "s2={\"pineapple\",\"mango\",\"papaya\"}\n",
    "s1.update(s2)\n",
    "s1"
   ]
  },
  {
   "cell_type": "code",
   "execution_count": null,
   "id": "d8704715",
   "metadata": {},
   "outputs": [],
   "source": [
    "s1={\"Apple\",\"Banana\",\"Cherry\"}\n",
    "s2=[\"pineapple\",\"mango\",\"papaya\"]\n",
    "s1.update(s2)\n",
    "s1"
   ]
  },
  {
   "cell_type": "code",
   "execution_count": null,
   "id": "7bba6a99",
   "metadata": {},
   "outputs": [],
   "source": [
    "s1={\"Apple\",\"Banana\",\"Cherry\"}\n",
    "s1.remove(\"Banana\")\n",
    "s1"
   ]
  },
  {
   "cell_type": "code",
   "execution_count": null,
   "id": "2fec0564",
   "metadata": {},
   "outputs": [],
   "source": [
    "s1={\"Apple\",\"Banana\",\"Cherry\"}\n",
    "s1.pop()\n",
    "s1"
   ]
  },
  {
   "cell_type": "code",
   "execution_count": null,
   "id": "bd687e47",
   "metadata": {},
   "outputs": [],
   "source": [
    "s1.clear()"
   ]
  },
  {
   "cell_type": "code",
   "execution_count": null,
   "id": "73dddc3c",
   "metadata": {},
   "outputs": [],
   "source": [
    "s1"
   ]
  },
  {
   "cell_type": "code",
   "execution_count": null,
   "id": "7a0d708a",
   "metadata": {},
   "outputs": [],
   "source": [
    "del s1"
   ]
  },
  {
   "cell_type": "code",
   "execution_count": null,
   "id": "c6dbbdd9",
   "metadata": {},
   "outputs": [],
   "source": [
    "s1"
   ]
  },
  {
   "cell_type": "code",
   "execution_count": null,
   "id": "d931e7db",
   "metadata": {},
   "outputs": [],
   "source": [
    "set1={\"a\",\"b\",\"c\",\"c\"} #union menas set with all the items\n",
    "set2={1,2,3}\n",
    "set3=set1.union(set2)\n",
    "set3"
   ]
  },
  {
   "cell_type": "code",
   "execution_count": null,
   "id": "7f042dde",
   "metadata": {},
   "outputs": [],
   "source": [
    "set1.update(set2)\n",
    "set1"
   ]
  },
  {
   "cell_type": "code",
   "execution_count": null,
   "id": "3ee3e9c2",
   "metadata": {},
   "outputs": [],
   "source": [
    "set3"
   ]
  },
  {
   "cell_type": "code",
   "execution_count": null,
   "id": "2cd5b554",
   "metadata": {},
   "outputs": [],
   "source": [
    "set1={\"a\",\"b\",\"c\",\"c\"} #\n",
    "set2={1,2,3}\n",
    "set3=set1.union(set2)\n",
    "set3\n",
    "\n",
    "\n"
   ]
  },
  {
   "cell_type": "code",
   "execution_count": null,
   "id": "1fced40a",
   "metadata": {},
   "outputs": [],
   "source": []
  },
  {
   "cell_type": "code",
   "execution_count": null,
   "id": "15bab7fa",
   "metadata": {},
   "outputs": [],
   "source": [
    "set1={\"a\",\"b\",\"c\",\"c\"} #\n",
    "set2={1,2,3,\"c\"}\n",
    "set1.intersection_update(set2)\n",
    "set1"
   ]
  },
  {
   "cell_type": "code",
   "execution_count": null,
   "id": "6a6af33d",
   "metadata": {},
   "outputs": [],
   "source": [
    "set1={\"a\",\"b\",\"c\",\"c\"} #\n",
    "set2={1,2,3,\"c\"}\n",
    "set3 = set1.intersection(set2)\n",
    "print(set3)"
   ]
  },
  {
   "cell_type": "code",
   "execution_count": null,
   "id": "2e5bb719",
   "metadata": {},
   "outputs": [],
   "source": [
    "set1={\"a\",\"b\",\"c\",\"c\"} #\n",
    "set2={1,2,3,\"c\"}\n",
    "set1.symmetric_difference_update(set2)\n",
    "set1"
   ]
  },
  {
   "cell_type": "code",
   "execution_count": null,
   "id": "8e32ac5f",
   "metadata": {},
   "outputs": [],
   "source": [
    "set1={\"a\",\"b\",\"c\",\"c\"} #\n",
    "set2={1,2,3,\"c\"}\n",
    "set3 = set1.symmetric_difference(set2)\n",
    "set3"
   ]
  },
  {
   "cell_type": "markdown",
   "id": "7d19909d",
   "metadata": {},
   "source": [
    "1. What is the output when we execute list(“hello”) ?\n",
    "a) [‘h’, ‘e’, ‘l’ , ‘l’ , ‘o’]\n",
    "b) [‘hello’]\n",
    "c) [‘llo’]\n",
    "d) [‘olleh’]\n",
    "2. Which of the following is correct syntax for slice operation on the list [4,5,6,7,8,9] ? \n",
    "a) print(list[0])\n",
    "b) print(list[:3])\n",
    "c) print(list[:-1])\n",
    "d) All of the above\n",
    "3. What will be the output of the following?\n",
    "     list = [1, 2, 3, None, (1, 2, 3, 4, 5), [‘Hi’, ‘Hello’, ‘Bye’]]\n",
    "     print(len(list))\n",
    "a) 12                                                       b) 11\n",
    "c) 22                                                       d) 6\n",
    "4.  Statement 1: append (): Appends a single element passed as an argument at the end of the list.\n",
    "Statement 2: extend() Appends each element of the list passed as argument at the end of the given list. Which statement is correct?\n",
    "a) Statement 1                          \n",
    "b) Statement 2\n",
    "c) Both Statement 1 and 2 are correct\n",
    "d) Both Statement 1 and 2 are incorrect.\n",
    "5. What will be the output of below Python code?\n",
    "grades=[ ]\n",
    "grades.append(45)\n",
    "grades.append(35)\n",
    "grades.append(21)\n",
    "print(grades)\n",
    "a) [45,35,21]\n",
    "b) [21]\n",
    "c) [45,35]\n",
    "d) [ ]\n",
    "\n"
   ]
  },
  {
   "cell_type": "code",
   "execution_count": null,
   "id": "0921880a",
   "metadata": {},
   "outputs": [],
   "source": [
    "thisdic={\n",
    "    \"brand\":\"Ford\",\n",
    "    \"Model\":\"Mustang\",\n",
    "    \"year\":1964 }\n",
    "print(thisdic)"
   ]
  },
  {
   "cell_type": "code",
   "execution_count": null,
   "id": "78c6a3d9",
   "metadata": {},
   "outputs": [],
   "source": [
    "print(thisdic[\"Model\"])"
   ]
  },
  {
   "cell_type": "code",
   "execution_count": null,
   "id": "99859e23",
   "metadata": {},
   "outputs": [],
   "source": [
    "thisdic={\n",
    "    \"brand\":\"Ford\",\n",
    "    \"Model\":\"Mustang\",\n",
    "    \"year1\":1964,\n",
    "    \"year\":2014}\n",
    "print(thisdic)"
   ]
  },
  {
   "cell_type": "code",
   "execution_count": null,
   "id": "7978d94f",
   "metadata": {},
   "outputs": [],
   "source": [
    "thisdic.get(\"Model\")"
   ]
  },
  {
   "cell_type": "code",
   "execution_count": null,
   "id": "d6bbfe4a",
   "metadata": {},
   "outputs": [],
   "source": [
    "thisdic.keys()"
   ]
  },
  {
   "cell_type": "code",
   "execution_count": null,
   "id": "6ce48bb5",
   "metadata": {},
   "outputs": [],
   "source": [
    "thisdic.values()"
   ]
  },
  {
   "cell_type": "code",
   "execution_count": null,
   "id": "788d349e",
   "metadata": {},
   "outputs": [],
   "source": [
    "thisdic[\"Model\"]=\"abc\""
   ]
  },
  {
   "cell_type": "code",
   "execution_count": null,
   "id": "8a3138df",
   "metadata": {},
   "outputs": [],
   "source": [
    "thisdic"
   ]
  },
  {
   "cell_type": "code",
   "execution_count": null,
   "id": "c06f4189",
   "metadata": {},
   "outputs": [],
   "source": [
    "thisdic.items()"
   ]
  },
  {
   "cell_type": "code",
   "execution_count": null,
   "id": "1fdde3b4",
   "metadata": {},
   "outputs": [],
   "source": [
    "thisdic.update({\"color\":\"red\"})\n",
    "thisdic"
   ]
  },
  {
   "cell_type": "code",
   "execution_count": null,
   "id": "161f5c8d",
   "metadata": {},
   "outputs": [],
   "source": [
    "thisdic.update({\"color\":\"blue\"})\n",
    "thisdic"
   ]
  },
  {
   "cell_type": "code",
   "execution_count": null,
   "id": "697c68e4",
   "metadata": {},
   "outputs": [],
   "source": [
    "del thisdic[\"Model\"]\n",
    "thisdic"
   ]
  },
  {
   "cell_type": "code",
   "execution_count": null,
   "id": "039c0213",
   "metadata": {},
   "outputs": [],
   "source": [
    "thisdic.pop(\"year1\")"
   ]
  },
  {
   "cell_type": "code",
   "execution_count": null,
   "id": "3742283a",
   "metadata": {},
   "outputs": [],
   "source": [
    "thisdic"
   ]
  },
  {
   "cell_type": "code",
   "execution_count": null,
   "id": "ce2b9a8c",
   "metadata": {},
   "outputs": [],
   "source": [
    "#thisdic.clear()"
   ]
  },
  {
   "cell_type": "code",
   "execution_count": null,
   "id": "8c4a8863",
   "metadata": {},
   "outputs": [],
   "source": [
    "for i in thisdic.keys():\n",
    "    print(i)"
   ]
  },
  {
   "cell_type": "code",
   "execution_count": null,
   "id": "cc4acb5e",
   "metadata": {},
   "outputs": [],
   "source": [
    "for i in thisdic.values():\n",
    "    print(i)"
   ]
  },
  {
   "cell_type": "code",
   "execution_count": null,
   "id": "94451f09",
   "metadata": {},
   "outputs": [],
   "source": [
    "for i,j in thisdic.items():\n",
    "    print(i,j)"
   ]
  },
  {
   "cell_type": "code",
   "execution_count": null,
   "id": "4d060377",
   "metadata": {},
   "outputs": [],
   "source": [
    "f=thisdic.copy()\n",
    "f"
   ]
  },
  {
   "cell_type": "code",
   "execution_count": null,
   "id": "9c840199",
   "metadata": {},
   "outputs": [],
   "source": [
    "myfamily ={\"child1\":{\"name\":\"nik\",\"email\":\"nn@gmail\"},\"child2\":{\"name\":\"nik1\",\"email\":\"nn1@gmail\"}}\n",
    "myfamily"
   ]
  },
  {
   "cell_type": "code",
   "execution_count": null,
   "id": "f0bd17fb",
   "metadata": {},
   "outputs": [],
   "source": [
    "child1={\"name\":\"nik\",\"email\":\"nn@gmail\"}\n",
    "child2={\"name\":\"nik1\",\"email\":\"nn1@gmail\"}\n",
    "child3={\"name\":\"nik2\",\"email\":\"nn2@gmail\"}\n",
    "myfamily={\"child1\":child1,\"child2\":child2,\"child3\":child3}\n",
    "myfamily"
   ]
  },
  {
   "cell_type": "code",
   "execution_count": null,
   "id": "5c925c4b",
   "metadata": {},
   "outputs": [],
   "source": [
    "f={40:\"john\",60:\"nnn\"}\n",
    "f"
   ]
  },
  {
   "cell_type": "code",
   "execution_count": null,
   "id": "e7e1634f",
   "metadata": {},
   "outputs": [],
   "source": [
    "d={}\n",
    "print(type(d))"
   ]
  },
  {
   "cell_type": "code",
   "execution_count": null,
   "id": "6bcabef4",
   "metadata": {},
   "outputs": [],
   "source": [
    "d1={\"nnn\"}\n",
    "print(type(d1))"
   ]
  },
  {
   "cell_type": "code",
   "execution_count": null,
   "id": "a66d2505",
   "metadata": {},
   "outputs": [],
   "source": [
    "d1={\"nnn\":88}\n",
    "print(type(d1))"
   ]
  },
  {
   "cell_type": "code",
   "execution_count": null,
   "id": "1fde5f2e",
   "metadata": {},
   "outputs": [],
   "source": [
    "d1=set()\n",
    "print(type(d1))"
   ]
  },
  {
   "cell_type": "code",
   "execution_count": null,
   "id": "98369852",
   "metadata": {},
   "outputs": [],
   "source": [
    "def display():\n",
    "    print(\"This is my first function\")\n",
    "    \n",
    "\n",
    "    \n",
    "display()"
   ]
  },
  {
   "cell_type": "code",
   "execution_count": null,
   "id": "b480332a",
   "metadata": {},
   "outputs": [],
   "source": [
    "def add():\n",
    "    a=12\n",
    "    b=13\n",
    "    print(\"Sum of 2 number is\",a+b)\n",
    "    \n",
    "\n",
    "    \n",
    "add()"
   ]
  },
  {
   "cell_type": "code",
   "execution_count": null,
   "id": "45a93b9a",
   "metadata": {},
   "outputs": [],
   "source": [
    "\n",
    "def add(a,b,c):\n",
    "    c=a+b+c/100\n",
    "    print(\"Sum of 2 number is\",c)\n",
    "    \n",
    "    \n",
    "    \n",
    "    \n",
    "    \n",
    "\n",
    "a=int(input(\"Enter your number\"))\n",
    "b=int(input(\"Enter your number\"))\n",
    "c=int(input(\"Enter your number\"))\n",
    "add(a,b,c)"
   ]
  },
  {
   "cell_type": "code",
   "execution_count": null,
   "id": "7079acb3",
   "metadata": {},
   "outputs": [],
   "source": [
    "def add(a):\n",
    "    print(\"My name is\",a)\n",
    "    \n",
    "a=input(\"Enter your name\")\n",
    "add(a)"
   ]
  },
  {
   "cell_type": "code",
   "execution_count": null,
   "id": "6c84a41b",
   "metadata": {},
   "outputs": [],
   "source": [
    "def abc(a):\n",
    "  \n",
    "    print(\"Sum of 2 number is\",a+a)\n",
    "    \n",
    "    \n",
    "    \n",
    "\n",
    "a=int(input(\"Enter your number\"))\n",
    "\n",
    "abc(a)"
   ]
  },
  {
   "cell_type": "code",
   "execution_count": null,
   "id": "e7d6c4a1",
   "metadata": {},
   "outputs": [],
   "source": [
    "def abc(a,b):\n",
    "   print(a+b)\n",
    "    \n",
    "    \n",
    "    \n",
    "\n",
    "a=int(input(\"Enter your number\"))\n",
    "b=10\n",
    "abc(a,b)+abc(a,b)\n"
   ]
  },
  {
   "cell_type": "code",
   "execution_count": null,
   "id": "cda3d8ad",
   "metadata": {},
   "outputs": [],
   "source": [
    "def add(a,b=10):\n",
    "    print(\"Sum of 2 number is\",a+b)\n",
    "    \n",
    "\n",
    "a=10    \n",
    "add(a)"
   ]
  },
  {
   "cell_type": "code",
   "execution_count": null,
   "id": "0cd87f88",
   "metadata": {},
   "outputs": [],
   "source": [
    "def add(a,p1=10):\n",
    "    print(\"Sum of 2 number is\",a+p1)\n",
    "    \n",
    "\n",
    "a=10    \n",
    "add(a)"
   ]
  },
  {
   "cell_type": "code",
   "execution_count": null,
   "id": "75a211a8",
   "metadata": {},
   "outputs": [],
   "source": [
    "def add(q,r=20):\n",
    "    print(\"Sum of 2 number is\",q+r)\n",
    "    \n",
    "\n",
    "q=10  \n",
    "#r=10\n",
    "add(q)"
   ]
  },
  {
   "cell_type": "code",
   "execution_count": null,
   "id": "85121b69",
   "metadata": {},
   "outputs": [],
   "source": [
    "def add(q=12,r=20):\n",
    "    print(\"Sum of 2 number is\",q+r)\n",
    "    \n",
    "\n",
    "q=10  \n",
    "r=10\n",
    "add(q,r)"
   ]
  },
  {
   "cell_type": "code",
   "execution_count": null,
   "id": "86a23fd5",
   "metadata": {},
   "outputs": [],
   "source": [
    "def printnumbers(*no):\n",
    "    for i in no:\n",
    "        print(i)\n",
    "    return\n",
    "    \n",
    "\n",
    "print(\"printing 2 values\")\n",
    "printnumbers(1,2)\n",
    "print(\"printing 3 values\")\n",
    "printnumbers(10,22,30)\n"
   ]
  },
  {
   "cell_type": "code",
   "execution_count": 1,
   "id": "75ec3c9f",
   "metadata": {},
   "outputs": [
    {
     "name": "stdout",
     "output_type": "stream",
     "text": [
      "217.8\n"
     ]
    }
   ],
   "source": [
    "def si(p,r,t):\n",
    "    print((p*r*t)/100)\n",
    "    \n",
    "\n",
    "si(12,33,55)"
   ]
  },
  {
   "cell_type": "code",
   "execution_count": 3,
   "id": "82f148c7",
   "metadata": {},
   "outputs": [
    {
     "name": "stdout",
     "output_type": "stream",
     "text": [
      "Simple in :  217.8\n"
     ]
    }
   ],
   "source": [
    "def si(p,r,t):\n",
    "    ans=((p*r*t)/100)\n",
    "    return ans\n",
    "\n",
    "p1=si(12,33,55)\n",
    "print(\"Simple in : \",p1)"
   ]
  },
  {
   "cell_type": "code",
   "execution_count": null,
   "id": "202381a6",
   "metadata": {},
   "outputs": [],
   "source": [
    "def si(p,r,t):\n",
    "    ans=((p*r*t)/100)\n",
    "    return ans\n",
    "\n",
    "p1=si(12,33,55)\n",
    "print(\"Simple in : \",p1)"
   ]
  },
  {
   "cell_type": "code",
   "execution_count": 4,
   "id": "8988b0ec",
   "metadata": {},
   "outputs": [
    {
     "name": "stdout",
     "output_type": "stream",
     "text": [
      "45\n"
     ]
    }
   ],
   "source": [
    "def kk(a,b):\n",
    "    print(a+b)\n",
    "    \n",
    "kk(12,33)"
   ]
  },
  {
   "cell_type": "code",
   "execution_count": 6,
   "id": "a5e3a005",
   "metadata": {},
   "outputs": [
    {
     "data": {
      "text/plain": [
       "78"
      ]
     },
     "execution_count": 6,
     "metadata": {},
     "output_type": "execute_result"
    }
   ],
   "source": [
    "def kk(a,b):\n",
    "    return(a+b)\n",
    "    \n",
    "kk(12,33)+33"
   ]
  },
  {
   "cell_type": "code",
   "execution_count": 7,
   "id": "f785c5d9",
   "metadata": {},
   "outputs": [
    {
     "data": {
      "text/plain": [
       "'123333'"
      ]
     },
     "execution_count": 7,
     "metadata": {},
     "output_type": "execute_result"
    }
   ],
   "source": [
    "def kk(a,b):\n",
    "    return(a+b+33)\n",
    "    \n",
    "kk(\"12\",\"33\")+\"33\""
   ]
  },
  {
   "cell_type": "code",
   "execution_count": 9,
   "id": "7331559d",
   "metadata": {},
   "outputs": [
    {
     "name": "stdout",
     "output_type": "stream",
     "text": [
      "Simple in :  1245.816\n"
     ]
    }
   ],
   "source": [
    "def si(p,r,t):\n",
    "    ans=((p*r*t)/100)\n",
    "    return ans\n",
    "p1=19\n",
    "r1=13\n",
    "t1=44\n",
    "ans=si(p1,r1,t1)\n",
    "print(\"Simple in : \",ans)"
   ]
  },
  {
   "cell_type": "code",
   "execution_count": 11,
   "id": "984159d5",
   "metadata": {},
   "outputs": [
    {
     "name": "stdout",
     "output_type": "stream",
     "text": [
      "Simple in :  108.68\n"
     ]
    }
   ],
   "source": [
    "def si(p,r,t):\n",
    "    ans=((p*r*t)/100)\n",
    "    return ans\n",
    "p1=19\n",
    "r1=13\n",
    "t1=44\n",
    "ans=si(p1,r1,t1)\n",
    "print(\"Simple in : \",ans)"
   ]
  },
  {
   "cell_type": "markdown",
   "id": "7a39fcfd",
   "metadata": {},
   "source": [
    "Anonymous function is a function that is defined without a name. \n",
    "While normal functions are defined using the def keyword, anonymous functions are defined using the lambda keyword. So, anonymous functions are also called as lambda functions.\n",
    "USE OF LAMBDA FUNCTIONS:\n",
    "It is mostly used for creating small and one-time anonymous functions.\n",
    "They are mainly used in combination with the functions like filter(), map() and reduce().\n",
    "They can take any number of arguments and return one value in the form of an expression.\n"
   ]
  },
  {
   "cell_type": "code",
   "execution_count": 12,
   "id": "bd2ec7b1",
   "metadata": {},
   "outputs": [
    {
     "name": "stdout",
     "output_type": "stream",
     "text": [
      "6\n"
     ]
    }
   ],
   "source": [
    "sum1=lambda a,b :a+b\n",
    "print(sum1(1,5))"
   ]
  },
  {
   "cell_type": "code",
   "execution_count": 13,
   "id": "7063ebf4",
   "metadata": {},
   "outputs": [
    {
     "name": "stdout",
     "output_type": "stream",
     "text": [
      "15\n"
     ]
    }
   ],
   "source": [
    "sum1=lambda a :a+10\n",
    "print(sum1(5))"
   ]
  },
  {
   "cell_type": "code",
   "execution_count": 14,
   "id": "3b489da1",
   "metadata": {},
   "outputs": [
    {
     "name": "stdout",
     "output_type": "stream",
     "text": [
      "22\n"
     ]
    }
   ],
   "source": [
    "def myfunc(n):\n",
    "     return lambda a : a * n\n",
    "    \n",
    "    \n",
    "    \n",
    "mydoubler = myfunc(2)\n",
    "print(mydoubler(11))\n"
   ]
  },
  {
   "cell_type": "code",
   "execution_count": 15,
   "id": "047fdd53",
   "metadata": {},
   "outputs": [
    {
     "name": "stdout",
     "output_type": "stream",
     "text": [
      "22\n",
      "33\n"
     ]
    }
   ],
   "source": [
    "def myfunc(n):\n",
    "     return lambda a : a * n\n",
    "    \n",
    "    \n",
    "mydoubler = myfunc(2)\n",
    "print(mydoubler(11)) \n",
    "\n",
    "\n",
    "mytripler = myfunc(3)\n",
    "print(mytripler(11))\n"
   ]
  },
  {
   "cell_type": "code",
   "execution_count": 1,
   "id": "a76fd973",
   "metadata": {},
   "outputs": [
    {
     "name": "stdout",
     "output_type": "stream",
     "text": [
      "88\n"
     ]
    }
   ],
   "source": [
    "a=99\n",
    "def fun():\n",
    "    a=88\n",
    "    print(a)   \n",
    "fun()"
   ]
  },
  {
   "cell_type": "code",
   "execution_count": 2,
   "id": "18eca850",
   "metadata": {},
   "outputs": [
    {
     "name": "stdout",
     "output_type": "stream",
     "text": [
      "88\n",
      "99\n"
     ]
    }
   ],
   "source": [
    "a=99\n",
    "def fun():\n",
    "    a=88\n",
    "    print(a)    \n",
    "fun()\n",
    "print(a)"
   ]
  },
  {
   "cell_type": "code",
   "execution_count": 5,
   "id": "6752b052",
   "metadata": {},
   "outputs": [
    {
     "name": "stdout",
     "output_type": "stream",
     "text": [
      "[1, 4, 9, 16]\n"
     ]
    }
   ],
   "source": [
    "def calculateSquare(n): \n",
    "    return n*n\n",
    "numbers = (1, 2, 3, 4)\n",
    "result = map(calculateSquare, numbers)\n",
    "#print(result)\n",
    "# converting map object to list\n",
    "numbersSquare = list(result)\n",
    "print(numbersSquare)\n"
   ]
  },
  {
   "cell_type": "code",
   "execution_count": 7,
   "id": "a0f9dcbb",
   "metadata": {},
   "outputs": [
    {
     "name": "stdout",
     "output_type": "stream",
     "text": [
      "5\n",
      "12\n",
      "17\n"
     ]
    }
   ],
   "source": [
    "ages = [5, 12, 17, 18, 24, 32]\n",
    "def myFunc(x):\n",
    "    if x < 18:\n",
    "        return False\n",
    "    else:\n",
    "        return True\n",
    "\n",
    "adults = filter(myFunc, ages)\n",
    "\n",
    "for x in adults:\n",
    "  print(x)\n",
    "\n"
   ]
  },
  {
   "cell_type": "code",
   "execution_count": 8,
   "id": "160ee7aa",
   "metadata": {},
   "outputs": [
    {
     "data": {
      "text/plain": [
       "<filter at 0x2138bc022b0>"
      ]
     },
     "execution_count": 8,
     "metadata": {},
     "output_type": "execute_result"
    }
   ],
   "source": [
    "ages = [5, 12, 17, 18, 24, 32]\n",
    "def myFunc(x):\n",
    "    if x < 18:\n",
    "        return False\n",
    "    else:\n",
    "        return True\n",
    "\n",
    "adults = filter(myFunc, ages)\n",
    "\n",
    "for x in adults:\n",
    "  print(x)"
   ]
  },
  {
   "cell_type": "code",
   "execution_count": 11,
   "id": "9429328f",
   "metadata": {},
   "outputs": [
    {
     "name": "stdout",
     "output_type": "stream",
     "text": [
      "The sum of the list elements is : 17\n"
     ]
    }
   ],
   "source": [
    "import functools\n",
    "# initializing list\n",
    "lis = [1, 3, 5, 6, 2]\n",
    " \n",
    "# using reduce to compute sum of list\n",
    "print(\"The sum of the list elements is : \", end=\"\")\n",
    "print(functools.reduce(lambda a, b: a+b, lis))\n"
   ]
  },
  {
   "cell_type": "code",
   "execution_count": 12,
   "id": "90d7893e",
   "metadata": {},
   "outputs": [
    {
     "name": "stdout",
     "output_type": "stream",
     "text": [
      "The maximum element of the list is : 6\n"
     ]
    }
   ],
   "source": [
    " \n",
    "# using reduce to compute maximum element from list\n",
    "print(\"The maximum element of the list is : \", end=\"\")\n",
    "print(functools.reduce(lambda a, b: a if a > b else b, lis))\n"
   ]
  },
  {
   "cell_type": "code",
   "execution_count": 13,
   "id": "cc106740",
   "metadata": {},
   "outputs": [
    {
     "name": "stdout",
     "output_type": "stream",
     "text": [
      "The factorial of 3 is 6\n"
     ]
    }
   ],
   "source": [
    "def factorial(x):\n",
    "    \"\"\"This is a recursive function\n",
    "    to find the factorial of an integer\"\"\"\n",
    "\n",
    "    if x == 1:\n",
    "        return 1\n",
    "    else:\n",
    "        return (x * factorial(x-1))\n",
    "\n",
    "\n",
    "num = 3\n",
    "print(\"The factorial of\", num, \"is\", factorial(num))"
   ]
  },
  {
   "cell_type": "code",
   "execution_count": null,
   "id": "27b9ce8d",
   "metadata": {},
   "outputs": [],
   "source": []
  }
 ],
 "metadata": {
  "kernelspec": {
   "display_name": "Python 3 (ipykernel)",
   "language": "python",
   "name": "python3"
  },
  "language_info": {
   "codemirror_mode": {
    "name": "ipython",
    "version": 3
   },
   "file_extension": ".py",
   "mimetype": "text/x-python",
   "name": "python",
   "nbconvert_exporter": "python",
   "pygments_lexer": "ipython3",
   "version": "3.9.12"
  }
 },
 "nbformat": 4,
 "nbformat_minor": 5
}
