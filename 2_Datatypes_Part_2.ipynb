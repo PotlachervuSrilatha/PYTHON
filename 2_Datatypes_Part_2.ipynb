{
  "cells": [
    {
      "cell_type": "code",
      "execution_count": null,
      "id": "dfadc720",
      "metadata": {
        "id": "dfadc720"
      },
      "outputs": [],
      "source": [
        "#Append\n",
        "#Insert\n",
        "#Remove\n",
        "#Pop\n",
        "#Sort\n",
        "#Del\n",
        "#Index\n",
        "#Count"
      ]
    },
    {
      "cell_type": "code",
      "execution_count": null,
      "id": "137c83c7",
      "metadata": {
        "id": "137c83c7"
      },
      "outputs": [],
      "source": [
        "# Float\n",
        "f = 3.142"
      ]
    },
    {
      "cell_type": "code",
      "execution_count": null,
      "id": "4278be4f",
      "metadata": {
        "id": "4278be4f",
        "outputId": "1cc53c64-3e23-4805-c272-81cdf0f7ace2"
      },
      "outputs": [
        {
          "data": {
            "text/plain": [
              "float"
            ]
          },
          "execution_count": 3,
          "metadata": {},
          "output_type": "execute_result"
        }
      ],
      "source": [
        "type(f)"
      ]
    },
    {
      "cell_type": "code",
      "execution_count": null,
      "id": "03d15756",
      "metadata": {
        "id": "03d15756"
      },
      "outputs": [],
      "source": [
        "num = 10"
      ]
    },
    {
      "cell_type": "code",
      "execution_count": null,
      "id": "2e8bfd97",
      "metadata": {
        "id": "2e8bfd97",
        "outputId": "4ad7dd79-6f46-4a23-d9fb-d492dfcec97f"
      },
      "outputs": [
        {
          "data": {
            "text/plain": [
              "int"
            ]
          },
          "execution_count": 5,
          "metadata": {},
          "output_type": "execute_result"
        }
      ],
      "source": [
        "type(num)"
      ]
    },
    {
      "cell_type": "code",
      "execution_count": null,
      "id": "93614bbc",
      "metadata": {
        "id": "93614bbc"
      },
      "outputs": [],
      "source": [
        "s = 'welcome'"
      ]
    },
    {
      "cell_type": "code",
      "execution_count": null,
      "id": "c0b7c138",
      "metadata": {
        "id": "c0b7c138",
        "outputId": "b3e06b34-a2c7-4ea8-d89a-a0b495b802de"
      },
      "outputs": [
        {
          "data": {
            "text/plain": [
              "str"
            ]
          },
          "execution_count": 7,
          "metadata": {},
          "output_type": "execute_result"
        }
      ],
      "source": [
        "type(s)"
      ]
    },
    {
      "cell_type": "code",
      "execution_count": null,
      "id": "b8c0a180",
      "metadata": {
        "id": "b8c0a180"
      },
      "outputs": [],
      "source": [
        "a = True"
      ]
    },
    {
      "cell_type": "code",
      "execution_count": null,
      "id": "791196e6",
      "metadata": {
        "id": "791196e6",
        "outputId": "fdbe3a58-0029-4262-eb67-171d4d59b1c9"
      },
      "outputs": [
        {
          "data": {
            "text/plain": [
              "bool"
            ]
          },
          "execution_count": 9,
          "metadata": {},
          "output_type": "execute_result"
        }
      ],
      "source": [
        "type(a)"
      ]
    },
    {
      "cell_type": "code",
      "execution_count": null,
      "id": "85bd667e",
      "metadata": {
        "id": "85bd667e"
      },
      "outputs": [],
      "source": [
        "a = False"
      ]
    },
    {
      "cell_type": "code",
      "execution_count": null,
      "id": "b54259a1",
      "metadata": {
        "id": "b54259a1",
        "outputId": "f94bf20f-ef29-4dc1-ada0-3b2f76a732d6"
      },
      "outputs": [
        {
          "ename": "NameError",
          "evalue": "name 'xyz' is not defined",
          "output_type": "error",
          "traceback": [
            "\u001b[1;31m---------------------------------------------------------------------------\u001b[0m",
            "\u001b[1;31mNameError\u001b[0m                                 Traceback (most recent call last)",
            "Input \u001b[1;32mIn [11]\u001b[0m, in \u001b[0;36m<cell line: 1>\u001b[1;34m()\u001b[0m\n\u001b[1;32m----> 1\u001b[0m \u001b[43mxyz\u001b[49m(\u001b[38;5;124m\"\u001b[39m\u001b[38;5;124mabc\u001b[39m\u001b[38;5;124m\"\u001b[39m)\n",
            "\u001b[1;31mNameError\u001b[0m: name 'xyz' is not defined"
          ]
        }
      ],
      "source": [
        "xyz(\"abc\")"
      ]
    },
    {
      "cell_type": "code",
      "execution_count": null,
      "id": "46b377e6",
      "metadata": {
        "id": "46b377e6",
        "outputId": "4615904f-e8c5-4c16-e374-a44182793059"
      },
      "outputs": [
        {
          "data": {
            "text/plain": [
              "str"
            ]
          },
          "execution_count": 12,
          "metadata": {},
          "output_type": "execute_result"
        }
      ],
      "source": [
        "type(\"xyz\")"
      ]
    },
    {
      "cell_type": "code",
      "execution_count": null,
      "id": "e4fb5433",
      "metadata": {
        "id": "e4fb5433"
      },
      "outputs": [],
      "source": [
        "a = 3 + 2j"
      ]
    },
    {
      "cell_type": "code",
      "execution_count": null,
      "id": "328ca5a7",
      "metadata": {
        "id": "328ca5a7",
        "outputId": "c5adc1e3-f03d-47b1-c3de-28af20a4c7f5"
      },
      "outputs": [
        {
          "data": {
            "text/plain": [
              "complex"
            ]
          },
          "execution_count": 14,
          "metadata": {},
          "output_type": "execute_result"
        }
      ],
      "source": [
        "type(a)"
      ]
    },
    {
      "cell_type": "code",
      "execution_count": null,
      "id": "4b228bc4",
      "metadata": {
        "id": "4b228bc4",
        "outputId": "766ff080-65b0-4cf4-ef69-8414457ea1fd"
      },
      "outputs": [
        {
          "data": {
            "text/plain": [
              "22"
            ]
          },
          "execution_count": 15,
          "metadata": {},
          "output_type": "execute_result"
        }
      ],
      "source": [
        "# Addition\n",
        "18+4"
      ]
    },
    {
      "cell_type": "code",
      "execution_count": null,
      "id": "41c3287e",
      "metadata": {
        "id": "41c3287e",
        "outputId": "941a6ae2-cff9-408d-941a-20c6319a37c7"
      },
      "outputs": [
        {
          "data": {
            "text/plain": [
              "14"
            ]
          },
          "execution_count": 16,
          "metadata": {},
          "output_type": "execute_result"
        }
      ],
      "source": [
        "#Substraction\n",
        "18-4"
      ]
    },
    {
      "cell_type": "code",
      "execution_count": null,
      "id": "98d67d5a",
      "metadata": {
        "id": "98d67d5a",
        "outputId": "140659a2-fc25-450f-d023-29737b73dd4b"
      },
      "outputs": [
        {
          "data": {
            "text/plain": [
              "72"
            ]
          },
          "execution_count": 17,
          "metadata": {},
          "output_type": "execute_result"
        }
      ],
      "source": [
        "#Multiplication\n",
        "18*4"
      ]
    },
    {
      "cell_type": "code",
      "execution_count": null,
      "id": "0aa17463",
      "metadata": {
        "id": "0aa17463",
        "outputId": "b8a2ee5b-5ab7-4899-f743-e06079c7f4e3"
      },
      "outputs": [
        {
          "data": {
            "text/plain": [
              "4.5"
            ]
          },
          "execution_count": 18,
          "metadata": {},
          "output_type": "execute_result"
        }
      ],
      "source": [
        "#Division\n",
        "18/4"
      ]
    },
    {
      "cell_type": "code",
      "execution_count": null,
      "id": "c52fd339",
      "metadata": {
        "id": "c52fd339",
        "outputId": "11a73eb5-5d42-4a85-9c99-e8b0e24c2809"
      },
      "outputs": [
        {
          "data": {
            "text/plain": [
              "4"
            ]
          },
          "execution_count": 19,
          "metadata": {},
          "output_type": "execute_result"
        }
      ],
      "source": [
        "18 // 4"
      ]
    },
    {
      "cell_type": "code",
      "execution_count": null,
      "id": "98da3484",
      "metadata": {
        "id": "98da3484",
        "outputId": "4ed1c3bc-c67c-45bf-86c7-50ca2aae81c9"
      },
      "outputs": [
        {
          "data": {
            "text/plain": [
              "2"
            ]
          },
          "execution_count": 20,
          "metadata": {},
          "output_type": "execute_result"
        }
      ],
      "source": [
        "18 % 4"
      ]
    },
    {
      "cell_type": "markdown",
      "id": "8abea28c",
      "metadata": {
        "id": "8abea28c"
      },
      "source": [
        "## List Operations"
      ]
    },
    {
      "cell_type": "markdown",
      "id": "889a2661",
      "metadata": {
        "id": "889a2661"
      },
      "source": [
        "# Append"
      ]
    },
    {
      "cell_type": "code",
      "execution_count": null,
      "id": "8661db0d",
      "metadata": {
        "id": "8661db0d"
      },
      "outputs": [],
      "source": [
        "# Always adds an element/object at the end of the list"
      ]
    },
    {
      "cell_type": "code",
      "execution_count": null,
      "id": "5317702c",
      "metadata": {
        "id": "5317702c"
      },
      "outputs": [],
      "source": [
        "languages = [\"Cpp\",\"Java\",\"C#\"]"
      ]
    },
    {
      "cell_type": "code",
      "execution_count": null,
      "id": "af1cd439",
      "metadata": {
        "id": "af1cd439",
        "outputId": "eb1ae6ea-cd19-47af-d403-dedcd4a98c38"
      },
      "outputs": [
        {
          "data": {
            "text/plain": [
              "list"
            ]
          },
          "execution_count": 23,
          "metadata": {},
          "output_type": "execute_result"
        }
      ],
      "source": [
        "type(languages)"
      ]
    },
    {
      "cell_type": "code",
      "execution_count": null,
      "id": "43429635",
      "metadata": {
        "id": "43429635"
      },
      "outputs": [],
      "source": [
        "languages.append(\"Python\")"
      ]
    },
    {
      "cell_type": "code",
      "execution_count": null,
      "id": "e1c8252f",
      "metadata": {
        "id": "e1c8252f",
        "outputId": "87d0b9c6-b40b-4394-b71f-b455196e1220"
      },
      "outputs": [
        {
          "data": {
            "text/plain": [
              "['Cpp', 'Java', 'C#', 'Python']"
            ]
          },
          "execution_count": 25,
          "metadata": {},
          "output_type": "execute_result"
        }
      ],
      "source": [
        "languages"
      ]
    },
    {
      "cell_type": "markdown",
      "id": "ed6b15ec",
      "metadata": {
        "id": "ed6b15ec"
      },
      "source": [
        "## Insert\n",
        " - Inserts an element/object at specified index"
      ]
    },
    {
      "cell_type": "code",
      "execution_count": null,
      "id": "ac879b98",
      "metadata": {
        "id": "ac879b98"
      },
      "outputs": [],
      "source": [
        "languages.insert(1, \"Perl\")"
      ]
    },
    {
      "cell_type": "code",
      "execution_count": null,
      "id": "58084590",
      "metadata": {
        "id": "58084590",
        "outputId": "f2b1eb98-419e-4c2b-f987-f9d6b1635b9d"
      },
      "outputs": [
        {
          "data": {
            "text/plain": [
              "['Cpp', 'Perl', 'Java', 'C#', 'Python']"
            ]
          },
          "execution_count": 27,
          "metadata": {},
          "output_type": "execute_result"
        }
      ],
      "source": []
    },
    {
      "cell_type": "code",
      "execution_count": null,
      "id": "6f511f4a",
      "metadata": {
        "id": "6f511f4a",
        "outputId": "fcffaa03-2b22-467b-caea-e4cb562cd17b"
      },
      "outputs": [
        {
          "name": "stdout",
          "output_type": "stream",
          "text": [
            "Help on class str in module builtins:\n",
            "\n",
            "class str(object)\n",
            " |  str(object='') -> str\n",
            " |  str(bytes_or_buffer[, encoding[, errors]]) -> str\n",
            " |  \n",
            " |  Create a new string object from the given object. If encoding or\n",
            " |  errors is specified, then the object must expose a data buffer\n",
            " |  that will be decoded using the given encoding and error handler.\n",
            " |  Otherwise, returns the result of object.__str__() (if defined)\n",
            " |  or repr(object).\n",
            " |  encoding defaults to sys.getdefaultencoding().\n",
            " |  errors defaults to 'strict'.\n",
            " |  \n",
            " |  Methods defined here:\n",
            " |  \n",
            " |  __add__(self, value, /)\n",
            " |      Return self+value.\n",
            " |  \n",
            " |  __contains__(self, key, /)\n",
            " |      Return key in self.\n",
            " |  \n",
            " |  __eq__(self, value, /)\n",
            " |      Return self==value.\n",
            " |  \n",
            " |  __format__(self, format_spec, /)\n",
            " |      Return a formatted version of the string as described by format_spec.\n",
            " |  \n",
            " |  __ge__(self, value, /)\n",
            " |      Return self>=value.\n",
            " |  \n",
            " |  __getattribute__(self, name, /)\n",
            " |      Return getattr(self, name).\n",
            " |  \n",
            " |  __getitem__(self, key, /)\n",
            " |      Return self[key].\n",
            " |  \n",
            " |  __getnewargs__(...)\n",
            " |  \n",
            " |  __gt__(self, value, /)\n",
            " |      Return self>value.\n",
            " |  \n",
            " |  __hash__(self, /)\n",
            " |      Return hash(self).\n",
            " |  \n",
            " |  __iter__(self, /)\n",
            " |      Implement iter(self).\n",
            " |  \n",
            " |  __le__(self, value, /)\n",
            " |      Return self<=value.\n",
            " |  \n",
            " |  __len__(self, /)\n",
            " |      Return len(self).\n",
            " |  \n",
            " |  __lt__(self, value, /)\n",
            " |      Return self<value.\n",
            " |  \n",
            " |  __mod__(self, value, /)\n",
            " |      Return self%value.\n",
            " |  \n",
            " |  __mul__(self, value, /)\n",
            " |      Return self*value.\n",
            " |  \n",
            " |  __ne__(self, value, /)\n",
            " |      Return self!=value.\n",
            " |  \n",
            " |  __repr__(self, /)\n",
            " |      Return repr(self).\n",
            " |  \n",
            " |  __rmod__(self, value, /)\n",
            " |      Return value%self.\n",
            " |  \n",
            " |  __rmul__(self, value, /)\n",
            " |      Return value*self.\n",
            " |  \n",
            " |  __sizeof__(self, /)\n",
            " |      Return the size of the string in memory, in bytes.\n",
            " |  \n",
            " |  __str__(self, /)\n",
            " |      Return str(self).\n",
            " |  \n",
            " |  capitalize(self, /)\n",
            " |      Return a capitalized version of the string.\n",
            " |      \n",
            " |      More specifically, make the first character have upper case and the rest lower\n",
            " |      case.\n",
            " |  \n",
            " |  casefold(self, /)\n",
            " |      Return a version of the string suitable for caseless comparisons.\n",
            " |  \n",
            " |  center(self, width, fillchar=' ', /)\n",
            " |      Return a centered string of length width.\n",
            " |      \n",
            " |      Padding is done using the specified fill character (default is a space).\n",
            " |  \n",
            " |  count(...)\n",
            " |      S.count(sub[, start[, end]]) -> int\n",
            " |      \n",
            " |      Return the number of non-overlapping occurrences of substring sub in\n",
            " |      string S[start:end].  Optional arguments start and end are\n",
            " |      interpreted as in slice notation.\n",
            " |  \n",
            " |  encode(self, /, encoding='utf-8', errors='strict')\n",
            " |      Encode the string using the codec registered for encoding.\n",
            " |      \n",
            " |      encoding\n",
            " |        The encoding in which to encode the string.\n",
            " |      errors\n",
            " |        The error handling scheme to use for encoding errors.\n",
            " |        The default is 'strict' meaning that encoding errors raise a\n",
            " |        UnicodeEncodeError.  Other possible values are 'ignore', 'replace' and\n",
            " |        'xmlcharrefreplace' as well as any other name registered with\n",
            " |        codecs.register_error that can handle UnicodeEncodeErrors.\n",
            " |  \n",
            " |  endswith(...)\n",
            " |      S.endswith(suffix[, start[, end]]) -> bool\n",
            " |      \n",
            " |      Return True if S ends with the specified suffix, False otherwise.\n",
            " |      With optional start, test S beginning at that position.\n",
            " |      With optional end, stop comparing S at that position.\n",
            " |      suffix can also be a tuple of strings to try.\n",
            " |  \n",
            " |  expandtabs(self, /, tabsize=8)\n",
            " |      Return a copy where all tab characters are expanded using spaces.\n",
            " |      \n",
            " |      If tabsize is not given, a tab size of 8 characters is assumed.\n",
            " |  \n",
            " |  find(...)\n",
            " |      S.find(sub[, start[, end]]) -> int\n",
            " |      \n",
            " |      Return the lowest index in S where substring sub is found,\n",
            " |      such that sub is contained within S[start:end].  Optional\n",
            " |      arguments start and end are interpreted as in slice notation.\n",
            " |      \n",
            " |      Return -1 on failure.\n",
            " |  \n",
            " |  format(...)\n",
            " |      S.format(*args, **kwargs) -> str\n",
            " |      \n",
            " |      Return a formatted version of S, using substitutions from args and kwargs.\n",
            " |      The substitutions are identified by braces ('{' and '}').\n",
            " |  \n",
            " |  format_map(...)\n",
            " |      S.format_map(mapping) -> str\n",
            " |      \n",
            " |      Return a formatted version of S, using substitutions from mapping.\n",
            " |      The substitutions are identified by braces ('{' and '}').\n",
            " |  \n",
            " |  index(...)\n",
            " |      S.index(sub[, start[, end]]) -> int\n",
            " |      \n",
            " |      Return the lowest index in S where substring sub is found,\n",
            " |      such that sub is contained within S[start:end].  Optional\n",
            " |      arguments start and end are interpreted as in slice notation.\n",
            " |      \n",
            " |      Raises ValueError when the substring is not found.\n",
            " |  \n",
            " |  isalnum(self, /)\n",
            " |      Return True if the string is an alpha-numeric string, False otherwise.\n",
            " |      \n",
            " |      A string is alpha-numeric if all characters in the string are alpha-numeric and\n",
            " |      there is at least one character in the string.\n",
            " |  \n",
            " |  isalpha(self, /)\n",
            " |      Return True if the string is an alphabetic string, False otherwise.\n",
            " |      \n",
            " |      A string is alphabetic if all characters in the string are alphabetic and there\n",
            " |      is at least one character in the string.\n",
            " |  \n",
            " |  isascii(self, /)\n",
            " |      Return True if all characters in the string are ASCII, False otherwise.\n",
            " |      \n",
            " |      ASCII characters have code points in the range U+0000-U+007F.\n",
            " |      Empty string is ASCII too.\n",
            " |  \n",
            " |  isdecimal(self, /)\n",
            " |      Return True if the string is a decimal string, False otherwise.\n",
            " |      \n",
            " |      A string is a decimal string if all characters in the string are decimal and\n",
            " |      there is at least one character in the string.\n",
            " |  \n",
            " |  isdigit(self, /)\n",
            " |      Return True if the string is a digit string, False otherwise.\n",
            " |      \n",
            " |      A string is a digit string if all characters in the string are digits and there\n",
            " |      is at least one character in the string.\n",
            " |  \n",
            " |  isidentifier(self, /)\n",
            " |      Return True if the string is a valid Python identifier, False otherwise.\n",
            " |      \n",
            " |      Call keyword.iskeyword(s) to test whether string s is a reserved identifier,\n",
            " |      such as \"def\" or \"class\".\n",
            " |  \n",
            " |  islower(self, /)\n",
            " |      Return True if the string is a lowercase string, False otherwise.\n",
            " |      \n",
            " |      A string is lowercase if all cased characters in the string are lowercase and\n",
            " |      there is at least one cased character in the string.\n",
            " |  \n",
            " |  isnumeric(self, /)\n",
            " |      Return True if the string is a numeric string, False otherwise.\n",
            " |      \n",
            " |      A string is numeric if all characters in the string are numeric and there is at\n",
            " |      least one character in the string.\n",
            " |  \n",
            " |  isprintable(self, /)\n",
            " |      Return True if the string is printable, False otherwise.\n",
            " |      \n",
            " |      A string is printable if all of its characters are considered printable in\n",
            " |      repr() or if it is empty.\n",
            " |  \n",
            " |  isspace(self, /)\n",
            " |      Return True if the string is a whitespace string, False otherwise.\n",
            " |      \n",
            " |      A string is whitespace if all characters in the string are whitespace and there\n",
            " |      is at least one character in the string.\n",
            " |  \n",
            " |  istitle(self, /)\n",
            " |      Return True if the string is a title-cased string, False otherwise.\n",
            " |      \n",
            " |      In a title-cased string, upper- and title-case characters may only\n",
            " |      follow uncased characters and lowercase characters only cased ones.\n",
            " |  \n",
            " |  isupper(self, /)\n",
            " |      Return True if the string is an uppercase string, False otherwise.\n",
            " |      \n",
            " |      A string is uppercase if all cased characters in the string are uppercase and\n",
            " |      there is at least one cased character in the string.\n",
            " |  \n",
            " |  join(self, iterable, /)\n",
            " |      Concatenate any number of strings.\n",
            " |      \n",
            " |      The string whose method is called is inserted in between each given string.\n",
            " |      The result is returned as a new string.\n",
            " |      \n",
            " |      Example: '.'.join(['ab', 'pq', 'rs']) -> 'ab.pq.rs'\n",
            " |  \n",
            " |  ljust(self, width, fillchar=' ', /)\n",
            " |      Return a left-justified string of length width.\n",
            " |      \n",
            " |      Padding is done using the specified fill character (default is a space).\n",
            " |  \n",
            " |  lower(self, /)\n",
            " |      Return a copy of the string converted to lowercase.\n",
            " |  \n",
            " |  lstrip(self, chars=None, /)\n",
            " |      Return a copy of the string with leading whitespace removed.\n",
            " |      \n",
            " |      If chars is given and not None, remove characters in chars instead.\n",
            " |  \n",
            " |  partition(self, sep, /)\n",
            " |      Partition the string into three parts using the given separator.\n",
            " |      \n",
            " |      This will search for the separator in the string.  If the separator is found,\n",
            " |      returns a 3-tuple containing the part before the separator, the separator\n",
            " |      itself, and the part after it.\n",
            " |      \n",
            " |      If the separator is not found, returns a 3-tuple containing the original string\n",
            " |      and two empty strings.\n",
            " |  \n",
            " |  removeprefix(self, prefix, /)\n",
            " |      Return a str with the given prefix string removed if present.\n",
            " |      \n",
            " |      If the string starts with the prefix string, return string[len(prefix):].\n",
            " |      Otherwise, return a copy of the original string.\n",
            " |  \n",
            " |  removesuffix(self, suffix, /)\n",
            " |      Return a str with the given suffix string removed if present.\n",
            " |      \n",
            " |      If the string ends with the suffix string and that suffix is not empty,\n",
            " |      return string[:-len(suffix)]. Otherwise, return a copy of the original\n",
            " |      string.\n",
            " |  \n",
            " |  replace(self, old, new, count=-1, /)\n",
            " |      Return a copy with all occurrences of substring old replaced by new.\n",
            " |      \n",
            " |        count\n",
            " |          Maximum number of occurrences to replace.\n",
            " |          -1 (the default value) means replace all occurrences.\n",
            " |      \n",
            " |      If the optional argument count is given, only the first count occurrences are\n",
            " |      replaced.\n",
            " |  \n",
            " |  rfind(...)\n",
            " |      S.rfind(sub[, start[, end]]) -> int\n",
            " |      \n",
            " |      Return the highest index in S where substring sub is found,\n",
            " |      such that sub is contained within S[start:end].  Optional\n",
            " |      arguments start and end are interpreted as in slice notation.\n",
            " |      \n",
            " |      Return -1 on failure.\n",
            " |  \n",
            " |  rindex(...)\n",
            " |      S.rindex(sub[, start[, end]]) -> int\n",
            " |      \n",
            " |      Return the highest index in S where substring sub is found,\n",
            " |      such that sub is contained within S[start:end].  Optional\n",
            " |      arguments start and end are interpreted as in slice notation.\n",
            " |      \n",
            " |      Raises ValueError when the substring is not found.\n",
            " |  \n",
            " |  rjust(self, width, fillchar=' ', /)\n",
            " |      Return a right-justified string of length width.\n",
            " |      \n",
            " |      Padding is done using the specified fill character (default is a space).\n",
            " |  \n",
            " |  rpartition(self, sep, /)\n",
            " |      Partition the string into three parts using the given separator.\n",
            " |      \n",
            " |      This will search for the separator in the string, starting at the end. If\n",
            " |      the separator is found, returns a 3-tuple containing the part before the\n",
            " |      separator, the separator itself, and the part after it.\n",
            " |      \n",
            " |      If the separator is not found, returns a 3-tuple containing two empty strings\n",
            " |      and the original string.\n",
            " |  \n",
            " |  rsplit(self, /, sep=None, maxsplit=-1)\n",
            " |      Return a list of the words in the string, using sep as the delimiter string.\n",
            " |      \n",
            " |        sep\n",
            " |          The delimiter according which to split the string.\n",
            " |          None (the default value) means split according to any whitespace,\n",
            " |          and discard empty strings from the result.\n",
            " |        maxsplit\n",
            " |          Maximum number of splits to do.\n",
            " |          -1 (the default value) means no limit.\n",
            " |      \n",
            " |      Splits are done starting at the end of the string and working to the front.\n",
            " |  \n",
            " |  rstrip(self, chars=None, /)\n",
            " |      Return a copy of the string with trailing whitespace removed.\n",
            " |      \n",
            " |      If chars is given and not None, remove characters in chars instead.\n",
            " |  \n",
            " |  split(self, /, sep=None, maxsplit=-1)\n",
            " |      Return a list of the words in the string, using sep as the delimiter string.\n",
            " |      \n",
            " |      sep\n",
            " |        The delimiter according which to split the string.\n",
            " |        None (the default value) means split according to any whitespace,\n",
            " |        and discard empty strings from the result.\n",
            " |      maxsplit\n",
            " |        Maximum number of splits to do.\n",
            " |        -1 (the default value) means no limit.\n",
            " |  \n",
            " |  splitlines(self, /, keepends=False)\n",
            " |      Return a list of the lines in the string, breaking at line boundaries.\n",
            " |      \n",
            " |      Line breaks are not included in the resulting list unless keepends is given and\n",
            " |      true.\n",
            " |  \n",
            " |  startswith(...)\n",
            " |      S.startswith(prefix[, start[, end]]) -> bool\n",
            " |      \n",
            " |      Return True if S starts with the specified prefix, False otherwise.\n",
            " |      With optional start, test S beginning at that position.\n",
            " |      With optional end, stop comparing S at that position.\n",
            " |      prefix can also be a tuple of strings to try.\n",
            " |  \n",
            " |  strip(self, chars=None, /)\n",
            " |      Return a copy of the string with leading and trailing whitespace removed.\n",
            " |      \n",
            " |      If chars is given and not None, remove characters in chars instead.\n",
            " |  \n",
            " |  swapcase(self, /)\n",
            " |      Convert uppercase characters to lowercase and lowercase characters to uppercase.\n",
            " |  \n",
            " |  title(self, /)\n",
            " |      Return a version of the string where each word is titlecased.\n",
            " |      \n",
            " |      More specifically, words start with uppercased characters and all remaining\n",
            " |      cased characters have lower case.\n",
            " |  \n",
            " |  translate(self, table, /)\n",
            " |      Replace each character in the string using the given translation table.\n",
            " |      \n",
            " |        table\n",
            " |          Translation table, which must be a mapping of Unicode ordinals to\n",
            " |          Unicode ordinals, strings, or None.\n",
            " |      \n",
            " |      The table must implement lookup/indexing via __getitem__, for instance a\n",
            " |      dictionary or list.  If this operation raises LookupError, the character is\n",
            " |      left untouched.  Characters mapped to None are deleted.\n",
            " |  \n",
            " |  upper(self, /)\n",
            " |      Return a copy of the string converted to uppercase.\n",
            " |  \n",
            " |  zfill(self, width, /)\n",
            " |      Pad a numeric string with zeros on the left, to fill a field of the given width.\n",
            " |      \n",
            " |      The string is never truncated.\n",
            " |  \n",
            " |  ----------------------------------------------------------------------\n",
            " |  Static methods defined here:\n",
            " |  \n",
            " |  __new__(*args, **kwargs) from builtins.type\n",
            " |      Create and return a new object.  See help(type) for accurate signature.\n",
            " |  \n",
            " |  maketrans(...)\n",
            " |      Return a translation table usable for str.translate().\n",
            " |      \n",
            " |      If there is only one argument, it must be a dictionary mapping Unicode\n",
            " |      ordinals (integers) or characters to Unicode ordinals, strings or None.\n",
            " |      Character keys will be then converted to ordinals.\n",
            " |      If there are two arguments, they must be strings of equal length, and\n",
            " |      in the resulting dictionary, each character in x will be mapped to the\n",
            " |      character at the same position in y. If there is a third argument, it\n",
            " |      must be a string, whose characters will be mapped to None in the result.\n",
            "\n"
          ]
        }
      ],
      "source": [
        "help(str)"
      ]
    },
    {
      "cell_type": "code",
      "execution_count": null,
      "id": "b2f8270b",
      "metadata": {
        "id": "b2f8270b",
        "outputId": "6e6bad45-063b-4a4a-a101-79f1709bdeb8"
      },
      "outputs": [
        {
          "data": {
            "text/plain": [
              "['Cpp', 'Perl', 'Java', 'C#', 'Python']"
            ]
          },
          "execution_count": 32,
          "metadata": {},
          "output_type": "execute_result"
        }
      ],
      "source": [
        "languages"
      ]
    },
    {
      "cell_type": "code",
      "execution_count": null,
      "id": "09d12e7b",
      "metadata": {
        "id": "09d12e7b"
      },
      "outputs": [],
      "source": [
        "languages.insert(-1,\"Ruby\")"
      ]
    },
    {
      "cell_type": "code",
      "execution_count": null,
      "id": "5598f742",
      "metadata": {
        "id": "5598f742",
        "outputId": "483b67d9-56c5-4644-d30b-20a7c00fed09"
      },
      "outputs": [
        {
          "data": {
            "text/plain": [
              "['Cpp', 'Perl', 'Java', 'C#', 'Ruby', 'Python']"
            ]
          },
          "execution_count": 34,
          "metadata": {},
          "output_type": "execute_result"
        }
      ],
      "source": [
        "languages"
      ]
    },
    {
      "cell_type": "code",
      "execution_count": null,
      "id": "1d3da362",
      "metadata": {
        "id": "1d3da362",
        "outputId": "a4c14bbd-9d71-41b2-b307-5bc3986d19db"
      },
      "outputs": [
        {
          "name": "stdout",
          "output_type": "stream",
          "text": [
            "Help on method_descriptor:\n",
            "\n",
            "insert(self, index, object, /)\n",
            "    Insert object before index.\n",
            "\n"
          ]
        }
      ],
      "source": [
        "help(list.insert)"
      ]
    },
    {
      "cell_type": "markdown",
      "id": "d3845cb7",
      "metadata": {
        "id": "d3845cb7"
      },
      "source": [
        "## Remove\n",
        "- Remove an element based on value"
      ]
    },
    {
      "cell_type": "code",
      "execution_count": null,
      "id": "01357956",
      "metadata": {
        "id": "01357956",
        "outputId": "e5f05bc3-1bf2-4517-decc-6b79ef19a35a"
      },
      "outputs": [
        {
          "data": {
            "text/plain": [
              "['Cpp', 'Perl', 'Java', 'C#', 'Ruby', 'Python']"
            ]
          },
          "execution_count": 36,
          "metadata": {},
          "output_type": "execute_result"
        }
      ],
      "source": [
        "languages"
      ]
    },
    {
      "cell_type": "code",
      "execution_count": null,
      "id": "8cdc1890",
      "metadata": {
        "id": "8cdc1890"
      },
      "outputs": [],
      "source": [
        "languages.remove(\"Java\")"
      ]
    },
    {
      "cell_type": "code",
      "execution_count": null,
      "id": "196ae5a0",
      "metadata": {
        "id": "196ae5a0",
        "outputId": "d54f6d7b-6323-4678-8873-9bdb95c95864"
      },
      "outputs": [
        {
          "data": {
            "text/plain": [
              "['Cpp', 'Perl', 'C#', 'Ruby', 'Python']"
            ]
          },
          "execution_count": 38,
          "metadata": {},
          "output_type": "execute_result"
        }
      ],
      "source": [
        "languages"
      ]
    },
    {
      "cell_type": "code",
      "execution_count": null,
      "id": "33b22bc1",
      "metadata": {
        "id": "33b22bc1",
        "outputId": "1c9237a0-0e00-42b3-d92b-5fc171caa85a"
      },
      "outputs": [
        {
          "ename": "ValueError",
          "evalue": "list.remove(x): x not in list",
          "output_type": "error",
          "traceback": [
            "\u001b[1;31m---------------------------------------------------------------------------\u001b[0m",
            "\u001b[1;31mValueError\u001b[0m                                Traceback (most recent call last)",
            "Input \u001b[1;32mIn [39]\u001b[0m, in \u001b[0;36m<cell line: 1>\u001b[1;34m()\u001b[0m\n\u001b[1;32m----> 1\u001b[0m \u001b[43mlanguages\u001b[49m\u001b[38;5;241;43m.\u001b[39;49m\u001b[43mremove\u001b[49m\u001b[43m(\u001b[49m\u001b[38;5;124;43m\"\u001b[39;49m\u001b[38;5;124;43mperl\u001b[39;49m\u001b[38;5;124;43m\"\u001b[39;49m\u001b[43m)\u001b[49m\n",
            "\u001b[1;31mValueError\u001b[0m: list.remove(x): x not in list"
          ]
        }
      ],
      "source": [
        "languages.remove(\"perl\")"
      ]
    },
    {
      "cell_type": "markdown",
      "id": "dfe7f28e",
      "metadata": {
        "id": "dfe7f28e"
      },
      "source": [
        "## Pop\n",
        " - Removes an element based on index, by default index is -1"
      ]
    },
    {
      "cell_type": "code",
      "execution_count": null,
      "id": "956e44bb",
      "metadata": {
        "id": "956e44bb",
        "outputId": "9af169ed-f849-49a8-c44d-a95737eacce6"
      },
      "outputs": [
        {
          "data": {
            "text/plain": [
              "'Perl'"
            ]
          },
          "execution_count": 40,
          "metadata": {},
          "output_type": "execute_result"
        }
      ],
      "source": [
        "languages.pop(1)"
      ]
    },
    {
      "cell_type": "code",
      "execution_count": null,
      "id": "88888abc",
      "metadata": {
        "id": "88888abc",
        "outputId": "d2ccdef7-7dc4-44c7-ae38-277ef64a8864"
      },
      "outputs": [
        {
          "data": {
            "text/plain": [
              "['Cpp', 'C#', 'Ruby', 'Python']"
            ]
          },
          "execution_count": 41,
          "metadata": {},
          "output_type": "execute_result"
        }
      ],
      "source": [
        "languages"
      ]
    },
    {
      "cell_type": "code",
      "execution_count": null,
      "id": "0d0b4fe5",
      "metadata": {
        "id": "0d0b4fe5",
        "outputId": "d3d41c9d-b48c-4dc4-ca28-ff171e9f31ff"
      },
      "outputs": [
        {
          "data": {
            "text/plain": [
              "'Python'"
            ]
          },
          "execution_count": 42,
          "metadata": {},
          "output_type": "execute_result"
        }
      ],
      "source": [
        "languages.pop()"
      ]
    },
    {
      "cell_type": "code",
      "execution_count": null,
      "id": "95d5e964",
      "metadata": {
        "id": "95d5e964",
        "outputId": "22d68cf1-8cc0-4775-a3b6-40aa21c8b8dc"
      },
      "outputs": [
        {
          "data": {
            "text/plain": [
              "['Cpp', 'C#', 'Ruby']"
            ]
          },
          "execution_count": 43,
          "metadata": {},
          "output_type": "execute_result"
        }
      ],
      "source": [
        "languages"
      ]
    },
    {
      "cell_type": "code",
      "execution_count": null,
      "id": "0770a051",
      "metadata": {
        "id": "0770a051"
      },
      "outputs": [],
      "source": [
        "languages.append(\"Perl\")"
      ]
    },
    {
      "cell_type": "code",
      "execution_count": null,
      "id": "cdea89da",
      "metadata": {
        "id": "cdea89da"
      },
      "outputs": [],
      "source": [
        "languages.append(\"Perl\")"
      ]
    },
    {
      "cell_type": "code",
      "execution_count": null,
      "id": "9b56afc4",
      "metadata": {
        "id": "9b56afc4",
        "outputId": "9769ff0f-e0e9-4497-dee2-0bb6419ba00a"
      },
      "outputs": [
        {
          "data": {
            "text/plain": [
              "['Cpp', 'C#', 'Ruby', 'Perl', 'Perl']"
            ]
          },
          "execution_count": 47,
          "metadata": {},
          "output_type": "execute_result"
        }
      ],
      "source": [
        "languages"
      ]
    },
    {
      "cell_type": "code",
      "execution_count": null,
      "id": "36902c33",
      "metadata": {
        "id": "36902c33"
      },
      "outputs": [],
      "source": [
        "languages.remove(\"Perl\")"
      ]
    },
    {
      "cell_type": "code",
      "execution_count": null,
      "id": "d81403de",
      "metadata": {
        "id": "d81403de",
        "outputId": "b3272905-0280-4147-f449-4c99c54a1825"
      },
      "outputs": [
        {
          "data": {
            "text/plain": [
              "['Cpp', 'C#', 'Ruby', 'Perl']"
            ]
          },
          "execution_count": 49,
          "metadata": {},
          "output_type": "execute_result"
        }
      ],
      "source": [
        "languages"
      ]
    },
    {
      "cell_type": "code",
      "execution_count": null,
      "id": "d3a2e999",
      "metadata": {
        "id": "d3a2e999"
      },
      "outputs": [],
      "source": [
        "languages[0] = \"Cpp\""
      ]
    },
    {
      "cell_type": "code",
      "execution_count": null,
      "id": "75601d5d",
      "metadata": {
        "id": "75601d5d",
        "outputId": "5e95b9bc-3d6e-4d7f-eee0-7b7ad206beab"
      },
      "outputs": [
        {
          "data": {
            "text/plain": [
              "['Cpp', 'C#', 'Ruby', 'Perl']"
            ]
          },
          "execution_count": 53,
          "metadata": {},
          "output_type": "execute_result"
        }
      ],
      "source": [
        "languages"
      ]
    },
    {
      "cell_type": "markdown",
      "id": "c94c2b79",
      "metadata": {
        "id": "c94c2b79"
      },
      "source": [
        "## Using del Keyword"
      ]
    },
    {
      "cell_type": "code",
      "execution_count": null,
      "id": "fb52ec72",
      "metadata": {
        "id": "fb52ec72"
      },
      "outputs": [],
      "source": [
        "languages.append(\"Rust\")"
      ]
    },
    {
      "cell_type": "code",
      "execution_count": null,
      "id": "68d32288",
      "metadata": {
        "id": "68d32288"
      },
      "outputs": [],
      "source": [
        "languages.append(\"Scala\")"
      ]
    },
    {
      "cell_type": "code",
      "execution_count": null,
      "id": "78a593db",
      "metadata": {
        "id": "78a593db"
      },
      "outputs": [],
      "source": [
        "languages.append(\"Javascript\")"
      ]
    },
    {
      "cell_type": "code",
      "execution_count": null,
      "id": "f62e0202",
      "metadata": {
        "id": "f62e0202",
        "outputId": "1d7a5023-9bbc-402b-e83e-9988bdefaa74"
      },
      "outputs": [
        {
          "data": {
            "text/plain": [
              "['Cpp', 'C#', 'Ruby', 'Perl', 'Rust', 'Scala', 'Javascript']"
            ]
          },
          "execution_count": 58,
          "metadata": {},
          "output_type": "execute_result"
        }
      ],
      "source": [
        "languages"
      ]
    },
    {
      "cell_type": "code",
      "execution_count": null,
      "id": "6df87cb6",
      "metadata": {
        "id": "6df87cb6",
        "outputId": "89e26c34-e2cf-4368-e5f7-6b04f4579f76"
      },
      "outputs": [
        {
          "data": {
            "text/plain": [
              "7"
            ]
          },
          "execution_count": 59,
          "metadata": {},
          "output_type": "execute_result"
        }
      ],
      "source": [
        "len(languages)"
      ]
    },
    {
      "cell_type": "code",
      "execution_count": null,
      "id": "499d3632",
      "metadata": {
        "id": "499d3632"
      },
      "outputs": [],
      "source": [
        "del languages[2]"
      ]
    },
    {
      "cell_type": "code",
      "execution_count": null,
      "id": "9a7f98b1",
      "metadata": {
        "id": "9a7f98b1",
        "outputId": "b5a78016-0e4c-448f-dc82-9c04624ab9b4"
      },
      "outputs": [
        {
          "data": {
            "text/plain": [
              "['Cpp', 'C#', 'Perl', 'Rust', 'Scala', 'Javascript']"
            ]
          },
          "execution_count": 61,
          "metadata": {},
          "output_type": "execute_result"
        }
      ],
      "source": [
        "languages"
      ]
    },
    {
      "cell_type": "code",
      "execution_count": null,
      "id": "6ee0512b",
      "metadata": {
        "id": "6ee0512b"
      },
      "outputs": [],
      "source": [
        "del languages[:4]"
      ]
    },
    {
      "cell_type": "code",
      "execution_count": null,
      "id": "b27770ad",
      "metadata": {
        "id": "b27770ad",
        "outputId": "1595be9a-28ea-4ec3-eec2-47f88f2a29d7"
      },
      "outputs": [
        {
          "data": {
            "text/plain": [
              "['Scala', 'Javascript']"
            ]
          },
          "execution_count": 63,
          "metadata": {},
          "output_type": "execute_result"
        }
      ],
      "source": [
        "languages"
      ]
    },
    {
      "cell_type": "code",
      "execution_count": null,
      "id": "e192f8a9",
      "metadata": {
        "id": "e192f8a9"
      },
      "outputs": [],
      "source": [
        "del languages"
      ]
    },
    {
      "cell_type": "markdown",
      "id": "6a055a02",
      "metadata": {
        "id": "6a055a02"
      },
      "source": [
        "## Append (Using list)"
      ]
    },
    {
      "cell_type": "code",
      "execution_count": null,
      "id": "2b5b941c",
      "metadata": {
        "id": "2b5b941c"
      },
      "outputs": [],
      "source": [
        "languages.append(\"C\")\n",
        "languages.append(\"Perl\")\n",
        "languages.append(\"VB\")\n",
        "languages.append(\"VC\")"
      ]
    },
    {
      "cell_type": "code",
      "execution_count": null,
      "id": "a1e828f2",
      "metadata": {
        "id": "a1e828f2",
        "outputId": "a40eb751-cd44-43aa-e4cd-753133e8fe68"
      },
      "outputs": [
        {
          "data": {
            "text/plain": [
              "['Scala', 'Javascript', 'C', 'Perl', 'VB', 'VC']"
            ]
          },
          "execution_count": 66,
          "metadata": {},
          "output_type": "execute_result"
        }
      ],
      "source": [
        "languages"
      ]
    },
    {
      "cell_type": "code",
      "execution_count": null,
      "id": "becc8c21",
      "metadata": {
        "id": "becc8c21"
      },
      "outputs": [],
      "source": [
        "nums = [100, 200, 300]"
      ]
    },
    {
      "cell_type": "code",
      "execution_count": null,
      "id": "7a734f46",
      "metadata": {
        "id": "7a734f46"
      },
      "outputs": [],
      "source": [
        "languages.append(nums)"
      ]
    },
    {
      "cell_type": "code",
      "execution_count": null,
      "id": "6abfd58e",
      "metadata": {
        "id": "6abfd58e",
        "outputId": "9c40b2a9-60ff-4e98-d23c-ba6142e58b97"
      },
      "outputs": [
        {
          "data": {
            "text/plain": [
              "['Scala', 'Javascript', 'C', 'Perl', 'VB', 'VC', [100, 200, 300]]"
            ]
          },
          "execution_count": 69,
          "metadata": {},
          "output_type": "execute_result"
        }
      ],
      "source": [
        "languages"
      ]
    },
    {
      "cell_type": "code",
      "execution_count": null,
      "id": "5c8178ce",
      "metadata": {
        "id": "5c8178ce",
        "outputId": "36ca7976-e56c-47a3-ae6b-d2573b7c5e99"
      },
      "outputs": [
        {
          "data": {
            "text/plain": [
              "100"
            ]
          },
          "execution_count": 70,
          "metadata": {},
          "output_type": "execute_result"
        }
      ],
      "source": [
        "languages[-1][0]"
      ]
    },
    {
      "cell_type": "code",
      "execution_count": null,
      "id": "23762a95",
      "metadata": {
        "id": "23762a95"
      },
      "outputs": [],
      "source": [
        "s = \"WELCOME\"\n",
        "languages.append(s)"
      ]
    },
    {
      "cell_type": "code",
      "execution_count": null,
      "id": "bc6e244f",
      "metadata": {
        "id": "bc6e244f",
        "outputId": "995482a8-1efa-42dc-ac6d-ad88f721b1cd"
      },
      "outputs": [
        {
          "data": {
            "text/plain": [
              "['Scala', 'Javascript', 'C', 'Perl', 'VB', 'VC', [100, 200, 300], 'WELCOME']"
            ]
          },
          "execution_count": 73,
          "metadata": {},
          "output_type": "execute_result"
        }
      ],
      "source": [
        "languages"
      ]
    },
    {
      "cell_type": "markdown",
      "id": "0afbca82",
      "metadata": {
        "id": "0afbca82"
      },
      "source": [
        "## Extend\n",
        " - Extends the list with elements for the container/object passed\n",
        " - increases the length of list by the length of the object used to extend"
      ]
    },
    {
      "cell_type": "code",
      "execution_count": null,
      "id": "beae5e2d",
      "metadata": {
        "id": "beae5e2d",
        "outputId": "5c7197d7-860c-4ffc-fa99-52a21c2cb155"
      },
      "outputs": [
        {
          "data": {
            "text/plain": [
              "['Scala', 'Javascript', 'C', 'Perl', 'VB', 'VC', [100, 200, 300], 'WELCOME']"
            ]
          },
          "execution_count": 74,
          "metadata": {},
          "output_type": "execute_result"
        }
      ],
      "source": [
        "languages"
      ]
    },
    {
      "cell_type": "code",
      "execution_count": null,
      "id": "f89f8f70",
      "metadata": {
        "id": "f89f8f70"
      },
      "outputs": [],
      "source": [
        "another_list = [\"TCS\", \"INFY\", \"IBM\"]"
      ]
    },
    {
      "cell_type": "code",
      "execution_count": null,
      "id": "00143540",
      "metadata": {
        "id": "00143540"
      },
      "outputs": [],
      "source": [
        "languages.extend(another_list)"
      ]
    },
    {
      "cell_type": "code",
      "execution_count": null,
      "id": "8d790a49",
      "metadata": {
        "id": "8d790a49",
        "outputId": "28a066c1-3ca2-4e49-bab5-1660703cd0d1"
      },
      "outputs": [
        {
          "data": {
            "text/plain": [
              "['Scala',\n",
              " 'Javascript',\n",
              " 'C',\n",
              " 'Perl',\n",
              " 'VB',\n",
              " 'VC',\n",
              " [100, 200, 300],\n",
              " 'WELCOME',\n",
              " 'TCS',\n",
              " 'INFY',\n",
              " 'IBM']"
            ]
          },
          "execution_count": 77,
          "metadata": {},
          "output_type": "execute_result"
        }
      ],
      "source": [
        "languages"
      ]
    },
    {
      "cell_type": "code",
      "execution_count": null,
      "id": "0b2531d5",
      "metadata": {
        "id": "0b2531d5",
        "outputId": "c87d58a3-5353-4dfe-eec8-1b4139abf48b"
      },
      "outputs": [
        {
          "data": {
            "text/plain": [
              "'WELCOME'"
            ]
          },
          "execution_count": 78,
          "metadata": {},
          "output_type": "execute_result"
        }
      ],
      "source": [
        "s"
      ]
    },
    {
      "cell_type": "code",
      "execution_count": null,
      "id": "8ab31112",
      "metadata": {
        "id": "8ab31112"
      },
      "outputs": [],
      "source": [
        "languages.append(s)"
      ]
    },
    {
      "cell_type": "code",
      "execution_count": null,
      "id": "5948c9ea",
      "metadata": {
        "id": "5948c9ea",
        "outputId": "918dda6a-b4e6-4dee-b9d1-dc60c6fafacf"
      },
      "outputs": [
        {
          "data": {
            "text/plain": [
              "['Scala',\n",
              " 'Javascript',\n",
              " 'C',\n",
              " 'Perl',\n",
              " 'VB',\n",
              " 'VC',\n",
              " [100, 200, 300],\n",
              " 'WELCOME',\n",
              " 'TCS',\n",
              " 'INFY',\n",
              " 'IBM',\n",
              " 'W',\n",
              " 'E',\n",
              " 'L',\n",
              " 'C',\n",
              " 'O',\n",
              " 'M',\n",
              " 'E',\n",
              " 'WELCOME']"
            ]
          },
          "execution_count": 82,
          "metadata": {},
          "output_type": "execute_result"
        }
      ],
      "source": [
        "languages"
      ]
    },
    {
      "cell_type": "code",
      "execution_count": null,
      "id": "1ee26e2f",
      "metadata": {
        "id": "1ee26e2f",
        "outputId": "f34e283b-bb34-4329-baf8-be014cad22aa"
      },
      "outputs": [
        {
          "name": "stdout",
          "output_type": "stream",
          "text": [
            "Help on method_descriptor:\n",
            "\n",
            "extend(self, iterable, /)\n",
            "    Extend list by appending elements from the iterable.\n",
            "\n"
          ]
        }
      ],
      "source": [
        "help(list.extend)"
      ]
    },
    {
      "cell_type": "markdown",
      "id": "626c5400",
      "metadata": {
        "id": "626c5400"
      },
      "source": [
        "## Count"
      ]
    },
    {
      "cell_type": "code",
      "execution_count": null,
      "id": "40aca3ff",
      "metadata": {
        "id": "40aca3ff",
        "outputId": "cf004cb8-f966-45b9-99dd-7702c843e675"
      },
      "outputs": [
        {
          "data": {
            "text/plain": [
              "['Scala',\n",
              " 'Javascript',\n",
              " 'C',\n",
              " 'Perl',\n",
              " 'VB',\n",
              " 'VC',\n",
              " [100, 200, 300],\n",
              " 'WELCOME',\n",
              " 'TCS',\n",
              " 'INFY',\n",
              " 'IBM',\n",
              " 'W',\n",
              " 'E',\n",
              " 'L',\n",
              " 'C',\n",
              " 'O',\n",
              " 'M',\n",
              " 'E',\n",
              " 'WELCOME']"
            ]
          },
          "execution_count": 84,
          "metadata": {},
          "output_type": "execute_result"
        }
      ],
      "source": [
        "languages"
      ]
    },
    {
      "cell_type": "code",
      "execution_count": null,
      "id": "f8d04d55",
      "metadata": {
        "id": "f8d04d55",
        "outputId": "60baa804-dc4a-4e8a-fc5d-9519d6f896c0"
      },
      "outputs": [
        {
          "data": {
            "text/plain": [
              "1"
            ]
          },
          "execution_count": 85,
          "metadata": {},
          "output_type": "execute_result"
        }
      ],
      "source": [
        "languages.count(\"VB\")"
      ]
    },
    {
      "cell_type": "code",
      "execution_count": null,
      "id": "3c5588d4",
      "metadata": {
        "id": "3c5588d4",
        "outputId": "9b4eaec9-9911-4cf0-82a8-7b2565a614bb"
      },
      "outputs": [
        {
          "data": {
            "text/plain": [
              "0"
            ]
          },
          "execution_count": 86,
          "metadata": {},
          "output_type": "execute_result"
        }
      ],
      "source": [
        "languages.count(100)"
      ]
    },
    {
      "cell_type": "code",
      "execution_count": null,
      "id": "507438e9",
      "metadata": {
        "id": "507438e9",
        "outputId": "7fa74f7b-1207-4118-a263-c91df54d321e"
      },
      "outputs": [
        {
          "data": {
            "text/plain": [
              "2"
            ]
          },
          "execution_count": 87,
          "metadata": {},
          "output_type": "execute_result"
        }
      ],
      "source": [
        "languages.count(\"C\")"
      ]
    },
    {
      "cell_type": "code",
      "execution_count": null,
      "id": "a1a36f5e",
      "metadata": {
        "id": "a1a36f5e",
        "outputId": "f857b3f1-dff6-46f9-c3a3-a3b4d640555b"
      },
      "outputs": [
        {
          "data": {
            "text/plain": [
              "0"
            ]
          },
          "execution_count": 88,
          "metadata": {},
          "output_type": "execute_result"
        }
      ],
      "source": [
        "languages.count(\"w\")"
      ]
    },
    {
      "cell_type": "markdown",
      "id": "6d65c1d2",
      "metadata": {
        "id": "6d65c1d2"
      },
      "source": [
        "# Index"
      ]
    },
    {
      "cell_type": "code",
      "execution_count": null,
      "id": "e5361562",
      "metadata": {
        "id": "e5361562",
        "outputId": "744ad4d3-b37e-42de-e929-f7e51ba83174"
      },
      "outputs": [
        {
          "data": {
            "text/plain": [
              "['Scala',\n",
              " 'Javascript',\n",
              " 'C',\n",
              " 'Perl',\n",
              " 'VB',\n",
              " 'VC',\n",
              " [100, 200, 300],\n",
              " 'WELCOME',\n",
              " 'TCS',\n",
              " 'INFY',\n",
              " 'IBM',\n",
              " 'W',\n",
              " 'E',\n",
              " 'L',\n",
              " 'C',\n",
              " 'O',\n",
              " 'M',\n",
              " 'E',\n",
              " 'WELCOME']"
            ]
          },
          "execution_count": 89,
          "metadata": {},
          "output_type": "execute_result"
        }
      ],
      "source": [
        "languages"
      ]
    },
    {
      "cell_type": "code",
      "execution_count": null,
      "id": "0d518b8b",
      "metadata": {
        "id": "0d518b8b",
        "outputId": "79e2a592-49ab-4139-f5f5-a13f187367d0"
      },
      "outputs": [
        {
          "data": {
            "text/plain": [
              "8"
            ]
          },
          "execution_count": 90,
          "metadata": {},
          "output_type": "execute_result"
        }
      ],
      "source": [
        "languages.index(\"TCS\")"
      ]
    },
    {
      "cell_type": "code",
      "execution_count": null,
      "id": "e3df8744",
      "metadata": {
        "id": "e3df8744",
        "outputId": "0a41372f-0ffb-4af7-c27c-b6757701b29a"
      },
      "outputs": [
        {
          "data": {
            "text/plain": [
              "2"
            ]
          },
          "execution_count": 91,
          "metadata": {},
          "output_type": "execute_result"
        }
      ],
      "source": [
        "languages.index(\"C\")"
      ]
    },
    {
      "cell_type": "code",
      "execution_count": null,
      "id": "2f9c7055",
      "metadata": {
        "id": "2f9c7055",
        "outputId": "69b3bc20-89ad-4851-d455-13ecbff55be2"
      },
      "outputs": [
        {
          "data": {
            "text/plain": [
              "14"
            ]
          },
          "execution_count": 93,
          "metadata": {},
          "output_type": "execute_result"
        }
      ],
      "source": [
        "languages.index(\"C\",3)"
      ]
    },
    {
      "cell_type": "code",
      "execution_count": null,
      "id": "4f0a0e05",
      "metadata": {
        "id": "4f0a0e05",
        "outputId": "3c5b9424-bdbd-4206-ce53-a43d62f25b80"
      },
      "outputs": [
        {
          "data": {
            "text/plain": [
              "6"
            ]
          },
          "execution_count": 94,
          "metadata": {},
          "output_type": "execute_result"
        }
      ],
      "source": [
        "languages.index([100,200,300])"
      ]
    },
    {
      "cell_type": "markdown",
      "id": "743fbdab",
      "metadata": {
        "id": "743fbdab"
      },
      "source": [
        "## Mutable vs Immutable"
      ]
    },
    {
      "cell_type": "code",
      "execution_count": null,
      "id": "557c1870",
      "metadata": {
        "id": "557c1870",
        "outputId": "4aab2da3-6a33-4b15-dbb0-6eed1e6fe415"
      },
      "outputs": [
        {
          "data": {
            "text/plain": [
              "'WELCOME'"
            ]
          },
          "execution_count": 95,
          "metadata": {},
          "output_type": "execute_result"
        }
      ],
      "source": [
        "s"
      ]
    },
    {
      "cell_type": "code",
      "execution_count": null,
      "id": "3deefbb4",
      "metadata": {
        "id": "3deefbb4"
      },
      "outputs": [],
      "source": [
        "languages = [\"Python\", \"Perl\", \"Ruby\"]"
      ]
    },
    {
      "cell_type": "code",
      "execution_count": null,
      "id": "44ff9c0a",
      "metadata": {
        "id": "44ff9c0a"
      },
      "outputs": [],
      "source": [
        "languages[0] = \"Java\""
      ]
    },
    {
      "cell_type": "code",
      "execution_count": null,
      "id": "d86fa452",
      "metadata": {
        "id": "d86fa452",
        "outputId": "26224118-8c5f-426c-89b6-29ebe4c247a8"
      },
      "outputs": [
        {
          "data": {
            "text/plain": [
              "['Java', 'Perl', 'Ruby']"
            ]
          },
          "execution_count": 98,
          "metadata": {},
          "output_type": "execute_result"
        }
      ],
      "source": [
        "languages"
      ]
    },
    {
      "cell_type": "code",
      "execution_count": null,
      "id": "37461543",
      "metadata": {
        "id": "37461543",
        "outputId": "49ad15d2-5d03-4b78-cd11-fd0f4b131478"
      },
      "outputs": [
        {
          "data": {
            "text/plain": [
              "'W'"
            ]
          },
          "execution_count": 99,
          "metadata": {},
          "output_type": "execute_result"
        }
      ],
      "source": [
        "s[0]"
      ]
    },
    {
      "cell_type": "code",
      "execution_count": null,
      "id": "f4ebf0d0",
      "metadata": {
        "id": "f4ebf0d0",
        "outputId": "617572e4-e179-430c-801b-751af810bcc0"
      },
      "outputs": [
        {
          "ename": "TypeError",
          "evalue": "'str' object does not support item assignment",
          "output_type": "error",
          "traceback": [
            "\u001b[1;31m---------------------------------------------------------------------------\u001b[0m",
            "\u001b[1;31mTypeError\u001b[0m                                 Traceback (most recent call last)",
            "Input \u001b[1;32mIn [100]\u001b[0m, in \u001b[0;36m<cell line: 1>\u001b[1;34m()\u001b[0m\n\u001b[1;32m----> 1\u001b[0m s[\u001b[38;5;241m0\u001b[39m] \u001b[38;5;241m=\u001b[39m \u001b[38;5;124m\"\u001b[39m\u001b[38;5;124mZ\u001b[39m\u001b[38;5;124m\"\u001b[39m\n",
            "\u001b[1;31mTypeError\u001b[0m: 'str' object does not support item assignment"
          ]
        }
      ],
      "source": [
        "s[0] = \"Z\""
      ]
    },
    {
      "cell_type": "code",
      "execution_count": null,
      "id": "e757e962",
      "metadata": {
        "id": "e757e962"
      },
      "outputs": [],
      "source": [
        "# Mutable = Lists, Dicts, set\n",
        "# Imutatble = Strings, tuples, int, float, bool"
      ]
    },
    {
      "cell_type": "code",
      "execution_count": null,
      "id": "e66b0698",
      "metadata": {
        "id": "e66b0698",
        "outputId": "0d113063-1a2c-4387-9675-65dd95f1bdec"
      },
      "outputs": [
        {
          "data": {
            "text/plain": [
              "['Java', 'Perl', 'Ruby']"
            ]
          },
          "execution_count": 102,
          "metadata": {},
          "output_type": "execute_result"
        }
      ],
      "source": [
        "languages"
      ]
    },
    {
      "cell_type": "markdown",
      "id": "15c17c9c",
      "metadata": {
        "id": "15c17c9c"
      },
      "source": [
        "## Sort"
      ]
    },
    {
      "cell_type": "code",
      "execution_count": null,
      "id": "58e26009",
      "metadata": {
        "id": "58e26009",
        "outputId": "7bfa14c1-ad08-455c-99bc-e46b5ea55618"
      },
      "outputs": [
        {
          "data": {
            "text/plain": [
              "['Java', 'Perl', 'Ruby']"
            ]
          },
          "execution_count": 103,
          "metadata": {},
          "output_type": "execute_result"
        }
      ],
      "source": [
        "languages"
      ]
    },
    {
      "cell_type": "code",
      "execution_count": null,
      "id": "9904f466",
      "metadata": {
        "id": "9904f466"
      },
      "outputs": [],
      "source": [
        "languages.sort()"
      ]
    },
    {
      "cell_type": "code",
      "execution_count": null,
      "id": "ab93effc",
      "metadata": {
        "id": "ab93effc",
        "outputId": "698ff339-3f3f-4f3f-c8e3-a6af9f90b1c7"
      },
      "outputs": [
        {
          "data": {
            "text/plain": [
              "['Java', 'Perl', 'Ruby']"
            ]
          },
          "execution_count": 105,
          "metadata": {},
          "output_type": "execute_result"
        }
      ],
      "source": [
        "languages"
      ]
    },
    {
      "cell_type": "code",
      "execution_count": null,
      "id": "09a0e593",
      "metadata": {
        "id": "09a0e593"
      },
      "outputs": [],
      "source": [
        "languages.append(\"C\")"
      ]
    },
    {
      "cell_type": "code",
      "execution_count": null,
      "id": "6f791358",
      "metadata": {
        "id": "6f791358",
        "outputId": "da65243f-469a-4642-f590-16870b134315"
      },
      "outputs": [
        {
          "data": {
            "text/plain": [
              "['Java', 'Perl', 'Ruby', 'C']"
            ]
          },
          "execution_count": 107,
          "metadata": {},
          "output_type": "execute_result"
        }
      ],
      "source": [
        "languages"
      ]
    },
    {
      "cell_type": "code",
      "execution_count": null,
      "id": "5992901e",
      "metadata": {
        "id": "5992901e"
      },
      "outputs": [],
      "source": [
        "languages.sort()"
      ]
    },
    {
      "cell_type": "code",
      "execution_count": null,
      "id": "b270c0f7",
      "metadata": {
        "id": "b270c0f7",
        "outputId": "00866019-9b55-44a9-8587-a15d3f62af03"
      },
      "outputs": [
        {
          "data": {
            "text/plain": [
              "['C', 'Java', 'Perl', 'Ruby']"
            ]
          },
          "execution_count": 109,
          "metadata": {},
          "output_type": "execute_result"
        }
      ],
      "source": [
        "languages"
      ]
    },
    {
      "cell_type": "code",
      "execution_count": null,
      "id": "522f71fa",
      "metadata": {
        "id": "522f71fa",
        "outputId": "6f8ee77a-84c2-45cc-a8e2-c7ff8c8f103e"
      },
      "outputs": [
        {
          "name": "stdout",
          "output_type": "stream",
          "text": [
            "Original: [200, 500, 300]\n",
            "Sorted: [500, 300, 200]\n"
          ]
        }
      ],
      "source": [
        "nums = [200, 500, 300]\n",
        "print(\"Original:\",nums)\n",
        "nums.sort(reverse=True)\n",
        "print(\"Sorted:\",nums)"
      ]
    },
    {
      "cell_type": "markdown",
      "id": "520b2648",
      "metadata": {
        "id": "520b2648"
      },
      "source": [
        "## Tuples\n",
        "- Ordered collection od Items\n",
        "- Syntax ()\n",
        "- IMMUTABLE"
      ]
    },
    {
      "cell_type": "code",
      "execution_count": null,
      "id": "034712e9",
      "metadata": {
        "id": "034712e9"
      },
      "outputs": [],
      "source": [
        "vaccines = (\"Covaxin\", \"Covishield\", \"Sputnik\")"
      ]
    },
    {
      "cell_type": "code",
      "execution_count": null,
      "id": "9da507ed",
      "metadata": {
        "id": "9da507ed",
        "outputId": "312f98f2-5a6d-430f-cc66-eb9cc9ac8674"
      },
      "outputs": [
        {
          "data": {
            "text/plain": [
              "tuple"
            ]
          },
          "execution_count": 116,
          "metadata": {},
          "output_type": "execute_result"
        }
      ],
      "source": [
        "type(vaccines)"
      ]
    },
    {
      "cell_type": "code",
      "execution_count": null,
      "id": "ad04f4bb",
      "metadata": {
        "id": "ad04f4bb",
        "outputId": "8dacac38-4463-4e2b-a48a-a8d2576976cd"
      },
      "outputs": [
        {
          "data": {
            "text/plain": [
              "3"
            ]
          },
          "execution_count": 117,
          "metadata": {},
          "output_type": "execute_result"
        }
      ],
      "source": [
        "len(vaccines)"
      ]
    },
    {
      "cell_type": "code",
      "execution_count": null,
      "id": "7419e1fb",
      "metadata": {
        "id": "7419e1fb",
        "outputId": "12d56fb3-e8ba-4db4-90d6-5acc4e728622"
      },
      "outputs": [
        {
          "data": {
            "text/plain": [
              "'Covaxin'"
            ]
          },
          "execution_count": 118,
          "metadata": {},
          "output_type": "execute_result"
        }
      ],
      "source": [
        "vaccines[0]"
      ]
    },
    {
      "cell_type": "code",
      "execution_count": null,
      "id": "fc27475b",
      "metadata": {
        "id": "fc27475b",
        "outputId": "03a33511-41a5-4ac5-f7c9-a75a9efb3b31"
      },
      "outputs": [
        {
          "data": {
            "text/plain": [
              "('Covaxin', 'Covishield')"
            ]
          },
          "execution_count": 119,
          "metadata": {},
          "output_type": "execute_result"
        }
      ],
      "source": [
        "vaccines[:2]"
      ]
    },
    {
      "cell_type": "code",
      "execution_count": null,
      "id": "2e552836",
      "metadata": {
        "id": "2e552836",
        "outputId": "9ee53c30-8f90-481a-8875-dee6a0fef563"
      },
      "outputs": [
        {
          "data": {
            "text/plain": [
              "'Sputnik'"
            ]
          },
          "execution_count": 120,
          "metadata": {},
          "output_type": "execute_result"
        }
      ],
      "source": [
        "vaccines[-1]"
      ]
    },
    {
      "cell_type": "code",
      "execution_count": null,
      "id": "b9d4d8a4",
      "metadata": {
        "id": "b9d4d8a4",
        "outputId": "b6339cd9-911e-49da-f1e2-24d108dd33be"
      },
      "outputs": [
        {
          "data": {
            "text/plain": [
              "1"
            ]
          },
          "execution_count": 121,
          "metadata": {},
          "output_type": "execute_result"
        }
      ],
      "source": [
        "vaccines.count(\"Covaxin\")"
      ]
    },
    {
      "cell_type": "code",
      "execution_count": null,
      "id": "5b786678",
      "metadata": {
        "id": "5b786678",
        "outputId": "6acd3bfe-ba05-408e-806f-058e85b570e7"
      },
      "outputs": [
        {
          "ename": "TypeError",
          "evalue": "'tuple' object doesn't support item deletion",
          "output_type": "error",
          "traceback": [
            "\u001b[1;31m---------------------------------------------------------------------------\u001b[0m",
            "\u001b[1;31mTypeError\u001b[0m                                 Traceback (most recent call last)",
            "Input \u001b[1;32mIn [122]\u001b[0m, in \u001b[0;36m<cell line: 1>\u001b[1;34m()\u001b[0m\n\u001b[1;32m----> 1\u001b[0m \u001b[38;5;28;01mdel\u001b[39;00m vaccines[\u001b[38;5;241m0\u001b[39m]\n",
            "\u001b[1;31mTypeError\u001b[0m: 'tuple' object doesn't support item deletion"
          ]
        }
      ],
      "source": [
        "del vaccines[0]"
      ]
    },
    {
      "cell_type": "code",
      "execution_count": null,
      "id": "42bf6580",
      "metadata": {
        "scrolled": true,
        "id": "42bf6580",
        "outputId": "b079a030-5d2d-4f23-804d-80bb7058d76d"
      },
      "outputs": [
        {
          "ename": "TypeError",
          "evalue": "'tuple' object does not support item assignment",
          "output_type": "error",
          "traceback": [
            "\u001b[1;31m---------------------------------------------------------------------------\u001b[0m",
            "\u001b[1;31mTypeError\u001b[0m                                 Traceback (most recent call last)",
            "Input \u001b[1;32mIn [123]\u001b[0m, in \u001b[0;36m<cell line: 1>\u001b[1;34m()\u001b[0m\n\u001b[1;32m----> 1\u001b[0m vaccines[\u001b[38;5;241m0\u001b[39m] \u001b[38;5;241m=\u001b[39m \u001b[38;5;124m\"\u001b[39m\u001b[38;5;124mpfizer\u001b[39m\u001b[38;5;124m\"\u001b[39m\n",
            "\u001b[1;31mTypeError\u001b[0m: 'tuple' object does not support item assignment"
          ]
        }
      ],
      "source": [
        "vaccines[0] = \"pfizer\""
      ]
    },
    {
      "cell_type": "code",
      "execution_count": null,
      "id": "fbad2e40",
      "metadata": {
        "id": "fbad2e40"
      },
      "outputs": [],
      "source": [
        "del vaccines"
      ]
    },
    {
      "cell_type": "markdown",
      "id": "25bb6009",
      "metadata": {
        "id": "25bb6009"
      },
      "source": [
        "## Packing"
      ]
    },
    {
      "cell_type": "code",
      "execution_count": null,
      "id": "7e98897f",
      "metadata": {
        "id": "7e98897f"
      },
      "outputs": [],
      "source": [
        "rs = \"Rohit\", 34, \"MUM\""
      ]
    },
    {
      "cell_type": "code",
      "execution_count": null,
      "id": "3d42f60f",
      "metadata": {
        "id": "3d42f60f",
        "outputId": "6d4f0fd3-b281-4927-d35c-d110375f98e0"
      },
      "outputs": [
        {
          "data": {
            "text/plain": [
              "('Rohit', 34, 'MUM')"
            ]
          },
          "execution_count": 129,
          "metadata": {},
          "output_type": "execute_result"
        }
      ],
      "source": [
        "rs"
      ]
    },
    {
      "cell_type": "code",
      "execution_count": null,
      "id": "8f440ed4",
      "metadata": {
        "id": "8f440ed4",
        "outputId": "ed02d8e3-4458-44ba-d085-523e97c3bebd"
      },
      "outputs": [
        {
          "name": "stdout",
          "output_type": "stream",
          "text": [
            "<class 'tuple'>\n"
          ]
        }
      ],
      "source": [
        "print(type(rs))"
      ]
    },
    {
      "cell_type": "code",
      "execution_count": null,
      "id": "5ecb2997",
      "metadata": {
        "id": "5ecb2997"
      },
      "outputs": [],
      "source": [
        "name, age, Franchisee = \"Virat\", 35, \"RCB\""
      ]
    },
    {
      "cell_type": "code",
      "execution_count": null,
      "id": "3d675c71",
      "metadata": {
        "id": "3d675c71",
        "outputId": "e0f16a2a-af2e-49a7-afcf-d4e9f48a62e0"
      },
      "outputs": [
        {
          "data": {
            "text/plain": [
              "str"
            ]
          },
          "execution_count": 133,
          "metadata": {},
          "output_type": "execute_result"
        }
      ],
      "source": [
        "type(name)"
      ]
    },
    {
      "cell_type": "code",
      "execution_count": null,
      "id": "dcc62acc",
      "metadata": {
        "id": "dcc62acc",
        "outputId": "9c600acb-05e6-4d6f-d0dd-c467840e84e7"
      },
      "outputs": [
        {
          "data": {
            "text/plain": [
              "1678731415808"
            ]
          },
          "execution_count": 134,
          "metadata": {},
          "output_type": "execute_result"
        }
      ],
      "source": [
        "id(rs)"
      ]
    },
    {
      "cell_type": "code",
      "execution_count": null,
      "id": "9c7e386d",
      "metadata": {
        "id": "9c7e386d",
        "outputId": "2490d241-8d42-4242-df22-b78d3d22b1ef"
      },
      "outputs": [
        {
          "data": {
            "text/plain": [
              "1678730858608"
            ]
          },
          "execution_count": 135,
          "metadata": {},
          "output_type": "execute_result"
        }
      ],
      "source": [
        "id(name)"
      ]
    },
    {
      "cell_type": "code",
      "execution_count": null,
      "id": "9c191dd1",
      "metadata": {
        "id": "9c191dd1",
        "outputId": "416f67d9-8cf3-4281-b376-534e529a05e2"
      },
      "outputs": [
        {
          "data": {
            "text/plain": [
              "1678603283824"
            ]
          },
          "execution_count": 136,
          "metadata": {},
          "output_type": "execute_result"
        }
      ],
      "source": [
        "id(age)"
      ]
    },
    {
      "cell_type": "code",
      "execution_count": null,
      "id": "15209622",
      "metadata": {
        "id": "15209622",
        "outputId": "a064ea2f-d4d9-4370-dcf3-44f276915425"
      },
      "outputs": [
        {
          "data": {
            "text/plain": [
              "1678731475952"
            ]
          },
          "execution_count": 137,
          "metadata": {},
          "output_type": "execute_result"
        }
      ],
      "source": [
        "id(Franchisee)"
      ]
    },
    {
      "cell_type": "code",
      "execution_count": null,
      "id": "0c6f8905",
      "metadata": {
        "id": "0c6f8905",
        "outputId": "31e34a04-d2e2-4fe3-a33a-c2f7912beed3"
      },
      "outputs": [
        {
          "ename": "ValueError",
          "evalue": "too many values to unpack (expected 3)",
          "output_type": "error",
          "traceback": [
            "\u001b[1;31m---------------------------------------------------------------------------\u001b[0m",
            "\u001b[1;31mValueError\u001b[0m                                Traceback (most recent call last)",
            "Input \u001b[1;32mIn [138]\u001b[0m, in \u001b[0;36m<cell line: 1>\u001b[1;34m()\u001b[0m\n\u001b[1;32m----> 1\u001b[0m name, age, team \u001b[38;5;241m=\u001b[39m \u001b[38;5;124m\"\u001b[39m\u001b[38;5;124mVirat\u001b[39m\u001b[38;5;124m\"\u001b[39m, \u001b[38;5;241m35\u001b[39m, \u001b[38;5;124m\"\u001b[39m\u001b[38;5;124mRCB\u001b[39m\u001b[38;5;124m\"\u001b[39m, \u001b[38;5;124m\"\u001b[39m\u001b[38;5;124mIndia\u001b[39m\u001b[38;5;124m\"\u001b[39m\n",
            "\u001b[1;31mValueError\u001b[0m: too many values to unpack (expected 3)"
          ]
        }
      ],
      "source": [
        "name, age, team = \"Virat\", 35, \"RCB\", \"India\""
      ]
    },
    {
      "cell_type": "code",
      "execution_count": null,
      "id": "10d59e07",
      "metadata": {
        "id": "10d59e07"
      },
      "outputs": [],
      "source": [
        "name, age, *team = \"Virat\", 35, \"RCB\", \"India\""
      ]
    },
    {
      "cell_type": "code",
      "execution_count": null,
      "id": "c8debcf1",
      "metadata": {
        "id": "c8debcf1"
      },
      "outputs": [],
      "source": []
    }
  ],
  "metadata": {
    "kernelspec": {
      "display_name": "Python 3 (ipykernel)",
      "language": "python",
      "name": "python3"
    },
    "language_info": {
      "codemirror_mode": {
        "name": "ipython",
        "version": 3
      },
      "file_extension": ".py",
      "mimetype": "text/x-python",
      "name": "python",
      "nbconvert_exporter": "python",
      "pygments_lexer": "ipython3",
      "version": "3.9.12"
    },
    "colab": {
      "provenance": []
    }
  },
  "nbformat": 4,
  "nbformat_minor": 5
}