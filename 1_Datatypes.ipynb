{
  "cells": [
    {
      "cell_type": "markdown",
      "metadata": {
        "id": "view-in-github",
        "colab_type": "text"
      },
      "source": [
        "<a href=\"https://colab.research.google.com/github/PotlachervuSrilatha/PYTHON/blob/main/1_Datatypes.ipynb\" target=\"_parent\"><img src=\"https://colab.research.google.com/assets/colab-badge.svg\" alt=\"Open In Colab\"/></a>"
      ]
    },
    {
      "cell_type": "markdown",
      "id": "ffde79ee",
      "metadata": {
        "id": "ffde79ee"
      },
      "source": [
        "## Introduction to Datatypes"
      ]
    },
    {
      "cell_type": "code",
      "execution_count": null,
      "id": "4b0e2750",
      "metadata": {
        "id": "4b0e2750"
      },
      "outputs": [],
      "source": [
        "i = 10"
      ]
    },
    {
      "cell_type": "code",
      "execution_count": null,
      "id": "a59b79be",
      "metadata": {
        "id": "a59b79be",
        "outputId": "25668ffd-32d9-4bbf-8189-e674406e7f90"
      },
      "outputs": [
        {
          "data": {
            "text/plain": [
              "int"
            ]
          },
          "execution_count": 2,
          "metadata": {},
          "output_type": "execute_result"
        }
      ],
      "source": [
        "type(i)"
      ]
    },
    {
      "cell_type": "code",
      "execution_count": null,
      "id": "f6a837b7",
      "metadata": {
        "id": "f6a837b7",
        "outputId": "96a584a9-7f2f-45f1-b9a9-b21c03449a49"
      },
      "outputs": [
        {
          "data": {
            "text/plain": [
              "1660050958928"
            ]
          },
          "execution_count": 3,
          "metadata": {},
          "output_type": "execute_result"
        }
      ],
      "source": [
        "id(i)"
      ]
    },
    {
      "cell_type": "code",
      "execution_count": null,
      "id": "c3eb9e61",
      "metadata": {
        "id": "c3eb9e61",
        "outputId": "0b01cf8e-e959-44bb-97f4-417896ef409e"
      },
      "outputs": [
        {
          "data": {
            "text/plain": [
              "10"
            ]
          },
          "execution_count": 4,
          "metadata": {},
          "output_type": "execute_result"
        }
      ],
      "source": [
        "i"
      ]
    },
    {
      "cell_type": "code",
      "execution_count": null,
      "id": "1d110073",
      "metadata": {
        "id": "1d110073",
        "outputId": "137fdc1b-b214-42b1-917e-26f75da9089d"
      },
      "outputs": [
        {
          "name": "stdout",
          "output_type": "stream",
          "text": [
            "10\n"
          ]
        }
      ],
      "source": [
        "print(i)"
      ]
    },
    {
      "cell_type": "markdown",
      "id": "ba53ea29",
      "metadata": {
        "id": "ba53ea29"
      },
      "source": [
        "# Strings\n",
        " - Strings: a collection of characters\n",
        " - deifined either by double or single quotes\n",
        " - IMMUTABLE"
      ]
    },
    {
      "cell_type": "code",
      "execution_count": null,
      "id": "4913ffbd",
      "metadata": {
        "id": "4913ffbd"
      },
      "outputs": [],
      "source": [
        "s = 'WELCOME'"
      ]
    },
    {
      "cell_type": "code",
      "execution_count": null,
      "id": "360cda2f",
      "metadata": {
        "id": "360cda2f",
        "outputId": "01d932cb-e6d4-417d-a428-e2ccc152283c"
      },
      "outputs": [
        {
          "name": "stdout",
          "output_type": "stream",
          "text": [
            "<class 'str'>\n"
          ]
        }
      ],
      "source": [
        "print(type(s))"
      ]
    },
    {
      "cell_type": "code",
      "execution_count": null,
      "id": "f7e218ab",
      "metadata": {
        "id": "f7e218ab"
      },
      "outputs": [],
      "source": []
    },
    {
      "cell_type": "code",
      "execution_count": null,
      "id": "42b178e9",
      "metadata": {
        "id": "42b178e9",
        "outputId": "1c23e584-0157-41ec-f83c-6242f9016dcc"
      },
      "outputs": [
        {
          "data": {
            "text/plain": [
              "7"
            ]
          },
          "execution_count": 11,
          "metadata": {},
          "output_type": "execute_result"
        }
      ],
      "source": [
        "# len => for strings, lists, tuples, its internal function to python\n",
        "len(s)"
      ]
    },
    {
      "cell_type": "markdown",
      "id": "f85b8730",
      "metadata": {
        "id": "f85b8730"
      },
      "source": [
        "## Indexing"
      ]
    },
    {
      "cell_type": "markdown",
      "id": "48469ed3",
      "metadata": {
        "id": "48469ed3"
      },
      "source": [
        "## Positive indexing"
      ]
    },
    {
      "cell_type": "code",
      "execution_count": null,
      "id": "5a0c3c60",
      "metadata": {
        "id": "5a0c3c60",
        "outputId": "13917cc4-dbfa-4189-f703-5d0bdccd19ce"
      },
      "outputs": [
        {
          "data": {
            "text/plain": [
              "'W'"
            ]
          },
          "execution_count": 12,
          "metadata": {},
          "output_type": "execute_result"
        }
      ],
      "source": [
        "s[0]"
      ]
    },
    {
      "cell_type": "code",
      "execution_count": null,
      "id": "e2cd6bbd",
      "metadata": {
        "id": "e2cd6bbd",
        "outputId": "d7c197b7-0144-4389-ea1e-3d83a490aac9"
      },
      "outputs": [
        {
          "data": {
            "text/plain": [
              "'C'"
            ]
          },
          "execution_count": 13,
          "metadata": {},
          "output_type": "execute_result"
        }
      ],
      "source": [
        "s[3]"
      ]
    },
    {
      "cell_type": "code",
      "execution_count": null,
      "id": "00f88863",
      "metadata": {
        "id": "00f88863",
        "outputId": "b9fcd69b-0d36-452d-8c02-8d9cb41d1459"
      },
      "outputs": [
        {
          "ename": "IndexError",
          "evalue": "string index out of range",
          "output_type": "error",
          "traceback": [
            "\u001b[1;31m---------------------------------------------------------------------------\u001b[0m",
            "\u001b[1;31mIndexError\u001b[0m                                Traceback (most recent call last)",
            "Input \u001b[1;32mIn [14]\u001b[0m, in \u001b[0;36m<cell line: 1>\u001b[1;34m()\u001b[0m\n\u001b[1;32m----> 1\u001b[0m \u001b[43ms\u001b[49m\u001b[43m[\u001b[49m\u001b[38;5;241;43m7\u001b[39;49m\u001b[43m]\u001b[49m\n",
            "\u001b[1;31mIndexError\u001b[0m: string index out of range"
          ]
        }
      ],
      "source": [
        "s[7]"
      ]
    },
    {
      "cell_type": "markdown",
      "id": "dba67980",
      "metadata": {
        "id": "dba67980"
      },
      "source": [
        "## Negative indexing"
      ]
    },
    {
      "cell_type": "code",
      "execution_count": null,
      "id": "9305625a",
      "metadata": {
        "id": "9305625a",
        "outputId": "9409e4dd-8bd6-4e2e-d348-1605ac02eeb9"
      },
      "outputs": [
        {
          "data": {
            "text/plain": [
              "'E'"
            ]
          },
          "execution_count": 15,
          "metadata": {},
          "output_type": "execute_result"
        }
      ],
      "source": [
        "s[-1]"
      ]
    },
    {
      "cell_type": "code",
      "execution_count": null,
      "id": "c513d2f9",
      "metadata": {
        "id": "c513d2f9",
        "outputId": "219250d5-c47e-476f-b2bc-2f2035b687b8"
      },
      "outputs": [
        {
          "data": {
            "text/plain": [
              "'O'"
            ]
          },
          "execution_count": 16,
          "metadata": {},
          "output_type": "execute_result"
        }
      ],
      "source": [
        "s[-3]"
      ]
    },
    {
      "cell_type": "markdown",
      "id": "380dae67",
      "metadata": {
        "id": "380dae67"
      },
      "source": [
        "## Slicing\n",
        " - Extracts a substring from a string\n",
        " - Syntax: startpos:endpos:skip count / Direction\n",
        " - Startpos -. included, endpos -. excluded"
      ]
    },
    {
      "cell_type": "code",
      "execution_count": null,
      "id": "f07bb0ce",
      "metadata": {
        "id": "f07bb0ce",
        "outputId": "3d1b8b35-f5cc-43a5-d71e-dc8719aa2050"
      },
      "outputs": [
        {
          "data": {
            "text/plain": [
              "'WEL'"
            ]
          },
          "execution_count": 17,
          "metadata": {},
          "output_type": "execute_result"
        }
      ],
      "source": [
        "s[0:3]"
      ]
    },
    {
      "cell_type": "code",
      "execution_count": null,
      "id": "12022764",
      "metadata": {
        "id": "12022764",
        "outputId": "9277b0c3-02c1-468a-e013-5b28b54cc5d2"
      },
      "outputs": [
        {
          "data": {
            "text/plain": [
              "'COME'"
            ]
          },
          "execution_count": 18,
          "metadata": {},
          "output_type": "execute_result"
        }
      ],
      "source": [
        "s[3:8]"
      ]
    },
    {
      "cell_type": "code",
      "execution_count": null,
      "id": "6c8fd538",
      "metadata": {
        "id": "6c8fd538",
        "outputId": "e9d5a2aa-c90b-44ae-ee08-9f954db73a9a"
      },
      "outputs": [
        {
          "data": {
            "text/plain": [
              "'COME'"
            ]
          },
          "execution_count": 19,
          "metadata": {},
          "output_type": "execute_result"
        }
      ],
      "source": [
        "s[3:]"
      ]
    },
    {
      "cell_type": "code",
      "execution_count": null,
      "id": "feddf3dd",
      "metadata": {
        "id": "feddf3dd",
        "outputId": "72effdd6-420e-4ada-a580-8445186245e4"
      },
      "outputs": [
        {
          "data": {
            "text/plain": [
              "'WEL'"
            ]
          },
          "execution_count": 20,
          "metadata": {},
          "output_type": "execute_result"
        }
      ],
      "source": [
        "s[:3]"
      ]
    },
    {
      "cell_type": "code",
      "execution_count": null,
      "id": "0f95de70",
      "metadata": {
        "id": "0f95de70",
        "outputId": "4d1a7a01-f2c6-45d7-e529-b384d4f2e84d"
      },
      "outputs": [
        {
          "data": {
            "text/plain": [
              "'WELCOME'"
            ]
          },
          "execution_count": 21,
          "metadata": {},
          "output_type": "execute_result"
        }
      ],
      "source": [
        "s[:]"
      ]
    },
    {
      "cell_type": "code",
      "execution_count": null,
      "id": "dabe4a62",
      "metadata": {
        "id": "dabe4a62",
        "outputId": "d0c4cf2e-8c7d-400e-b7b5-28f285fe6b03"
      },
      "outputs": [
        {
          "data": {
            "text/plain": [
              "'WELCOME'"
            ]
          },
          "execution_count": 22,
          "metadata": {},
          "output_type": "execute_result"
        }
      ],
      "source": [
        "s"
      ]
    },
    {
      "cell_type": "code",
      "execution_count": null,
      "id": "a7480593",
      "metadata": {
        "id": "a7480593",
        "outputId": "d46f438a-97c8-42dc-b4ce-4644bc873977"
      },
      "outputs": [
        {
          "data": {
            "text/plain": [
              "'OM'"
            ]
          },
          "execution_count": 23,
          "metadata": {},
          "output_type": "execute_result"
        }
      ],
      "source": [
        "s[-3:-1]"
      ]
    },
    {
      "cell_type": "code",
      "execution_count": null,
      "id": "2f3d0b07",
      "metadata": {
        "id": "2f3d0b07",
        "outputId": "1f32fb56-bb87-4b09-9e31-9cea2e9d366a"
      },
      "outputs": [
        {
          "data": {
            "text/plain": [
              "'WLOE'"
            ]
          },
          "execution_count": 24,
          "metadata": {},
          "output_type": "execute_result"
        }
      ],
      "source": [
        "s[::2]"
      ]
    },
    {
      "cell_type": "code",
      "execution_count": null,
      "id": "d2facf2f",
      "metadata": {
        "id": "d2facf2f",
        "outputId": "c982b45b-9ad5-480c-c53e-92cdb8c78b62"
      },
      "outputs": [
        {
          "data": {
            "text/plain": [
              "''"
            ]
          },
          "execution_count": 25,
          "metadata": {},
          "output_type": "execute_result"
        }
      ],
      "source": [
        "s[-1:-3]"
      ]
    },
    {
      "cell_type": "code",
      "execution_count": null,
      "id": "0f0e6431",
      "metadata": {
        "id": "0f0e6431",
        "outputId": "620a705e-ddd5-4883-d05b-1afe97ba46e1"
      },
      "outputs": [
        {
          "data": {
            "text/plain": [
              "'EMOCLEW'"
            ]
          },
          "execution_count": 26,
          "metadata": {},
          "output_type": "execute_result"
        }
      ],
      "source": [
        "s[::-1]"
      ]
    },
    {
      "cell_type": "code",
      "execution_count": null,
      "id": "f5dbc263",
      "metadata": {
        "id": "f5dbc263",
        "outputId": "67214356-0d55-48f6-ac8f-f81a3cf7c858"
      },
      "outputs": [
        {
          "data": {
            "text/plain": [
              "'EOLW'"
            ]
          },
          "execution_count": 31,
          "metadata": {},
          "output_type": "execute_result"
        }
      ],
      "source": [
        "s[::-2]"
      ]
    },
    {
      "cell_type": "code",
      "execution_count": null,
      "id": "2747477f",
      "metadata": {
        "id": "2747477f",
        "outputId": "57e12e65-2ac6-48c4-e1ff-dfce9b493367"
      },
      "outputs": [
        {
          "data": {
            "text/plain": [
              "'wELCOME'"
            ]
          },
          "execution_count": 32,
          "metadata": {},
          "output_type": "execute_result"
        }
      ],
      "source": [
        "s.replace(\"W\",\"w\")"
      ]
    },
    {
      "cell_type": "code",
      "execution_count": null,
      "id": "8c2acb5e",
      "metadata": {
        "id": "8c2acb5e",
        "outputId": "cc8c16af-ca93-4870-c8f4-6f770e87f0c4"
      },
      "outputs": [
        {
          "data": {
            "text/plain": [
              "'WELCOME'"
            ]
          },
          "execution_count": 33,
          "metadata": {},
          "output_type": "execute_result"
        }
      ],
      "source": [
        "s"
      ]
    },
    {
      "cell_type": "code",
      "execution_count": null,
      "id": "a85d9e35",
      "metadata": {
        "id": "a85d9e35"
      },
      "outputs": [],
      "source": [
        "s = s.replace(\"W\",\"w\")"
      ]
    },
    {
      "cell_type": "code",
      "execution_count": null,
      "id": "ae31eca2",
      "metadata": {
        "id": "ae31eca2",
        "outputId": "67094c93-5f40-4ec6-fb13-05b8889380a3"
      },
      "outputs": [
        {
          "data": {
            "text/plain": [
              "'wELCOME'"
            ]
          },
          "execution_count": 35,
          "metadata": {},
          "output_type": "execute_result"
        }
      ],
      "source": [
        "s"
      ]
    },
    {
      "cell_type": "code",
      "execution_count": null,
      "id": "dc75a8f7",
      "metadata": {
        "id": "dc75a8f7"
      },
      "outputs": [],
      "source": [
        "s = \"WELCOME\""
      ]
    },
    {
      "cell_type": "code",
      "execution_count": null,
      "id": "39164122",
      "metadata": {
        "id": "39164122",
        "outputId": "d29d4127-d2f7-48f1-d19c-a27d741248d1"
      },
      "outputs": [
        {
          "data": {
            "text/plain": [
              "'WELCOME'"
            ]
          },
          "execution_count": 38,
          "metadata": {},
          "output_type": "execute_result"
        }
      ],
      "source": [
        "s"
      ]
    },
    {
      "cell_type": "code",
      "execution_count": null,
      "id": "cbf15c9b",
      "metadata": {
        "id": "cbf15c9b",
        "outputId": "04fa0b65-b8a6-4368-db1e-ab895d349037"
      },
      "outputs": [
        {
          "data": {
            "text/plain": [
              "2"
            ]
          },
          "execution_count": 39,
          "metadata": {},
          "output_type": "execute_result"
        }
      ],
      "source": [
        "s.index(\"L\")"
      ]
    },
    {
      "cell_type": "code",
      "execution_count": null,
      "id": "7c5014c9",
      "metadata": {
        "id": "7c5014c9",
        "outputId": "2c9250b3-637f-4a47-bc3f-c1560a8e4c01"
      },
      "outputs": [
        {
          "ename": "TypeError",
          "evalue": "replace expected at least 2 arguments, got 0",
          "output_type": "error",
          "traceback": [
            "\u001b[1;31m---------------------------------------------------------------------------\u001b[0m",
            "\u001b[1;31mTypeError\u001b[0m                                 Traceback (most recent call last)",
            "Input \u001b[1;32mIn [40]\u001b[0m, in \u001b[0;36m<cell line: 1>\u001b[1;34m()\u001b[0m\n\u001b[1;32m----> 1\u001b[0m \u001b[43ms\u001b[49m\u001b[38;5;241;43m.\u001b[39;49m\u001b[43mreplace\u001b[49m\u001b[43m(\u001b[49m\u001b[43m)\u001b[49m\n",
            "\u001b[1;31mTypeError\u001b[0m: replace expected at least 2 arguments, got 0"
          ]
        }
      ],
      "source": [
        "s.replace() #shift+tab+tab for doc string (Explanation of the function)"
      ]
    },
    {
      "cell_type": "code",
      "execution_count": null,
      "id": "eef561e6",
      "metadata": {
        "id": "eef561e6",
        "outputId": "f471b1fa-3003-4b99-cbdd-9f5cb9f2ea43"
      },
      "outputs": [
        {
          "data": {
            "text/plain": [
              "'WELCOME'"
            ]
          },
          "execution_count": 41,
          "metadata": {},
          "output_type": "execute_result"
        }
      ],
      "source": [
        "s"
      ]
    },
    {
      "cell_type": "code",
      "execution_count": null,
      "id": "b5db7570",
      "metadata": {
        "id": "b5db7570",
        "outputId": "4a219aa9-72c6-4ffb-d18a-82927a9af5ed"
      },
      "outputs": [
        {
          "ename": "TypeError",
          "evalue": "can only concatenate str (not \"int\") to str",
          "output_type": "error",
          "traceback": [
            "\u001b[1;31m---------------------------------------------------------------------------\u001b[0m",
            "\u001b[1;31mTypeError\u001b[0m                                 Traceback (most recent call last)",
            "Input \u001b[1;32mIn [42]\u001b[0m, in \u001b[0;36m<cell line: 1>\u001b[1;34m()\u001b[0m\n\u001b[1;32m----> 1\u001b[0m \u001b[43ms\u001b[49m\u001b[43m \u001b[49m\u001b[38;5;241;43m+\u001b[39;49m\u001b[43m \u001b[49m\u001b[38;5;241;43m10\u001b[39;49m\n",
            "\u001b[1;31mTypeError\u001b[0m: can only concatenate str (not \"int\") to str"
          ]
        }
      ],
      "source": [
        "s + 10"
      ]
    },
    {
      "cell_type": "code",
      "execution_count": null,
      "id": "9f4ab108",
      "metadata": {
        "id": "9f4ab108"
      },
      "outputs": [],
      "source": [
        "t = \" welcome\""
      ]
    },
    {
      "cell_type": "code",
      "execution_count": null,
      "id": "82b652a5",
      "metadata": {
        "id": "82b652a5",
        "outputId": "3fa90371-97f7-41eb-e4e7-f3e80c0af42d"
      },
      "outputs": [
        {
          "data": {
            "text/plain": [
              "'WELCOME welcome'"
            ]
          },
          "execution_count": 44,
          "metadata": {},
          "output_type": "execute_result"
        }
      ],
      "source": [
        "s+t"
      ]
    },
    {
      "cell_type": "code",
      "execution_count": null,
      "id": "2762555a",
      "metadata": {
        "id": "2762555a",
        "outputId": "56e9e9b6-f61a-4f56-9dae-802c5e88858b"
      },
      "outputs": [
        {
          "data": {
            "text/plain": [
              "'WELCOMEWELCOMEWELCOME'"
            ]
          },
          "execution_count": 45,
          "metadata": {},
          "output_type": "execute_result"
        }
      ],
      "source": [
        "s * 3"
      ]
    },
    {
      "cell_type": "code",
      "execution_count": null,
      "id": "4deb5fd3",
      "metadata": {
        "id": "4deb5fd3",
        "outputId": "2d9c5581-068a-411d-83d7-668beab5d73f"
      },
      "outputs": [
        {
          "data": {
            "text/plain": [
              "'WELCOME 10'"
            ]
          },
          "execution_count": 46,
          "metadata": {},
          "output_type": "execute_result"
        }
      ],
      "source": [
        "s + \" 10\""
      ]
    },
    {
      "cell_type": "markdown",
      "id": "7194f8bb",
      "metadata": {
        "id": "7194f8bb"
      },
      "source": [
        "## LISTS"
      ]
    },
    {
      "cell_type": "markdown",
      "id": "b95a0aaa",
      "metadata": {
        "id": "b95a0aaa"
      },
      "source": [
        "- Ordered collection of objects/elements/items\n",
        "- []\n",
        "- MUTABLE"
      ]
    },
    {
      "cell_type": "code",
      "execution_count": null,
      "id": "7a973030",
      "metadata": {
        "id": "7a973030"
      },
      "outputs": [],
      "source": [
        "languages = [\"C\", \"CPP\", \"Java\", \"C#\"]"
      ]
    },
    {
      "cell_type": "code",
      "execution_count": null,
      "id": "50b27130",
      "metadata": {
        "id": "50b27130",
        "outputId": "60846555-7989-4ca9-9a0c-f96785d38cf5"
      },
      "outputs": [
        {
          "data": {
            "text/plain": [
              "['C', 'CPP', 'Java', 'C#']"
            ]
          },
          "execution_count": 48,
          "metadata": {},
          "output_type": "execute_result"
        }
      ],
      "source": [
        "languages"
      ]
    },
    {
      "cell_type": "code",
      "execution_count": null,
      "id": "4c588e28",
      "metadata": {
        "id": "4c588e28",
        "outputId": "732dfdd0-3ca2-4265-8703-fb0e559c5607"
      },
      "outputs": [
        {
          "name": "stdout",
          "output_type": "stream",
          "text": [
            "['C', 'CPP', 'Java', 'C#']\n"
          ]
        }
      ],
      "source": [
        "print(languages)"
      ]
    },
    {
      "cell_type": "code",
      "execution_count": null,
      "id": "58ea8a8f",
      "metadata": {
        "id": "58ea8a8f",
        "outputId": "7a5bb624-49b5-4273-d37b-0464a9c5f103"
      },
      "outputs": [
        {
          "data": {
            "text/plain": [
              "list"
            ]
          },
          "execution_count": 50,
          "metadata": {},
          "output_type": "execute_result"
        }
      ],
      "source": [
        "type(languages)"
      ]
    },
    {
      "cell_type": "code",
      "execution_count": null,
      "id": "437be3e2",
      "metadata": {
        "id": "437be3e2",
        "outputId": "14e91283-e93b-4398-8981-ac40fd9de71b"
      },
      "outputs": [
        {
          "data": {
            "text/plain": [
              "'C'"
            ]
          },
          "execution_count": 51,
          "metadata": {},
          "output_type": "execute_result"
        }
      ],
      "source": [
        "languages[0]"
      ]
    },
    {
      "cell_type": "code",
      "execution_count": null,
      "id": "5a05d00c",
      "metadata": {
        "id": "5a05d00c",
        "outputId": "8ee9faa7-75c2-4c9b-e530-13311deb0617"
      },
      "outputs": [
        {
          "data": {
            "text/plain": [
              "'C#'"
            ]
          },
          "execution_count": 52,
          "metadata": {},
          "output_type": "execute_result"
        }
      ],
      "source": [
        "languages[3]"
      ]
    },
    {
      "cell_type": "code",
      "execution_count": null,
      "id": "da04b786",
      "metadata": {
        "id": "da04b786",
        "outputId": "84f00f70-1a3f-4bf8-f2a0-2f1c4a306cc9"
      },
      "outputs": [
        {
          "data": {
            "text/plain": [
              "'C#'"
            ]
          },
          "execution_count": 53,
          "metadata": {},
          "output_type": "execute_result"
        }
      ],
      "source": [
        "languages[-1]"
      ]
    },
    {
      "cell_type": "code",
      "execution_count": null,
      "id": "a2995587",
      "metadata": {
        "id": "a2995587",
        "outputId": "3347582e-310d-45fd-dcbd-0416395586f0"
      },
      "outputs": [
        {
          "data": {
            "text/plain": [
              "['C', 'CPP']"
            ]
          },
          "execution_count": 54,
          "metadata": {},
          "output_type": "execute_result"
        }
      ],
      "source": [
        "languages[:2]"
      ]
    },
    {
      "cell_type": "code",
      "execution_count": null,
      "id": "0ba1ad01",
      "metadata": {
        "id": "0ba1ad01",
        "outputId": "74c666bd-0988-4904-e27d-9c4b7946dc8a"
      },
      "outputs": [
        {
          "data": {
            "text/plain": [
              "str"
            ]
          },
          "execution_count": 56,
          "metadata": {},
          "output_type": "execute_result"
        }
      ],
      "source": [
        "type(languages[-2])"
      ]
    },
    {
      "cell_type": "code",
      "execution_count": null,
      "id": "cc75839b",
      "metadata": {
        "id": "cc75839b",
        "outputId": "eb55563c-755c-4e7a-e458-7e2e6371a463"
      },
      "outputs": [
        {
          "data": {
            "text/plain": [
              "'J'"
            ]
          },
          "execution_count": 57,
          "metadata": {},
          "output_type": "execute_result"
        }
      ],
      "source": [
        "languages[-2][0]"
      ]
    },
    {
      "cell_type": "code",
      "execution_count": null,
      "id": "d583a006",
      "metadata": {
        "id": "d583a006"
      },
      "outputs": [],
      "source": [
        "languages[3] = [\"python\", \"scipy\", \"pandas\"]"
      ]
    },
    {
      "cell_type": "code",
      "execution_count": null,
      "id": "554d3bd4",
      "metadata": {
        "id": "554d3bd4",
        "outputId": "003a8322-c425-4307-9dd5-ba3e93ce29dc"
      },
      "outputs": [
        {
          "data": {
            "text/plain": [
              "['C', 'CPP', 'Java', ['python', 'scipy', 'pandas']]"
            ]
          },
          "execution_count": 60,
          "metadata": {},
          "output_type": "execute_result"
        }
      ],
      "source": [
        "languages"
      ]
    },
    {
      "cell_type": "code",
      "execution_count": null,
      "id": "b91ed24d",
      "metadata": {
        "id": "b91ed24d",
        "outputId": "35ec4b75-ef70-4c00-a65e-c74756cfefd4"
      },
      "outputs": [
        {
          "data": {
            "text/plain": [
              "'p'"
            ]
          },
          "execution_count": 61,
          "metadata": {},
          "output_type": "execute_result"
        }
      ],
      "source": [
        "languages[3][2][0]"
      ]
    },
    {
      "cell_type": "code",
      "execution_count": null,
      "id": "3918d488",
      "metadata": {
        "id": "3918d488"
      },
      "outputs": [],
      "source": []
    }
  ],
  "metadata": {
    "kernelspec": {
      "display_name": "Python 3 (ipykernel)",
      "language": "python",
      "name": "python3"
    },
    "language_info": {
      "codemirror_mode": {
        "name": "ipython",
        "version": 3
      },
      "file_extension": ".py",
      "mimetype": "text/x-python",
      "name": "python",
      "nbconvert_exporter": "python",
      "pygments_lexer": "ipython3",
      "version": "3.9.12"
    },
    "colab": {
      "provenance": [],
      "include_colab_link": true
    }
  },
  "nbformat": 4,
  "nbformat_minor": 5
}