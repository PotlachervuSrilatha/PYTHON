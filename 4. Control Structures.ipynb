{
 "cells": [
  {
   "cell_type": "markdown",
   "id": "bac340f3",
   "metadata": {},
   "source": [
    "# Control Structures"
   ]
  },
  {
   "cell_type": "markdown",
   "id": "a2b0880c",
   "metadata": {},
   "source": [
    "# Taking user input"
   ]
  },
  {
   "cell_type": "code",
   "execution_count": 1,
   "id": "6e61fd9a",
   "metadata": {},
   "outputs": [
    {
     "name": "stdout",
     "output_type": "stream",
     "text": [
      "Enter the current score: 10\n"
     ]
    }
   ],
   "source": [
    "score = input(\"Enter the current score: \") # input() => always returns a string"
   ]
  },
  {
   "cell_type": "code",
   "execution_count": 5,
   "id": "4a719782",
   "metadata": {},
   "outputs": [
    {
     "name": "stdout",
     "output_type": "stream",
     "text": [
      "Enter the current score: 10\n"
     ]
    }
   ],
   "source": [
    "score = int(input(\"Enter the current score: \"))"
   ]
  },
  {
   "cell_type": "code",
   "execution_count": 6,
   "id": "a450a75e",
   "metadata": {},
   "outputs": [
    {
     "data": {
      "text/plain": [
       "10"
      ]
     },
     "execution_count": 6,
     "metadata": {},
     "output_type": "execute_result"
    }
   ],
   "source": [
    "score"
   ]
  },
  {
   "cell_type": "code",
   "execution_count": 7,
   "id": "e616a642",
   "metadata": {},
   "outputs": [
    {
     "name": "stdout",
     "output_type": "stream",
     "text": [
      "<class 'int'>\n"
     ]
    }
   ],
   "source": [
    "9print(type(score))"
   ]
  },
  {
   "cell_type": "code",
   "execution_count": 2,
   "id": "e0498b2b",
   "metadata": {},
   "outputs": [],
   "source": [
    "x = 20"
   ]
  },
  {
   "cell_type": "code",
   "execution_count": 4,
   "id": "034c2887",
   "metadata": {},
   "outputs": [
    {
     "data": {
      "text/plain": [
       "20"
      ]
     },
     "execution_count": 4,
     "metadata": {},
     "output_type": "execute_result"
    }
   ],
   "source": [
    "x"
   ]
  },
  {
   "cell_type": "markdown",
   "id": "2733fe04",
   "metadata": {},
   "source": [
    "Conditional Statement\n",
    "- if\n",
    "- if-else\n",
    "- elif"
   ]
  },
  {
   "cell_type": "code",
   "execution_count": 23,
   "id": "f4fa8d29",
   "metadata": {},
   "outputs": [
    {
     "name": "stdout",
     "output_type": "stream",
     "text": [
      "Enter any number: 10\n",
      "10\n"
     ]
    }
   ],
   "source": [
    "number = int(input(\"Enter any number: \"))\n",
    "print(number)"
   ]
  },
  {
   "cell_type": "code",
   "execution_count": 16,
   "id": "061fa825",
   "metadata": {},
   "outputs": [],
   "source": [
    "if number>= 0:\n",
    "    print(\"user has entered a positive\", number)"
   ]
  },
  {
   "cell_type": "code",
   "execution_count": 14,
   "id": "8258e5fd",
   "metadata": {},
   "outputs": [
    {
     "name": "stdout",
     "output_type": "stream",
     "text": [
      "user has entered a negative -1\n"
     ]
    }
   ],
   "source": [
    "if number>= 0:\n",
    "    print(\"user has entered a positive\", number)\n",
    "else:\n",
    "    print(\"user has entered a negative\", number)"
   ]
  },
  {
   "cell_type": "code",
   "execution_count": 22,
   "id": "8cc7a7c1",
   "metadata": {},
   "outputs": [
    {
     "name": "stdout",
     "output_type": "stream",
     "text": [
      "its a zero 0\n"
     ]
    }
   ],
   "source": [
    "if number > 0:\n",
    "    print(\"user has entered a positive\", number)\n",
    "elif number == 0:\n",
    "    print(\"its a zero\",0)\n",
    "else:\n",
    "    print(\"user has entered a negative\", number)"
   ]
  },
  {
   "cell_type": "markdown",
   "id": "6790be42",
   "metadata": {},
   "source": [
    "## While"
   ]
  },
  {
   "cell_type": "code",
   "execution_count": 29,
   "id": "2c701ec5",
   "metadata": {},
   "outputs": [
    {
     "name": "stdout",
     "output_type": "stream",
     "text": [
      "1\n",
      "3\n",
      "5\n",
      "7\n",
      "9\n"
     ]
    }
   ],
   "source": [
    "index = 1\n",
    "while index <= 10:\n",
    "    print(index)\n",
    "    #index = index+1\n",
    "    index += 2"
   ]
  },
  {
   "cell_type": "code",
   "execution_count": 30,
   "id": "6b12dda1",
   "metadata": {},
   "outputs": [],
   "source": [
    "r = list(range(1,10,2))"
   ]
  },
  {
   "cell_type": "code",
   "execution_count": 32,
   "id": "d7db7a75",
   "metadata": {},
   "outputs": [
    {
     "name": "stdout",
     "output_type": "stream",
     "text": [
      "1\n",
      "3\n",
      "5\n",
      "7\n",
      "9\n"
     ]
    }
   ],
   "source": [
    "for item in r:\n",
    "    print(item)"
   ]
  },
  {
   "cell_type": "code",
   "execution_count": 33,
   "id": "35d16caa",
   "metadata": {},
   "outputs": [],
   "source": [
    "company_names = [\"amazon\",\"flipkart\",\"snapdeal\"]"
   ]
  },
  {
   "cell_type": "code",
   "execution_count": 34,
   "id": "b17ab46d",
   "metadata": {},
   "outputs": [
    {
     "name": "stdout",
     "output_type": "stream",
     "text": [
      "['amazon', 'flipkart', 'snapdeal']\n"
     ]
    }
   ],
   "source": [
    "print(company_names)"
   ]
  },
  {
   "cell_type": "code",
   "execution_count": 35,
   "id": "5d3d59ea",
   "metadata": {},
   "outputs": [],
   "source": [
    "## Convert all the company names into websites"
   ]
  },
  {
   "cell_type": "code",
   "execution_count": 36,
   "id": "5952a9f8",
   "metadata": {},
   "outputs": [],
   "source": [
    "amazon = \"www.amazon.com\""
   ]
  },
  {
   "cell_type": "code",
   "execution_count": 37,
   "id": "290ed44e",
   "metadata": {},
   "outputs": [
    {
     "data": {
      "text/plain": [
       "'www.amazon.com'"
      ]
     },
     "execution_count": 37,
     "metadata": {},
     "output_type": "execute_result"
    }
   ],
   "source": [
    "amazon"
   ]
  },
  {
   "cell_type": "code",
   "execution_count": null,
   "id": "1458c33e",
   "metadata": {},
   "outputs": [],
   "source": []
  },
  {
   "cell_type": "code",
   "execution_count": 50,
   "id": "372f9e1e",
   "metadata": {},
   "outputs": [
    {
     "name": "stdout",
     "output_type": "stream",
     "text": [
      "www.amazon.com\n",
      "www.flipkart.com\n",
      "www.snapdeal.com\n"
     ]
    }
   ],
   "source": [
    "for x in company_names:\n",
    "    print(\"www.\" + x + \".com\")"
   ]
  },
  {
   "cell_type": "code",
   "execution_count": 41,
   "id": "cfa150ef",
   "metadata": {},
   "outputs": [
    {
     "name": "stdout",
     "output_type": "stream",
     "text": [
      "www.amazon.com\n",
      "www.flipkart.com\n",
      "www.snapdeal.com\n"
     ]
    }
   ],
   "source": [
    "websites = []\n",
    "for i in company_names:\n",
    "    websites.append(\"www.\" + i + \".com\")\n",
    "    print(\"www.\" + i + \".com\")"
   ]
  },
  {
   "cell_type": "code",
   "execution_count": 42,
   "id": "b30770b1",
   "metadata": {},
   "outputs": [
    {
     "data": {
      "text/plain": [
       "['www.amazon.com', 'www.flipkart.com', 'www.snapdeal.com']"
      ]
     },
     "execution_count": 42,
     "metadata": {},
     "output_type": "execute_result"
    }
   ],
   "source": [
    "websites"
   ]
  },
  {
   "cell_type": "code",
   "execution_count": 48,
   "id": "b614bc11",
   "metadata": {},
   "outputs": [],
   "source": [
    "websites = []\n",
    "for i in company_names:\n",
    "    i = \"www.\"+i+\".com\"\n",
    "    websites.append(i)"
   ]
  },
  {
   "cell_type": "code",
   "execution_count": 46,
   "id": "4450bc6f",
   "metadata": {},
   "outputs": [
    {
     "data": {
      "text/plain": [
       "['www.amazon.com', 'www.flipkart.com', 'www.snapdeal.com']"
      ]
     },
     "execution_count": 46,
     "metadata": {},
     "output_type": "execute_result"
    }
   ],
   "source": [
    "websites"
   ]
  },
  {
   "cell_type": "code",
   "execution_count": 51,
   "id": "81dfbef0",
   "metadata": {},
   "outputs": [],
   "source": [
    "vk = {\"name\":\"Virat\", \"Age\":35, \"Team\":\"RCB\"}"
   ]
  },
  {
   "cell_type": "code",
   "execution_count": 53,
   "id": "f23662a8",
   "metadata": {},
   "outputs": [
    {
     "name": "stdout",
     "output_type": "stream",
     "text": [
      "name\n",
      "Age\n",
      "Team\n"
     ]
    }
   ],
   "source": [
    "for i in vk:\n",
    "    print(i)"
   ]
  },
  {
   "cell_type": "code",
   "execution_count": 54,
   "id": "e82de8e9",
   "metadata": {},
   "outputs": [
    {
     "name": "stdout",
     "output_type": "stream",
     "text": [
      "Virat\n",
      "35\n",
      "RCB\n"
     ]
    }
   ],
   "source": [
    "for i in vk.values():\n",
    "    print(i)"
   ]
  },
  {
   "cell_type": "code",
   "execution_count": 58,
   "id": "11136ce9",
   "metadata": {},
   "outputs": [
    {
     "name": "stdout",
     "output_type": "stream",
     "text": [
      "name Virat\n",
      "Age 35\n",
      "Team RCB\n"
     ]
    }
   ],
   "source": [
    "for i, j in vk.items():\n",
    "    print(i, j)"
   ]
  },
  {
   "cell_type": "code",
   "execution_count": 60,
   "id": "9e54424b",
   "metadata": {},
   "outputs": [
    {
     "name": "stdout",
     "output_type": "stream",
     "text": [
      "0 amazon\n",
      "1 flipkart\n",
      "2 snapdeal\n"
     ]
    }
   ],
   "source": [
    "for i, j in enumerate(company_names):\n",
    "    print(i, j)"
   ]
  },
  {
   "cell_type": "markdown",
   "id": "a2bfc036",
   "metadata": {},
   "source": [
    "## Break"
   ]
  },
  {
   "cell_type": "code",
   "execution_count": 63,
   "id": "bd1d510a",
   "metadata": {},
   "outputs": [
    {
     "name": "stdout",
     "output_type": "stream",
     "text": [
      "1\n",
      "2\n",
      "3\n",
      "4\n",
      "5\n"
     ]
    }
   ],
   "source": [
    "for i in range(1,11):\n",
    "    print(i)\n",
    "    if i == 5:\n",
    "        break"
   ]
  },
  {
   "cell_type": "markdown",
   "id": "5bd4cfb5",
   "metadata": {},
   "source": [
    "## Continue"
   ]
  },
  {
   "cell_type": "code",
   "execution_count": 67,
   "id": "f163b08d",
   "metadata": {},
   "outputs": [
    {
     "name": "stdout",
     "output_type": "stream",
     "text": [
      "1\n",
      "3\n",
      "5\n",
      "7\n",
      "9\n"
     ]
    }
   ],
   "source": [
    "for i in range(1,11):\n",
    "    if i%2 == 0:\n",
    "        continue\n",
    "    print(i)"
   ]
  },
  {
   "cell_type": "markdown",
   "id": "7f4d4bdc",
   "metadata": {},
   "source": [
    "## Pass"
   ]
  },
  {
   "cell_type": "code",
   "execution_count": 68,
   "id": "8f156447",
   "metadata": {},
   "outputs": [
    {
     "ename": "IndentationError",
     "evalue": "expected an indented block (1334445784.py, line 1)",
     "output_type": "error",
     "traceback": [
      "\u001b[1;36m  Input \u001b[1;32mIn [68]\u001b[1;36m\u001b[0m\n\u001b[1;33m    for i in range(1,11):\u001b[0m\n\u001b[1;37m                         ^\u001b[0m\n\u001b[1;31mIndentationError\u001b[0m\u001b[1;31m:\u001b[0m expected an indented block\n"
     ]
    }
   ],
   "source": [
    "for i in range(1,11):"
   ]
  },
  {
   "cell_type": "code",
   "execution_count": 69,
   "id": "79240931",
   "metadata": {},
   "outputs": [],
   "source": [
    "for i in range(1,11):\n",
    "    pass"
   ]
  },
  {
   "cell_type": "markdown",
   "id": "9d3b8246",
   "metadata": {},
   "source": [
    "## Exercise 1\n",
    " - take an input from the user and print the reverse of the number\n",
    " - Input = 123\n",
    " - Output = 321"
   ]
  },
  {
   "cell_type": "code",
   "execution_count": 70,
   "id": "8981e4ca",
   "metadata": {},
   "outputs": [
    {
     "name": "stdout",
     "output_type": "stream",
     "text": [
      "enter from user:123\n",
      "Reverse:  321\n"
     ]
    }
   ],
   "source": [
    "num = input(\"enter from user:\")\n",
    "print(\"Reverse: \", num[::-1])"
   ]
  },
  {
   "cell_type": "code",
   "execution_count": 71,
   "id": "f094f946",
   "metadata": {},
   "outputs": [
    {
     "name": "stdout",
     "output_type": "stream",
     "text": [
      "enter from user:123456\n",
      "Reverse:  654321\n"
     ]
    }
   ],
   "source": [
    "num = input(\"enter from user:\")\n",
    "print(\"Reverse: \", num[::-1])"
   ]
  },
  {
   "cell_type": "code",
   "execution_count": 72,
   "id": "ce963e93",
   "metadata": {},
   "outputs": [],
   "source": [
    "## Write a program to get the sum of all the elements in the list\n",
    "# num = [1,2,3]\n",
    "# output = 6"
   ]
  },
  {
   "cell_type": "code",
   "execution_count": 76,
   "id": "81fc0c60",
   "metadata": {},
   "outputs": [],
   "source": [
    "num = [1,2,3,20,25,30]"
   ]
  },
  {
   "cell_type": "code",
   "execution_count": 77,
   "id": "eea321d9",
   "metadata": {},
   "outputs": [
    {
     "data": {
      "text/plain": [
       "81"
      ]
     },
     "execution_count": 77,
     "metadata": {},
     "output_type": "execute_result"
    }
   ],
   "source": [
    "sum(num)"
   ]
  },
  {
   "cell_type": "code",
   "execution_count": 78,
   "id": "559adb1e",
   "metadata": {},
   "outputs": [
    {
     "name": "stdout",
     "output_type": "stream",
     "text": [
      "81\n"
     ]
    }
   ],
   "source": [
    "result = 0\n",
    "for i in num:\n",
    "    result += i\n",
    "print(result)\n",
    "    "
   ]
  },
  {
   "cell_type": "code",
   "execution_count": null,
   "id": "54e2bbbf",
   "metadata": {},
   "outputs": [],
   "source": []
  }
 ],
 "metadata": {
  "kernelspec": {
   "display_name": "Python 3 (ipykernel)",
   "language": "python",
   "name": "python3"
  },
  "language_info": {
   "codemirror_mode": {
    "name": "ipython",
    "version": 3
   },
   "file_extension": ".py",
   "mimetype": "text/x-python",
   "name": "python",
   "nbconvert_exporter": "python",
   "pygments_lexer": "ipython3",
   "version": "3.9.12"
  }
 },
 "nbformat": 4,
 "nbformat_minor": 5
}
