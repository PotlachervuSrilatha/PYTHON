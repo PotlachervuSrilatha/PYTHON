{
  "cells": [
    {
      "cell_type": "code",
      "execution_count": null,
      "id": "c6ecda44",
      "metadata": {
        "id": "c6ecda44"
      },
      "outputs": [],
      "source": [
        "players = (\"Virat\", \"RCB\", [100, 120, 45, 60], \"India\")"
      ]
    },
    {
      "cell_type": "code",
      "execution_count": null,
      "id": "54bec12c",
      "metadata": {
        "id": "54bec12c",
        "outputId": "e3a9d5ed-19cd-4ad8-8fd9-e2aa21f408b9"
      },
      "outputs": [
        {
          "data": {
            "text/plain": [
              "('Virat', 'RCB', [100, 120, 45, 60], 'India')"
            ]
          },
          "execution_count": 2,
          "metadata": {},
          "output_type": "execute_result"
        }
      ],
      "source": [
        "players"
      ]
    },
    {
      "cell_type": "code",
      "execution_count": null,
      "id": "d2523c6b",
      "metadata": {
        "id": "d2523c6b",
        "outputId": "bede0d56-dbc6-4794-abeb-d1bd19980c93"
      },
      "outputs": [
        {
          "ename": "TypeError",
          "evalue": "'tuple' object does not support item assignment",
          "output_type": "error",
          "traceback": [
            "\u001b[1;31m---------------------------------------------------------------------------\u001b[0m",
            "\u001b[1;31mTypeError\u001b[0m                                 Traceback (most recent call last)",
            "Input \u001b[1;32mIn [3]\u001b[0m, in \u001b[0;36m<cell line: 1>\u001b[1;34m()\u001b[0m\n\u001b[1;32m----> 1\u001b[0m players[\u001b[38;5;241m0\u001b[39m] \u001b[38;5;241m=\u001b[39m \u001b[38;5;124m\"\u001b[39m\u001b[38;5;124mVirat Kohli\u001b[39m\u001b[38;5;124m\"\u001b[39m\n",
            "\u001b[1;31mTypeError\u001b[0m: 'tuple' object does not support item assignment"
          ]
        }
      ],
      "source": [
        "players[0] = \"Virat Kohli\""
      ]
    },
    {
      "cell_type": "code",
      "execution_count": null,
      "id": "b461d8f8",
      "metadata": {
        "id": "b461d8f8",
        "outputId": "9825b548-294e-40df-da0e-0250db2eb7fb"
      },
      "outputs": [
        {
          "data": {
            "text/plain": [
              "[100, 120, 45, 60]"
            ]
          },
          "execution_count": 4,
          "metadata": {},
          "output_type": "execute_result"
        }
      ],
      "source": [
        "players[2]"
      ]
    },
    {
      "cell_type": "code",
      "execution_count": null,
      "id": "555eafa3",
      "metadata": {
        "id": "555eafa3"
      },
      "outputs": [],
      "source": [
        "players[2].append(50)"
      ]
    },
    {
      "cell_type": "code",
      "execution_count": null,
      "id": "ac55f34d",
      "metadata": {
        "id": "ac55f34d",
        "outputId": "4a463f72-8eec-47f9-c1ce-a7e994c96a15"
      },
      "outputs": [
        {
          "ename": "TypeError",
          "evalue": "'tuple' object does not support item assignment",
          "output_type": "error",
          "traceback": [
            "\u001b[1;31m---------------------------------------------------------------------------\u001b[0m",
            "\u001b[1;31mTypeError\u001b[0m                                 Traceback (most recent call last)",
            "Input \u001b[1;32mIn [6]\u001b[0m, in \u001b[0;36m<cell line: 1>\u001b[1;34m()\u001b[0m\n\u001b[1;32m----> 1\u001b[0m players[\u001b[38;5;241m2\u001b[39m] \u001b[38;5;241m=\u001b[39m \u001b[38;5;124m\"\u001b[39m\u001b[38;5;124mScore\u001b[39m\u001b[38;5;124m\"\u001b[39m\n",
            "\u001b[1;31mTypeError\u001b[0m: 'tuple' object does not support item assignment"
          ]
        }
      ],
      "source": [
        "players[2] = \"Score\""
      ]
    },
    {
      "cell_type": "code",
      "execution_count": null,
      "id": "e19ad622",
      "metadata": {
        "id": "e19ad622"
      },
      "outputs": [],
      "source": [
        "players[2][0] = 110"
      ]
    },
    {
      "cell_type": "code",
      "execution_count": null,
      "id": "0fdff30e",
      "metadata": {
        "id": "0fdff30e",
        "outputId": "b8098d4f-2597-443c-d962-317d04538708"
      },
      "outputs": [
        {
          "data": {
            "text/plain": [
              "('Virat', 'RCB', [110, 120, 45, 60, 50], 'India')"
            ]
          },
          "execution_count": 9,
          "metadata": {},
          "output_type": "execute_result"
        }
      ],
      "source": [
        "players"
      ]
    },
    {
      "cell_type": "code",
      "execution_count": null,
      "id": "0a6d67b1",
      "metadata": {
        "id": "0a6d67b1"
      },
      "outputs": [],
      "source": [
        "players = (\"Virat\", \"RCB\", [100], \"India\")"
      ]
    },
    {
      "cell_type": "code",
      "execution_count": null,
      "id": "c511ce28",
      "metadata": {
        "id": "c511ce28"
      },
      "outputs": [],
      "source": [
        "players[2][0] = 110"
      ]
    },
    {
      "cell_type": "code",
      "execution_count": null,
      "id": "dd13d17d",
      "metadata": {
        "id": "dd13d17d"
      },
      "outputs": [],
      "source": [
        "players[2].append(135)"
      ]
    },
    {
      "cell_type": "code",
      "execution_count": null,
      "id": "4855c9f1",
      "metadata": {
        "id": "4855c9f1",
        "outputId": "8a24c3ea-1123-481a-f8ab-3d66f6b8b0cd"
      },
      "outputs": [
        {
          "data": {
            "text/plain": [
              "('Virat', 'RCB', [110, 135], 'India')"
            ]
          },
          "execution_count": 14,
          "metadata": {},
          "output_type": "execute_result"
        }
      ],
      "source": [
        "players"
      ]
    },
    {
      "cell_type": "code",
      "execution_count": null,
      "id": "60656601",
      "metadata": {
        "id": "60656601"
      },
      "outputs": [],
      "source": [
        "x = [1,2,3,3,(2,3,4),5]"
      ]
    },
    {
      "cell_type": "code",
      "execution_count": null,
      "id": "8d85fdd8",
      "metadata": {
        "id": "8d85fdd8"
      },
      "outputs": [],
      "source": [
        "x.append(6)"
      ]
    },
    {
      "cell_type": "code",
      "execution_count": null,
      "id": "b2a9ee02",
      "metadata": {
        "id": "b2a9ee02",
        "outputId": "8b68255d-6c5e-451f-9c1e-e8ac5f15fe99"
      },
      "outputs": [
        {
          "data": {
            "text/plain": [
              "[1, 2, 3, 3, (2, 3, 4), 5, 6]"
            ]
          },
          "execution_count": 17,
          "metadata": {},
          "output_type": "execute_result"
        }
      ],
      "source": [
        "x"
      ]
    },
    {
      "cell_type": "code",
      "execution_count": null,
      "id": "85b48a6e",
      "metadata": {
        "id": "85b48a6e",
        "outputId": "c22b3e0a-0774-4ff7-8140-a6183b1e1651"
      },
      "outputs": [
        {
          "ename": "TypeError",
          "evalue": "'tuple' object does not support item assignment",
          "output_type": "error",
          "traceback": [
            "\u001b[1;31m---------------------------------------------------------------------------\u001b[0m",
            "\u001b[1;31mTypeError\u001b[0m                                 Traceback (most recent call last)",
            "Input \u001b[1;32mIn [20]\u001b[0m, in \u001b[0;36m<cell line: 1>\u001b[1;34m()\u001b[0m\n\u001b[1;32m----> 1\u001b[0m x[\u001b[38;5;241m4\u001b[39m][\u001b[38;5;241m0\u001b[39m] \u001b[38;5;241m=\u001b[39m \u001b[38;5;241m10\u001b[39m\n",
            "\u001b[1;31mTypeError\u001b[0m: 'tuple' object does not support item assignment"
          ]
        }
      ],
      "source": [
        "x[4][0] = 10"
      ]
    },
    {
      "cell_type": "markdown",
      "id": "5d36bc60",
      "metadata": {
        "id": "5d36bc60"
      },
      "source": [
        "## IN Operator"
      ]
    },
    {
      "cell_type": "code",
      "execution_count": null,
      "id": "926ac75b",
      "metadata": {
        "id": "926ac75b",
        "outputId": "15efcc17-1cd2-4aa3-9b78-c69ee7afa0a4"
      },
      "outputs": [
        {
          "data": {
            "text/plain": [
              "('Virat', 'RCB', [110, 135], 'India')"
            ]
          },
          "execution_count": 21,
          "metadata": {},
          "output_type": "execute_result"
        }
      ],
      "source": [
        "players"
      ]
    },
    {
      "cell_type": "code",
      "execution_count": null,
      "id": "7f85dd89",
      "metadata": {
        "id": "7f85dd89",
        "outputId": "c766f9a8-0877-486e-b303-65ab0b51d16a"
      },
      "outputs": [
        {
          "data": {
            "text/plain": [
              "True"
            ]
          },
          "execution_count": 22,
          "metadata": {},
          "output_type": "execute_result"
        }
      ],
      "source": [
        "\"Virat\" in players"
      ]
    },
    {
      "cell_type": "code",
      "execution_count": null,
      "id": "37230408",
      "metadata": {
        "id": "37230408",
        "outputId": "d2069322-fd7f-4655-a91e-378fb2127864"
      },
      "outputs": [
        {
          "data": {
            "text/plain": [
              "False"
            ]
          },
          "execution_count": 23,
          "metadata": {},
          "output_type": "execute_result"
        }
      ],
      "source": [
        "\"Rohit\" in players"
      ]
    },
    {
      "cell_type": "code",
      "execution_count": null,
      "id": "cc54dcb9",
      "metadata": {
        "id": "cc54dcb9"
      },
      "outputs": [],
      "source": [
        "s = \"WELCOME\""
      ]
    },
    {
      "cell_type": "code",
      "execution_count": null,
      "id": "175abb6a",
      "metadata": {
        "id": "175abb6a",
        "outputId": "b98f3a3d-853e-4be2-93f0-4637dcf7216a"
      },
      "outputs": [
        {
          "data": {
            "text/plain": [
              "True"
            ]
          },
          "execution_count": 25,
          "metadata": {},
          "output_type": "execute_result"
        }
      ],
      "source": [
        "\"W\" in s"
      ]
    },
    {
      "cell_type": "markdown",
      "id": "3dba67fa",
      "metadata": {
        "id": "3dba67fa"
      },
      "source": [
        "## Misc - Strings"
      ]
    },
    {
      "cell_type": "code",
      "execution_count": null,
      "id": "5addab8d",
      "metadata": {
        "id": "5addab8d"
      },
      "outputs": [],
      "source": [
        "location = \"C:\\newfolder\""
      ]
    },
    {
      "cell_type": "code",
      "execution_count": null,
      "id": "7fffe09e",
      "metadata": {
        "id": "7fffe09e",
        "outputId": "b25c4f37-05a2-46bd-b3f4-96e0f1625285"
      },
      "outputs": [
        {
          "name": "stdout",
          "output_type": "stream",
          "text": [
            "C:\n",
            "ewfolder\n"
          ]
        }
      ],
      "source": [
        "print(location)"
      ]
    },
    {
      "cell_type": "code",
      "execution_count": null,
      "id": "4c512365",
      "metadata": {
        "id": "4c512365"
      },
      "outputs": [],
      "source": [
        "location = \"C:\\\\newfolder\""
      ]
    },
    {
      "cell_type": "code",
      "execution_count": null,
      "id": "9f6e6ffe",
      "metadata": {
        "id": "9f6e6ffe",
        "outputId": "5697e52b-9d7e-4e1f-fb7b-f81120e18703"
      },
      "outputs": [
        {
          "name": "stdout",
          "output_type": "stream",
          "text": [
            "C:\\newfolder\n"
          ]
        }
      ],
      "source": [
        "print(location)"
      ]
    },
    {
      "cell_type": "code",
      "execution_count": null,
      "id": "010ab1a5",
      "metadata": {
        "id": "010ab1a5"
      },
      "outputs": [],
      "source": [
        "location = r\"C:\\newfolder\""
      ]
    },
    {
      "cell_type": "code",
      "execution_count": null,
      "id": "e426ab15",
      "metadata": {
        "id": "e426ab15",
        "outputId": "7cd989da-be48-4601-b28a-1247f417e32d"
      },
      "outputs": [
        {
          "name": "stdout",
          "output_type": "stream",
          "text": [
            "C:\\newfolder\n"
          ]
        }
      ],
      "source": [
        "print(location)"
      ]
    },
    {
      "cell_type": "code",
      "execution_count": null,
      "id": "7683c438",
      "metadata": {
        "id": "7683c438"
      },
      "outputs": [],
      "source": [
        "#r => raw string"
      ]
    },
    {
      "cell_type": "code",
      "execution_count": null,
      "id": "dcec5816",
      "metadata": {
        "id": "dcec5816"
      },
      "outputs": [],
      "source": [
        "location = \"C:\\nnewfolder\""
      ]
    },
    {
      "cell_type": "code",
      "execution_count": null,
      "id": "b9e491b5",
      "metadata": {
        "id": "b9e491b5",
        "outputId": "f9954220-a82e-42a9-cb31-e812e855457a"
      },
      "outputs": [
        {
          "name": "stdout",
          "output_type": "stream",
          "text": [
            "C:\n",
            "newfolder\n"
          ]
        }
      ],
      "source": [
        "print(location)"
      ]
    },
    {
      "cell_type": "markdown",
      "id": "9b702ce5",
      "metadata": {
        "id": "9b702ce5"
      },
      "source": [
        "# Format"
      ]
    },
    {
      "cell_type": "code",
      "execution_count": null,
      "id": "691fa420",
      "metadata": {
        "id": "691fa420"
      },
      "outputs": [],
      "source": [
        "sessioncount = 10"
      ]
    },
    {
      "cell_type": "code",
      "execution_count": null,
      "id": "f70fe8e9",
      "metadata": {
        "id": "f70fe8e9"
      },
      "outputs": [],
      "source": [
        "chapters = 8"
      ]
    },
    {
      "cell_type": "code",
      "execution_count": null,
      "id": "212eaefb",
      "metadata": {
        "id": "212eaefb",
        "outputId": "aa2fcb2a-68bb-4e08-8d87-d0c011fbd3d7"
      },
      "outputs": [
        {
          "name": "stdout",
          "output_type": "stream",
          "text": [
            "10\n"
          ]
        }
      ],
      "source": [
        "print(sessioncount)"
      ]
    },
    {
      "cell_type": "code",
      "execution_count": null,
      "id": "312547c5",
      "metadata": {
        "id": "312547c5",
        "outputId": "40dfb975-63d1-4dc1-efab-bcc1a5d6905c"
      },
      "outputs": [
        {
          "name": "stdout",
          "output_type": "stream",
          "text": [
            "8\n"
          ]
        }
      ],
      "source": [
        "print(chapters)"
      ]
    },
    {
      "cell_type": "code",
      "execution_count": null,
      "id": "61d4aa04",
      "metadata": {
        "id": "61d4aa04",
        "outputId": "51846341-0343-42c5-ebf5-5dd08c6fe213"
      },
      "outputs": [
        {
          "ename": "TypeError",
          "evalue": "can only concatenate str (not \"int\") to str",
          "output_type": "error",
          "traceback": [
            "\u001b[1;31m---------------------------------------------------------------------------\u001b[0m",
            "\u001b[1;31mTypeError\u001b[0m                                 Traceback (most recent call last)",
            "Input \u001b[1;32mIn [38]\u001b[0m, in \u001b[0;36m<cell line: 1>\u001b[1;34m()\u001b[0m\n\u001b[1;32m----> 1\u001b[0m msg \u001b[38;5;241m=\u001b[39m \u001b[38;5;124;43m\"\u001b[39;49m\u001b[38;5;124;43mThere will be \u001b[39;49m\u001b[38;5;124;43m\"\u001b[39;49m\u001b[43m \u001b[49m\u001b[38;5;241;43m+\u001b[39;49m\u001b[43m \u001b[49m\u001b[43mchapters\u001b[49m\n",
            "\u001b[1;31mTypeError\u001b[0m: can only concatenate str (not \"int\") to str"
          ]
        }
      ],
      "source": [
        "msg = \"There will be \" + chapters"
      ]
    },
    {
      "cell_type": "code",
      "execution_count": null,
      "id": "890bb15c",
      "metadata": {
        "id": "890bb15c"
      },
      "outputs": [],
      "source": [
        "msg = \"There will be \" + str(chapters)"
      ]
    },
    {
      "cell_type": "code",
      "execution_count": null,
      "id": "e526dff0",
      "metadata": {
        "id": "e526dff0"
      },
      "outputs": [],
      "source": [
        "msg = \"There will be \" + str(chapters) + \"chapters in the course, spanned across \" + str(sessioncount) + \" sessions\""
      ]
    },
    {
      "cell_type": "code",
      "execution_count": null,
      "id": "f8317642",
      "metadata": {
        "id": "f8317642",
        "outputId": "859f1317-2662-4dca-c99e-0f962b983a94"
      },
      "outputs": [
        {
          "name": "stdout",
          "output_type": "stream",
          "text": [
            "There will be 8chapters in the course, spanned across 10 sessions\n"
          ]
        }
      ],
      "source": [
        "print(msg)"
      ]
    },
    {
      "cell_type": "code",
      "execution_count": null,
      "id": "8a76e925",
      "metadata": {
        "id": "8a76e925",
        "outputId": "657dbe41-89f2-47bf-9489-2c2588399781"
      },
      "outputs": [
        {
          "name": "stdout",
          "output_type": "stream",
          "text": [
            "There will be 8 chapters in the course, spanned across 10 sessions\n"
          ]
        }
      ],
      "source": [
        "fmsg = \"There will be {} chapters in the course, spanned across {} sessions\".format(chapters,sessioncount)\n",
        "print(fmsg)"
      ]
    },
    {
      "cell_type": "code",
      "execution_count": null,
      "id": "712de668",
      "metadata": {
        "id": "712de668"
      },
      "outputs": [],
      "source": [
        "fmsg = \"There will be {} chapters in the course, spanned across {} sessions. \\\n",
        "The {} sessions are scheduled over weekday\".format(chapters,sessioncount,sessioncount )"
      ]
    },
    {
      "cell_type": "code",
      "execution_count": null,
      "id": "e255713c",
      "metadata": {
        "id": "e255713c",
        "outputId": "42d8396f-0bdb-42fe-fe32-181db714e1ab"
      },
      "outputs": [
        {
          "data": {
            "text/plain": [
              "'There will be 8 chapters in the course, spanned across 10 sessions. The 10 sessions are scheduled over weekday'"
            ]
          },
          "execution_count": 50,
          "metadata": {},
          "output_type": "execute_result"
        }
      ],
      "source": [
        "fmsg"
      ]
    },
    {
      "cell_type": "code",
      "execution_count": null,
      "id": "6a6a6c07",
      "metadata": {
        "id": "6a6a6c07"
      },
      "outputs": [],
      "source": [
        "fmsg = \"There will be {0} chapters in the course, spanned across {1} sessions. \\\n",
        "The {1} sessions are scheduled over weekday\".format(chapters,sessioncount)"
      ]
    },
    {
      "cell_type": "code",
      "execution_count": null,
      "id": "b19b77fc",
      "metadata": {
        "id": "b19b77fc",
        "outputId": "a6c72238-39bc-4a17-f36a-9cf8dee01b20"
      },
      "outputs": [
        {
          "data": {
            "text/plain": [
              "'There will be 8 chapters in the course, spanned across 10 sessions. The 10 sessions are scheduled over weekday'"
            ]
          },
          "execution_count": 52,
          "metadata": {},
          "output_type": "execute_result"
        }
      ],
      "source": [
        "fmsg"
      ]
    },
    {
      "cell_type": "markdown",
      "id": "36f4e7d2",
      "metadata": {
        "id": "36f4e7d2"
      },
      "source": [
        "# Dictionaries\n",
        " - Collection of key-value pairs\n",
        " - {}\n",
        " - Mutable"
      ]
    },
    {
      "cell_type": "code",
      "execution_count": null,
      "id": "f4c5157d",
      "metadata": {
        "id": "f4c5157d"
      },
      "outputs": [],
      "source": [
        "fruits = {\"a\":\"apple\", \"b\":\"banana\", \"c\":\"cherry\",\"c\":\"custard\"}"
      ]
    },
    {
      "cell_type": "code",
      "execution_count": null,
      "id": "5d0f521f",
      "metadata": {
        "id": "5d0f521f",
        "outputId": "e9d00b0e-c7d4-497b-c63f-88d2b028e03b"
      },
      "outputs": [
        {
          "data": {
            "text/plain": [
              "{'a': 'apple', 'b': 'banana', 'c': 'custard'}"
            ]
          },
          "execution_count": 77,
          "metadata": {},
          "output_type": "execute_result"
        }
      ],
      "source": [
        "fruits"
      ]
    },
    {
      "cell_type": "code",
      "execution_count": null,
      "id": "54219dab",
      "metadata": {
        "id": "54219dab",
        "outputId": "338c060c-7c96-4b4d-b50b-4f29b435326f"
      },
      "outputs": [
        {
          "name": "stdout",
          "output_type": "stream",
          "text": [
            "{'a': 'apple', 'b': 'banana', 'c': 'cherry'}\n"
          ]
        }
      ],
      "source": [
        "print(fruits)"
      ]
    },
    {
      "cell_type": "code",
      "execution_count": null,
      "id": "8f96692d",
      "metadata": {
        "id": "8f96692d",
        "outputId": "baf8e086-39cc-41db-8d2f-a59b7c11a182"
      },
      "outputs": [
        {
          "data": {
            "text/plain": [
              "dict"
            ]
          },
          "execution_count": 55,
          "metadata": {},
          "output_type": "execute_result"
        }
      ],
      "source": [
        "type(fruits)"
      ]
    },
    {
      "cell_type": "code",
      "execution_count": null,
      "id": "ae52d6a3",
      "metadata": {
        "id": "ae52d6a3",
        "outputId": "38cf82b5-94a6-46ab-ce3b-1755df9dafc8"
      },
      "outputs": [
        {
          "data": {
            "text/plain": [
              "3"
            ]
          },
          "execution_count": 56,
          "metadata": {},
          "output_type": "execute_result"
        }
      ],
      "source": [
        "len(fruits)"
      ]
    },
    {
      "cell_type": "code",
      "execution_count": null,
      "id": "c14fa605",
      "metadata": {
        "id": "c14fa605",
        "outputId": "5cb5d06f-2558-47a1-b785-d356847c904e"
      },
      "outputs": [
        {
          "data": {
            "text/plain": [
              "'apple'"
            ]
          },
          "execution_count": 57,
          "metadata": {},
          "output_type": "execute_result"
        }
      ],
      "source": [
        "fruits[\"a\"]"
      ]
    },
    {
      "cell_type": "code",
      "execution_count": null,
      "id": "03b322d4",
      "metadata": {
        "id": "03b322d4",
        "outputId": "655f3e7e-04db-4b7e-db3b-f0b760670295"
      },
      "outputs": [
        {
          "ename": "KeyError",
          "evalue": "'d'",
          "output_type": "error",
          "traceback": [
            "\u001b[1;31m---------------------------------------------------------------------------\u001b[0m",
            "\u001b[1;31mKeyError\u001b[0m                                  Traceback (most recent call last)",
            "Input \u001b[1;32mIn [58]\u001b[0m, in \u001b[0;36m<cell line: 1>\u001b[1;34m()\u001b[0m\n\u001b[1;32m----> 1\u001b[0m \u001b[43mfruits\u001b[49m\u001b[43m[\u001b[49m\u001b[38;5;124;43m\"\u001b[39;49m\u001b[38;5;124;43md\u001b[39;49m\u001b[38;5;124;43m\"\u001b[39;49m\u001b[43m]\u001b[49m\n",
            "\u001b[1;31mKeyError\u001b[0m: 'd'"
          ]
        }
      ],
      "source": [
        "fruits[\"d\"]"
      ]
    },
    {
      "cell_type": "code",
      "execution_count": null,
      "id": "99d6779d",
      "metadata": {
        "id": "99d6779d"
      },
      "outputs": [],
      "source": [
        "fruits[\"p\"] = \"papaya\""
      ]
    },
    {
      "cell_type": "code",
      "execution_count": null,
      "id": "96a840cb",
      "metadata": {
        "id": "96a840cb",
        "outputId": "c7859a09-a69f-4b74-acd4-c865db9cd5a8"
      },
      "outputs": [
        {
          "data": {
            "text/plain": [
              "{'a': 'apple', 'b': 'banana', 'c': 'cherry', 'p': 'papaya'}"
            ]
          },
          "execution_count": 60,
          "metadata": {},
          "output_type": "execute_result"
        }
      ],
      "source": [
        "fruits"
      ]
    },
    {
      "cell_type": "code",
      "execution_count": null,
      "id": "29dc2c6b",
      "metadata": {
        "id": "29dc2c6b"
      },
      "outputs": [],
      "source": [
        "del fruits[\"p\"]"
      ]
    },
    {
      "cell_type": "code",
      "execution_count": null,
      "id": "38270ef0",
      "metadata": {
        "id": "38270ef0",
        "outputId": "3726ebca-f255-4db1-90b7-f14a068f7f0f"
      },
      "outputs": [
        {
          "data": {
            "text/plain": [
              "{'a': 'apple', 'b': 'banana', 'c': 'cherry'}"
            ]
          },
          "execution_count": 62,
          "metadata": {},
          "output_type": "execute_result"
        }
      ],
      "source": [
        "fruits"
      ]
    },
    {
      "cell_type": "code",
      "execution_count": null,
      "id": "cb862469",
      "metadata": {
        "id": "cb862469"
      },
      "outputs": [],
      "source": [
        "fruits[\"a\"] = \"apricot\""
      ]
    },
    {
      "cell_type": "code",
      "execution_count": null,
      "id": "8fa13e42",
      "metadata": {
        "id": "8fa13e42",
        "outputId": "4be30880-6853-4766-95e2-c419a5c17a83"
      },
      "outputs": [
        {
          "data": {
            "text/plain": [
              "{'a': 'apricot', 'b': 'banana', 'c': 'cherry', 'p': 'papaya'}"
            ]
          },
          "execution_count": 65,
          "metadata": {},
          "output_type": "execute_result"
        }
      ],
      "source": [
        "fruits"
      ]
    },
    {
      "cell_type": "code",
      "execution_count": null,
      "id": "01d261b9",
      "metadata": {
        "id": "01d261b9",
        "outputId": "1e7cfa70-8aaa-4c01-af36-d7c1060f06fc"
      },
      "outputs": [
        {
          "data": {
            "text/plain": [
              "'papaya'"
            ]
          },
          "execution_count": 67,
          "metadata": {},
          "output_type": "execute_result"
        }
      ],
      "source": [
        "fruits.pop(\"p\")"
      ]
    },
    {
      "cell_type": "code",
      "execution_count": null,
      "id": "3b17a7b5",
      "metadata": {
        "id": "3b17a7b5",
        "outputId": "6c910305-63ab-4249-b6b2-22f98ea26e73"
      },
      "outputs": [
        {
          "data": {
            "text/plain": [
              "{'a': 'apricot', 'b': 'banana', 'c': 'cherry'}"
            ]
          },
          "execution_count": 68,
          "metadata": {},
          "output_type": "execute_result"
        }
      ],
      "source": [
        "fruits"
      ]
    },
    {
      "cell_type": "code",
      "execution_count": null,
      "id": "58ce7501",
      "metadata": {
        "id": "58ce7501",
        "outputId": "5bc96411-4b73-43d6-b2e9-e6b82af030af"
      },
      "outputs": [
        {
          "data": {
            "text/plain": [
              "('c', 'cherry')"
            ]
          },
          "execution_count": 69,
          "metadata": {},
          "output_type": "execute_result"
        }
      ],
      "source": [
        "fruits.popitem()"
      ]
    },
    {
      "cell_type": "code",
      "execution_count": null,
      "id": "3b4c4832",
      "metadata": {
        "id": "3b4c4832",
        "outputId": "36cf1def-efa3-4171-d3ab-f5a557ee2ee6"
      },
      "outputs": [
        {
          "data": {
            "text/plain": [
              "('b', 'banana')"
            ]
          },
          "execution_count": 71,
          "metadata": {},
          "output_type": "execute_result"
        }
      ],
      "source": [
        "fruits.popitem()"
      ]
    },
    {
      "cell_type": "code",
      "execution_count": null,
      "id": "f54a93be",
      "metadata": {
        "id": "f54a93be",
        "outputId": "ba63b838-ec47-4547-c9a7-e7ea228792a9"
      },
      "outputs": [
        {
          "data": {
            "text/plain": [
              "('a', 'apricot')"
            ]
          },
          "execution_count": 72,
          "metadata": {},
          "output_type": "execute_result"
        }
      ],
      "source": [
        "fruits.popitem()"
      ]
    },
    {
      "cell_type": "code",
      "execution_count": null,
      "id": "d2b68e1c",
      "metadata": {
        "id": "d2b68e1c",
        "outputId": "6768b7b8-bcbe-4cf5-b4ee-170e6afb19dd"
      },
      "outputs": [
        {
          "data": {
            "text/plain": [
              "{}"
            ]
          },
          "execution_count": 73,
          "metadata": {},
          "output_type": "execute_result"
        }
      ],
      "source": [
        "fruits"
      ]
    },
    {
      "cell_type": "code",
      "execution_count": null,
      "id": "97103a48",
      "metadata": {
        "id": "97103a48"
      },
      "outputs": [],
      "source": [
        "#Sample Input and Output\n",
        "Input =  \"This is from VertexBlue\"\n",
        "#Output : \"VertexBlue from is This\""
      ]
    },
    {
      "cell_type": "code",
      "execution_count": null,
      "id": "4c82c4cd",
      "metadata": {
        "id": "4c82c4cd",
        "outputId": "af57a284-080f-47ed-955a-6c87803c02ac"
      },
      "outputs": [
        {
          "name": "stdout",
          "output_type": "stream",
          "text": [
            "VertexBlue from is This\n"
          ]
        }
      ],
      "source": [
        "print(\" \".join(Input.split()[::-1]))"
      ]
    },
    {
      "cell_type": "markdown",
      "id": "c29c8c38",
      "metadata": {
        "id": "c29c8c38"
      },
      "source": [
        "# MISC Operations"
      ]
    },
    {
      "cell_type": "code",
      "execution_count": null,
      "id": "a98b0f61",
      "metadata": {
        "id": "a98b0f61",
        "outputId": "cf443893-430d-4917-c16c-e8411453ff97"
      },
      "outputs": [
        {
          "data": {
            "text/plain": [
              "{'a': 'apple', 'b': 'banana', 'c': 'custard'}"
            ]
          },
          "execution_count": 86,
          "metadata": {},
          "output_type": "execute_result"
        }
      ],
      "source": [
        "fruits"
      ]
    },
    {
      "cell_type": "code",
      "execution_count": null,
      "id": "7058e4e9",
      "metadata": {
        "id": "7058e4e9",
        "outputId": "a7a5563f-d4c5-49cc-a909-493a64ad7546"
      },
      "outputs": [
        {
          "data": {
            "text/plain": [
              "dict_keys(['a', 'b', 'c'])"
            ]
          },
          "execution_count": 87,
          "metadata": {},
          "output_type": "execute_result"
        }
      ],
      "source": [
        "fruits.keys()"
      ]
    },
    {
      "cell_type": "code",
      "execution_count": null,
      "id": "7274656d",
      "metadata": {
        "id": "7274656d",
        "outputId": "1dc0c1a8-0457-41d8-99f7-adf9fc9d9566"
      },
      "outputs": [
        {
          "data": {
            "text/plain": [
              "dict_values(['apple', 'banana', 'custard'])"
            ]
          },
          "execution_count": 88,
          "metadata": {},
          "output_type": "execute_result"
        }
      ],
      "source": [
        "fruits.values()"
      ]
    },
    {
      "cell_type": "code",
      "execution_count": null,
      "id": "6bb3fee6",
      "metadata": {
        "id": "6bb3fee6",
        "outputId": "7e832472-bb1d-4b10-d59f-5fc617104cb3"
      },
      "outputs": [
        {
          "data": {
            "text/plain": [
              "dict_items([('a', 'apple'), ('b', 'banana'), ('c', 'custard')])"
            ]
          },
          "execution_count": 89,
          "metadata": {},
          "output_type": "execute_result"
        }
      ],
      "source": [
        "fruits.items()"
      ]
    },
    {
      "cell_type": "code",
      "execution_count": null,
      "id": "92729a0a",
      "metadata": {
        "id": "92729a0a",
        "outputId": "a8296bb8-f528-4711-cdfa-d121a9cd3da3"
      },
      "outputs": [
        {
          "data": {
            "text/plain": [
              "True"
            ]
          },
          "execution_count": 90,
          "metadata": {},
          "output_type": "execute_result"
        }
      ],
      "source": [
        "\"apple\" in fruits.values()"
      ]
    },
    {
      "cell_type": "markdown",
      "id": "af7c64f4",
      "metadata": {
        "id": "af7c64f4"
      },
      "source": [
        "# Range\n",
        "    - Used to generate a sequence of numbers\n",
        "    - Start(included), Stop(excluded), step count"
      ]
    },
    {
      "cell_type": "code",
      "execution_count": null,
      "id": "98c43c0a",
      "metadata": {
        "id": "98c43c0a"
      },
      "outputs": [],
      "source": [
        "## Exercise\n",
        "# Generate odd sequences using range function\n",
        "# all odd numbers between (1,100)"
      ]
    },
    {
      "cell_type": "code",
      "execution_count": null,
      "id": "cbf92c84",
      "metadata": {
        "id": "cbf92c84"
      },
      "outputs": [],
      "source": [
        "r1 = list(range(1,100,2))"
      ]
    },
    {
      "cell_type": "code",
      "execution_count": null,
      "id": "719c9512",
      "metadata": {
        "id": "719c9512"
      },
      "outputs": [],
      "source": [
        "odd_numbers = [x for x in range(1,100) if x%2!=0]"
      ]
    },
    {
      "cell_type": "code",
      "execution_count": null,
      "id": "7f08a96d",
      "metadata": {
        "id": "7f08a96d",
        "outputId": "afed8af0-0986-4d87-9bc7-4258195b0df2"
      },
      "outputs": [
        {
          "data": {
            "text/plain": [
              "[1,\n",
              " 3,\n",
              " 5,\n",
              " 7,\n",
              " 9,\n",
              " 11,\n",
              " 13,\n",
              " 15,\n",
              " 17,\n",
              " 19,\n",
              " 21,\n",
              " 23,\n",
              " 25,\n",
              " 27,\n",
              " 29,\n",
              " 31,\n",
              " 33,\n",
              " 35,\n",
              " 37,\n",
              " 39,\n",
              " 41,\n",
              " 43,\n",
              " 45,\n",
              " 47,\n",
              " 49,\n",
              " 51,\n",
              " 53,\n",
              " 55,\n",
              " 57,\n",
              " 59,\n",
              " 61,\n",
              " 63,\n",
              " 65,\n",
              " 67,\n",
              " 69,\n",
              " 71,\n",
              " 73,\n",
              " 75,\n",
              " 77,\n",
              " 79,\n",
              " 81,\n",
              " 83,\n",
              " 85,\n",
              " 87,\n",
              " 89,\n",
              " 91,\n",
              " 93,\n",
              " 95,\n",
              " 97,\n",
              " 99]"
            ]
          },
          "execution_count": 127,
          "metadata": {},
          "output_type": "execute_result"
        }
      ],
      "source": [
        "odd_numbers"
      ]
    },
    {
      "cell_type": "code",
      "execution_count": null,
      "id": "0c38c20e",
      "metadata": {
        "id": "0c38c20e"
      },
      "outputs": [],
      "source": [
        "r = range(0,11)"
      ]
    },
    {
      "cell_type": "code",
      "execution_count": null,
      "id": "b6a6809e",
      "metadata": {
        "id": "b6a6809e",
        "outputId": "e6555acb-2ed1-4084-8886-a04e874eb1d0"
      },
      "outputs": [
        {
          "data": {
            "text/plain": [
              "range(0, 11)"
            ]
          },
          "execution_count": 92,
          "metadata": {},
          "output_type": "execute_result"
        }
      ],
      "source": [
        "r"
      ]
    },
    {
      "cell_type": "code",
      "execution_count": null,
      "id": "aa779740",
      "metadata": {
        "id": "aa779740",
        "outputId": "8585cf49-59d8-474e-b48c-8dde430eff4e"
      },
      "outputs": [
        {
          "data": {
            "text/plain": [
              "range"
            ]
          },
          "execution_count": 93,
          "metadata": {},
          "output_type": "execute_result"
        }
      ],
      "source": [
        "type(r)"
      ]
    },
    {
      "cell_type": "code",
      "execution_count": null,
      "id": "a90c50e9",
      "metadata": {
        "id": "a90c50e9",
        "outputId": "0ea2c08e-d6bb-4ace-b492-571dfbc24a40"
      },
      "outputs": [
        {
          "data": {
            "text/plain": [
              "[0, 1, 2, 3, 4, 5, 6, 7, 8, 9, 10]"
            ]
          },
          "execution_count": 94,
          "metadata": {},
          "output_type": "execute_result"
        }
      ],
      "source": [
        "list(r)"
      ]
    },
    {
      "cell_type": "code",
      "execution_count": null,
      "id": "6805aa85",
      "metadata": {
        "id": "6805aa85"
      },
      "outputs": [],
      "source": [
        "x = tuple(r)"
      ]
    },
    {
      "cell_type": "code",
      "execution_count": null,
      "id": "76148084",
      "metadata": {
        "id": "76148084",
        "outputId": "8deb36c1-f074-4bd5-a0ee-b74d4b50f2d9"
      },
      "outputs": [
        {
          "data": {
            "text/plain": [
              "(0, 1, 2, 3, 4, 5, 6, 7, 8, 9, 10)"
            ]
          },
          "execution_count": 97,
          "metadata": {},
          "output_type": "execute_result"
        }
      ],
      "source": [
        "x"
      ]
    },
    {
      "cell_type": "code",
      "execution_count": null,
      "id": "41d945c2",
      "metadata": {
        "id": "41d945c2",
        "outputId": "35c626c4-b3b6-4eac-ac42-1cbb26ce9476"
      },
      "outputs": [
        {
          "data": {
            "text/plain": [
              "tuple"
            ]
          },
          "execution_count": 98,
          "metadata": {},
          "output_type": "execute_result"
        }
      ],
      "source": [
        "type(x)"
      ]
    },
    {
      "cell_type": "code",
      "execution_count": null,
      "id": "ed38e5dd",
      "metadata": {
        "id": "ed38e5dd"
      },
      "outputs": [],
      "source": [
        "r1 = list(range(15))"
      ]
    },
    {
      "cell_type": "code",
      "execution_count": null,
      "id": "136c7670",
      "metadata": {
        "id": "136c7670",
        "outputId": "50603214-dae9-4834-e2ec-0d4205f60ee2"
      },
      "outputs": [
        {
          "data": {
            "text/plain": [
              "[0, 1, 2, 3, 4, 5, 6, 7, 8, 9, 10, 11, 12, 13, 14]"
            ]
          },
          "execution_count": 100,
          "metadata": {},
          "output_type": "execute_result"
        }
      ],
      "source": [
        "r1"
      ]
    },
    {
      "cell_type": "code",
      "execution_count": null,
      "id": "32a53fac",
      "metadata": {
        "id": "32a53fac",
        "outputId": "b69c2da3-8a60-46cf-ed91-20443925a928"
      },
      "outputs": [
        {
          "data": {
            "text/plain": [
              "[5, 6, 7, 8, 9, 10, 11, 12, 13, 14, 15, 16, 17, 18, 19]"
            ]
          },
          "execution_count": 101,
          "metadata": {},
          "output_type": "execute_result"
        }
      ],
      "source": [
        "r2 = list(range(5,20))\n",
        "r2"
      ]
    },
    {
      "cell_type": "code",
      "execution_count": null,
      "id": "283aedbe",
      "metadata": {
        "id": "283aedbe",
        "outputId": "c8bf6407-7845-4001-bdec-ab3d58069f43"
      },
      "outputs": [
        {
          "data": {
            "text/plain": [
              "[5, 10, 15, 20]"
            ]
          },
          "execution_count": 102,
          "metadata": {},
          "output_type": "execute_result"
        }
      ],
      "source": [
        "r2 = list(range(5,21,5))\n",
        "r2"
      ]
    },
    {
      "cell_type": "code",
      "execution_count": null,
      "id": "618abd2c",
      "metadata": {
        "id": "618abd2c"
      },
      "outputs": [],
      "source": [
        "import numpy as np"
      ]
    },
    {
      "cell_type": "code",
      "execution_count": null,
      "id": "5bd2b7ef",
      "metadata": {
        "id": "5bd2b7ef"
      },
      "outputs": [],
      "source": [
        "x = np.random.randint(10,30,5)"
      ]
    },
    {
      "cell_type": "code",
      "execution_count": null,
      "id": "c3b71ae5",
      "metadata": {
        "id": "c3b71ae5",
        "outputId": "af81d7be-085d-4078-e65a-f397e3b101ef"
      },
      "outputs": [
        {
          "data": {
            "text/plain": [
              "array([13, 13, 26, 17, 18])"
            ]
          },
          "execution_count": 107,
          "metadata": {},
          "output_type": "execute_result"
        }
      ],
      "source": [
        "x"
      ]
    },
    {
      "cell_type": "markdown",
      "id": "a7e50dd2",
      "metadata": {
        "id": "a7e50dd2"
      },
      "source": [
        "# Sets\n",
        " - Unique collection of immutable items/objects\n",
        " - syntax: {}"
      ]
    },
    {
      "cell_type": "code",
      "execution_count": null,
      "id": "33e5c8e7",
      "metadata": {
        "id": "33e5c8e7"
      },
      "outputs": [],
      "source": [
        "a = {\"sun\", \"mon\", \"tue\"}"
      ]
    },
    {
      "cell_type": "code",
      "execution_count": null,
      "id": "c8b33a0b",
      "metadata": {
        "id": "c8b33a0b",
        "outputId": "a07afdae-31ab-4ae9-fc5c-5ee4d1cc0839"
      },
      "outputs": [
        {
          "data": {
            "text/plain": [
              "{'mon', 'sun', 'tue'}"
            ]
          },
          "execution_count": 109,
          "metadata": {},
          "output_type": "execute_result"
        }
      ],
      "source": [
        "a"
      ]
    },
    {
      "cell_type": "code",
      "execution_count": null,
      "id": "0cbf54ac",
      "metadata": {
        "id": "0cbf54ac",
        "outputId": "25e7dbe2-2ae7-409b-fadb-e4237987ca6a"
      },
      "outputs": [
        {
          "data": {
            "text/plain": [
              "set"
            ]
          },
          "execution_count": 110,
          "metadata": {},
          "output_type": "execute_result"
        }
      ],
      "source": [
        "type(a)"
      ]
    },
    {
      "cell_type": "code",
      "execution_count": null,
      "id": "ee21c73b",
      "metadata": {
        "id": "ee21c73b"
      },
      "outputs": [],
      "source": [
        "a = {\"sun\", \"mon\", \"tue\", \"sun\"}"
      ]
    },
    {
      "cell_type": "code",
      "execution_count": null,
      "id": "df41deb4",
      "metadata": {
        "id": "df41deb4",
        "outputId": "85d1e640-4598-4c15-e54d-2eaa37387fb7"
      },
      "outputs": [
        {
          "data": {
            "text/plain": [
              "{'mon', 'sun', 'tue'}"
            ]
          },
          "execution_count": 112,
          "metadata": {},
          "output_type": "execute_result"
        }
      ],
      "source": [
        "a"
      ]
    },
    {
      "cell_type": "code",
      "execution_count": null,
      "id": "04e0cb13",
      "metadata": {
        "id": "04e0cb13"
      },
      "outputs": [],
      "source": [
        "a.add(\"wed\")"
      ]
    },
    {
      "cell_type": "code",
      "execution_count": null,
      "id": "cc7b9258",
      "metadata": {
        "id": "cc7b9258",
        "outputId": "a5996ac7-7a76-4793-c93d-ce5344089136"
      },
      "outputs": [
        {
          "data": {
            "text/plain": [
              "{'mon', 'sun', 'tue', 'wed'}"
            ]
          },
          "execution_count": 114,
          "metadata": {},
          "output_type": "execute_result"
        }
      ],
      "source": [
        "a"
      ]
    },
    {
      "cell_type": "code",
      "execution_count": null,
      "id": "2fe8a4bc",
      "metadata": {
        "id": "2fe8a4bc"
      },
      "outputs": [],
      "source": [
        "b = {'thu','fri','sat'}"
      ]
    },
    {
      "cell_type": "code",
      "execution_count": null,
      "id": "99580bef",
      "metadata": {
        "id": "99580bef",
        "outputId": "0513df3e-a4b6-4f83-b6ed-fbdd48803465"
      },
      "outputs": [
        {
          "data": {
            "text/plain": [
              "{'fri', 'mon', 'sat', 'sun', 'thu', 'tue', 'wed'}"
            ]
          },
          "execution_count": 116,
          "metadata": {},
          "output_type": "execute_result"
        }
      ],
      "source": [
        "a.union(b)"
      ]
    },
    {
      "cell_type": "code",
      "execution_count": null,
      "id": "cbd90165",
      "metadata": {
        "id": "cbd90165",
        "outputId": "64926549-e740-4ecb-c082-2e7dbe7dd6fb"
      },
      "outputs": [
        {
          "data": {
            "text/plain": [
              "{'mon', 'sun', 'tue', 'wed'}"
            ]
          },
          "execution_count": 117,
          "metadata": {},
          "output_type": "execute_result"
        }
      ],
      "source": [
        "a"
      ]
    },
    {
      "cell_type": "code",
      "execution_count": null,
      "id": "7e64d7aa",
      "metadata": {
        "id": "7e64d7aa"
      },
      "outputs": [],
      "source": [
        "b.add('sun')"
      ]
    },
    {
      "cell_type": "code",
      "execution_count": null,
      "id": "d7ba8b59",
      "metadata": {
        "id": "d7ba8b59",
        "outputId": "93a90e67-7d87-4816-e990-f7ba9d4f74fc"
      },
      "outputs": [
        {
          "data": {
            "text/plain": [
              "{'fri', 'sat', 'sun', 'thu'}"
            ]
          },
          "execution_count": 120,
          "metadata": {},
          "output_type": "execute_result"
        }
      ],
      "source": [
        "b"
      ]
    },
    {
      "cell_type": "code",
      "execution_count": null,
      "id": "125b7d3c",
      "metadata": {
        "id": "125b7d3c",
        "outputId": "bda8865e-8d74-4e68-900e-b1da316b2c4c"
      },
      "outputs": [
        {
          "data": {
            "text/plain": [
              "{'sun'}"
            ]
          },
          "execution_count": 121,
          "metadata": {},
          "output_type": "execute_result"
        }
      ],
      "source": [
        "a&b"
      ]
    },
    {
      "cell_type": "code",
      "execution_count": null,
      "id": "187e23d0",
      "metadata": {
        "id": "187e23d0"
      },
      "outputs": [],
      "source": []
    }
  ],
  "metadata": {
    "kernelspec": {
      "display_name": "Python 3 (ipykernel)",
      "language": "python",
      "name": "python3"
    },
    "language_info": {
      "codemirror_mode": {
        "name": "ipython",
        "version": 3
      },
      "file_extension": ".py",
      "mimetype": "text/x-python",
      "name": "python",
      "nbconvert_exporter": "python",
      "pygments_lexer": "ipython3",
      "version": "3.9.12"
    },
    "colab": {
      "provenance": []
    }
  },
  "nbformat": 4,
  "nbformat_minor": 5
}