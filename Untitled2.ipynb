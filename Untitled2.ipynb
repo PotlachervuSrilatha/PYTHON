{
  "nbformat": 4,
  "nbformat_minor": 0,
  "metadata": {
    "colab": {
      "provenance": [],
      "toc_visible": true,
      "authorship_tag": "ABX9TyPmB/SlRtostrpE+6ilvqSj",
      "include_colab_link": true
    },
    "kernelspec": {
      "name": "python3",
      "display_name": "Python 3"
    },
    "language_info": {
      "name": "python"
    }
  },
  "cells": [
    {
      "cell_type": "markdown",
      "metadata": {
        "id": "view-in-github",
        "colab_type": "text"
      },
      "source": [
        "<a href=\"https://colab.research.google.com/github/PotlachervuSrilatha/PYTHON/blob/main/Untitled2.ipynb\" target=\"_parent\"><img src=\"https://colab.research.google.com/assets/colab-badge.svg\" alt=\"Open In Colab\"/></a>"
      ]
    },
    {
      "cell_type": "code",
      "execution_count": null,
      "metadata": {
        "id": "L0C4KKTWvfOK"
      },
      "outputs": [],
      "source": [
        "# Write a program to print Twinkle Twinkle little star poem in Python"
      ]
    },
    {
      "cell_type": "code",
      "source": [
        "print(\"\"\"Twinkle, twinkle, little star,\n",
        "How I wonder what you are!\n",
        "Up above the world so high,\n",
        "Like a diamond in the sky.\n",
        "\n",
        "When the blazing sun is gone,\n",
        "When he nothing shines upon,\n",
        "Then you show your little light,\n",
        "Twinkle, twinkle, all the night.\n",
        "\n",
        "Then the traveler in the dark\n",
        "Thanks you for your tiny spark,\n",
        "How could he see where to go,\n",
        "If you did not twinkle so?\n",
        "\n",
        "In the dark blue sky you keep,\n",
        "Often through my curtains peep\n",
        "For you never shut your eye,\n",
        "Till the sun is in the sky.\n",
        "\n",
        "As your bright and tiny spark\n",
        "Lights the traveler in the dark,\n",
        "Though I know not what you are,\n",
        "Twinkle, twinkle, little star.\"\"\")"
      ],
      "metadata": {
        "colab": {
          "base_uri": "https://localhost:8080/"
        },
        "id": "0lZbYyhHvohH",
        "outputId": "0e95dc00-4cfa-4afc-e61a-d7018de9a42a"
      },
      "execution_count": null,
      "outputs": [
        {
          "output_type": "stream",
          "name": "stdout",
          "text": [
            "Twinkle, twinkle, little star,\n",
            "How I wonder what you are!\n",
            "Up above the world so high,\n",
            "Like a diamond in the sky.\n",
            "\n",
            "When the blazing sun is gone,\n",
            "When he nothing shines upon,\n",
            "Then you show your little light,\n",
            "Twinkle, twinkle, all the night.\n",
            "\n",
            "Then the traveler in the dark\n",
            "Thanks you for your tiny spark,\n",
            "How could he see where to go,\n",
            "If you did not twinkle so?\n",
            "\n",
            "In the dark blue sky you keep,\n",
            "Often through my curtains peep\n",
            "For you never shut your eye,\n",
            "Till the sun is in the sky.\n",
            "\n",
            "As your bright and tiny spark\n",
            "Lights the traveler in the dark,\n",
            "Though I know not what you are,\n",
            "Twinkle, twinkle, little star.\n"
          ]
        }
      ]
    },
    {
      "cell_type": "code",
      "source": [
        "data={}"
      ],
      "metadata": {
        "id": "tOSC1xKLybV-"
      },
      "execution_count": null,
      "outputs": []
    },
    {
      "cell_type": "code",
      "source": [
        "data"
      ],
      "metadata": {
        "colab": {
          "base_uri": "https://localhost:8080/"
        },
        "id": "5eaE6HgHv0cM",
        "outputId": "14c6c22c-d6d7-4697-a2d7-2f2b1030fad4"
      },
      "execution_count": null,
      "outputs": [
        {
          "output_type": "execute_result",
          "data": {
            "text/plain": [
              "{}"
            ]
          },
          "metadata": {},
          "execution_count": 4
        }
      ]
    },
    {
      "cell_type": "code",
      "source": [
        "type(data)"
      ],
      "metadata": {
        "colab": {
          "base_uri": "https://localhost:8080/"
        },
        "id": "HdFuZjXMypVG",
        "outputId": "10b92e8b-35ae-49a2-d12f-4a9adfb0744e"
      },
      "execution_count": null,
      "outputs": [
        {
          "output_type": "execute_result",
          "data": {
            "text/plain": [
              "dict"
            ]
          },
          "metadata": {},
          "execution_count": 9
        }
      ]
    },
    {
      "cell_type": "code",
      "source": [
        "df=dict()"
      ],
      "metadata": {
        "id": "QMBwZS_Yyfbk"
      },
      "execution_count": null,
      "outputs": []
    },
    {
      "cell_type": "code",
      "source": [
        "df"
      ],
      "metadata": {
        "colab": {
          "base_uri": "https://localhost:8080/"
        },
        "id": "1bKC6FCKyim4",
        "outputId": "0c8281df-e84d-4744-be0f-fbb93e09c981"
      },
      "execution_count": null,
      "outputs": [
        {
          "output_type": "execute_result",
          "data": {
            "text/plain": [
              "{}"
            ]
          },
          "metadata": {},
          "execution_count": 7
        }
      ]
    },
    {
      "cell_type": "code",
      "source": [
        "type(df)"
      ],
      "metadata": {
        "colab": {
          "base_uri": "https://localhost:8080/"
        },
        "id": "ELEpd-Ajyh-X",
        "outputId": "ce8d2010-ef84-4e60-acf1-46d2f8aaab4f"
      },
      "execution_count": null,
      "outputs": [
        {
          "output_type": "execute_result",
          "data": {
            "text/plain": [
              "dict"
            ]
          },
          "metadata": {},
          "execution_count": 8
        }
      ]
    },
    {
      "cell_type": "code",
      "source": [
        "x= 19.9"
      ],
      "metadata": {
        "id": "biPLue3hyn-c"
      },
      "execution_count": null,
      "outputs": []
    },
    {
      "cell_type": "code",
      "source": [
        "type(x)"
      ],
      "metadata": {
        "colab": {
          "base_uri": "https://localhost:8080/"
        },
        "id": "JL914EzB8Bb4",
        "outputId": "0aaaa5ae-8e11-492b-88c3-7d516c60b59f"
      },
      "execution_count": null,
      "outputs": [
        {
          "output_type": "execute_result",
          "data": {
            "text/plain": [
              "float"
            ]
          },
          "metadata": {},
          "execution_count": 11
        }
      ]
    },
    {
      "cell_type": "code",
      "source": [
        "x"
      ],
      "metadata": {
        "colab": {
          "base_uri": "https://localhost:8080/"
        },
        "id": "0RwSR9WC8LjY",
        "outputId": "56bcffb0-3283-4ad2-cb85-1533a3be1ece"
      },
      "execution_count": null,
      "outputs": [
        {
          "output_type": "execute_result",
          "data": {
            "text/plain": [
              "19.9"
            ]
          },
          "metadata": {},
          "execution_count": 14
        }
      ]
    },
    {
      "cell_type": "code",
      "source": [
        "y=int(x)"
      ],
      "metadata": {
        "id": "7skBokxV8C1U"
      },
      "execution_count": null,
      "outputs": []
    },
    {
      "cell_type": "code",
      "source": [
        "y"
      ],
      "metadata": {
        "colab": {
          "base_uri": "https://localhost:8080/"
        },
        "id": "D-nlWYCs8G9x",
        "outputId": "56fe9318-3887-4325-dfee-1a4eb06b7541"
      },
      "execution_count": null,
      "outputs": [
        {
          "output_type": "execute_result",
          "data": {
            "text/plain": [
              "19"
            ]
          },
          "metadata": {},
          "execution_count": 13
        }
      ]
    },
    {
      "cell_type": "code",
      "source": [
        "z= \"hello\""
      ],
      "metadata": {
        "id": "gYvIdEB38HrO"
      },
      "execution_count": null,
      "outputs": []
    },
    {
      "cell_type": "code",
      "source": [
        "g= float(y)"
      ],
      "metadata": {
        "id": "ZgofG5y_8QQ5"
      },
      "execution_count": null,
      "outputs": []
    },
    {
      "cell_type": "code",
      "source": [
        "g"
      ],
      "metadata": {
        "colab": {
          "base_uri": "https://localhost:8080/"
        },
        "id": "VA8Ijzjx8Tf2",
        "outputId": "549a849e-a32f-4bfc-bcb1-ff710bafabdf"
      },
      "execution_count": null,
      "outputs": [
        {
          "output_type": "execute_result",
          "data": {
            "text/plain": [
              "19.0"
            ]
          },
          "metadata": {},
          "execution_count": 19
        }
      ]
    },
    {
      "cell_type": "code",
      "source": [
        "z=z.upper()"
      ],
      "metadata": {
        "id": "vrk3GoJi8Zcc"
      },
      "execution_count": null,
      "outputs": []
    },
    {
      "cell_type": "code",
      "source": [
        "z"
      ],
      "metadata": {
        "colab": {
          "base_uri": "https://localhost:8080/",
          "height": 36
        },
        "id": "hS5L6zTB9Pyl",
        "outputId": "683bddc0-4adb-42ac-cd05-5d44998c1e58"
      },
      "execution_count": null,
      "outputs": [
        {
          "output_type": "execute_result",
          "data": {
            "text/plain": [
              "'HELLO'"
            ],
            "application/vnd.google.colaboratory.intrinsic+json": {
              "type": "string"
            }
          },
          "metadata": {},
          "execution_count": 21
        }
      ]
    },
    {
      "cell_type": "code",
      "source": [
        "z=z.lower()"
      ],
      "metadata": {
        "id": "LTCz1or79QVr"
      },
      "execution_count": null,
      "outputs": []
    },
    {
      "cell_type": "code",
      "source": [
        "z"
      ],
      "metadata": {
        "colab": {
          "base_uri": "https://localhost:8080/",
          "height": 36
        },
        "id": "SFKxV6Pv9S_i",
        "outputId": "71e63e6e-dc4e-4bbc-fa61-43e47299141e"
      },
      "execution_count": null,
      "outputs": [
        {
          "output_type": "execute_result",
          "data": {
            "text/plain": [
              "'hello'"
            ],
            "application/vnd.google.colaboratory.intrinsic+json": {
              "type": "string"
            }
          },
          "metadata": {},
          "execution_count": 23
        }
      ]
    },
    {
      "cell_type": "code",
      "source": [
        "z=\"hello world\"\n",
        "z"
      ],
      "metadata": {
        "colab": {
          "base_uri": "https://localhost:8080/",
          "height": 36
        },
        "id": "HdBYctqD9TsZ",
        "outputId": "67c3c831-f84f-4c9d-d46a-8bb6b95a58e5"
      },
      "execution_count": null,
      "outputs": [
        {
          "output_type": "execute_result",
          "data": {
            "text/plain": [
              "'hello world'"
            ],
            "application/vnd.google.colaboratory.intrinsic+json": {
              "type": "string"
            }
          },
          "metadata": {},
          "execution_count": 25
        }
      ]
    },
    {
      "cell_type": "code",
      "source": [
        "z= z.split()"
      ],
      "metadata": {
        "id": "rRcsOe979gQ8"
      },
      "execution_count": null,
      "outputs": []
    },
    {
      "cell_type": "code",
      "source": [
        "z"
      ],
      "metadata": {
        "colab": {
          "base_uri": "https://localhost:8080/"
        },
        "id": "4kkTLC7W9jCS",
        "outputId": "24aa6d6d-c8d0-4d47-9679-0300a96640a7"
      },
      "execution_count": null,
      "outputs": [
        {
          "output_type": "execute_result",
          "data": {
            "text/plain": [
              "['hello', 'world']"
            ]
          },
          "metadata": {},
          "execution_count": 28
        }
      ]
    },
    {
      "cell_type": "code",
      "source": [],
      "metadata": {
        "id": "nRBg6FAt9mIO"
      },
      "execution_count": null,
      "outputs": []
    }
  ]
}