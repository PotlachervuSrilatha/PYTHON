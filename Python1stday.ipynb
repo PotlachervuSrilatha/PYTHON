{
  "cells": [
    {
      "cell_type": "markdown",
      "metadata": {
        "id": "view-in-github",
        "colab_type": "text"
      },
      "source": [
        "<a href=\"https://colab.research.google.com/github/PotlachervuSrilatha/PYTHON/blob/main/Python1stday.ipynb\" target=\"_parent\"><img src=\"https://colab.research.google.com/assets/colab-badge.svg\" alt=\"Open In Colab\"/></a>"
      ]
    },
    {
      "cell_type": "markdown",
      "metadata": {
        "id": "wIVwO9O4W7Hk"
      },
      "source": [
        "## statements in python"
      ]
    },
    {
      "cell_type": "code",
      "execution_count": null,
      "metadata": {
        "id": "Cl0jRdS3W7Hm"
      },
      "outputs": [],
      "source": [
        "x = 'abc'\n",
        "print('hello world',\n",
        "     x)"
      ]
    },
    {
      "cell_type": "code",
      "execution_count": null,
      "metadata": {
        "id": "nzbaaSzbW7Ho"
      },
      "outputs": [],
      "source": [
        "x=11\n",
        "if x>10 and \\\n",
        "    x<13:\n",
        "    print(x)"
      ]
    },
    {
      "cell_type": "code",
      "execution_count": null,
      "metadata": {
        "id": "hcWMNJxNW7Ho"
      },
      "outputs": [],
      "source": [
        "x =10\n",
        "x"
      ]
    },
    {
      "cell_type": "code",
      "execution_count": null,
      "metadata": {
        "id": "r8bGYzGwW7Ho"
      },
      "outputs": [],
      "source": [
        "id(x)"
      ]
    },
    {
      "cell_type": "code",
      "execution_count": null,
      "metadata": {
        "id": "K7p-v4MAW7Ho"
      },
      "outputs": [],
      "source": [
        "y = 10\n",
        "y"
      ]
    },
    {
      "cell_type": "code",
      "execution_count": null,
      "metadata": {
        "id": "F17VI6DJW7Hp"
      },
      "outputs": [],
      "source": [
        "id(y)"
      ]
    },
    {
      "cell_type": "code",
      "execution_count": null,
      "metadata": {
        "id": "BK1hbd3cW7Hp"
      },
      "outputs": [],
      "source": [
        "x =15\n",
        "x"
      ]
    },
    {
      "cell_type": "code",
      "execution_count": null,
      "metadata": {
        "id": "GlgCE_bAW7Hp"
      },
      "outputs": [],
      "source": [
        "id(x)"
      ]
    },
    {
      "cell_type": "code",
      "execution_count": null,
      "metadata": {
        "id": "jOjIh0U_W7Hp"
      },
      "outputs": [],
      "source": [
        "hex(id(x))"
      ]
    },
    {
      "cell_type": "code",
      "execution_count": null,
      "metadata": {
        "id": "TBr77tQlW7Hp"
      },
      "outputs": [],
      "source": [
        "2+5"
      ]
    },
    {
      "cell_type": "code",
      "execution_count": null,
      "metadata": {
        "id": "uON9oAcKW7Hq"
      },
      "outputs": [],
      "source": [
        "5-7"
      ]
    },
    {
      "cell_type": "code",
      "execution_count": null,
      "metadata": {
        "id": "7abDo5qDW7Hq"
      },
      "outputs": [],
      "source": [
        "5*7"
      ]
    },
    {
      "cell_type": "code",
      "execution_count": null,
      "metadata": {
        "id": "LID6dzIKW7Hq"
      },
      "outputs": [],
      "source": [
        "16/4"
      ]
    },
    {
      "cell_type": "code",
      "execution_count": null,
      "metadata": {
        "id": "PUVN32zlW7Hq"
      },
      "outputs": [],
      "source": [
        "13//4,13%4"
      ]
    },
    {
      "cell_type": "code",
      "execution_count": null,
      "metadata": {
        "id": "XP-UGUu0W7Hq"
      },
      "outputs": [],
      "source": [
        "-13//4,-13%4"
      ]
    },
    {
      "cell_type": "code",
      "execution_count": null,
      "metadata": {
        "id": "yiZnKtilW7Hr"
      },
      "outputs": [],
      "source": [
        "13//-4,13%-4"
      ]
    },
    {
      "cell_type": "code",
      "execution_count": null,
      "metadata": {
        "id": "EeHrrmhnW7Hr"
      },
      "outputs": [],
      "source": [
        "-13//-4,-13%-4"
      ]
    },
    {
      "cell_type": "code",
      "execution_count": null,
      "metadata": {
        "id": "KvXW5B0JW7Hr"
      },
      "outputs": [],
      "source": [
        "a=3*1.1\n",
        "b=3.3"
      ]
    },
    {
      "cell_type": "code",
      "execution_count": null,
      "metadata": {
        "id": "zuO-3B3-W7Hr"
      },
      "outputs": [],
      "source": [
        "a==b"
      ]
    },
    {
      "cell_type": "code",
      "execution_count": null,
      "metadata": {
        "id": "hS6lDeHYW7Hr"
      },
      "outputs": [],
      "source": [
        "3*1.1"
      ]
    },
    {
      "cell_type": "code",
      "execution_count": null,
      "metadata": {
        "id": "QaGV-52lW7Hs"
      },
      "outputs": [],
      "source": [
        "import math"
      ]
    },
    {
      "cell_type": "code",
      "execution_count": null,
      "metadata": {
        "id": "avRsI0FaW7Hs"
      },
      "outputs": [],
      "source": [
        "math.isclose(a,b)"
      ]
    },
    {
      "cell_type": "code",
      "execution_count": null,
      "metadata": {
        "id": "hd6OJsrxW7Hs"
      },
      "outputs": [],
      "source": [
        "False and True or True"
      ]
    },
    {
      "cell_type": "code",
      "execution_count": null,
      "metadata": {
        "id": "_wV7Bu5uW7Hs"
      },
      "outputs": [],
      "source": [
        "False or True and False"
      ]
    },
    {
      "cell_type": "code",
      "execution_count": null,
      "metadata": {
        "id": "BpWqdZblW7Hs"
      },
      "outputs": [],
      "source": [
        "False and (True or False)"
      ]
    },
    {
      "cell_type": "code",
      "execution_count": null,
      "metadata": {
        "id": "xsFhGc9zW7Hs"
      },
      "outputs": [],
      "source": [
        "not False"
      ]
    },
    {
      "cell_type": "code",
      "execution_count": null,
      "metadata": {
        "id": "pxIpWK0OW7Ht"
      },
      "outputs": [],
      "source": [
        "not True"
      ]
    },
    {
      "cell_type": "markdown",
      "metadata": {
        "id": "4eTpn2QXW7Ht"
      },
      "source": [
        "## Data structures"
      ]
    },
    {
      "cell_type": "code",
      "execution_count": null,
      "metadata": {
        "id": "H1nO0p4WW7Ht"
      },
      "outputs": [],
      "source": [
        "list1 = [1,2,3,4,5]\n",
        "list1"
      ]
    },
    {
      "cell_type": "code",
      "execution_count": null,
      "metadata": {
        "id": "CZ__QU7kW7Ht"
      },
      "outputs": [],
      "source": [
        "type(list1)"
      ]
    },
    {
      "cell_type": "code",
      "execution_count": null,
      "metadata": {
        "id": "OsBbjVziW7Ht"
      },
      "outputs": [],
      "source": [
        "tup1 = (10,20,30,40,50)\n",
        "tup1"
      ]
    },
    {
      "cell_type": "code",
      "execution_count": null,
      "metadata": {
        "id": "b5G6EvTaW7Hu"
      },
      "outputs": [],
      "source": [
        "type(tup1)"
      ]
    },
    {
      "cell_type": "code",
      "execution_count": null,
      "metadata": {
        "id": "FcEBFeTaW7Hu"
      },
      "outputs": [],
      "source": [
        "str1 = 'hello world'\n",
        "str1"
      ]
    },
    {
      "cell_type": "code",
      "execution_count": null,
      "metadata": {
        "id": "5SVVMTA9W7Hu"
      },
      "outputs": [],
      "source": [
        "type(str1)"
      ]
    },
    {
      "cell_type": "code",
      "execution_count": null,
      "metadata": {
        "id": "VcRvRjKdW7Hu"
      },
      "outputs": [],
      "source": [
        "list1"
      ]
    },
    {
      "cell_type": "code",
      "execution_count": null,
      "metadata": {
        "id": "FHH_l5YZW7Hu"
      },
      "outputs": [],
      "source": [
        "list1[3]"
      ]
    },
    {
      "cell_type": "code",
      "execution_count": null,
      "metadata": {
        "id": "q4kDtf1HW7Hu"
      },
      "outputs": [],
      "source": [
        "tup1"
      ]
    },
    {
      "cell_type": "code",
      "execution_count": null,
      "metadata": {
        "id": "TtGaWOJqW7Hu"
      },
      "outputs": [],
      "source": [
        "tup1[4]"
      ]
    },
    {
      "cell_type": "code",
      "execution_count": null,
      "metadata": {
        "id": "wzMJj9GHW7H6"
      },
      "outputs": [],
      "source": [
        "tup1[-1]"
      ]
    },
    {
      "cell_type": "markdown",
      "metadata": {
        "id": "A0ojH4dJW7H6"
      },
      "source": [
        "## Slicing"
      ]
    },
    {
      "cell_type": "code",
      "execution_count": null,
      "metadata": {
        "id": "vTnQQwDKW7H6"
      },
      "outputs": [],
      "source": [
        "str1"
      ]
    },
    {
      "cell_type": "code",
      "execution_count": null,
      "metadata": {
        "id": "J1uNQ2D_W7H6"
      },
      "outputs": [],
      "source": [
        "str1[1:3]"
      ]
    },
    {
      "cell_type": "code",
      "execution_count": null,
      "metadata": {
        "id": "sdJpZx3cW7H6"
      },
      "outputs": [],
      "source": [
        "str1[0:5]"
      ]
    },
    {
      "cell_type": "code",
      "execution_count": null,
      "metadata": {
        "id": "26qtNBaAW7H6"
      },
      "outputs": [],
      "source": [
        "list1"
      ]
    },
    {
      "cell_type": "code",
      "execution_count": null,
      "metadata": {
        "id": "Ft9BpntGW7H6"
      },
      "outputs": [],
      "source": [
        "list1[2:]"
      ]
    },
    {
      "cell_type": "code",
      "execution_count": null,
      "metadata": {
        "id": "h3YiriM5W7H6"
      },
      "outputs": [],
      "source": [
        "list1[:4]"
      ]
    },
    {
      "cell_type": "code",
      "execution_count": null,
      "metadata": {
        "id": "V4JP_t4GW7H6"
      },
      "outputs": [],
      "source": [
        "list1[:]"
      ]
    },
    {
      "cell_type": "code",
      "execution_count": null,
      "metadata": {
        "id": "0CEkntEaW7H7"
      },
      "outputs": [],
      "source": [
        "list1[1:4:2]"
      ]
    },
    {
      "cell_type": "code",
      "execution_count": null,
      "metadata": {
        "id": "C9REEUrmW7H7"
      },
      "outputs": [],
      "source": [
        "list1[::-1]"
      ]
    },
    {
      "cell_type": "code",
      "execution_count": null,
      "metadata": {
        "id": "DU6208glW7H7"
      },
      "outputs": [],
      "source": [
        "str=\"Welcome\"\n",
        "str"
      ]
    },
    {
      "cell_type": "code",
      "execution_count": null,
      "metadata": {
        "id": "jnQGNeGVW7H7"
      },
      "outputs": [],
      "source": [
        "str[::-1]"
      ]
    },
    {
      "cell_type": "code",
      "execution_count": null,
      "metadata": {
        "id": "Nk3okWPDW7H7"
      },
      "outputs": [],
      "source": [
        "list(enumerate(str1))"
      ]
    }
  ],
  "metadata": {
    "kernelspec": {
      "display_name": "Python 3 (ipykernel)",
      "language": "python",
      "name": "python3"
    },
    "language_info": {
      "codemirror_mode": {
        "name": "ipython",
        "version": 3
      },
      "file_extension": ".py",
      "mimetype": "text/x-python",
      "name": "python",
      "nbconvert_exporter": "python",
      "pygments_lexer": "ipython3",
      "version": "3.9.7"
    },
    "colab": {
      "provenance": [],
      "include_colab_link": true
    }
  },
  "nbformat": 4,
  "nbformat_minor": 0
}